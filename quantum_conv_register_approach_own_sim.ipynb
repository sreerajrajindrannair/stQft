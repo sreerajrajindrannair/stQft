{
  "nbformat": 4,
  "nbformat_minor": 0,
  "metadata": {
    "colab": {
      "provenance": []
    },
    "kernelspec": {
      "name": "python3",
      "display_name": "Python 3"
    },
    "language_info": {
      "name": "python"
    }
  },
  "cells": [
    {
      "cell_type": "code",
      "execution_count": null,
      "metadata": {
        "colab": {
          "base_uri": "https://localhost:8080/"
        },
        "id": "e-m201Dp1TOT",
        "outputId": "a009693f-839b-4828-fde9-b184a0de197c"
      },
      "outputs": [
        {
          "output_type": "stream",
          "name": "stdout",
          "text": [
            "Requirement already satisfied: qiskit in /usr/local/lib/python3.10/dist-packages (1.2.0)\n",
            "Requirement already satisfied: rustworkx>=0.15.0 in /usr/local/lib/python3.10/dist-packages (from qiskit) (0.15.1)\n",
            "Requirement already satisfied: numpy<3,>=1.17 in /usr/local/lib/python3.10/dist-packages (from qiskit) (1.26.4)\n",
            "Requirement already satisfied: scipy>=1.5 in /usr/local/lib/python3.10/dist-packages (from qiskit) (1.13.1)\n",
            "Requirement already satisfied: sympy>=1.3 in /usr/local/lib/python3.10/dist-packages (from qiskit) (1.13.2)\n",
            "Requirement already satisfied: dill>=0.3 in /usr/local/lib/python3.10/dist-packages (from qiskit) (0.3.8)\n",
            "Requirement already satisfied: python-dateutil>=2.8.0 in /usr/local/lib/python3.10/dist-packages (from qiskit) (2.8.2)\n",
            "Requirement already satisfied: stevedore>=3.0.0 in /usr/local/lib/python3.10/dist-packages (from qiskit) (5.3.0)\n",
            "Requirement already satisfied: typing-extensions in /usr/local/lib/python3.10/dist-packages (from qiskit) (4.12.2)\n",
            "Requirement already satisfied: symengine>=0.11 in /usr/local/lib/python3.10/dist-packages (from qiskit) (0.11.0)\n",
            "Requirement already satisfied: six>=1.5 in /usr/local/lib/python3.10/dist-packages (from python-dateutil>=2.8.0->qiskit) (1.16.0)\n",
            "Requirement already satisfied: pbr>=2.0.0 in /usr/local/lib/python3.10/dist-packages (from stevedore>=3.0.0->qiskit) (6.1.0)\n",
            "Requirement already satisfied: mpmath<1.4,>=1.1.0 in /usr/local/lib/python3.10/dist-packages (from sympy>=1.3->qiskit) (1.3.0)\n"
          ]
        }
      ],
      "source": [
        "pip install qiskit"
      ]
    },
    {
      "cell_type": "code",
      "execution_count": null,
      "metadata": {
        "colab": {
          "base_uri": "https://localhost:8080/"
        },
        "id": "8zn58gkH1YCs",
        "outputId": "40eefe3d-ca2a-43e4-ad3b-79d89df006b7"
      },
      "outputs": [
        {
          "output_type": "stream",
          "name": "stdout",
          "text": [
            "Requirement already satisfied: qiskit-aer in /usr/local/lib/python3.10/dist-packages (0.15.0)\n",
            "Requirement already satisfied: qiskit>=1.1.0 in /usr/local/lib/python3.10/dist-packages (from qiskit-aer) (1.2.0)\n",
            "Requirement already satisfied: numpy>=1.16.3 in /usr/local/lib/python3.10/dist-packages (from qiskit-aer) (1.26.4)\n",
            "Requirement already satisfied: scipy>=1.0 in /usr/local/lib/python3.10/dist-packages (from qiskit-aer) (1.13.1)\n",
            "Requirement already satisfied: psutil>=5 in /usr/local/lib/python3.10/dist-packages (from qiskit-aer) (5.9.5)\n",
            "Requirement already satisfied: rustworkx>=0.15.0 in /usr/local/lib/python3.10/dist-packages (from qiskit>=1.1.0->qiskit-aer) (0.15.1)\n",
            "Requirement already satisfied: sympy>=1.3 in /usr/local/lib/python3.10/dist-packages (from qiskit>=1.1.0->qiskit-aer) (1.13.2)\n",
            "Requirement already satisfied: dill>=0.3 in /usr/local/lib/python3.10/dist-packages (from qiskit>=1.1.0->qiskit-aer) (0.3.8)\n",
            "Requirement already satisfied: python-dateutil>=2.8.0 in /usr/local/lib/python3.10/dist-packages (from qiskit>=1.1.0->qiskit-aer) (2.8.2)\n",
            "Requirement already satisfied: stevedore>=3.0.0 in /usr/local/lib/python3.10/dist-packages (from qiskit>=1.1.0->qiskit-aer) (5.3.0)\n",
            "Requirement already satisfied: typing-extensions in /usr/local/lib/python3.10/dist-packages (from qiskit>=1.1.0->qiskit-aer) (4.12.2)\n",
            "Requirement already satisfied: symengine>=0.11 in /usr/local/lib/python3.10/dist-packages (from qiskit>=1.1.0->qiskit-aer) (0.11.0)\n",
            "Requirement already satisfied: six>=1.5 in /usr/local/lib/python3.10/dist-packages (from python-dateutil>=2.8.0->qiskit>=1.1.0->qiskit-aer) (1.16.0)\n",
            "Requirement already satisfied: pbr>=2.0.0 in /usr/local/lib/python3.10/dist-packages (from stevedore>=3.0.0->qiskit>=1.1.0->qiskit-aer) (6.1.0)\n",
            "Requirement already satisfied: mpmath<1.4,>=1.1.0 in /usr/local/lib/python3.10/dist-packages (from sympy>=1.3->qiskit>=1.1.0->qiskit-aer) (1.3.0)\n"
          ]
        }
      ],
      "source": [
        "pip install qiskit-aer"
      ]
    },
    {
      "cell_type": "code",
      "execution_count": null,
      "metadata": {
        "colab": {
          "base_uri": "https://localhost:8080/"
        },
        "id": "nHNtEusB1Z_i",
        "outputId": "65d3f533-e1cd-4e5e-8380-156716146fd0"
      },
      "outputs": [
        {
          "output_type": "stream",
          "name": "stdout",
          "text": [
            "Requirement already satisfied: pylatexenc in /usr/local/lib/python3.10/dist-packages (2.10)\n"
          ]
        }
      ],
      "source": [
        "!pip install pylatexenc"
      ]
    },
    {
      "cell_type": "code",
      "source": [
        "from qiskit_aer import Aer\n",
        "from qiskit import QuantumCircuit, transpile, assemble\n",
        "from qiskit.quantum_info import Statevector\n",
        "from qiskit.visualization import plot_histogram, plot_bloch_multivector\n",
        "from qiskit.circuit.library import QFT , CCXGate, UnitaryGate\n",
        "import numpy as np\n",
        "import matplotlib.pyplot as plt\n",
        "import plotly.graph_objects as go"
      ],
      "metadata": {
        "id": "o8ly0LGIm9OE"
      },
      "execution_count": null,
      "outputs": []
    },
    {
      "cell_type": "code",
      "execution_count": null,
      "metadata": {
        "id": "fGRhQ2aGQgZN"
      },
      "outputs": [],
      "source": [
        "from qiskit.circuit.library import Diagonal\n",
        "from qiskit.quantum_info import Operator"
      ]
    },
    {
      "cell_type": "code",
      "execution_count": null,
      "metadata": {
        "colab": {
          "base_uri": "https://localhost:8080/"
        },
        "id": "_bUC7Ce79La0",
        "outputId": "60ee3dbb-ce66-4217-bba9-73ead1c0f5fc"
      },
      "outputs": [
        {
          "output_type": "stream",
          "name": "stdout",
          "text": [
            "Requirement already satisfied: plotly==5.22.0 in /usr/local/lib/python3.10/dist-packages (5.22.0)\n",
            "Requirement already satisfied: tenacity>=6.2.0 in /usr/local/lib/python3.10/dist-packages (from plotly==5.22.0) (9.0.0)\n",
            "Requirement already satisfied: packaging in /usr/local/lib/python3.10/dist-packages (from plotly==5.22.0) (24.1)\n"
          ]
        }
      ],
      "source": [
        "pip install plotly==5.22.0"
      ]
    },
    {
      "cell_type": "code",
      "execution_count": null,
      "metadata": {
        "id": "Grm4ju3_9La1"
      },
      "outputs": [],
      "source": [
        "pip install nbformat>=4.2.0"
      ]
    },
    {
      "cell_type": "markdown",
      "source": [
        "\n",
        "\n",
        "---\n",
        "\n",
        "\n",
        "\n",
        "---\n",
        "\n",
        "\n",
        "\n",
        "---\n",
        "\n"
      ],
      "metadata": {
        "id": "aU04feLjEEo2"
      }
    },
    {
      "cell_type": "code",
      "source": [
        "# Function to normalize a vector\n",
        "def normalize(coeffs):\n",
        "    norm = np.linalg.norm(coeffs)\n",
        "    return [c / norm for c in coeffs], norm\n",
        "\n",
        "# for now this only works for same lenght norm array 1 and 2. fo unequal array lenghts we need to add padding.\n",
        "norm_array1, norm1 = normalize([1,2,3,4, 5,6,7,8])\n",
        "norm_array2, norm2 = normalize([ 5,6,7,8, 1,2,3,4])\n",
        "print(norm_array1 + [0]*len(norm_array1))\n",
        "print(norm_array2 + [0]*len(norm_array2))\n",
        "print(norm_array1, norm_array2)\n",
        "print(norm1, norm2)"
      ],
      "metadata": {
        "colab": {
          "base_uri": "https://localhost:8080/"
        },
        "id": "-S0GjWeQbNbh",
        "outputId": "b4574f12-8e0d-458d-cf74-25ad5afdb492"
      },
      "execution_count": null,
      "outputs": [
        {
          "output_type": "stream",
          "name": "stdout",
          "text": [
            "[0.07001400420140048, 0.14002800840280097, 0.21004201260420147, 0.28005601680560194, 0.3500700210070024, 0.42008402520840293, 0.4900980294098034, 0.5601120336112039, 0, 0, 0, 0, 0, 0, 0, 0]\n",
            "[0.3500700210070024, 0.42008402520840293, 0.4900980294098034, 0.5601120336112039, 0.07001400420140048, 0.14002800840280097, 0.21004201260420147, 0.28005601680560194, 0, 0, 0, 0, 0, 0, 0, 0]\n",
            "[0.07001400420140048, 0.14002800840280097, 0.21004201260420147, 0.28005601680560194, 0.3500700210070024, 0.42008402520840293, 0.4900980294098034, 0.5601120336112039] [0.3500700210070024, 0.42008402520840293, 0.4900980294098034, 0.5601120336112039, 0.07001400420140048, 0.14002800840280097, 0.21004201260420147, 0.28005601680560194]\n",
            "14.2828568570857 14.2828568570857\n"
          ]
        }
      ]
    },
    {
      "cell_type": "markdown",
      "source": [
        "# classical part"
      ],
      "metadata": {
        "id": "vZ2S03Bgc1M4"
      }
    },
    {
      "cell_type": "code",
      "source": [
        "import numpy as np\n",
        "\n",
        "# Define the two arrays\n",
        "array1 = np.array(norm_array1 + [0]*len(norm_array1))\n",
        "array2 = np.array(norm_array2 + [0]*len(norm_array2))\n",
        "\n",
        "# Compute the element-wise product\n",
        "elementwise_product = np.multiply(array1, array2)\n",
        "\n",
        "# Print the result\n",
        "print(\"Element-wise product:\", elementwise_product)"
      ],
      "metadata": {
        "colab": {
          "base_uri": "https://localhost:8080/"
        },
        "id": "FArC5hyScKb2",
        "outputId": "efe31b84-c2fb-4ce6-aef0-7975ced89383"
      },
      "execution_count": null,
      "outputs": [
        {
          "output_type": "stream",
          "name": "stdout",
          "text": [
            "Element-wise product: [0.0245098  0.05882353 0.10294118 0.15686275 0.0245098  0.05882353\n",
            " 0.10294118 0.15686275 0.         0.         0.         0.\n",
            " 0.         0.         0.         0.        ]\n"
          ]
        }
      ]
    },
    {
      "cell_type": "code",
      "source": [
        "import plotly.graph_objects as go\n",
        "\n",
        "# Perform convolution\n",
        "convolution_result = np.convolve(array1, array2, mode='full')\n",
        "\n",
        "traces = []\n",
        "traces.append(go.Scatter(y=array1, name=\"input signal\"))\n",
        "traces.append(go.Scatter(y=convolution_result, name=\"filtered result\"))\n",
        "fig = go.Figure(traces)\n",
        "fig.show()"
      ],
      "metadata": {
        "colab": {
          "base_uri": "https://localhost:8080/",
          "height": 542
        },
        "id": "PW4sEl0JcnHg",
        "outputId": "8f197500-34cb-48a1-fbe8-283fa2f4b94e"
      },
      "execution_count": null,
      "outputs": [
        {
          "output_type": "display_data",
          "data": {
            "text/html": [
              "<html>\n",
              "<head><meta charset=\"utf-8\" /></head>\n",
              "<body>\n",
              "    <div>            <script src=\"https://cdnjs.cloudflare.com/ajax/libs/mathjax/2.7.5/MathJax.js?config=TeX-AMS-MML_SVG\"></script><script type=\"text/javascript\">if (window.MathJax && window.MathJax.Hub && window.MathJax.Hub.Config) {window.MathJax.Hub.Config({SVG: {font: \"STIX-Web\"}});}</script>                <script type=\"text/javascript\">window.PlotlyConfig = {MathJaxConfig: 'local'};</script>\n",
              "        <script charset=\"utf-8\" src=\"https://cdn.plot.ly/plotly-2.32.0.min.js\"></script>                <div id=\"a847cac8-ff2e-44f8-9d42-3aba5b095338\" class=\"plotly-graph-div\" style=\"height:525px; width:100%;\"></div>            <script type=\"text/javascript\">                                    window.PLOTLYENV=window.PLOTLYENV || {};                                    if (document.getElementById(\"a847cac8-ff2e-44f8-9d42-3aba5b095338\")) {                    Plotly.newPlot(                        \"a847cac8-ff2e-44f8-9d42-3aba5b095338\",                        [{\"name\":\"input signal\",\"y\":[0.07001400420140048,0.14002800840280097,0.21004201260420147,0.28005601680560194,0.3500700210070024,0.42008402520840293,0.4900980294098034,0.5601120336112039,0.0,0.0,0.0,0.0,0.0,0.0,0.0,0.0],\"type\":\"scatter\"},{\"name\":\"filtered result\",\"y\":[0.024509803921568624,0.07843137254901959,0.16666666666666663,0.2941176470588235,0.42647058823529405,0.5686274509803921,0.7254901960784312,0.9019607843137254,0.8578431372549019,0.7450980392156862,0.5588235294117646,0.2941176470588235,0.29901960784313725,0.2549019607843137,0.15686274509803919,0.0,0.0,0.0,0.0,0.0,0.0,0.0,0.0,0.0,0.0,0.0,0.0,0.0,0.0,0.0,0.0],\"type\":\"scatter\"}],                        {\"template\":{\"data\":{\"histogram2dcontour\":[{\"type\":\"histogram2dcontour\",\"colorbar\":{\"outlinewidth\":0,\"ticks\":\"\"},\"colorscale\":[[0.0,\"#0d0887\"],[0.1111111111111111,\"#46039f\"],[0.2222222222222222,\"#7201a8\"],[0.3333333333333333,\"#9c179e\"],[0.4444444444444444,\"#bd3786\"],[0.5555555555555556,\"#d8576b\"],[0.6666666666666666,\"#ed7953\"],[0.7777777777777778,\"#fb9f3a\"],[0.8888888888888888,\"#fdca26\"],[1.0,\"#f0f921\"]]}],\"choropleth\":[{\"type\":\"choropleth\",\"colorbar\":{\"outlinewidth\":0,\"ticks\":\"\"}}],\"histogram2d\":[{\"type\":\"histogram2d\",\"colorbar\":{\"outlinewidth\":0,\"ticks\":\"\"},\"colorscale\":[[0.0,\"#0d0887\"],[0.1111111111111111,\"#46039f\"],[0.2222222222222222,\"#7201a8\"],[0.3333333333333333,\"#9c179e\"],[0.4444444444444444,\"#bd3786\"],[0.5555555555555556,\"#d8576b\"],[0.6666666666666666,\"#ed7953\"],[0.7777777777777778,\"#fb9f3a\"],[0.8888888888888888,\"#fdca26\"],[1.0,\"#f0f921\"]]}],\"heatmap\":[{\"type\":\"heatmap\",\"colorbar\":{\"outlinewidth\":0,\"ticks\":\"\"},\"colorscale\":[[0.0,\"#0d0887\"],[0.1111111111111111,\"#46039f\"],[0.2222222222222222,\"#7201a8\"],[0.3333333333333333,\"#9c179e\"],[0.4444444444444444,\"#bd3786\"],[0.5555555555555556,\"#d8576b\"],[0.6666666666666666,\"#ed7953\"],[0.7777777777777778,\"#fb9f3a\"],[0.8888888888888888,\"#fdca26\"],[1.0,\"#f0f921\"]]}],\"heatmapgl\":[{\"type\":\"heatmapgl\",\"colorbar\":{\"outlinewidth\":0,\"ticks\":\"\"},\"colorscale\":[[0.0,\"#0d0887\"],[0.1111111111111111,\"#46039f\"],[0.2222222222222222,\"#7201a8\"],[0.3333333333333333,\"#9c179e\"],[0.4444444444444444,\"#bd3786\"],[0.5555555555555556,\"#d8576b\"],[0.6666666666666666,\"#ed7953\"],[0.7777777777777778,\"#fb9f3a\"],[0.8888888888888888,\"#fdca26\"],[1.0,\"#f0f921\"]]}],\"contourcarpet\":[{\"type\":\"contourcarpet\",\"colorbar\":{\"outlinewidth\":0,\"ticks\":\"\"}}],\"contour\":[{\"type\":\"contour\",\"colorbar\":{\"outlinewidth\":0,\"ticks\":\"\"},\"colorscale\":[[0.0,\"#0d0887\"],[0.1111111111111111,\"#46039f\"],[0.2222222222222222,\"#7201a8\"],[0.3333333333333333,\"#9c179e\"],[0.4444444444444444,\"#bd3786\"],[0.5555555555555556,\"#d8576b\"],[0.6666666666666666,\"#ed7953\"],[0.7777777777777778,\"#fb9f3a\"],[0.8888888888888888,\"#fdca26\"],[1.0,\"#f0f921\"]]}],\"surface\":[{\"type\":\"surface\",\"colorbar\":{\"outlinewidth\":0,\"ticks\":\"\"},\"colorscale\":[[0.0,\"#0d0887\"],[0.1111111111111111,\"#46039f\"],[0.2222222222222222,\"#7201a8\"],[0.3333333333333333,\"#9c179e\"],[0.4444444444444444,\"#bd3786\"],[0.5555555555555556,\"#d8576b\"],[0.6666666666666666,\"#ed7953\"],[0.7777777777777778,\"#fb9f3a\"],[0.8888888888888888,\"#fdca26\"],[1.0,\"#f0f921\"]]}],\"mesh3d\":[{\"type\":\"mesh3d\",\"colorbar\":{\"outlinewidth\":0,\"ticks\":\"\"}}],\"scatter\":[{\"fillpattern\":{\"fillmode\":\"overlay\",\"size\":10,\"solidity\":0.2},\"type\":\"scatter\"}],\"parcoords\":[{\"type\":\"parcoords\",\"line\":{\"colorbar\":{\"outlinewidth\":0,\"ticks\":\"\"}}}],\"scatterpolargl\":[{\"type\":\"scatterpolargl\",\"marker\":{\"colorbar\":{\"outlinewidth\":0,\"ticks\":\"\"}}}],\"bar\":[{\"error_x\":{\"color\":\"#2a3f5f\"},\"error_y\":{\"color\":\"#2a3f5f\"},\"marker\":{\"line\":{\"color\":\"#E5ECF6\",\"width\":0.5},\"pattern\":{\"fillmode\":\"overlay\",\"size\":10,\"solidity\":0.2}},\"type\":\"bar\"}],\"scattergeo\":[{\"type\":\"scattergeo\",\"marker\":{\"colorbar\":{\"outlinewidth\":0,\"ticks\":\"\"}}}],\"scatterpolar\":[{\"type\":\"scatterpolar\",\"marker\":{\"colorbar\":{\"outlinewidth\":0,\"ticks\":\"\"}}}],\"histogram\":[{\"marker\":{\"pattern\":{\"fillmode\":\"overlay\",\"size\":10,\"solidity\":0.2}},\"type\":\"histogram\"}],\"scattergl\":[{\"type\":\"scattergl\",\"marker\":{\"colorbar\":{\"outlinewidth\":0,\"ticks\":\"\"}}}],\"scatter3d\":[{\"type\":\"scatter3d\",\"line\":{\"colorbar\":{\"outlinewidth\":0,\"ticks\":\"\"}},\"marker\":{\"colorbar\":{\"outlinewidth\":0,\"ticks\":\"\"}}}],\"scattermapbox\":[{\"type\":\"scattermapbox\",\"marker\":{\"colorbar\":{\"outlinewidth\":0,\"ticks\":\"\"}}}],\"scatterternary\":[{\"type\":\"scatterternary\",\"marker\":{\"colorbar\":{\"outlinewidth\":0,\"ticks\":\"\"}}}],\"scattercarpet\":[{\"type\":\"scattercarpet\",\"marker\":{\"colorbar\":{\"outlinewidth\":0,\"ticks\":\"\"}}}],\"carpet\":[{\"aaxis\":{\"endlinecolor\":\"#2a3f5f\",\"gridcolor\":\"white\",\"linecolor\":\"white\",\"minorgridcolor\":\"white\",\"startlinecolor\":\"#2a3f5f\"},\"baxis\":{\"endlinecolor\":\"#2a3f5f\",\"gridcolor\":\"white\",\"linecolor\":\"white\",\"minorgridcolor\":\"white\",\"startlinecolor\":\"#2a3f5f\"},\"type\":\"carpet\"}],\"table\":[{\"cells\":{\"fill\":{\"color\":\"#EBF0F8\"},\"line\":{\"color\":\"white\"}},\"header\":{\"fill\":{\"color\":\"#C8D4E3\"},\"line\":{\"color\":\"white\"}},\"type\":\"table\"}],\"barpolar\":[{\"marker\":{\"line\":{\"color\":\"#E5ECF6\",\"width\":0.5},\"pattern\":{\"fillmode\":\"overlay\",\"size\":10,\"solidity\":0.2}},\"type\":\"barpolar\"}],\"pie\":[{\"automargin\":true,\"type\":\"pie\"}]},\"layout\":{\"autotypenumbers\":\"strict\",\"colorway\":[\"#636efa\",\"#EF553B\",\"#00cc96\",\"#ab63fa\",\"#FFA15A\",\"#19d3f3\",\"#FF6692\",\"#B6E880\",\"#FF97FF\",\"#FECB52\"],\"font\":{\"color\":\"#2a3f5f\"},\"hovermode\":\"closest\",\"hoverlabel\":{\"align\":\"left\"},\"paper_bgcolor\":\"white\",\"plot_bgcolor\":\"#E5ECF6\",\"polar\":{\"bgcolor\":\"#E5ECF6\",\"angularaxis\":{\"gridcolor\":\"white\",\"linecolor\":\"white\",\"ticks\":\"\"},\"radialaxis\":{\"gridcolor\":\"white\",\"linecolor\":\"white\",\"ticks\":\"\"}},\"ternary\":{\"bgcolor\":\"#E5ECF6\",\"aaxis\":{\"gridcolor\":\"white\",\"linecolor\":\"white\",\"ticks\":\"\"},\"baxis\":{\"gridcolor\":\"white\",\"linecolor\":\"white\",\"ticks\":\"\"},\"caxis\":{\"gridcolor\":\"white\",\"linecolor\":\"white\",\"ticks\":\"\"}},\"coloraxis\":{\"colorbar\":{\"outlinewidth\":0,\"ticks\":\"\"}},\"colorscale\":{\"sequential\":[[0.0,\"#0d0887\"],[0.1111111111111111,\"#46039f\"],[0.2222222222222222,\"#7201a8\"],[0.3333333333333333,\"#9c179e\"],[0.4444444444444444,\"#bd3786\"],[0.5555555555555556,\"#d8576b\"],[0.6666666666666666,\"#ed7953\"],[0.7777777777777778,\"#fb9f3a\"],[0.8888888888888888,\"#fdca26\"],[1.0,\"#f0f921\"]],\"sequentialminus\":[[0.0,\"#0d0887\"],[0.1111111111111111,\"#46039f\"],[0.2222222222222222,\"#7201a8\"],[0.3333333333333333,\"#9c179e\"],[0.4444444444444444,\"#bd3786\"],[0.5555555555555556,\"#d8576b\"],[0.6666666666666666,\"#ed7953\"],[0.7777777777777778,\"#fb9f3a\"],[0.8888888888888888,\"#fdca26\"],[1.0,\"#f0f921\"]],\"diverging\":[[0,\"#8e0152\"],[0.1,\"#c51b7d\"],[0.2,\"#de77ae\"],[0.3,\"#f1b6da\"],[0.4,\"#fde0ef\"],[0.5,\"#f7f7f7\"],[0.6,\"#e6f5d0\"],[0.7,\"#b8e186\"],[0.8,\"#7fbc41\"],[0.9,\"#4d9221\"],[1,\"#276419\"]]},\"xaxis\":{\"gridcolor\":\"white\",\"linecolor\":\"white\",\"ticks\":\"\",\"title\":{\"standoff\":15},\"zerolinecolor\":\"white\",\"automargin\":true,\"zerolinewidth\":2},\"yaxis\":{\"gridcolor\":\"white\",\"linecolor\":\"white\",\"ticks\":\"\",\"title\":{\"standoff\":15},\"zerolinecolor\":\"white\",\"automargin\":true,\"zerolinewidth\":2},\"scene\":{\"xaxis\":{\"backgroundcolor\":\"#E5ECF6\",\"gridcolor\":\"white\",\"linecolor\":\"white\",\"showbackground\":true,\"ticks\":\"\",\"zerolinecolor\":\"white\",\"gridwidth\":2},\"yaxis\":{\"backgroundcolor\":\"#E5ECF6\",\"gridcolor\":\"white\",\"linecolor\":\"white\",\"showbackground\":true,\"ticks\":\"\",\"zerolinecolor\":\"white\",\"gridwidth\":2},\"zaxis\":{\"backgroundcolor\":\"#E5ECF6\",\"gridcolor\":\"white\",\"linecolor\":\"white\",\"showbackground\":true,\"ticks\":\"\",\"zerolinecolor\":\"white\",\"gridwidth\":2}},\"shapedefaults\":{\"line\":{\"color\":\"#2a3f5f\"}},\"annotationdefaults\":{\"arrowcolor\":\"#2a3f5f\",\"arrowhead\":0,\"arrowwidth\":1},\"geo\":{\"bgcolor\":\"white\",\"landcolor\":\"#E5ECF6\",\"subunitcolor\":\"white\",\"showland\":true,\"showlakes\":true,\"lakecolor\":\"white\"},\"title\":{\"x\":0.05},\"mapbox\":{\"style\":\"light\"}}}},                        {\"responsive\": true}                    ).then(function(){\n",
              "                            \n",
              "var gd = document.getElementById('a847cac8-ff2e-44f8-9d42-3aba5b095338');\n",
              "var x = new MutationObserver(function (mutations, observer) {{\n",
              "        var display = window.getComputedStyle(gd).display;\n",
              "        if (!display || display === 'none') {{\n",
              "            console.log([gd, 'removed!']);\n",
              "            Plotly.purge(gd);\n",
              "            observer.disconnect();\n",
              "        }}\n",
              "}});\n",
              "\n",
              "// Listen for the removal of the full notebook cells\n",
              "var notebookContainer = gd.closest('#notebook-container');\n",
              "if (notebookContainer) {{\n",
              "    x.observe(notebookContainer, {childList: true});\n",
              "}}\n",
              "\n",
              "// Listen for the clearing of the current output cell\n",
              "var outputEl = gd.closest('.output');\n",
              "if (outputEl) {{\n",
              "    x.observe(outputEl, {childList: true});\n",
              "}}\n",
              "\n",
              "                        })                };                            </script>        </div>\n",
              "</body>\n",
              "</html>"
            ]
          },
          "metadata": {}
        }
      ]
    },
    {
      "cell_type": "markdown",
      "source": [
        "# quantum part"
      ],
      "metadata": {
        "id": "T_-RTj1Lc384"
      }
    },
    {
      "cell_type": "code",
      "source": [
        "qubits = int(np.log2(len(array1)))\n",
        "print(qubits)"
      ],
      "metadata": {
        "colab": {
          "base_uri": "https://localhost:8080/"
        },
        "id": "M5QCCaoppT3V",
        "outputId": "7e47c2bf-24aa-4fd5-8901-9dc3dfb5181a"
      },
      "execution_count": null,
      "outputs": [
        {
          "output_type": "stream",
          "name": "stdout",
          "text": [
            "4\n"
          ]
        }
      ]
    },
    {
      "cell_type": "code",
      "source": [
        "import numpy as np\n",
        "\n",
        "def qft_matrix(n):\n",
        "    \"\"\"Generate the QFT matrix for n qubits (size 2^n x 2^n).\"\"\"\n",
        "    N = 2**n\n",
        "    omega = np.exp(2j * np.pi / N)\n",
        "    qft_mat = np.zeros((N, N), dtype=complex)\n",
        "\n",
        "    for i in range(N):\n",
        "        for j in range(N):\n",
        "            qft_mat[i, j] = omega**(i * j)\n",
        "\n",
        "    return qft_mat / np.sqrt(N)\n",
        "\n",
        "int(np.log2(len(array1)))\n",
        "# Generate the QFT matrix for 4 qubits\n",
        "qft_mat_4_qubits = qft_matrix(qubits)\n",
        "\n",
        "# Print the QFT matrix\n",
        "print(\"QFT Matrix for 3 Qubits:\")\n",
        "print(qft_mat_4_qubits)\n",
        "print(np.shape(qft_mat_4_qubits))"
      ],
      "metadata": {
        "colab": {
          "base_uri": "https://localhost:8080/"
        },
        "id": "FZY7HTovdNNB",
        "outputId": "b11671e1-0a30-4dc0-9047-83ac2d7ea54c"
      },
      "execution_count": null,
      "outputs": [
        {
          "output_type": "stream",
          "name": "stdout",
          "text": [
            "QFT Matrix for 3 Qubits:\n",
            "[[ 2.50000000e-01+0.00000000e+00j  2.50000000e-01+0.00000000e+00j\n",
            "   2.50000000e-01+0.00000000e+00j  2.50000000e-01+0.00000000e+00j\n",
            "   2.50000000e-01+0.00000000e+00j  2.50000000e-01+0.00000000e+00j\n",
            "   2.50000000e-01+0.00000000e+00j  2.50000000e-01+0.00000000e+00j\n",
            "   2.50000000e-01+0.00000000e+00j  2.50000000e-01+0.00000000e+00j\n",
            "   2.50000000e-01+0.00000000e+00j  2.50000000e-01+0.00000000e+00j\n",
            "   2.50000000e-01+0.00000000e+00j  2.50000000e-01+0.00000000e+00j\n",
            "   2.50000000e-01+0.00000000e+00j  2.50000000e-01+0.00000000e+00j]\n",
            " [ 2.50000000e-01+0.00000000e+00j  2.30969883e-01+9.56708581e-02j\n",
            "   1.76776695e-01+1.76776695e-01j  9.56708581e-02+2.30969883e-01j\n",
            "  -5.55111512e-17+2.50000000e-01j -9.56708581e-02+2.30969883e-01j\n",
            "  -1.76776695e-01+1.76776695e-01j -2.30969883e-01+9.56708581e-02j\n",
            "  -2.50000000e-01-1.11022302e-16j -2.30969883e-01-9.56708581e-02j\n",
            "  -1.76776695e-01-1.76776695e-01j -9.56708581e-02-2.30969883e-01j\n",
            "   1.66533454e-16-2.50000000e-01j  9.56708581e-02-2.30969883e-01j\n",
            "   1.76776695e-01-1.76776695e-01j  2.30969883e-01-9.56708581e-02j]\n",
            " [ 2.50000000e-01+0.00000000e+00j  1.76776695e-01+1.76776695e-01j\n",
            "  -5.55111512e-17+2.50000000e-01j -1.76776695e-01+1.76776695e-01j\n",
            "  -2.50000000e-01-1.11022302e-16j -1.76776695e-01-1.76776695e-01j\n",
            "   1.66533454e-16-2.50000000e-01j  1.76776695e-01-1.76776695e-01j\n",
            "   2.50000000e-01+2.22044605e-16j  1.76776695e-01+1.76776695e-01j\n",
            "  -2.77555756e-16+2.50000000e-01j -1.76776695e-01+1.76776695e-01j\n",
            "  -2.50000000e-01-3.33066907e-16j -1.76776695e-01-1.76776695e-01j\n",
            "   3.88578059e-16-2.50000000e-01j  1.76776695e-01-1.76776695e-01j]\n",
            " [ 2.50000000e-01+0.00000000e+00j  9.56708581e-02+2.30969883e-01j\n",
            "  -1.76776695e-01+1.76776695e-01j -2.30969883e-01-9.56708581e-02j\n",
            "   1.66533454e-16-2.50000000e-01j  2.30969883e-01-9.56708581e-02j\n",
            "   1.76776695e-01+1.76776695e-01j -9.56708581e-02+2.30969883e-01j\n",
            "  -2.50000000e-01-3.33066907e-16j -9.56708581e-02-2.30969883e-01j\n",
            "   1.76776695e-01-1.76776695e-01j  2.30969883e-01+9.56708581e-02j\n",
            "  -4.99600361e-16+2.50000000e-01j -2.30969883e-01+9.56708581e-02j\n",
            "  -1.76776695e-01-1.76776695e-01j  9.56708581e-02-2.30969883e-01j]\n",
            " [ 2.50000000e-01+0.00000000e+00j -5.55111512e-17+2.50000000e-01j\n",
            "  -2.50000000e-01-1.11022302e-16j  1.66533454e-16-2.50000000e-01j\n",
            "   2.50000000e-01+2.22044605e-16j -2.77555756e-16+2.50000000e-01j\n",
            "  -2.50000000e-01-3.33066907e-16j  3.88578059e-16-2.50000000e-01j\n",
            "   2.50000000e-01+4.44089210e-16j -4.99600361e-16+2.50000000e-01j\n",
            "  -2.50000000e-01-5.55111512e-16j  6.10622664e-16-2.50000000e-01j\n",
            "   2.50000000e-01+6.66133815e-16j -7.21644966e-16+2.50000000e-01j\n",
            "  -2.50000000e-01-7.77156117e-16j  8.32667268e-16-2.50000000e-01j]\n",
            " [ 2.50000000e-01+0.00000000e+00j -9.56708581e-02+2.30969883e-01j\n",
            "  -1.76776695e-01-1.76776695e-01j  2.30969883e-01-9.56708581e-02j\n",
            "  -2.77555756e-16+2.50000000e-01j -2.30969883e-01-9.56708581e-02j\n",
            "   1.76776695e-01-1.76776695e-01j  9.56708581e-02+2.30969883e-01j\n",
            "  -2.50000000e-01-5.55111512e-16j  9.56708581e-02-2.30969883e-01j\n",
            "   1.76776695e-01+1.76776695e-01j -2.30969883e-01+9.56708581e-02j\n",
            "   8.32667268e-16-2.50000000e-01j  2.30969883e-01+9.56708581e-02j\n",
            "  -1.76776695e-01+1.76776695e-01j -9.56708581e-02-2.30969883e-01j]\n",
            " [ 2.50000000e-01+0.00000000e+00j -1.76776695e-01+1.76776695e-01j\n",
            "   1.66533454e-16-2.50000000e-01j  1.76776695e-01+1.76776695e-01j\n",
            "  -2.50000000e-01-3.33066907e-16j  1.76776695e-01-1.76776695e-01j\n",
            "  -4.99600361e-16+2.50000000e-01j -1.76776695e-01-1.76776695e-01j\n",
            "   2.50000000e-01+6.66133815e-16j -1.76776695e-01+1.76776695e-01j\n",
            "   8.32667268e-16-2.50000000e-01j  1.76776695e-01+1.76776695e-01j\n",
            "  -2.50000000e-01-9.99200722e-16j  1.76776695e-01-1.76776695e-01j\n",
            "  -1.16573418e-15+2.50000000e-01j -1.76776695e-01-1.76776695e-01j]\n",
            " [ 2.50000000e-01+0.00000000e+00j -2.30969883e-01+9.56708581e-02j\n",
            "   1.76776695e-01-1.76776695e-01j -9.56708581e-02+2.30969883e-01j\n",
            "   3.88578059e-16-2.50000000e-01j  9.56708581e-02+2.30969883e-01j\n",
            "  -1.76776695e-01-1.76776695e-01j  2.30969883e-01+9.56708581e-02j\n",
            "  -2.50000000e-01-7.77156117e-16j  2.30969883e-01-9.56708581e-02j\n",
            "  -1.76776695e-01+1.76776695e-01j  9.56708581e-02-2.30969883e-01j\n",
            "  -1.16573418e-15+2.50000000e-01j -9.56708581e-02-2.30969883e-01j\n",
            "   1.76776695e-01+1.76776695e-01j -2.30969883e-01-9.56708581e-02j]\n",
            " [ 2.50000000e-01+0.00000000e+00j -2.50000000e-01-1.11022302e-16j\n",
            "   2.50000000e-01+2.22044605e-16j -2.50000000e-01-3.33066907e-16j\n",
            "   2.50000000e-01+4.44089210e-16j -2.50000000e-01-5.55111512e-16j\n",
            "   2.50000000e-01+6.66133815e-16j -2.50000000e-01-7.77156117e-16j\n",
            "   2.50000000e-01+8.88178420e-16j -2.50000000e-01-9.99200722e-16j\n",
            "   2.50000000e-01+1.11022302e-15j -2.50000000e-01-1.22124533e-15j\n",
            "   2.50000000e-01+1.33226763e-15j -2.50000000e-01-4.90168210e-16j\n",
            "   2.50000000e-01+1.34773046e-15j -2.50000000e-01-4.28935870e-16j]\n",
            " [ 2.50000000e-01+0.00000000e+00j -2.30969883e-01-9.56708581e-02j\n",
            "   1.76776695e-01+1.76776695e-01j -9.56708581e-02-2.30969883e-01j\n",
            "  -4.99600361e-16+2.50000000e-01j  9.56708581e-02-2.30969883e-01j\n",
            "  -1.76776695e-01+1.76776695e-01j  2.30969883e-01-9.56708581e-02j\n",
            "  -2.50000000e-01-9.99200722e-16j  2.30969883e-01+9.56708581e-02j\n",
            "  -1.76776695e-01-1.76776695e-01j  9.56708581e-02+2.30969883e-01j\n",
            "   9.18949335e-16-2.50000000e-01j -9.56708581e-02+2.30969883e-01j\n",
            "   1.76776695e-01-1.76776695e-01j -2.30969883e-01+9.56708581e-02j]\n",
            " [ 2.50000000e-01+0.00000000e+00j -1.76776695e-01-1.76776695e-01j\n",
            "  -2.77555756e-16+2.50000000e-01j  1.76776695e-01-1.76776695e-01j\n",
            "  -2.50000000e-01-5.55111512e-16j  1.76776695e-01+1.76776695e-01j\n",
            "   8.32667268e-16-2.50000000e-01j -1.76776695e-01+1.76776695e-01j\n",
            "   2.50000000e-01+1.11022302e-15j -1.76776695e-01-1.76776695e-01j\n",
            "  -1.83774392e-15+2.50000000e-01j  1.76776695e-01-1.76776695e-01j\n",
            "  -2.50000000e-01-4.28935870e-16j  1.76776695e-01+1.76776695e-01j\n",
            "   7.96484655e-16-2.50000000e-01j -1.76776695e-01+1.76776695e-01j]\n",
            " [ 2.50000000e-01+0.00000000e+00j -9.56708581e-02-2.30969883e-01j\n",
            "  -1.76776695e-01+1.76776695e-01j  2.30969883e-01+9.56708581e-02j\n",
            "   6.10622664e-16-2.50000000e-01j -2.30969883e-01+9.56708581e-02j\n",
            "   1.76776695e-01+1.76776695e-01j  9.56708581e-02-2.30969883e-01j\n",
            "  -2.50000000e-01-1.22124533e-15j  9.56708581e-02+2.30969883e-01j\n",
            "   1.76776695e-01-1.76776695e-01j -2.30969883e-01-9.56708581e-02j\n",
            "  -1.71527924e-15+2.50000000e-01j  2.30969883e-01-9.56708581e-02j\n",
            "  -1.76776695e-01-1.76776695e-01j -9.56708581e-02+2.30969883e-01j]\n",
            " [ 2.50000000e-01+0.00000000e+00j  1.66533454e-16-2.50000000e-01j\n",
            "  -2.50000000e-01-3.33066907e-16j -4.99600361e-16+2.50000000e-01j\n",
            "   2.50000000e-01+6.66133815e-16j  8.32667268e-16-2.50000000e-01j\n",
            "  -2.50000000e-01-9.99200722e-16j -1.16573418e-15+2.50000000e-01j\n",
            "   2.50000000e-01+1.33226763e-15j  9.18949335e-16-2.50000000e-01j\n",
            "  -2.50000000e-01-4.28935870e-16j -1.71527924e-15+2.50000000e-01j\n",
            "   2.50000000e-01+1.22526578e-15j  7.35252315e-16-2.50000000e-01j\n",
            "  -2.50000000e-01-2.45238850e-16j -3.30793906e-15+2.50000000e-01j]\n",
            " [ 2.50000000e-01+0.00000000e+00j  9.56708581e-02-2.30969883e-01j\n",
            "  -1.76776695e-01-1.76776695e-01j -2.30969883e-01+9.56708581e-02j\n",
            "  -7.21644966e-16+2.50000000e-01j  2.30969883e-01+9.56708581e-02j\n",
            "   1.76776695e-01-1.76776695e-01j -9.56708581e-02-2.30969883e-01j\n",
            "  -2.50000000e-01-4.90168210e-16j -9.56708581e-02+2.30969883e-01j\n",
            "   1.76776695e-01+1.76776695e-01j  2.30969883e-01-9.56708581e-02j\n",
            "   7.35252315e-16-2.50000000e-01j -2.30969883e-01-9.56708581e-02j\n",
            "  -1.76776695e-01+1.76776695e-01j  9.56708581e-02+2.30969883e-01j]\n",
            " [ 2.50000000e-01+0.00000000e+00j  1.76776695e-01-1.76776695e-01j\n",
            "   3.88578059e-16-2.50000000e-01j -1.76776695e-01-1.76776695e-01j\n",
            "  -2.50000000e-01-7.77156117e-16j -1.76776695e-01+1.76776695e-01j\n",
            "  -1.16573418e-15+2.50000000e-01j  1.76776695e-01+1.76776695e-01j\n",
            "   2.50000000e-01+1.34773046e-15j  1.76776695e-01-1.76776695e-01j\n",
            "   7.96484655e-16-2.50000000e-01j -1.76776695e-01-1.76776695e-01j\n",
            "  -2.50000000e-01-2.45238850e-16j -1.76776695e-01+1.76776695e-01j\n",
            "  -1.47034988e-15+2.50000000e-01j  1.76776695e-01+1.76776695e-01j]\n",
            " [ 2.50000000e-01+0.00000000e+00j  2.30969883e-01-9.56708581e-02j\n",
            "   1.76776695e-01-1.76776695e-01j  9.56708581e-02-2.30969883e-01j\n",
            "   8.32667268e-16-2.50000000e-01j -9.56708581e-02-2.30969883e-01j\n",
            "  -1.76776695e-01-1.76776695e-01j -2.30969883e-01-9.56708581e-02j\n",
            "  -2.50000000e-01-4.28935870e-16j -2.30969883e-01+9.56708581e-02j\n",
            "  -1.76776695e-01+1.76776695e-01j -9.56708581e-02+2.30969883e-01j\n",
            "  -3.30793906e-15+2.50000000e-01j  9.56708581e-02+2.30969883e-01j\n",
            "   1.76776695e-01+1.76776695e-01j  2.30969883e-01+9.56708581e-02j]]\n",
            "(16, 16)\n"
          ]
        }
      ]
    },
    {
      "cell_type": "markdown",
      "source": [
        "## step 1: qft matrix on the normalised filter array and window array"
      ],
      "metadata": {
        "id": "rtcjCE-bd9fW"
      }
    },
    {
      "cell_type": "code",
      "source": [
        "# Define the filter array with 8 non-zero elements and 8 zeros\n",
        "# filter = [0.0020939558974013665, 0.04493999659839265, 0.267769868918511, 0.5812076801643039,\n",
        "#           0.6512469871508397, 0.39116353951309446, 0.10554509675346828, 0.014199348776285179] + [0]*8\n",
        "\n",
        "# window= [0]*0 + [ 2.84459484e-01, 1.60769035e-01, 6.52830735e-01, 1.40302564e-01,\n",
        "#   4.04440838e-01, 5.49152208e-02, 5.29882315e-01,  7.34968555e-16] + [0]*8\n",
        "\n",
        "# Convert the filter to a numpy array\n",
        "filter_array = np.array(array1)\n",
        "\n",
        "# Perform matrix-vector multiplication\n",
        "result1 = np.dot(qft_mat_4_qubits, filter_array)\n",
        "result_array1 = np.array(result1)\n",
        "# Print the resulting vector\n",
        "print(\"Result of QFT matrix multiplied by filter array:\")\n",
        "print(result1)"
      ],
      "metadata": {
        "colab": {
          "base_uri": "https://localhost:8080/"
        },
        "id": "ZRhwEWO8dh29",
        "outputId": "3cb56df8-f1ee-4864-b938-4ecc846d627e"
      },
      "execution_count": null,
      "outputs": [
        {
          "output_type": "stream",
          "name": "stdout",
          "text": [
            "Result of QFT matrix multiplied by filter array:\n",
            "[ 0.63012604+0.00000000e+00j -0.14242723+4.39980210e-01j\n",
            " -0.070014  -1.69028758e-01j  0.05916333+1.30979203e-01j\n",
            " -0.070014  -7.00140042e-02j  0.07485842+5.84773275e-02j\n",
            " -0.070014  -2.90007501e-02j  0.07841948+1.74083142e-02j\n",
            " -0.070014  -2.48739710e-16j  0.07841948-1.74083142e-02j\n",
            " -0.070014  +2.90007501e-02j  0.07485842-5.84773275e-02j\n",
            " -0.070014  +7.00140042e-02j  0.05916333-1.30979203e-01j\n",
            " -0.070014  +1.69028758e-01j -0.14242723-4.39980210e-01j]\n"
          ]
        }
      ]
    },
    {
      "cell_type": "code",
      "source": [
        "# Define the filter array with 8 non-zero elements and 8 zeros\n",
        "# filter = [0.0020939558974013665, 0.04493999659839265, 0.267769868918511, 0.5812076801643039,\n",
        "#           0.6512469871508397, 0.39116353951309446, 0.10554509675346828, 0.014199348776285179] + [0]*8\n",
        "\n",
        "# window= [0]*0 + [ 2.84459484e-01, 1.60769035e-01, 6.52830735e-01, 1.40302564e-01,\n",
        "#   4.04440838e-01, 5.49152208e-02, 5.29882315e-01,  7.34968555e-16] + [0]*8\n",
        "\n",
        "# Convert the filter to a numpy array\n",
        "window_array = np.array(array2)\n",
        "\n",
        "# Perform matrix-vector multiplication\n",
        "result1w = np.dot(qft_mat_4_qubits, window_array)\n",
        "result_array1w = np.array(result1w)\n",
        "# Print the resulting vector\n",
        "print(\"Result of QFT matrix multiplied by filter array:\")\n",
        "print(result1w)"
      ],
      "metadata": {
        "colab": {
          "base_uri": "https://localhost:8080/"
        },
        "id": "8WBhvWUumFlQ",
        "outputId": "7f4fdbf8-de41-48b8-914c-bdd3ba06c6f4"
      },
      "execution_count": null,
      "outputs": [
        {
          "output_type": "stream",
          "name": "stdout",
          "text": [
            "Result of QFT matrix multiplied by filter array:\n",
            "[ 0.63012604+0.00000000e+00j  0.20955693+3.69966206e-01j\n",
            "  0.070014  +1.69028758e-01j -0.04562003+2.00993207e-01j\n",
            " -0.070014  -7.00140042e-02j  0.12164029-1.15366767e-02j\n",
            "  0.070014  +2.90007501e-02j  0.06449283+8.74223184e-02j\n",
            " -0.070014  -2.48739710e-16j  0.06449283-8.74223184e-02j\n",
            "  0.070014  -2.90007501e-02j  0.12164029+1.15366767e-02j\n",
            " -0.070014  +7.00140042e-02j -0.04562003-2.00993207e-01j\n",
            "  0.070014  -1.69028758e-01j  0.20955693-3.69966206e-01j]\n"
          ]
        }
      ]
    },
    {
      "cell_type": "markdown",
      "source": [
        "# step 2: element wise product of the qft matrix product* window array and qft matrix product* filter array"
      ],
      "metadata": {
        "id": "lTuRuz1gfQA2"
      }
    },
    {
      "cell_type": "code",
      "source": [
        "# Perform element-wise multiplication\n",
        "elementwise_product = np.multiply(result1, result1w)\n",
        "\n",
        "# Alternatively, you can use the `*` operator for element-wise multiplication\n",
        "# elementwise_product = array1 * array2\n",
        "\n",
        "# Print the result\n",
        "print(\"Element-wise product:\", elementwise_product)"
      ],
      "metadata": {
        "colab": {
          "base_uri": "https://localhost:8080/"
        },
        "id": "NLZ2ABOMFkgg",
        "outputId": "cfad88db-f755-489e-cc89-8f7cc1af9242"
      },
      "execution_count": null,
      "outputs": [
        {
          "output_type": "stream",
          "name": "stdout",
          "text": [
            "Element-wise product: [ 3.97058824e-01+0.00000000e+00j -1.92624424e-01+3.95076406e-02j\n",
            "  2.36687604e-02-2.36687604e-02j -2.90249630e-02+5.91615258e-03j\n",
            " -3.12538984e-17+9.80392157e-03j  9.78043425e-03+6.24958142e-03j\n",
            " -4.06091728e-03-4.06091728e-03j  3.53561917e-03+7.97832436e-03j\n",
            "  4.90196078e-03+3.48305263e-17j  3.53561917e-03-7.97832436e-03j\n",
            " -4.06091728e-03+4.06091728e-03j  9.78043425e-03-6.24958142e-03j\n",
            "  1.08927306e-16-9.80392157e-03j -2.90249630e-02-5.91615258e-03j\n",
            "  2.36687604e-02+2.36687604e-02j -1.92624424e-01-3.95076406e-02j]\n"
          ]
        }
      ]
    },
    {
      "cell_type": "markdown",
      "source": [
        "# step 3: IQFT acts on the resulting staevector from previous operations"
      ],
      "metadata": {
        "id": "c2VRw6c3fwjS"
      }
    },
    {
      "cell_type": "code",
      "source": [
        "import numpy as np\n",
        "\n",
        "def inverse_qft_matrix(n):\n",
        "    \"\"\"Generate the inverse QFT matrix for n qubits (size 2^n x 2^n).\"\"\"\n",
        "    N = 2**n\n",
        "    omega = np.exp(-2j * np.pi / N)  # Use the inverse root of unity\n",
        "    iqft_mat = np.zeros((N, N), dtype=complex)\n",
        "\n",
        "    for i in range(N):\n",
        "        for j in range(N):\n",
        "            iqft_mat[i, j] = omega**(i * j)\n",
        "\n",
        "    return iqft_mat / np.sqrt(N)\n",
        "\n",
        "# Generate the inverse QFT matrix for 4 qubits\n",
        "iqft_mat_4_qubits = inverse_qft_matrix(qubits)\n",
        "\n",
        "# Print the inverse QFT matrix\n",
        "print(\"Inverse QFT Matrix for 3 Qubits:\")\n",
        "print(iqft_mat_4_qubits)"
      ],
      "metadata": {
        "id": "eVrFFXcbfsAp",
        "colab": {
          "base_uri": "https://localhost:8080/"
        },
        "outputId": "8521bd96-01a9-446e-a738-9f85c62d31c9"
      },
      "execution_count": null,
      "outputs": [
        {
          "output_type": "stream",
          "name": "stdout",
          "text": [
            "Inverse QFT Matrix for 3 Qubits:\n",
            "[[ 2.50000000e-01+0.00000000e+00j  2.50000000e-01+0.00000000e+00j\n",
            "   2.50000000e-01+0.00000000e+00j  2.50000000e-01+0.00000000e+00j\n",
            "   2.50000000e-01+0.00000000e+00j  2.50000000e-01+0.00000000e+00j\n",
            "   2.50000000e-01+0.00000000e+00j  2.50000000e-01+0.00000000e+00j\n",
            "   2.50000000e-01+0.00000000e+00j  2.50000000e-01+0.00000000e+00j\n",
            "   2.50000000e-01+0.00000000e+00j  2.50000000e-01+0.00000000e+00j\n",
            "   2.50000000e-01+0.00000000e+00j  2.50000000e-01+0.00000000e+00j\n",
            "   2.50000000e-01+0.00000000e+00j  2.50000000e-01+0.00000000e+00j]\n",
            " [ 2.50000000e-01+0.00000000e+00j  2.30969883e-01-9.56708581e-02j\n",
            "   1.76776695e-01-1.76776695e-01j  9.56708581e-02-2.30969883e-01j\n",
            "  -5.55111512e-17-2.50000000e-01j -9.56708581e-02-2.30969883e-01j\n",
            "  -1.76776695e-01-1.76776695e-01j -2.30969883e-01-9.56708581e-02j\n",
            "  -2.50000000e-01+1.11022302e-16j -2.30969883e-01+9.56708581e-02j\n",
            "  -1.76776695e-01+1.76776695e-01j -9.56708581e-02+2.30969883e-01j\n",
            "   1.66533454e-16+2.50000000e-01j  9.56708581e-02+2.30969883e-01j\n",
            "   1.76776695e-01+1.76776695e-01j  2.30969883e-01+9.56708581e-02j]\n",
            " [ 2.50000000e-01+0.00000000e+00j  1.76776695e-01-1.76776695e-01j\n",
            "  -5.55111512e-17-2.50000000e-01j -1.76776695e-01-1.76776695e-01j\n",
            "  -2.50000000e-01+1.11022302e-16j -1.76776695e-01+1.76776695e-01j\n",
            "   1.66533454e-16+2.50000000e-01j  1.76776695e-01+1.76776695e-01j\n",
            "   2.50000000e-01-2.22044605e-16j  1.76776695e-01-1.76776695e-01j\n",
            "  -2.77555756e-16-2.50000000e-01j -1.76776695e-01-1.76776695e-01j\n",
            "  -2.50000000e-01+3.33066907e-16j -1.76776695e-01+1.76776695e-01j\n",
            "   3.88578059e-16+2.50000000e-01j  1.76776695e-01+1.76776695e-01j]\n",
            " [ 2.50000000e-01+0.00000000e+00j  9.56708581e-02-2.30969883e-01j\n",
            "  -1.76776695e-01-1.76776695e-01j -2.30969883e-01+9.56708581e-02j\n",
            "   1.66533454e-16+2.50000000e-01j  2.30969883e-01+9.56708581e-02j\n",
            "   1.76776695e-01-1.76776695e-01j -9.56708581e-02-2.30969883e-01j\n",
            "  -2.50000000e-01+3.33066907e-16j -9.56708581e-02+2.30969883e-01j\n",
            "   1.76776695e-01+1.76776695e-01j  2.30969883e-01-9.56708581e-02j\n",
            "  -4.99600361e-16-2.50000000e-01j -2.30969883e-01-9.56708581e-02j\n",
            "  -1.76776695e-01+1.76776695e-01j  9.56708581e-02+2.30969883e-01j]\n",
            " [ 2.50000000e-01+0.00000000e+00j -5.55111512e-17-2.50000000e-01j\n",
            "  -2.50000000e-01+1.11022302e-16j  1.66533454e-16+2.50000000e-01j\n",
            "   2.50000000e-01-2.22044605e-16j -2.77555756e-16-2.50000000e-01j\n",
            "  -2.50000000e-01+3.33066907e-16j  3.88578059e-16+2.50000000e-01j\n",
            "   2.50000000e-01-4.44089210e-16j -4.99600361e-16-2.50000000e-01j\n",
            "  -2.50000000e-01+5.55111512e-16j  6.10622664e-16+2.50000000e-01j\n",
            "   2.50000000e-01-6.66133815e-16j -7.21644966e-16-2.50000000e-01j\n",
            "  -2.50000000e-01+7.77156117e-16j  8.32667268e-16+2.50000000e-01j]\n",
            " [ 2.50000000e-01+0.00000000e+00j -9.56708581e-02-2.30969883e-01j\n",
            "  -1.76776695e-01+1.76776695e-01j  2.30969883e-01+9.56708581e-02j\n",
            "  -2.77555756e-16-2.50000000e-01j -2.30969883e-01+9.56708581e-02j\n",
            "   1.76776695e-01+1.76776695e-01j  9.56708581e-02-2.30969883e-01j\n",
            "  -2.50000000e-01+5.55111512e-16j  9.56708581e-02+2.30969883e-01j\n",
            "   1.76776695e-01-1.76776695e-01j -2.30969883e-01-9.56708581e-02j\n",
            "   8.32667268e-16+2.50000000e-01j  2.30969883e-01-9.56708581e-02j\n",
            "  -1.76776695e-01-1.76776695e-01j -9.56708581e-02+2.30969883e-01j]\n",
            " [ 2.50000000e-01+0.00000000e+00j -1.76776695e-01-1.76776695e-01j\n",
            "   1.66533454e-16+2.50000000e-01j  1.76776695e-01-1.76776695e-01j\n",
            "  -2.50000000e-01+3.33066907e-16j  1.76776695e-01+1.76776695e-01j\n",
            "  -4.99600361e-16-2.50000000e-01j -1.76776695e-01+1.76776695e-01j\n",
            "   2.50000000e-01-6.66133815e-16j -1.76776695e-01-1.76776695e-01j\n",
            "   8.32667268e-16+2.50000000e-01j  1.76776695e-01-1.76776695e-01j\n",
            "  -2.50000000e-01+9.99200722e-16j  1.76776695e-01+1.76776695e-01j\n",
            "  -1.16573418e-15-2.50000000e-01j -1.76776695e-01+1.76776695e-01j]\n",
            " [ 2.50000000e-01+0.00000000e+00j -2.30969883e-01-9.56708581e-02j\n",
            "   1.76776695e-01+1.76776695e-01j -9.56708581e-02-2.30969883e-01j\n",
            "   3.88578059e-16+2.50000000e-01j  9.56708581e-02-2.30969883e-01j\n",
            "  -1.76776695e-01+1.76776695e-01j  2.30969883e-01-9.56708581e-02j\n",
            "  -2.50000000e-01+7.77156117e-16j  2.30969883e-01+9.56708581e-02j\n",
            "  -1.76776695e-01-1.76776695e-01j  9.56708581e-02+2.30969883e-01j\n",
            "  -1.16573418e-15-2.50000000e-01j -9.56708581e-02+2.30969883e-01j\n",
            "   1.76776695e-01-1.76776695e-01j -2.30969883e-01+9.56708581e-02j]\n",
            " [ 2.50000000e-01+0.00000000e+00j -2.50000000e-01+1.11022302e-16j\n",
            "   2.50000000e-01-2.22044605e-16j -2.50000000e-01+3.33066907e-16j\n",
            "   2.50000000e-01-4.44089210e-16j -2.50000000e-01+5.55111512e-16j\n",
            "   2.50000000e-01-6.66133815e-16j -2.50000000e-01+7.77156117e-16j\n",
            "   2.50000000e-01-8.88178420e-16j -2.50000000e-01+9.99200722e-16j\n",
            "   2.50000000e-01-1.11022302e-15j -2.50000000e-01+1.22124533e-15j\n",
            "   2.50000000e-01-1.33226763e-15j -2.50000000e-01+4.90168210e-16j\n",
            "   2.50000000e-01-1.34773046e-15j -2.50000000e-01+4.28935870e-16j]\n",
            " [ 2.50000000e-01+0.00000000e+00j -2.30969883e-01+9.56708581e-02j\n",
            "   1.76776695e-01-1.76776695e-01j -9.56708581e-02+2.30969883e-01j\n",
            "  -4.99600361e-16-2.50000000e-01j  9.56708581e-02+2.30969883e-01j\n",
            "  -1.76776695e-01-1.76776695e-01j  2.30969883e-01+9.56708581e-02j\n",
            "  -2.50000000e-01+9.99200722e-16j  2.30969883e-01-9.56708581e-02j\n",
            "  -1.76776695e-01+1.76776695e-01j  9.56708581e-02-2.30969883e-01j\n",
            "   9.18949335e-16+2.50000000e-01j -9.56708581e-02-2.30969883e-01j\n",
            "   1.76776695e-01+1.76776695e-01j -2.30969883e-01-9.56708581e-02j]\n",
            " [ 2.50000000e-01+0.00000000e+00j -1.76776695e-01+1.76776695e-01j\n",
            "  -2.77555756e-16-2.50000000e-01j  1.76776695e-01+1.76776695e-01j\n",
            "  -2.50000000e-01+5.55111512e-16j  1.76776695e-01-1.76776695e-01j\n",
            "   8.32667268e-16+2.50000000e-01j -1.76776695e-01-1.76776695e-01j\n",
            "   2.50000000e-01-1.11022302e-15j -1.76776695e-01+1.76776695e-01j\n",
            "  -1.83774392e-15-2.50000000e-01j  1.76776695e-01+1.76776695e-01j\n",
            "  -2.50000000e-01+4.28935870e-16j  1.76776695e-01-1.76776695e-01j\n",
            "   7.96484655e-16+2.50000000e-01j -1.76776695e-01-1.76776695e-01j]\n",
            " [ 2.50000000e-01+0.00000000e+00j -9.56708581e-02+2.30969883e-01j\n",
            "  -1.76776695e-01-1.76776695e-01j  2.30969883e-01-9.56708581e-02j\n",
            "   6.10622664e-16+2.50000000e-01j -2.30969883e-01-9.56708581e-02j\n",
            "   1.76776695e-01-1.76776695e-01j  9.56708581e-02+2.30969883e-01j\n",
            "  -2.50000000e-01+1.22124533e-15j  9.56708581e-02-2.30969883e-01j\n",
            "   1.76776695e-01+1.76776695e-01j -2.30969883e-01+9.56708581e-02j\n",
            "  -1.71527924e-15-2.50000000e-01j  2.30969883e-01+9.56708581e-02j\n",
            "  -1.76776695e-01+1.76776695e-01j -9.56708581e-02-2.30969883e-01j]\n",
            " [ 2.50000000e-01+0.00000000e+00j  1.66533454e-16+2.50000000e-01j\n",
            "  -2.50000000e-01+3.33066907e-16j -4.99600361e-16-2.50000000e-01j\n",
            "   2.50000000e-01-6.66133815e-16j  8.32667268e-16+2.50000000e-01j\n",
            "  -2.50000000e-01+9.99200722e-16j -1.16573418e-15-2.50000000e-01j\n",
            "   2.50000000e-01-1.33226763e-15j  9.18949335e-16+2.50000000e-01j\n",
            "  -2.50000000e-01+4.28935870e-16j -1.71527924e-15-2.50000000e-01j\n",
            "   2.50000000e-01-1.22526578e-15j  7.35252315e-16+2.50000000e-01j\n",
            "  -2.50000000e-01+2.45238850e-16j -3.30793906e-15-2.50000000e-01j]\n",
            " [ 2.50000000e-01+0.00000000e+00j  9.56708581e-02+2.30969883e-01j\n",
            "  -1.76776695e-01+1.76776695e-01j -2.30969883e-01-9.56708581e-02j\n",
            "  -7.21644966e-16-2.50000000e-01j  2.30969883e-01-9.56708581e-02j\n",
            "   1.76776695e-01+1.76776695e-01j -9.56708581e-02+2.30969883e-01j\n",
            "  -2.50000000e-01+4.90168210e-16j -9.56708581e-02-2.30969883e-01j\n",
            "   1.76776695e-01-1.76776695e-01j  2.30969883e-01+9.56708581e-02j\n",
            "   7.35252315e-16+2.50000000e-01j -2.30969883e-01+9.56708581e-02j\n",
            "  -1.76776695e-01-1.76776695e-01j  9.56708581e-02-2.30969883e-01j]\n",
            " [ 2.50000000e-01+0.00000000e+00j  1.76776695e-01+1.76776695e-01j\n",
            "   3.88578059e-16+2.50000000e-01j -1.76776695e-01+1.76776695e-01j\n",
            "  -2.50000000e-01+7.77156117e-16j -1.76776695e-01-1.76776695e-01j\n",
            "  -1.16573418e-15-2.50000000e-01j  1.76776695e-01-1.76776695e-01j\n",
            "   2.50000000e-01-1.34773046e-15j  1.76776695e-01+1.76776695e-01j\n",
            "   7.96484655e-16+2.50000000e-01j -1.76776695e-01+1.76776695e-01j\n",
            "  -2.50000000e-01+2.45238850e-16j -1.76776695e-01-1.76776695e-01j\n",
            "  -1.47034988e-15-2.50000000e-01j  1.76776695e-01-1.76776695e-01j]\n",
            " [ 2.50000000e-01+0.00000000e+00j  2.30969883e-01+9.56708581e-02j\n",
            "   1.76776695e-01+1.76776695e-01j  9.56708581e-02+2.30969883e-01j\n",
            "   8.32667268e-16+2.50000000e-01j -9.56708581e-02+2.30969883e-01j\n",
            "  -1.76776695e-01+1.76776695e-01j -2.30969883e-01+9.56708581e-02j\n",
            "  -2.50000000e-01+4.28935870e-16j -2.30969883e-01-9.56708581e-02j\n",
            "  -1.76776695e-01-1.76776695e-01j -9.56708581e-02-2.30969883e-01j\n",
            "  -3.30793906e-15-2.50000000e-01j  9.56708581e-02-2.30969883e-01j\n",
            "   1.76776695e-01-1.76776695e-01j  2.30969883e-01-9.56708581e-02j]]\n"
          ]
        }
      ]
    },
    {
      "cell_type": "code",
      "source": [
        "# Perform matrix-vector multiplication\n",
        "final_result = np.dot(iqft_mat_4_qubits,  elementwise_product)\n",
        "\n",
        "# Print the resulting vector\n",
        "print(\"Result of QFT matrix multiplied by filter array:\")\n",
        "print(final_result)"
      ],
      "metadata": {
        "id": "Yhose8_Yf_Ol",
        "colab": {
          "base_uri": "https://localhost:8080/"
        },
        "outputId": "a6fc56eb-6359-4d6d-a470-859ab74e6fa2"
      },
      "execution_count": null,
      "outputs": [
        {
          "output_type": "stream",
          "name": "stdout",
          "text": [
            "Result of QFT matrix multiplied by filter array:\n",
            "[6.12745098e-03-3.73832909e-16j 1.96078431e-02-3.42802840e-16j\n",
            " 4.16666667e-02-2.85235001e-16j 7.35294118e-02-2.26835956e-16j\n",
            " 1.06617647e-01-1.76125454e-16j 1.42156863e-01-1.15961743e-16j\n",
            " 1.81372549e-01-4.76775028e-17j 2.25490196e-01-6.20607839e-17j\n",
            " 2.14460784e-01+3.06168265e-16j 1.86274510e-01+2.39543094e-16j\n",
            " 1.39705882e-01+1.25354760e-16j 7.35294118e-02+7.22774922e-17j\n",
            " 7.47549020e-02+1.49789679e-16j 6.37254902e-02+4.13411290e-17j\n",
            " 3.92156863e-02+3.61866597e-16j 1.38777878e-17+5.43268031e-17j]\n"
          ]
        }
      ]
    },
    {
      "cell_type": "code",
      "source": [
        "traces = []\n",
        "traces.append(go.Scatter(y=array1, name=\"input signal\"))\n",
        "traces.append(go.Scatter(y=np.real(final_result)*np.sqrt(len(array1)), name=\"quantum filtered signal\")) # explain why we have 2*sqrt(2) for rescaling here. explain why len[A] is in here????\n",
        "# traces.append(go.Scatter(y=convolution_result, name=\"numpy filtered result\"))\n",
        "fig = go.Figure(traces)\n",
        "fig.show()\n",
        "\n",
        "traces = []\n",
        "traces.append(go.Scatter(y=array1, name=\"input signal\"))\n",
        "# traces.append(go.Scatter(y=np.real(final_result)*len(A)*2*np.sqrt(2), name=\"quantum filtered signal\"))\n",
        "traces.append(go.Scatter(y=convolution_result[:len(array1)], name=\"numpy filtered result\"))\n",
        "fig = go.Figure(traces)\n",
        "fig.show()\n",
        "\n",
        "traces = []\n",
        "# traces.append(go.Scatter(y=array1, name=\"input signal\"))\n",
        "traces.append(go.Scatter(y=np.real(final_result)*np.sqrt(len(array1)), name=\"quantum filtered signal\"))\n",
        "traces.append(go.Scatter(y=convolution_result, name=\"numpy filtered result\"))\n",
        "fig = go.Figure(traces)\n",
        "fig.show()"
      ],
      "metadata": {
        "id": "YKd8TsBngHqa",
        "colab": {
          "base_uri": "https://localhost:8080/",
          "height": 1000
        },
        "outputId": "97f4959e-355a-47ec-bfd9-0bf2602d25e7"
      },
      "execution_count": null,
      "outputs": [
        {
          "output_type": "display_data",
          "data": {
            "text/html": [
              "<html>\n",
              "<head><meta charset=\"utf-8\" /></head>\n",
              "<body>\n",
              "    <div>            <script src=\"https://cdnjs.cloudflare.com/ajax/libs/mathjax/2.7.5/MathJax.js?config=TeX-AMS-MML_SVG\"></script><script type=\"text/javascript\">if (window.MathJax && window.MathJax.Hub && window.MathJax.Hub.Config) {window.MathJax.Hub.Config({SVG: {font: \"STIX-Web\"}});}</script>                <script type=\"text/javascript\">window.PlotlyConfig = {MathJaxConfig: 'local'};</script>\n",
              "        <script charset=\"utf-8\" src=\"https://cdn.plot.ly/plotly-2.32.0.min.js\"></script>                <div id=\"ff4fa462-8409-4751-900d-86c1f9f9c250\" class=\"plotly-graph-div\" style=\"height:525px; width:100%;\"></div>            <script type=\"text/javascript\">                                    window.PLOTLYENV=window.PLOTLYENV || {};                                    if (document.getElementById(\"ff4fa462-8409-4751-900d-86c1f9f9c250\")) {                    Plotly.newPlot(                        \"ff4fa462-8409-4751-900d-86c1f9f9c250\",                        [{\"name\":\"input signal\",\"y\":[0.07001400420140048,0.14002800840280097,0.21004201260420147,0.28005601680560194,0.3500700210070024,0.42008402520840293,0.4900980294098034,0.5601120336112039,0.0,0.0,0.0,0.0,0.0,0.0,0.0,0.0],\"type\":\"scatter\"},{\"name\":\"quantum filtered signal\",\"y\":[0.024509803921568263,0.0784313725490196,0.16666666666666705,0.2941176470588241,0.4264705882352947,0.5686274509803929,0.725490196078432,0.9019607843137258,0.8578431372549018,0.745098039215686,0.558823529411764,0.29411764705882326,0.29901960784313864,0.25490196078431343,0.15686274509803988,5.551115123125783e-17],\"type\":\"scatter\"}],                        {\"template\":{\"data\":{\"histogram2dcontour\":[{\"type\":\"histogram2dcontour\",\"colorbar\":{\"outlinewidth\":0,\"ticks\":\"\"},\"colorscale\":[[0.0,\"#0d0887\"],[0.1111111111111111,\"#46039f\"],[0.2222222222222222,\"#7201a8\"],[0.3333333333333333,\"#9c179e\"],[0.4444444444444444,\"#bd3786\"],[0.5555555555555556,\"#d8576b\"],[0.6666666666666666,\"#ed7953\"],[0.7777777777777778,\"#fb9f3a\"],[0.8888888888888888,\"#fdca26\"],[1.0,\"#f0f921\"]]}],\"choropleth\":[{\"type\":\"choropleth\",\"colorbar\":{\"outlinewidth\":0,\"ticks\":\"\"}}],\"histogram2d\":[{\"type\":\"histogram2d\",\"colorbar\":{\"outlinewidth\":0,\"ticks\":\"\"},\"colorscale\":[[0.0,\"#0d0887\"],[0.1111111111111111,\"#46039f\"],[0.2222222222222222,\"#7201a8\"],[0.3333333333333333,\"#9c179e\"],[0.4444444444444444,\"#bd3786\"],[0.5555555555555556,\"#d8576b\"],[0.6666666666666666,\"#ed7953\"],[0.7777777777777778,\"#fb9f3a\"],[0.8888888888888888,\"#fdca26\"],[1.0,\"#f0f921\"]]}],\"heatmap\":[{\"type\":\"heatmap\",\"colorbar\":{\"outlinewidth\":0,\"ticks\":\"\"},\"colorscale\":[[0.0,\"#0d0887\"],[0.1111111111111111,\"#46039f\"],[0.2222222222222222,\"#7201a8\"],[0.3333333333333333,\"#9c179e\"],[0.4444444444444444,\"#bd3786\"],[0.5555555555555556,\"#d8576b\"],[0.6666666666666666,\"#ed7953\"],[0.7777777777777778,\"#fb9f3a\"],[0.8888888888888888,\"#fdca26\"],[1.0,\"#f0f921\"]]}],\"heatmapgl\":[{\"type\":\"heatmapgl\",\"colorbar\":{\"outlinewidth\":0,\"ticks\":\"\"},\"colorscale\":[[0.0,\"#0d0887\"],[0.1111111111111111,\"#46039f\"],[0.2222222222222222,\"#7201a8\"],[0.3333333333333333,\"#9c179e\"],[0.4444444444444444,\"#bd3786\"],[0.5555555555555556,\"#d8576b\"],[0.6666666666666666,\"#ed7953\"],[0.7777777777777778,\"#fb9f3a\"],[0.8888888888888888,\"#fdca26\"],[1.0,\"#f0f921\"]]}],\"contourcarpet\":[{\"type\":\"contourcarpet\",\"colorbar\":{\"outlinewidth\":0,\"ticks\":\"\"}}],\"contour\":[{\"type\":\"contour\",\"colorbar\":{\"outlinewidth\":0,\"ticks\":\"\"},\"colorscale\":[[0.0,\"#0d0887\"],[0.1111111111111111,\"#46039f\"],[0.2222222222222222,\"#7201a8\"],[0.3333333333333333,\"#9c179e\"],[0.4444444444444444,\"#bd3786\"],[0.5555555555555556,\"#d8576b\"],[0.6666666666666666,\"#ed7953\"],[0.7777777777777778,\"#fb9f3a\"],[0.8888888888888888,\"#fdca26\"],[1.0,\"#f0f921\"]]}],\"surface\":[{\"type\":\"surface\",\"colorbar\":{\"outlinewidth\":0,\"ticks\":\"\"},\"colorscale\":[[0.0,\"#0d0887\"],[0.1111111111111111,\"#46039f\"],[0.2222222222222222,\"#7201a8\"],[0.3333333333333333,\"#9c179e\"],[0.4444444444444444,\"#bd3786\"],[0.5555555555555556,\"#d8576b\"],[0.6666666666666666,\"#ed7953\"],[0.7777777777777778,\"#fb9f3a\"],[0.8888888888888888,\"#fdca26\"],[1.0,\"#f0f921\"]]}],\"mesh3d\":[{\"type\":\"mesh3d\",\"colorbar\":{\"outlinewidth\":0,\"ticks\":\"\"}}],\"scatter\":[{\"fillpattern\":{\"fillmode\":\"overlay\",\"size\":10,\"solidity\":0.2},\"type\":\"scatter\"}],\"parcoords\":[{\"type\":\"parcoords\",\"line\":{\"colorbar\":{\"outlinewidth\":0,\"ticks\":\"\"}}}],\"scatterpolargl\":[{\"type\":\"scatterpolargl\",\"marker\":{\"colorbar\":{\"outlinewidth\":0,\"ticks\":\"\"}}}],\"bar\":[{\"error_x\":{\"color\":\"#2a3f5f\"},\"error_y\":{\"color\":\"#2a3f5f\"},\"marker\":{\"line\":{\"color\":\"#E5ECF6\",\"width\":0.5},\"pattern\":{\"fillmode\":\"overlay\",\"size\":10,\"solidity\":0.2}},\"type\":\"bar\"}],\"scattergeo\":[{\"type\":\"scattergeo\",\"marker\":{\"colorbar\":{\"outlinewidth\":0,\"ticks\":\"\"}}}],\"scatterpolar\":[{\"type\":\"scatterpolar\",\"marker\":{\"colorbar\":{\"outlinewidth\":0,\"ticks\":\"\"}}}],\"histogram\":[{\"marker\":{\"pattern\":{\"fillmode\":\"overlay\",\"size\":10,\"solidity\":0.2}},\"type\":\"histogram\"}],\"scattergl\":[{\"type\":\"scattergl\",\"marker\":{\"colorbar\":{\"outlinewidth\":0,\"ticks\":\"\"}}}],\"scatter3d\":[{\"type\":\"scatter3d\",\"line\":{\"colorbar\":{\"outlinewidth\":0,\"ticks\":\"\"}},\"marker\":{\"colorbar\":{\"outlinewidth\":0,\"ticks\":\"\"}}}],\"scattermapbox\":[{\"type\":\"scattermapbox\",\"marker\":{\"colorbar\":{\"outlinewidth\":0,\"ticks\":\"\"}}}],\"scatterternary\":[{\"type\":\"scatterternary\",\"marker\":{\"colorbar\":{\"outlinewidth\":0,\"ticks\":\"\"}}}],\"scattercarpet\":[{\"type\":\"scattercarpet\",\"marker\":{\"colorbar\":{\"outlinewidth\":0,\"ticks\":\"\"}}}],\"carpet\":[{\"aaxis\":{\"endlinecolor\":\"#2a3f5f\",\"gridcolor\":\"white\",\"linecolor\":\"white\",\"minorgridcolor\":\"white\",\"startlinecolor\":\"#2a3f5f\"},\"baxis\":{\"endlinecolor\":\"#2a3f5f\",\"gridcolor\":\"white\",\"linecolor\":\"white\",\"minorgridcolor\":\"white\",\"startlinecolor\":\"#2a3f5f\"},\"type\":\"carpet\"}],\"table\":[{\"cells\":{\"fill\":{\"color\":\"#EBF0F8\"},\"line\":{\"color\":\"white\"}},\"header\":{\"fill\":{\"color\":\"#C8D4E3\"},\"line\":{\"color\":\"white\"}},\"type\":\"table\"}],\"barpolar\":[{\"marker\":{\"line\":{\"color\":\"#E5ECF6\",\"width\":0.5},\"pattern\":{\"fillmode\":\"overlay\",\"size\":10,\"solidity\":0.2}},\"type\":\"barpolar\"}],\"pie\":[{\"automargin\":true,\"type\":\"pie\"}]},\"layout\":{\"autotypenumbers\":\"strict\",\"colorway\":[\"#636efa\",\"#EF553B\",\"#00cc96\",\"#ab63fa\",\"#FFA15A\",\"#19d3f3\",\"#FF6692\",\"#B6E880\",\"#FF97FF\",\"#FECB52\"],\"font\":{\"color\":\"#2a3f5f\"},\"hovermode\":\"closest\",\"hoverlabel\":{\"align\":\"left\"},\"paper_bgcolor\":\"white\",\"plot_bgcolor\":\"#E5ECF6\",\"polar\":{\"bgcolor\":\"#E5ECF6\",\"angularaxis\":{\"gridcolor\":\"white\",\"linecolor\":\"white\",\"ticks\":\"\"},\"radialaxis\":{\"gridcolor\":\"white\",\"linecolor\":\"white\",\"ticks\":\"\"}},\"ternary\":{\"bgcolor\":\"#E5ECF6\",\"aaxis\":{\"gridcolor\":\"white\",\"linecolor\":\"white\",\"ticks\":\"\"},\"baxis\":{\"gridcolor\":\"white\",\"linecolor\":\"white\",\"ticks\":\"\"},\"caxis\":{\"gridcolor\":\"white\",\"linecolor\":\"white\",\"ticks\":\"\"}},\"coloraxis\":{\"colorbar\":{\"outlinewidth\":0,\"ticks\":\"\"}},\"colorscale\":{\"sequential\":[[0.0,\"#0d0887\"],[0.1111111111111111,\"#46039f\"],[0.2222222222222222,\"#7201a8\"],[0.3333333333333333,\"#9c179e\"],[0.4444444444444444,\"#bd3786\"],[0.5555555555555556,\"#d8576b\"],[0.6666666666666666,\"#ed7953\"],[0.7777777777777778,\"#fb9f3a\"],[0.8888888888888888,\"#fdca26\"],[1.0,\"#f0f921\"]],\"sequentialminus\":[[0.0,\"#0d0887\"],[0.1111111111111111,\"#46039f\"],[0.2222222222222222,\"#7201a8\"],[0.3333333333333333,\"#9c179e\"],[0.4444444444444444,\"#bd3786\"],[0.5555555555555556,\"#d8576b\"],[0.6666666666666666,\"#ed7953\"],[0.7777777777777778,\"#fb9f3a\"],[0.8888888888888888,\"#fdca26\"],[1.0,\"#f0f921\"]],\"diverging\":[[0,\"#8e0152\"],[0.1,\"#c51b7d\"],[0.2,\"#de77ae\"],[0.3,\"#f1b6da\"],[0.4,\"#fde0ef\"],[0.5,\"#f7f7f7\"],[0.6,\"#e6f5d0\"],[0.7,\"#b8e186\"],[0.8,\"#7fbc41\"],[0.9,\"#4d9221\"],[1,\"#276419\"]]},\"xaxis\":{\"gridcolor\":\"white\",\"linecolor\":\"white\",\"ticks\":\"\",\"title\":{\"standoff\":15},\"zerolinecolor\":\"white\",\"automargin\":true,\"zerolinewidth\":2},\"yaxis\":{\"gridcolor\":\"white\",\"linecolor\":\"white\",\"ticks\":\"\",\"title\":{\"standoff\":15},\"zerolinecolor\":\"white\",\"automargin\":true,\"zerolinewidth\":2},\"scene\":{\"xaxis\":{\"backgroundcolor\":\"#E5ECF6\",\"gridcolor\":\"white\",\"linecolor\":\"white\",\"showbackground\":true,\"ticks\":\"\",\"zerolinecolor\":\"white\",\"gridwidth\":2},\"yaxis\":{\"backgroundcolor\":\"#E5ECF6\",\"gridcolor\":\"white\",\"linecolor\":\"white\",\"showbackground\":true,\"ticks\":\"\",\"zerolinecolor\":\"white\",\"gridwidth\":2},\"zaxis\":{\"backgroundcolor\":\"#E5ECF6\",\"gridcolor\":\"white\",\"linecolor\":\"white\",\"showbackground\":true,\"ticks\":\"\",\"zerolinecolor\":\"white\",\"gridwidth\":2}},\"shapedefaults\":{\"line\":{\"color\":\"#2a3f5f\"}},\"annotationdefaults\":{\"arrowcolor\":\"#2a3f5f\",\"arrowhead\":0,\"arrowwidth\":1},\"geo\":{\"bgcolor\":\"white\",\"landcolor\":\"#E5ECF6\",\"subunitcolor\":\"white\",\"showland\":true,\"showlakes\":true,\"lakecolor\":\"white\"},\"title\":{\"x\":0.05},\"mapbox\":{\"style\":\"light\"}}}},                        {\"responsive\": true}                    ).then(function(){\n",
              "                            \n",
              "var gd = document.getElementById('ff4fa462-8409-4751-900d-86c1f9f9c250');\n",
              "var x = new MutationObserver(function (mutations, observer) {{\n",
              "        var display = window.getComputedStyle(gd).display;\n",
              "        if (!display || display === 'none') {{\n",
              "            console.log([gd, 'removed!']);\n",
              "            Plotly.purge(gd);\n",
              "            observer.disconnect();\n",
              "        }}\n",
              "}});\n",
              "\n",
              "// Listen for the removal of the full notebook cells\n",
              "var notebookContainer = gd.closest('#notebook-container');\n",
              "if (notebookContainer) {{\n",
              "    x.observe(notebookContainer, {childList: true});\n",
              "}}\n",
              "\n",
              "// Listen for the clearing of the current output cell\n",
              "var outputEl = gd.closest('.output');\n",
              "if (outputEl) {{\n",
              "    x.observe(outputEl, {childList: true});\n",
              "}}\n",
              "\n",
              "                        })                };                            </script>        </div>\n",
              "</body>\n",
              "</html>"
            ]
          },
          "metadata": {}
        },
        {
          "output_type": "display_data",
          "data": {
            "text/html": [
              "<html>\n",
              "<head><meta charset=\"utf-8\" /></head>\n",
              "<body>\n",
              "    <div>            <script src=\"https://cdnjs.cloudflare.com/ajax/libs/mathjax/2.7.5/MathJax.js?config=TeX-AMS-MML_SVG\"></script><script type=\"text/javascript\">if (window.MathJax && window.MathJax.Hub && window.MathJax.Hub.Config) {window.MathJax.Hub.Config({SVG: {font: \"STIX-Web\"}});}</script>                <script type=\"text/javascript\">window.PlotlyConfig = {MathJaxConfig: 'local'};</script>\n",
              "        <script charset=\"utf-8\" src=\"https://cdn.plot.ly/plotly-2.32.0.min.js\"></script>                <div id=\"258ba18f-ccb3-4207-b6e4-74d01c0c2140\" class=\"plotly-graph-div\" style=\"height:525px; width:100%;\"></div>            <script type=\"text/javascript\">                                    window.PLOTLYENV=window.PLOTLYENV || {};                                    if (document.getElementById(\"258ba18f-ccb3-4207-b6e4-74d01c0c2140\")) {                    Plotly.newPlot(                        \"258ba18f-ccb3-4207-b6e4-74d01c0c2140\",                        [{\"name\":\"input signal\",\"y\":[0.07001400420140048,0.14002800840280097,0.21004201260420147,0.28005601680560194,0.3500700210070024,0.42008402520840293,0.4900980294098034,0.5601120336112039,0.0,0.0,0.0,0.0,0.0,0.0,0.0,0.0],\"type\":\"scatter\"},{\"name\":\"numpy filtered result\",\"y\":[0.024509803921568624,0.07843137254901959,0.16666666666666663,0.2941176470588235,0.42647058823529405,0.5686274509803921,0.7254901960784312,0.9019607843137254,0.8578431372549019,0.7450980392156862,0.5588235294117646,0.2941176470588235,0.29901960784313725,0.2549019607843137,0.15686274509803919,0.0],\"type\":\"scatter\"}],                        {\"template\":{\"data\":{\"histogram2dcontour\":[{\"type\":\"histogram2dcontour\",\"colorbar\":{\"outlinewidth\":0,\"ticks\":\"\"},\"colorscale\":[[0.0,\"#0d0887\"],[0.1111111111111111,\"#46039f\"],[0.2222222222222222,\"#7201a8\"],[0.3333333333333333,\"#9c179e\"],[0.4444444444444444,\"#bd3786\"],[0.5555555555555556,\"#d8576b\"],[0.6666666666666666,\"#ed7953\"],[0.7777777777777778,\"#fb9f3a\"],[0.8888888888888888,\"#fdca26\"],[1.0,\"#f0f921\"]]}],\"choropleth\":[{\"type\":\"choropleth\",\"colorbar\":{\"outlinewidth\":0,\"ticks\":\"\"}}],\"histogram2d\":[{\"type\":\"histogram2d\",\"colorbar\":{\"outlinewidth\":0,\"ticks\":\"\"},\"colorscale\":[[0.0,\"#0d0887\"],[0.1111111111111111,\"#46039f\"],[0.2222222222222222,\"#7201a8\"],[0.3333333333333333,\"#9c179e\"],[0.4444444444444444,\"#bd3786\"],[0.5555555555555556,\"#d8576b\"],[0.6666666666666666,\"#ed7953\"],[0.7777777777777778,\"#fb9f3a\"],[0.8888888888888888,\"#fdca26\"],[1.0,\"#f0f921\"]]}],\"heatmap\":[{\"type\":\"heatmap\",\"colorbar\":{\"outlinewidth\":0,\"ticks\":\"\"},\"colorscale\":[[0.0,\"#0d0887\"],[0.1111111111111111,\"#46039f\"],[0.2222222222222222,\"#7201a8\"],[0.3333333333333333,\"#9c179e\"],[0.4444444444444444,\"#bd3786\"],[0.5555555555555556,\"#d8576b\"],[0.6666666666666666,\"#ed7953\"],[0.7777777777777778,\"#fb9f3a\"],[0.8888888888888888,\"#fdca26\"],[1.0,\"#f0f921\"]]}],\"heatmapgl\":[{\"type\":\"heatmapgl\",\"colorbar\":{\"outlinewidth\":0,\"ticks\":\"\"},\"colorscale\":[[0.0,\"#0d0887\"],[0.1111111111111111,\"#46039f\"],[0.2222222222222222,\"#7201a8\"],[0.3333333333333333,\"#9c179e\"],[0.4444444444444444,\"#bd3786\"],[0.5555555555555556,\"#d8576b\"],[0.6666666666666666,\"#ed7953\"],[0.7777777777777778,\"#fb9f3a\"],[0.8888888888888888,\"#fdca26\"],[1.0,\"#f0f921\"]]}],\"contourcarpet\":[{\"type\":\"contourcarpet\",\"colorbar\":{\"outlinewidth\":0,\"ticks\":\"\"}}],\"contour\":[{\"type\":\"contour\",\"colorbar\":{\"outlinewidth\":0,\"ticks\":\"\"},\"colorscale\":[[0.0,\"#0d0887\"],[0.1111111111111111,\"#46039f\"],[0.2222222222222222,\"#7201a8\"],[0.3333333333333333,\"#9c179e\"],[0.4444444444444444,\"#bd3786\"],[0.5555555555555556,\"#d8576b\"],[0.6666666666666666,\"#ed7953\"],[0.7777777777777778,\"#fb9f3a\"],[0.8888888888888888,\"#fdca26\"],[1.0,\"#f0f921\"]]}],\"surface\":[{\"type\":\"surface\",\"colorbar\":{\"outlinewidth\":0,\"ticks\":\"\"},\"colorscale\":[[0.0,\"#0d0887\"],[0.1111111111111111,\"#46039f\"],[0.2222222222222222,\"#7201a8\"],[0.3333333333333333,\"#9c179e\"],[0.4444444444444444,\"#bd3786\"],[0.5555555555555556,\"#d8576b\"],[0.6666666666666666,\"#ed7953\"],[0.7777777777777778,\"#fb9f3a\"],[0.8888888888888888,\"#fdca26\"],[1.0,\"#f0f921\"]]}],\"mesh3d\":[{\"type\":\"mesh3d\",\"colorbar\":{\"outlinewidth\":0,\"ticks\":\"\"}}],\"scatter\":[{\"fillpattern\":{\"fillmode\":\"overlay\",\"size\":10,\"solidity\":0.2},\"type\":\"scatter\"}],\"parcoords\":[{\"type\":\"parcoords\",\"line\":{\"colorbar\":{\"outlinewidth\":0,\"ticks\":\"\"}}}],\"scatterpolargl\":[{\"type\":\"scatterpolargl\",\"marker\":{\"colorbar\":{\"outlinewidth\":0,\"ticks\":\"\"}}}],\"bar\":[{\"error_x\":{\"color\":\"#2a3f5f\"},\"error_y\":{\"color\":\"#2a3f5f\"},\"marker\":{\"line\":{\"color\":\"#E5ECF6\",\"width\":0.5},\"pattern\":{\"fillmode\":\"overlay\",\"size\":10,\"solidity\":0.2}},\"type\":\"bar\"}],\"scattergeo\":[{\"type\":\"scattergeo\",\"marker\":{\"colorbar\":{\"outlinewidth\":0,\"ticks\":\"\"}}}],\"scatterpolar\":[{\"type\":\"scatterpolar\",\"marker\":{\"colorbar\":{\"outlinewidth\":0,\"ticks\":\"\"}}}],\"histogram\":[{\"marker\":{\"pattern\":{\"fillmode\":\"overlay\",\"size\":10,\"solidity\":0.2}},\"type\":\"histogram\"}],\"scattergl\":[{\"type\":\"scattergl\",\"marker\":{\"colorbar\":{\"outlinewidth\":0,\"ticks\":\"\"}}}],\"scatter3d\":[{\"type\":\"scatter3d\",\"line\":{\"colorbar\":{\"outlinewidth\":0,\"ticks\":\"\"}},\"marker\":{\"colorbar\":{\"outlinewidth\":0,\"ticks\":\"\"}}}],\"scattermapbox\":[{\"type\":\"scattermapbox\",\"marker\":{\"colorbar\":{\"outlinewidth\":0,\"ticks\":\"\"}}}],\"scatterternary\":[{\"type\":\"scatterternary\",\"marker\":{\"colorbar\":{\"outlinewidth\":0,\"ticks\":\"\"}}}],\"scattercarpet\":[{\"type\":\"scattercarpet\",\"marker\":{\"colorbar\":{\"outlinewidth\":0,\"ticks\":\"\"}}}],\"carpet\":[{\"aaxis\":{\"endlinecolor\":\"#2a3f5f\",\"gridcolor\":\"white\",\"linecolor\":\"white\",\"minorgridcolor\":\"white\",\"startlinecolor\":\"#2a3f5f\"},\"baxis\":{\"endlinecolor\":\"#2a3f5f\",\"gridcolor\":\"white\",\"linecolor\":\"white\",\"minorgridcolor\":\"white\",\"startlinecolor\":\"#2a3f5f\"},\"type\":\"carpet\"}],\"table\":[{\"cells\":{\"fill\":{\"color\":\"#EBF0F8\"},\"line\":{\"color\":\"white\"}},\"header\":{\"fill\":{\"color\":\"#C8D4E3\"},\"line\":{\"color\":\"white\"}},\"type\":\"table\"}],\"barpolar\":[{\"marker\":{\"line\":{\"color\":\"#E5ECF6\",\"width\":0.5},\"pattern\":{\"fillmode\":\"overlay\",\"size\":10,\"solidity\":0.2}},\"type\":\"barpolar\"}],\"pie\":[{\"automargin\":true,\"type\":\"pie\"}]},\"layout\":{\"autotypenumbers\":\"strict\",\"colorway\":[\"#636efa\",\"#EF553B\",\"#00cc96\",\"#ab63fa\",\"#FFA15A\",\"#19d3f3\",\"#FF6692\",\"#B6E880\",\"#FF97FF\",\"#FECB52\"],\"font\":{\"color\":\"#2a3f5f\"},\"hovermode\":\"closest\",\"hoverlabel\":{\"align\":\"left\"},\"paper_bgcolor\":\"white\",\"plot_bgcolor\":\"#E5ECF6\",\"polar\":{\"bgcolor\":\"#E5ECF6\",\"angularaxis\":{\"gridcolor\":\"white\",\"linecolor\":\"white\",\"ticks\":\"\"},\"radialaxis\":{\"gridcolor\":\"white\",\"linecolor\":\"white\",\"ticks\":\"\"}},\"ternary\":{\"bgcolor\":\"#E5ECF6\",\"aaxis\":{\"gridcolor\":\"white\",\"linecolor\":\"white\",\"ticks\":\"\"},\"baxis\":{\"gridcolor\":\"white\",\"linecolor\":\"white\",\"ticks\":\"\"},\"caxis\":{\"gridcolor\":\"white\",\"linecolor\":\"white\",\"ticks\":\"\"}},\"coloraxis\":{\"colorbar\":{\"outlinewidth\":0,\"ticks\":\"\"}},\"colorscale\":{\"sequential\":[[0.0,\"#0d0887\"],[0.1111111111111111,\"#46039f\"],[0.2222222222222222,\"#7201a8\"],[0.3333333333333333,\"#9c179e\"],[0.4444444444444444,\"#bd3786\"],[0.5555555555555556,\"#d8576b\"],[0.6666666666666666,\"#ed7953\"],[0.7777777777777778,\"#fb9f3a\"],[0.8888888888888888,\"#fdca26\"],[1.0,\"#f0f921\"]],\"sequentialminus\":[[0.0,\"#0d0887\"],[0.1111111111111111,\"#46039f\"],[0.2222222222222222,\"#7201a8\"],[0.3333333333333333,\"#9c179e\"],[0.4444444444444444,\"#bd3786\"],[0.5555555555555556,\"#d8576b\"],[0.6666666666666666,\"#ed7953\"],[0.7777777777777778,\"#fb9f3a\"],[0.8888888888888888,\"#fdca26\"],[1.0,\"#f0f921\"]],\"diverging\":[[0,\"#8e0152\"],[0.1,\"#c51b7d\"],[0.2,\"#de77ae\"],[0.3,\"#f1b6da\"],[0.4,\"#fde0ef\"],[0.5,\"#f7f7f7\"],[0.6,\"#e6f5d0\"],[0.7,\"#b8e186\"],[0.8,\"#7fbc41\"],[0.9,\"#4d9221\"],[1,\"#276419\"]]},\"xaxis\":{\"gridcolor\":\"white\",\"linecolor\":\"white\",\"ticks\":\"\",\"title\":{\"standoff\":15},\"zerolinecolor\":\"white\",\"automargin\":true,\"zerolinewidth\":2},\"yaxis\":{\"gridcolor\":\"white\",\"linecolor\":\"white\",\"ticks\":\"\",\"title\":{\"standoff\":15},\"zerolinecolor\":\"white\",\"automargin\":true,\"zerolinewidth\":2},\"scene\":{\"xaxis\":{\"backgroundcolor\":\"#E5ECF6\",\"gridcolor\":\"white\",\"linecolor\":\"white\",\"showbackground\":true,\"ticks\":\"\",\"zerolinecolor\":\"white\",\"gridwidth\":2},\"yaxis\":{\"backgroundcolor\":\"#E5ECF6\",\"gridcolor\":\"white\",\"linecolor\":\"white\",\"showbackground\":true,\"ticks\":\"\",\"zerolinecolor\":\"white\",\"gridwidth\":2},\"zaxis\":{\"backgroundcolor\":\"#E5ECF6\",\"gridcolor\":\"white\",\"linecolor\":\"white\",\"showbackground\":true,\"ticks\":\"\",\"zerolinecolor\":\"white\",\"gridwidth\":2}},\"shapedefaults\":{\"line\":{\"color\":\"#2a3f5f\"}},\"annotationdefaults\":{\"arrowcolor\":\"#2a3f5f\",\"arrowhead\":0,\"arrowwidth\":1},\"geo\":{\"bgcolor\":\"white\",\"landcolor\":\"#E5ECF6\",\"subunitcolor\":\"white\",\"showland\":true,\"showlakes\":true,\"lakecolor\":\"white\"},\"title\":{\"x\":0.05},\"mapbox\":{\"style\":\"light\"}}}},                        {\"responsive\": true}                    ).then(function(){\n",
              "                            \n",
              "var gd = document.getElementById('258ba18f-ccb3-4207-b6e4-74d01c0c2140');\n",
              "var x = new MutationObserver(function (mutations, observer) {{\n",
              "        var display = window.getComputedStyle(gd).display;\n",
              "        if (!display || display === 'none') {{\n",
              "            console.log([gd, 'removed!']);\n",
              "            Plotly.purge(gd);\n",
              "            observer.disconnect();\n",
              "        }}\n",
              "}});\n",
              "\n",
              "// Listen for the removal of the full notebook cells\n",
              "var notebookContainer = gd.closest('#notebook-container');\n",
              "if (notebookContainer) {{\n",
              "    x.observe(notebookContainer, {childList: true});\n",
              "}}\n",
              "\n",
              "// Listen for the clearing of the current output cell\n",
              "var outputEl = gd.closest('.output');\n",
              "if (outputEl) {{\n",
              "    x.observe(outputEl, {childList: true});\n",
              "}}\n",
              "\n",
              "                        })                };                            </script>        </div>\n",
              "</body>\n",
              "</html>"
            ]
          },
          "metadata": {}
        },
        {
          "output_type": "display_data",
          "data": {
            "text/html": [
              "<html>\n",
              "<head><meta charset=\"utf-8\" /></head>\n",
              "<body>\n",
              "    <div>            <script src=\"https://cdnjs.cloudflare.com/ajax/libs/mathjax/2.7.5/MathJax.js?config=TeX-AMS-MML_SVG\"></script><script type=\"text/javascript\">if (window.MathJax && window.MathJax.Hub && window.MathJax.Hub.Config) {window.MathJax.Hub.Config({SVG: {font: \"STIX-Web\"}});}</script>                <script type=\"text/javascript\">window.PlotlyConfig = {MathJaxConfig: 'local'};</script>\n",
              "        <script charset=\"utf-8\" src=\"https://cdn.plot.ly/plotly-2.32.0.min.js\"></script>                <div id=\"ca683fa4-98eb-43f3-822a-576920d5ffe2\" class=\"plotly-graph-div\" style=\"height:525px; width:100%;\"></div>            <script type=\"text/javascript\">                                    window.PLOTLYENV=window.PLOTLYENV || {};                                    if (document.getElementById(\"ca683fa4-98eb-43f3-822a-576920d5ffe2\")) {                    Plotly.newPlot(                        \"ca683fa4-98eb-43f3-822a-576920d5ffe2\",                        [{\"name\":\"quantum filtered signal\",\"y\":[0.024509803921568263,0.0784313725490196,0.16666666666666705,0.2941176470588241,0.4264705882352947,0.5686274509803929,0.725490196078432,0.9019607843137258,0.8578431372549018,0.745098039215686,0.558823529411764,0.29411764705882326,0.29901960784313864,0.25490196078431343,0.15686274509803988,5.551115123125783e-17],\"type\":\"scatter\"},{\"name\":\"numpy filtered result\",\"y\":[0.024509803921568624,0.07843137254901959,0.16666666666666663,0.2941176470588235,0.42647058823529405,0.5686274509803921,0.7254901960784312,0.9019607843137254,0.8578431372549019,0.7450980392156862,0.5588235294117646,0.2941176470588235,0.29901960784313725,0.2549019607843137,0.15686274509803919,0.0,0.0,0.0,0.0,0.0,0.0,0.0,0.0,0.0,0.0,0.0,0.0,0.0,0.0,0.0,0.0],\"type\":\"scatter\"}],                        {\"template\":{\"data\":{\"histogram2dcontour\":[{\"type\":\"histogram2dcontour\",\"colorbar\":{\"outlinewidth\":0,\"ticks\":\"\"},\"colorscale\":[[0.0,\"#0d0887\"],[0.1111111111111111,\"#46039f\"],[0.2222222222222222,\"#7201a8\"],[0.3333333333333333,\"#9c179e\"],[0.4444444444444444,\"#bd3786\"],[0.5555555555555556,\"#d8576b\"],[0.6666666666666666,\"#ed7953\"],[0.7777777777777778,\"#fb9f3a\"],[0.8888888888888888,\"#fdca26\"],[1.0,\"#f0f921\"]]}],\"choropleth\":[{\"type\":\"choropleth\",\"colorbar\":{\"outlinewidth\":0,\"ticks\":\"\"}}],\"histogram2d\":[{\"type\":\"histogram2d\",\"colorbar\":{\"outlinewidth\":0,\"ticks\":\"\"},\"colorscale\":[[0.0,\"#0d0887\"],[0.1111111111111111,\"#46039f\"],[0.2222222222222222,\"#7201a8\"],[0.3333333333333333,\"#9c179e\"],[0.4444444444444444,\"#bd3786\"],[0.5555555555555556,\"#d8576b\"],[0.6666666666666666,\"#ed7953\"],[0.7777777777777778,\"#fb9f3a\"],[0.8888888888888888,\"#fdca26\"],[1.0,\"#f0f921\"]]}],\"heatmap\":[{\"type\":\"heatmap\",\"colorbar\":{\"outlinewidth\":0,\"ticks\":\"\"},\"colorscale\":[[0.0,\"#0d0887\"],[0.1111111111111111,\"#46039f\"],[0.2222222222222222,\"#7201a8\"],[0.3333333333333333,\"#9c179e\"],[0.4444444444444444,\"#bd3786\"],[0.5555555555555556,\"#d8576b\"],[0.6666666666666666,\"#ed7953\"],[0.7777777777777778,\"#fb9f3a\"],[0.8888888888888888,\"#fdca26\"],[1.0,\"#f0f921\"]]}],\"heatmapgl\":[{\"type\":\"heatmapgl\",\"colorbar\":{\"outlinewidth\":0,\"ticks\":\"\"},\"colorscale\":[[0.0,\"#0d0887\"],[0.1111111111111111,\"#46039f\"],[0.2222222222222222,\"#7201a8\"],[0.3333333333333333,\"#9c179e\"],[0.4444444444444444,\"#bd3786\"],[0.5555555555555556,\"#d8576b\"],[0.6666666666666666,\"#ed7953\"],[0.7777777777777778,\"#fb9f3a\"],[0.8888888888888888,\"#fdca26\"],[1.0,\"#f0f921\"]]}],\"contourcarpet\":[{\"type\":\"contourcarpet\",\"colorbar\":{\"outlinewidth\":0,\"ticks\":\"\"}}],\"contour\":[{\"type\":\"contour\",\"colorbar\":{\"outlinewidth\":0,\"ticks\":\"\"},\"colorscale\":[[0.0,\"#0d0887\"],[0.1111111111111111,\"#46039f\"],[0.2222222222222222,\"#7201a8\"],[0.3333333333333333,\"#9c179e\"],[0.4444444444444444,\"#bd3786\"],[0.5555555555555556,\"#d8576b\"],[0.6666666666666666,\"#ed7953\"],[0.7777777777777778,\"#fb9f3a\"],[0.8888888888888888,\"#fdca26\"],[1.0,\"#f0f921\"]]}],\"surface\":[{\"type\":\"surface\",\"colorbar\":{\"outlinewidth\":0,\"ticks\":\"\"},\"colorscale\":[[0.0,\"#0d0887\"],[0.1111111111111111,\"#46039f\"],[0.2222222222222222,\"#7201a8\"],[0.3333333333333333,\"#9c179e\"],[0.4444444444444444,\"#bd3786\"],[0.5555555555555556,\"#d8576b\"],[0.6666666666666666,\"#ed7953\"],[0.7777777777777778,\"#fb9f3a\"],[0.8888888888888888,\"#fdca26\"],[1.0,\"#f0f921\"]]}],\"mesh3d\":[{\"type\":\"mesh3d\",\"colorbar\":{\"outlinewidth\":0,\"ticks\":\"\"}}],\"scatter\":[{\"fillpattern\":{\"fillmode\":\"overlay\",\"size\":10,\"solidity\":0.2},\"type\":\"scatter\"}],\"parcoords\":[{\"type\":\"parcoords\",\"line\":{\"colorbar\":{\"outlinewidth\":0,\"ticks\":\"\"}}}],\"scatterpolargl\":[{\"type\":\"scatterpolargl\",\"marker\":{\"colorbar\":{\"outlinewidth\":0,\"ticks\":\"\"}}}],\"bar\":[{\"error_x\":{\"color\":\"#2a3f5f\"},\"error_y\":{\"color\":\"#2a3f5f\"},\"marker\":{\"line\":{\"color\":\"#E5ECF6\",\"width\":0.5},\"pattern\":{\"fillmode\":\"overlay\",\"size\":10,\"solidity\":0.2}},\"type\":\"bar\"}],\"scattergeo\":[{\"type\":\"scattergeo\",\"marker\":{\"colorbar\":{\"outlinewidth\":0,\"ticks\":\"\"}}}],\"scatterpolar\":[{\"type\":\"scatterpolar\",\"marker\":{\"colorbar\":{\"outlinewidth\":0,\"ticks\":\"\"}}}],\"histogram\":[{\"marker\":{\"pattern\":{\"fillmode\":\"overlay\",\"size\":10,\"solidity\":0.2}},\"type\":\"histogram\"}],\"scattergl\":[{\"type\":\"scattergl\",\"marker\":{\"colorbar\":{\"outlinewidth\":0,\"ticks\":\"\"}}}],\"scatter3d\":[{\"type\":\"scatter3d\",\"line\":{\"colorbar\":{\"outlinewidth\":0,\"ticks\":\"\"}},\"marker\":{\"colorbar\":{\"outlinewidth\":0,\"ticks\":\"\"}}}],\"scattermapbox\":[{\"type\":\"scattermapbox\",\"marker\":{\"colorbar\":{\"outlinewidth\":0,\"ticks\":\"\"}}}],\"scatterternary\":[{\"type\":\"scatterternary\",\"marker\":{\"colorbar\":{\"outlinewidth\":0,\"ticks\":\"\"}}}],\"scattercarpet\":[{\"type\":\"scattercarpet\",\"marker\":{\"colorbar\":{\"outlinewidth\":0,\"ticks\":\"\"}}}],\"carpet\":[{\"aaxis\":{\"endlinecolor\":\"#2a3f5f\",\"gridcolor\":\"white\",\"linecolor\":\"white\",\"minorgridcolor\":\"white\",\"startlinecolor\":\"#2a3f5f\"},\"baxis\":{\"endlinecolor\":\"#2a3f5f\",\"gridcolor\":\"white\",\"linecolor\":\"white\",\"minorgridcolor\":\"white\",\"startlinecolor\":\"#2a3f5f\"},\"type\":\"carpet\"}],\"table\":[{\"cells\":{\"fill\":{\"color\":\"#EBF0F8\"},\"line\":{\"color\":\"white\"}},\"header\":{\"fill\":{\"color\":\"#C8D4E3\"},\"line\":{\"color\":\"white\"}},\"type\":\"table\"}],\"barpolar\":[{\"marker\":{\"line\":{\"color\":\"#E5ECF6\",\"width\":0.5},\"pattern\":{\"fillmode\":\"overlay\",\"size\":10,\"solidity\":0.2}},\"type\":\"barpolar\"}],\"pie\":[{\"automargin\":true,\"type\":\"pie\"}]},\"layout\":{\"autotypenumbers\":\"strict\",\"colorway\":[\"#636efa\",\"#EF553B\",\"#00cc96\",\"#ab63fa\",\"#FFA15A\",\"#19d3f3\",\"#FF6692\",\"#B6E880\",\"#FF97FF\",\"#FECB52\"],\"font\":{\"color\":\"#2a3f5f\"},\"hovermode\":\"closest\",\"hoverlabel\":{\"align\":\"left\"},\"paper_bgcolor\":\"white\",\"plot_bgcolor\":\"#E5ECF6\",\"polar\":{\"bgcolor\":\"#E5ECF6\",\"angularaxis\":{\"gridcolor\":\"white\",\"linecolor\":\"white\",\"ticks\":\"\"},\"radialaxis\":{\"gridcolor\":\"white\",\"linecolor\":\"white\",\"ticks\":\"\"}},\"ternary\":{\"bgcolor\":\"#E5ECF6\",\"aaxis\":{\"gridcolor\":\"white\",\"linecolor\":\"white\",\"ticks\":\"\"},\"baxis\":{\"gridcolor\":\"white\",\"linecolor\":\"white\",\"ticks\":\"\"},\"caxis\":{\"gridcolor\":\"white\",\"linecolor\":\"white\",\"ticks\":\"\"}},\"coloraxis\":{\"colorbar\":{\"outlinewidth\":0,\"ticks\":\"\"}},\"colorscale\":{\"sequential\":[[0.0,\"#0d0887\"],[0.1111111111111111,\"#46039f\"],[0.2222222222222222,\"#7201a8\"],[0.3333333333333333,\"#9c179e\"],[0.4444444444444444,\"#bd3786\"],[0.5555555555555556,\"#d8576b\"],[0.6666666666666666,\"#ed7953\"],[0.7777777777777778,\"#fb9f3a\"],[0.8888888888888888,\"#fdca26\"],[1.0,\"#f0f921\"]],\"sequentialminus\":[[0.0,\"#0d0887\"],[0.1111111111111111,\"#46039f\"],[0.2222222222222222,\"#7201a8\"],[0.3333333333333333,\"#9c179e\"],[0.4444444444444444,\"#bd3786\"],[0.5555555555555556,\"#d8576b\"],[0.6666666666666666,\"#ed7953\"],[0.7777777777777778,\"#fb9f3a\"],[0.8888888888888888,\"#fdca26\"],[1.0,\"#f0f921\"]],\"diverging\":[[0,\"#8e0152\"],[0.1,\"#c51b7d\"],[0.2,\"#de77ae\"],[0.3,\"#f1b6da\"],[0.4,\"#fde0ef\"],[0.5,\"#f7f7f7\"],[0.6,\"#e6f5d0\"],[0.7,\"#b8e186\"],[0.8,\"#7fbc41\"],[0.9,\"#4d9221\"],[1,\"#276419\"]]},\"xaxis\":{\"gridcolor\":\"white\",\"linecolor\":\"white\",\"ticks\":\"\",\"title\":{\"standoff\":15},\"zerolinecolor\":\"white\",\"automargin\":true,\"zerolinewidth\":2},\"yaxis\":{\"gridcolor\":\"white\",\"linecolor\":\"white\",\"ticks\":\"\",\"title\":{\"standoff\":15},\"zerolinecolor\":\"white\",\"automargin\":true,\"zerolinewidth\":2},\"scene\":{\"xaxis\":{\"backgroundcolor\":\"#E5ECF6\",\"gridcolor\":\"white\",\"linecolor\":\"white\",\"showbackground\":true,\"ticks\":\"\",\"zerolinecolor\":\"white\",\"gridwidth\":2},\"yaxis\":{\"backgroundcolor\":\"#E5ECF6\",\"gridcolor\":\"white\",\"linecolor\":\"white\",\"showbackground\":true,\"ticks\":\"\",\"zerolinecolor\":\"white\",\"gridwidth\":2},\"zaxis\":{\"backgroundcolor\":\"#E5ECF6\",\"gridcolor\":\"white\",\"linecolor\":\"white\",\"showbackground\":true,\"ticks\":\"\",\"zerolinecolor\":\"white\",\"gridwidth\":2}},\"shapedefaults\":{\"line\":{\"color\":\"#2a3f5f\"}},\"annotationdefaults\":{\"arrowcolor\":\"#2a3f5f\",\"arrowhead\":0,\"arrowwidth\":1},\"geo\":{\"bgcolor\":\"white\",\"landcolor\":\"#E5ECF6\",\"subunitcolor\":\"white\",\"showland\":true,\"showlakes\":true,\"lakecolor\":\"white\"},\"title\":{\"x\":0.05},\"mapbox\":{\"style\":\"light\"}}}},                        {\"responsive\": true}                    ).then(function(){\n",
              "                            \n",
              "var gd = document.getElementById('ca683fa4-98eb-43f3-822a-576920d5ffe2');\n",
              "var x = new MutationObserver(function (mutations, observer) {{\n",
              "        var display = window.getComputedStyle(gd).display;\n",
              "        if (!display || display === 'none') {{\n",
              "            console.log([gd, 'removed!']);\n",
              "            Plotly.purge(gd);\n",
              "            observer.disconnect();\n",
              "        }}\n",
              "}});\n",
              "\n",
              "// Listen for the removal of the full notebook cells\n",
              "var notebookContainer = gd.closest('#notebook-container');\n",
              "if (notebookContainer) {{\n",
              "    x.observe(notebookContainer, {childList: true});\n",
              "}}\n",
              "\n",
              "// Listen for the clearing of the current output cell\n",
              "var outputEl = gd.closest('.output');\n",
              "if (outputEl) {{\n",
              "    x.observe(outputEl, {childList: true});\n",
              "}}\n",
              "\n",
              "                        })                };                            </script>        </div>\n",
              "</body>\n",
              "</html>"
            ]
          },
          "metadata": {}
        }
      ]
    },
    {
      "cell_type": "code",
      "source": [
        "scaling = np.real(final_result*np.sqrt(len(array1)))[:5]/ convolution_result[:5]\n",
        "print(scaling)"
      ],
      "metadata": {
        "id": "J5wXIeYNgWyh",
        "colab": {
          "base_uri": "https://localhost:8080/"
        },
        "outputId": "2fca74fa-0148-41d1-a4d1-bc6ad31fc924"
      },
      "execution_count": null,
      "outputs": [
        {
          "output_type": "stream",
          "name": "stdout",
          "text": [
            "[1. 1. 1. 1. 1.]\n"
          ]
        }
      ]
    },
    {
      "cell_type": "markdown",
      "source": [
        "\n",
        "\n",
        "---\n",
        "\n",
        "\n",
        "\n",
        "---\n",
        "\n",
        "\n",
        "\n",
        "---\n",
        "\n"
      ],
      "metadata": {
        "id": "UOQvMeECDvNF"
      }
    },
    {
      "cell_type": "code",
      "source": [
        "import numpy as np\n",
        "\n",
        "def cnot_matrix(num_qubits, control_qubit, target_qubit):\n",
        "    dim = 2 ** num_qubits\n",
        "    cnot_mat = np.eye(dim, dtype=complex)\n",
        "\n",
        "    for i in range(dim):\n",
        "        binary_state = np.binary_repr(i, width=num_qubits)\n",
        "        control_bit = int(binary_state[control_qubit])\n",
        "        target_bit = int(binary_state[target_qubit])\n",
        "\n",
        "        if control_bit == 1:\n",
        "            flipped_state = binary_state[:target_qubit] + str(1 - target_bit) + binary_state[target_qubit+1:]\n",
        "            flipped_index = int(flipped_state, 2)\n",
        "            cnot_mat[i, i] = 0\n",
        "            cnot_mat[i, flipped_index] = 1\n",
        "\n",
        "    return cnot_mat\n",
        "\n",
        "# Example usage\n",
        "num_qubits = 4\n",
        "control_qubit = 0  # 1st qubit (0-based index)\n",
        "target_qubit = 2   # 3rd qubit (0-based index)\n",
        "\n",
        "cnot_mat = cnot_matrix(num_qubits, control_qubit, target_qubit)\n",
        "print(\"CNOT Matrix for control qubit 0 and target qubit 2:\")\n",
        "print(cnot_mat)\n"
      ],
      "metadata": {
        "colab": {
          "base_uri": "https://localhost:8080/"
        },
        "id": "3dNzgLy5IkRE",
        "outputId": "3e2cca26-aa28-42c0-e7d4-381f85362ec2"
      },
      "execution_count": null,
      "outputs": [
        {
          "output_type": "stream",
          "name": "stdout",
          "text": [
            "CNOT Matrix for control qubit 0 and target qubit 2:\n",
            "[[1.+0.j 0.+0.j 0.+0.j 0.+0.j 0.+0.j 0.+0.j 0.+0.j 0.+0.j 0.+0.j 0.+0.j\n",
            "  0.+0.j 0.+0.j 0.+0.j 0.+0.j 0.+0.j 0.+0.j]\n",
            " [0.+0.j 1.+0.j 0.+0.j 0.+0.j 0.+0.j 0.+0.j 0.+0.j 0.+0.j 0.+0.j 0.+0.j\n",
            "  0.+0.j 0.+0.j 0.+0.j 0.+0.j 0.+0.j 0.+0.j]\n",
            " [0.+0.j 0.+0.j 1.+0.j 0.+0.j 0.+0.j 0.+0.j 0.+0.j 0.+0.j 0.+0.j 0.+0.j\n",
            "  0.+0.j 0.+0.j 0.+0.j 0.+0.j 0.+0.j 0.+0.j]\n",
            " [0.+0.j 0.+0.j 0.+0.j 1.+0.j 0.+0.j 0.+0.j 0.+0.j 0.+0.j 0.+0.j 0.+0.j\n",
            "  0.+0.j 0.+0.j 0.+0.j 0.+0.j 0.+0.j 0.+0.j]\n",
            " [0.+0.j 0.+0.j 0.+0.j 0.+0.j 1.+0.j 0.+0.j 0.+0.j 0.+0.j 0.+0.j 0.+0.j\n",
            "  0.+0.j 0.+0.j 0.+0.j 0.+0.j 0.+0.j 0.+0.j]\n",
            " [0.+0.j 0.+0.j 0.+0.j 0.+0.j 0.+0.j 1.+0.j 0.+0.j 0.+0.j 0.+0.j 0.+0.j\n",
            "  0.+0.j 0.+0.j 0.+0.j 0.+0.j 0.+0.j 0.+0.j]\n",
            " [0.+0.j 0.+0.j 0.+0.j 0.+0.j 0.+0.j 0.+0.j 1.+0.j 0.+0.j 0.+0.j 0.+0.j\n",
            "  0.+0.j 0.+0.j 0.+0.j 0.+0.j 0.+0.j 0.+0.j]\n",
            " [0.+0.j 0.+0.j 0.+0.j 0.+0.j 0.+0.j 0.+0.j 0.+0.j 1.+0.j 0.+0.j 0.+0.j\n",
            "  0.+0.j 0.+0.j 0.+0.j 0.+0.j 0.+0.j 0.+0.j]\n",
            " [0.+0.j 0.+0.j 0.+0.j 0.+0.j 0.+0.j 0.+0.j 0.+0.j 0.+0.j 0.+0.j 0.+0.j\n",
            "  1.+0.j 0.+0.j 0.+0.j 0.+0.j 0.+0.j 0.+0.j]\n",
            " [0.+0.j 0.+0.j 0.+0.j 0.+0.j 0.+0.j 0.+0.j 0.+0.j 0.+0.j 0.+0.j 0.+0.j\n",
            "  0.+0.j 1.+0.j 0.+0.j 0.+0.j 0.+0.j 0.+0.j]\n",
            " [0.+0.j 0.+0.j 0.+0.j 0.+0.j 0.+0.j 0.+0.j 0.+0.j 0.+0.j 1.+0.j 0.+0.j\n",
            "  0.+0.j 0.+0.j 0.+0.j 0.+0.j 0.+0.j 0.+0.j]\n",
            " [0.+0.j 0.+0.j 0.+0.j 0.+0.j 0.+0.j 0.+0.j 0.+0.j 0.+0.j 0.+0.j 1.+0.j\n",
            "  0.+0.j 0.+0.j 0.+0.j 0.+0.j 0.+0.j 0.+0.j]\n",
            " [0.+0.j 0.+0.j 0.+0.j 0.+0.j 0.+0.j 0.+0.j 0.+0.j 0.+0.j 0.+0.j 0.+0.j\n",
            "  0.+0.j 0.+0.j 0.+0.j 0.+0.j 1.+0.j 0.+0.j]\n",
            " [0.+0.j 0.+0.j 0.+0.j 0.+0.j 0.+0.j 0.+0.j 0.+0.j 0.+0.j 0.+0.j 0.+0.j\n",
            "  0.+0.j 0.+0.j 0.+0.j 0.+0.j 0.+0.j 1.+0.j]\n",
            " [0.+0.j 0.+0.j 0.+0.j 0.+0.j 0.+0.j 0.+0.j 0.+0.j 0.+0.j 0.+0.j 0.+0.j\n",
            "  0.+0.j 0.+0.j 1.+0.j 0.+0.j 0.+0.j 0.+0.j]\n",
            " [0.+0.j 0.+0.j 0.+0.j 0.+0.j 0.+0.j 0.+0.j 0.+0.j 0.+0.j 0.+0.j 0.+0.j\n",
            "  0.+0.j 0.+0.j 0.+0.j 1.+0.j 0.+0.j 0.+0.j]]\n"
          ]
        }
      ]
    },
    {
      "cell_type": "code",
      "source": [],
      "metadata": {
        "id": "8brlE85bImpa"
      },
      "execution_count": null,
      "outputs": []
    }
  ]
}