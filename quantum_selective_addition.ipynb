{
  "nbformat": 4,
  "nbformat_minor": 0,
  "metadata": {
    "colab": {
      "provenance": []
    },
    "kernelspec": {
      "name": "python3",
      "display_name": "Python 3"
    },
    "language_info": {
      "name": "python"
    }
  },
  "cells": [
    {
      "cell_type": "code",
      "execution_count": null,
      "metadata": {
        "colab": {
          "base_uri": "https://localhost:8080/"
        },
        "outputId": "e321089f-9eb2-4fe5-8623-b68d04fdb5fc",
        "id": "RKDH3a43bjFT"
      },
      "outputs": [
        {
          "output_type": "stream",
          "name": "stdout",
          "text": [
            "Collecting qiskit\n",
            "  Downloading qiskit-1.2.0-cp38-abi3-manylinux_2_17_x86_64.manylinux2014_x86_64.whl.metadata (12 kB)\n",
            "Collecting rustworkx>=0.15.0 (from qiskit)\n",
            "  Downloading rustworkx-0.15.1-cp38-abi3-manylinux_2_17_x86_64.manylinux2014_x86_64.whl.metadata (9.9 kB)\n",
            "Requirement already satisfied: numpy<3,>=1.17 in /usr/local/lib/python3.10/dist-packages (from qiskit) (1.26.4)\n",
            "Requirement already satisfied: scipy>=1.5 in /usr/local/lib/python3.10/dist-packages (from qiskit) (1.13.1)\n",
            "Requirement already satisfied: sympy>=1.3 in /usr/local/lib/python3.10/dist-packages (from qiskit) (1.13.2)\n",
            "Collecting dill>=0.3 (from qiskit)\n",
            "  Downloading dill-0.3.8-py3-none-any.whl.metadata (10 kB)\n",
            "Requirement already satisfied: python-dateutil>=2.8.0 in /usr/local/lib/python3.10/dist-packages (from qiskit) (2.8.2)\n",
            "Collecting stevedore>=3.0.0 (from qiskit)\n",
            "  Downloading stevedore-5.2.0-py3-none-any.whl.metadata (2.3 kB)\n",
            "Requirement already satisfied: typing-extensions in /usr/local/lib/python3.10/dist-packages (from qiskit) (4.12.2)\n",
            "Collecting symengine>=0.11 (from qiskit)\n",
            "  Downloading symengine-0.11.0-cp310-cp310-manylinux_2_12_x86_64.manylinux2010_x86_64.whl.metadata (1.2 kB)\n",
            "Requirement already satisfied: six>=1.5 in /usr/local/lib/python3.10/dist-packages (from python-dateutil>=2.8.0->qiskit) (1.16.0)\n",
            "Collecting pbr!=2.1.0,>=2.0.0 (from stevedore>=3.0.0->qiskit)\n",
            "  Downloading pbr-6.0.0-py2.py3-none-any.whl.metadata (1.3 kB)\n",
            "Requirement already satisfied: mpmath<1.4,>=1.1.0 in /usr/local/lib/python3.10/dist-packages (from sympy>=1.3->qiskit) (1.3.0)\n",
            "Downloading qiskit-1.2.0-cp38-abi3-manylinux_2_17_x86_64.manylinux2014_x86_64.whl (4.8 MB)\n",
            "\u001b[2K   \u001b[90m━━━━━━━━━━━━━━━━━━━━━━━━━━━━━━━━━━━━━━━━\u001b[0m \u001b[32m4.8/4.8 MB\u001b[0m \u001b[31m14.4 MB/s\u001b[0m eta \u001b[36m0:00:00\u001b[0m\n",
            "\u001b[?25hDownloading dill-0.3.8-py3-none-any.whl (116 kB)\n",
            "\u001b[2K   \u001b[90m━━━━━━━━━━━━━━━━━━━━━━━━━━━━━━━━━━━━━━━━\u001b[0m \u001b[32m116.3/116.3 kB\u001b[0m \u001b[31m5.3 MB/s\u001b[0m eta \u001b[36m0:00:00\u001b[0m\n",
            "\u001b[?25hDownloading rustworkx-0.15.1-cp38-abi3-manylinux_2_17_x86_64.manylinux2014_x86_64.whl (2.0 MB)\n",
            "\u001b[2K   \u001b[90m━━━━━━━━━━━━━━━━━━━━━━━━━━━━━━━━━━━━━━━━\u001b[0m \u001b[32m2.0/2.0 MB\u001b[0m \u001b[31m12.9 MB/s\u001b[0m eta \u001b[36m0:00:00\u001b[0m\n",
            "\u001b[?25hDownloading stevedore-5.2.0-py3-none-any.whl (49 kB)\n",
            "\u001b[2K   \u001b[90m━━━━━━━━━━━━━━━━━━━━━━━━━━━━━━━━━━━━━━━━\u001b[0m \u001b[32m49.7/49.7 kB\u001b[0m \u001b[31m3.1 MB/s\u001b[0m eta \u001b[36m0:00:00\u001b[0m\n",
            "\u001b[?25hDownloading symengine-0.11.0-cp310-cp310-manylinux_2_12_x86_64.manylinux2010_x86_64.whl (39.4 MB)\n",
            "\u001b[2K   \u001b[90m━━━━━━━━━━━━━━━━━━━━━━━━━━━━━━━━━━━━━━━━\u001b[0m \u001b[32m39.4/39.4 MB\u001b[0m \u001b[31m2.6 MB/s\u001b[0m eta \u001b[36m0:00:00\u001b[0m\n",
            "\u001b[?25hDownloading pbr-6.0.0-py2.py3-none-any.whl (107 kB)\n",
            "\u001b[2K   \u001b[90m━━━━━━━━━━━━━━━━━━━━━━━━━━━━━━━━━━━━━━━━\u001b[0m \u001b[32m107.5/107.5 kB\u001b[0m \u001b[31m1.5 MB/s\u001b[0m eta \u001b[36m0:00:00\u001b[0m\n",
            "\u001b[?25hInstalling collected packages: symengine, rustworkx, pbr, dill, stevedore, qiskit\n",
            "Successfully installed dill-0.3.8 pbr-6.0.0 qiskit-1.2.0 rustworkx-0.15.1 stevedore-5.2.0 symengine-0.11.0\n"
          ]
        }
      ],
      "source": [
        "pip install qiskit"
      ]
    },
    {
      "cell_type": "code",
      "execution_count": null,
      "metadata": {
        "colab": {
          "base_uri": "https://localhost:8080/"
        },
        "outputId": "e08afc63-3dbc-4012-96d4-b9328c871bab",
        "id": "jiOYgSd-bjFT"
      },
      "outputs": [
        {
          "output_type": "stream",
          "name": "stdout",
          "text": [
            "Collecting qiskit-aer\n",
            "  Downloading qiskit_aer-0.14.2-cp310-cp310-manylinux_2_17_x86_64.manylinux2014_x86_64.whl.metadata (8.1 kB)\n",
            "Requirement already satisfied: qiskit>=0.45.2 in /usr/local/lib/python3.10/dist-packages (from qiskit-aer) (1.2.0)\n",
            "Requirement already satisfied: numpy>=1.16.3 in /usr/local/lib/python3.10/dist-packages (from qiskit-aer) (1.26.4)\n",
            "Requirement already satisfied: scipy>=1.0 in /usr/local/lib/python3.10/dist-packages (from qiskit-aer) (1.13.1)\n",
            "Requirement already satisfied: psutil>=5 in /usr/local/lib/python3.10/dist-packages (from qiskit-aer) (5.9.5)\n",
            "Requirement already satisfied: rustworkx>=0.15.0 in /usr/local/lib/python3.10/dist-packages (from qiskit>=0.45.2->qiskit-aer) (0.15.1)\n",
            "Requirement already satisfied: sympy>=1.3 in /usr/local/lib/python3.10/dist-packages (from qiskit>=0.45.2->qiskit-aer) (1.13.2)\n",
            "Requirement already satisfied: dill>=0.3 in /usr/local/lib/python3.10/dist-packages (from qiskit>=0.45.2->qiskit-aer) (0.3.8)\n",
            "Requirement already satisfied: python-dateutil>=2.8.0 in /usr/local/lib/python3.10/dist-packages (from qiskit>=0.45.2->qiskit-aer) (2.8.2)\n",
            "Requirement already satisfied: stevedore>=3.0.0 in /usr/local/lib/python3.10/dist-packages (from qiskit>=0.45.2->qiskit-aer) (5.2.0)\n",
            "Requirement already satisfied: typing-extensions in /usr/local/lib/python3.10/dist-packages (from qiskit>=0.45.2->qiskit-aer) (4.12.2)\n",
            "Requirement already satisfied: symengine>=0.11 in /usr/local/lib/python3.10/dist-packages (from qiskit>=0.45.2->qiskit-aer) (0.11.0)\n",
            "Requirement already satisfied: six>=1.5 in /usr/local/lib/python3.10/dist-packages (from python-dateutil>=2.8.0->qiskit>=0.45.2->qiskit-aer) (1.16.0)\n",
            "Requirement already satisfied: pbr!=2.1.0,>=2.0.0 in /usr/local/lib/python3.10/dist-packages (from stevedore>=3.0.0->qiskit>=0.45.2->qiskit-aer) (6.0.0)\n",
            "Requirement already satisfied: mpmath<1.4,>=1.1.0 in /usr/local/lib/python3.10/dist-packages (from sympy>=1.3->qiskit>=0.45.2->qiskit-aer) (1.3.0)\n",
            "Downloading qiskit_aer-0.14.2-cp310-cp310-manylinux_2_17_x86_64.manylinux2014_x86_64.whl (12.4 MB)\n",
            "\u001b[2K   \u001b[90m━━━━━━━━━━━━━━━━━━━━━━━━━━━━━━━━━━━━━━━━\u001b[0m \u001b[32m12.4/12.4 MB\u001b[0m \u001b[31m38.2 MB/s\u001b[0m eta \u001b[36m0:00:00\u001b[0m\n",
            "\u001b[?25hInstalling collected packages: qiskit-aer\n",
            "Successfully installed qiskit-aer-0.14.2\n"
          ]
        }
      ],
      "source": [
        "pip install qiskit-aer"
      ]
    },
    {
      "cell_type": "code",
      "execution_count": null,
      "metadata": {
        "colab": {
          "base_uri": "https://localhost:8080/"
        },
        "outputId": "74806e46-a63c-4a79-b468-426d77c20223",
        "id": "Om8rHrj3bjFU"
      },
      "outputs": [
        {
          "output_type": "stream",
          "name": "stdout",
          "text": [
            "Collecting pylatexenc\n",
            "  Downloading pylatexenc-2.10.tar.gz (162 kB)\n",
            "\u001b[2K     \u001b[90m━━━━━━━━━━━━━━━━━━━━━━━━━━━━━━━━━━━━━━━━\u001b[0m \u001b[32m162.6/162.6 kB\u001b[0m \u001b[31m1.1 MB/s\u001b[0m eta \u001b[36m0:00:00\u001b[0m\n",
            "\u001b[?25h  Preparing metadata (setup.py) ... \u001b[?25l\u001b[?25hdone\n",
            "Building wheels for collected packages: pylatexenc\n",
            "  Building wheel for pylatexenc (setup.py) ... \u001b[?25l\u001b[?25hdone\n",
            "  Created wheel for pylatexenc: filename=pylatexenc-2.10-py3-none-any.whl size=136817 sha256=6154b19ced6172c2a61ed9b5b930b7fcc68d93a4240895f84d77a2a4f38d30db\n",
            "  Stored in directory: /root/.cache/pip/wheels/d3/31/8b/e09b0386afd80cfc556c00408c9aeea5c35c4d484a9c762fd5\n",
            "Successfully built pylatexenc\n",
            "Installing collected packages: pylatexenc\n",
            "Successfully installed pylatexenc-2.10\n"
          ]
        }
      ],
      "source": [
        "!pip install pylatexenc"
      ]
    },
    {
      "cell_type": "code",
      "execution_count": null,
      "metadata": {
        "id": "Adci_VojbjFU"
      },
      "outputs": [],
      "source": [
        "from qiskit_aer import Aer\n",
        "from qiskit import QuantumCircuit, transpile, assemble\n",
        "from qiskit.quantum_info import Statevector\n",
        "from qiskit.visualization import plot_histogram, plot_bloch_multivector\n",
        "from qiskit.circuit.library import QFT , CCXGate, UnitaryGate\n",
        "import numpy as np\n",
        "import matplotlib.pyplot as plt"
      ]
    },
    {
      "cell_type": "code",
      "source": [
        "vector = [1, 2, 3, 4, 5, 6, 7, 8]\n",
        "\n",
        "vector_norm = np.linalg.norm(vector)\n",
        "normalized_vector = vector / vector_norm\n",
        "\n",
        "print(normalized_vector)\n",
        "print(normalized_vector*vector_norm)"
      ],
      "metadata": {
        "colab": {
          "base_uri": "https://localhost:8080/"
        },
        "id": "vi8Z9qRxmzbA",
        "outputId": "f00901e4-81ac-40ad-8595-32dc0e96bc66"
      },
      "execution_count": null,
      "outputs": [
        {
          "output_type": "stream",
          "name": "stdout",
          "text": [
            "[0.070014   0.14002801 0.21004201 0.28005602 0.35007002 0.42008403\n",
            " 0.49009803 0.56011203]\n",
            "[1. 2. 3. 4. 5. 6. 7. 8.]\n"
          ]
        }
      ]
    },
    {
      "cell_type": "code",
      "source": [
        "# Initialize parameters\n",
        "# window_scaling = 2.0062463823972267\n",
        "# padded_result_coeffs = [2.84459484e-01, -1.60769035e-01, -6.52830735e-01, -1.40302564e-01,\n",
        "#     4.04440838e-01, -5.49152208e-02, -5.29882315e-01,  7.34968555e-16]\n",
        "padded_result_coeffs = normalized_vector\n",
        "\n",
        "num_qubits = int(np.log2(len(padded_result_coeffs)))\n",
        "qc_test = QuantumCircuit(num_qubits + 1, 1)  # Increased from num_qubits*2 to num_qubits*3 for ancilla\n",
        "\n",
        "# Inverted initialization\n",
        "# qc_test.initialize(padded_result_coeffs, range(1,num_qubits+1))\n",
        "qc_test.initialize(padded_result_coeffs, range(0,num_qubits))\n",
        "\n",
        "\n",
        "# qc_test.append(QFT(num_qubits), range(num_qubits))\n",
        "# qc_test.append(QFT(num_qubits), range(num_qubits, 2 * num_qubits))\n",
        "\n",
        "# New code with CCX gates\n",
        "qc_test.barrier()\n",
        "\n",
        "qc_test.cx(2, 3)\n",
        "\n",
        "# Define the original permutation matrix (acts on 3 qubits)\n",
        "# perm_matrix = np.array([\n",
        "#     [1, 0, 0, 0, 0, 0, 0, 0],\n",
        "#     [0, 1, 0, 0, 0, 0, 0, 0],\n",
        "#     [0, 0, 0, 0, 1, 0, 0, 0],\n",
        "#     [0, 0, 0, 0, 0, 1, 0, 0],\n",
        "#     [0, 0, 1, 0, 0, 0, 0, 0],\n",
        "#     [0, 0, 0, 1, 0, 0, 0, 0],\n",
        "#     [0, 0, 0, 0, 0, 0, 1, 0],\n",
        "#     [0, 0, 0, 0, 0, 0, 0, 1]\n",
        "# ])\n",
        "\n",
        "perm_matrix = np.array([\n",
        "    [1, 0, 0, 0, 0, 0, 0, 0],\n",
        "    [0, 1, 0, 0, 0, 0, 0, 0],\n",
        "    [0, 0, 0, 0, 1, 0, 0, 0],\n",
        "    [0, 0, 0, 0, 0, 1, 0, 0],\n",
        "    [0, 0, 0, 0, 0, 0, 1, 0],\n",
        "    [0, 0, 0, 0, 0, 0, 0, 1],\n",
        "    [0, 0, 1, 0, 0, 0, 0, 0],\n",
        "    [0, 0, 0, 1, 0, 0, 0, 0]\n",
        "])  # this is modified version of one before so that the last two coeffcients as well move up two places, this gives a neet output at the end with no zeroes in the middle like was the case with before\n",
        "\n",
        "# Identity matrix for the other qubits\n",
        "identity_matrix = np.eye(8)\n",
        "\n",
        "# Construct the controlled matrix:\n",
        "# Block matrix with identity on top-left and the permutation matrix on bottom-right\n",
        "controlled_perm_matrix = np.block([\n",
        "    [identity_matrix, np.zeros((8, 8))],\n",
        "    [np.zeros((8, 8)), perm_matrix]\n",
        "])\n",
        "\n",
        "# print(\"Controlled Permutation Matrix:\")\n",
        "# print(controlled_perm_matrix)\n",
        "\n",
        "# Create the unitary gate from the permutation matrix\n",
        "unitary_gate = UnitaryGate(controlled_perm_matrix)\n",
        "\n",
        "# Append the controlled gate, with qubit 2 as the control and qubits 0 and 1 as the target\n",
        "qc_test.append(unitary_gate, [0 ,1 ,2, 3])\n",
        "\n",
        "# Draw the circuit\n",
        "qc_test.draw('mpl')\n",
        "\n",
        "# qc_test.append(unitary_gate, [0, 1, 2])"
      ],
      "metadata": {
        "colab": {
          "base_uri": "https://localhost:8080/",
          "height": 384
        },
        "id": "9ZbBlES4b74O",
        "outputId": "34bb6512-e5a6-4f37-e2e7-3dc3d65b2e48"
      },
      "execution_count": null,
      "outputs": [
        {
          "output_type": "execute_result",
          "data": {
            "text/plain": [
              "<Figure size 872.774x451.5 with 1 Axes>"
            ],
            "image/png": "[encoded data removed]"
          },
          "metadata": {},
          "execution_count": 24
        }
      ]
    },
    {
      "cell_type": "code",
      "source": [
        "# Use the Aer's Statevector simulator\n",
        "simulator = Aer.get_backend('statevector_simulator')\n",
        "\n",
        "# Transpile the quantum circuit for the simulator\n",
        "compiled_circuit = transpile(qc_test, simulator)\n",
        "\n",
        "# Run the simulation\n",
        "result = simulator.run(compiled_circuit).result()\n",
        "\n",
        "# Get the final statevector\n",
        "statevector = result.get_statevector()\n",
        "\n",
        "# Print the statevector\n",
        "print(\"Final Statevector:\", statevector)\n",
        "print()\n",
        "# print(\"adjusted Final Statevector:\", np.sqrt(2)*np.abs(statevector))\n",
        "\n",
        "[2.84459484e-01, -1.60769035e-01, -6.52830735e-01, -1.40302564e-01,\n",
        "    4.04440838e-01, -5.49152208e-02, -5.29882315e-01,  7.34968555e-16]"
      ],
      "metadata": {
        "colab": {
          "base_uri": "https://localhost:8080/"
        },
        "id": "skpnhdf1aTKi",
        "outputId": "8b3f0281-3096-43fe-e6e1-726e3eda65c2"
      },
      "execution_count": null,
      "outputs": [
        {
          "output_type": "stream",
          "name": "stdout",
          "text": [
            "Final Statevector: Statevector([0.070014  +0.j, 0.14002801+0.j, 0.21004201+0.j,\n",
            "             0.28005602+0.j, 0.        +0.j, 0.        +0.j,\n",
            "             0.        +0.j, 0.        +0.j, 0.        +0.j,\n",
            "             0.        +0.j, 0.35007002+0.j, 0.42008403+0.j,\n",
            "             0.49009803+0.j, 0.56011203+0.j, 0.        +0.j,\n",
            "             0.        +0.j],\n",
            "            dims=(2, 2, 2, 2))\n",
            "\n"
          ]
        },
        {
          "output_type": "execute_result",
          "data": {
            "text/plain": [
              "[0.284459484,\n",
              " -0.160769035,\n",
              " -0.652830735,\n",
              " -0.140302564,\n",
              " 0.404440838,\n",
              " -0.0549152208,\n",
              " -0.529882315,\n",
              " 7.34968555e-16]"
            ]
          },
          "metadata": {},
          "execution_count": 25
        }
      ]
    },
    {
      "cell_type": "code",
      "source": [
        "qc_test.h(3)\n",
        "qc_test.draw('mpl')"
      ],
      "metadata": {
        "colab": {
          "base_uri": "https://localhost:8080/",
          "height": 384
        },
        "id": "ryk2cg5tavqo",
        "outputId": "80362e55-0c77-4d03-c5f9-e49f7ac0a1e2"
      },
      "execution_count": null,
      "outputs": [
        {
          "output_type": "execute_result",
          "data": {
            "text/plain": [
              "<Figure size 956.385x451.5 with 1 Axes>"
            ],
            "image/png": "[encoded data removed]"
          },
          "metadata": {},
          "execution_count": 26
        }
      ]
    },
    {
      "cell_type": "code",
      "source": [
        "# Use the Aer's Statevector simulator\n",
        "simulator = Aer.get_backend('statevector_simulator')\n",
        "\n",
        "# Transpile the quantum circuit for the simulator\n",
        "compiled_circuit = transpile(qc_test, simulator)\n",
        "\n",
        "# Run the simulation\n",
        "result = simulator.run(compiled_circuit).result()\n",
        "\n",
        "# Get the final statevector\n",
        "statevector = result.get_statevector()\n",
        "\n",
        "# Print the statevector\n",
        "print(\"Final Statevector:\", statevector)\n",
        "print()\n",
        "# print(\"adjusted Final Statevector with abs:\", np.sqrt(2)*np.abs(statevector))\n",
        "# print()\n",
        "print(\"Adjusted Final Statevector [*sqrt(2)]:\", np.sqrt(2)*statevector)\n",
        "print()\n",
        "print(\"Adjusted Final Statevector [*sqrt(2)] with real:\", np.sqrt(2)*np.real(statevector))\n",
        "print()\n",
        "print(\"Adjusted Final Statevector [*vecotr_norm*sqrt(2)] with real:\", vector_norm*np.sqrt(2)*np.real(statevector))\n",
        "print()\n",
        "print(\"Original vecotr:\", vector)\n",
        "print()\n",
        "\n",
        "\n",
        "[2.84459484e-01, -1.60769035e-01, -6.52830735e-01, -1.40302564e-01,\n",
        "    4.04440838e-01, -5.49152208e-02, -5.29882315e-01,  7.34968555e-16]"
      ],
      "metadata": {
        "colab": {
          "base_uri": "https://localhost:8080/"
        },
        "id": "hAbPylAAa0jc",
        "outputId": "87bfa96b-a5da-4a63-9b14-a823d8d95a5e"
      },
      "execution_count": null,
      "outputs": [
        {
          "output_type": "stream",
          "name": "stdout",
          "text": [
            "Final Statevector: Statevector([ 0.04950738+0.00000000e+00j,  0.09901475+0.00000000e+00j,\n",
            "              0.39605902-3.03145255e-17j,  0.49507377-3.63774306e-17j,\n",
            "              0.34655164-4.24403357e-17j,  0.39605902-4.85032408e-17j,\n",
            "              0.        +0.00000000e+00j,  0.        +0.00000000e+00j,\n",
            "              0.04950738+0.00000000e+00j,  0.09901475+0.00000000e+00j,\n",
            "             -0.09901475+3.03145255e-17j, -0.09901475+3.63774306e-17j,\n",
            "             -0.34655164+4.24403357e-17j, -0.39605902+4.85032408e-17j,\n",
            "              0.        +0.00000000e+00j,  0.        +0.00000000e+00j],\n",
            "            dims=(2, 2, 2, 2))\n",
            "\n",
            "Adjusted Final Statevector [*sqrt(2)]: Statevector([ 0.070014  +0.00000000e+00j,  0.14002801+0.00000000e+00j,\n",
            "              0.56011203-4.28712131e-17j,  0.70014004-5.14454557e-17j,\n",
            "              0.49009803-6.00196983e-17j,  0.56011203-6.85939409e-17j,\n",
            "              0.        +0.00000000e+00j,  0.        +0.00000000e+00j,\n",
            "              0.070014  +0.00000000e+00j,  0.14002801+0.00000000e+00j,\n",
            "             -0.14002801+4.28712131e-17j, -0.14002801+5.14454557e-17j,\n",
            "             -0.49009803+6.00196983e-17j, -0.56011203+6.85939409e-17j,\n",
            "              0.        +0.00000000e+00j,  0.        +0.00000000e+00j],\n",
            "            dims=(2, 2, 2, 2))\n",
            "\n",
            "Adjusted Final Statevector [*sqrt(2)] with real: [ 0.070014    0.14002801  0.56011203  0.70014004  0.49009803  0.56011203\n",
            "  0.          0.          0.070014    0.14002801 -0.14002801 -0.14002801\n",
            " -0.49009803 -0.56011203  0.          0.        ]\n",
            "\n",
            "Adjusted Final Statevector [*vecotr_norm*sqrt(2)] with real: [ 1.  2.  8. 10.  7.  8.  0.  0.  1.  2. -2. -2. -7. -8.  0.  0.]\n",
            "\n",
            "Original vecotr: [1, 2, 3, 4, 5, 6, 7, 8]\n",
            "\n"
          ]
        },
        {
          "output_type": "execute_result",
          "data": {
            "text/plain": [
              "[0.284459484,\n",
              " -0.160769035,\n",
              " -0.652830735,\n",
              " -0.140302564,\n",
              " 0.404440838,\n",
              " -0.0549152208,\n",
              " -0.529882315,\n",
              " 7.34968555e-16]"
            ]
          },
          "metadata": {},
          "execution_count": 27
        }
      ]
    },
    {
      "cell_type": "markdown",
      "source": [
        "Check sum and difference with below:\n",
        "\n",
        "sum:\n",
        "\n",
        "-6.52830735e-01 + 4.04440838e-01 = −0.248389897\n",
        "\n",
        "-1.40302564e-01 + -5.49152208e-02 = −0.195217784\n",
        "\n",
        "difference:\n",
        "\n",
        "-6.52830735e-01 - 4.04440838e-01 = −1.057271573\n",
        "\n",
        "-1.40302564e-01 - -5.49152208e-02 = −0.0853873432"
      ],
      "metadata": {
        "id": "SRusaQmycc1B"
      }
    }
  ]
}