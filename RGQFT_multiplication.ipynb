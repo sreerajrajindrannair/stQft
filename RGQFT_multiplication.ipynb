{
  "nbformat": 4,
  "nbformat_minor": 0,
  "metadata": {
    "colab": {
      "provenance": []
    },
    "kernelspec": {
      "name": "python3",
      "display_name": "Python 3"
    },
    "language_info": {
      "name": "python"
    }
  },
  "cells": [
    {
      "cell_type": "code",
      "execution_count": null,
      "metadata": {
        "colab": {
          "base_uri": "https://localhost:8080/"
        },
        "id": "e-m201Dp1TOT",
        "outputId": "ce29def8-0113-4854-df45-587cdb291444"
      },
      "outputs": [
        {
          "output_type": "stream",
          "name": "stdout",
          "text": [
            "Collecting qiskit\n",
            "  Downloading qiskit-1.1.1-cp38-abi3-manylinux_2_17_x86_64.manylinux2014_x86_64.whl.metadata (12 kB)\n",
            "Collecting rustworkx>=0.14.0 (from qiskit)\n",
            "  Downloading rustworkx-0.15.1-cp38-abi3-manylinux_2_17_x86_64.manylinux2014_x86_64.whl.metadata (9.9 kB)\n",
            "Requirement already satisfied: numpy<3,>=1.17 in /usr/local/lib/python3.10/dist-packages (from qiskit) (1.26.4)\n",
            "Requirement already satisfied: scipy>=1.5 in /usr/local/lib/python3.10/dist-packages (from qiskit) (1.13.1)\n",
            "Requirement already satisfied: sympy>=1.3 in /usr/local/lib/python3.10/dist-packages (from qiskit) (1.13.1)\n",
            "Collecting dill>=0.3 (from qiskit)\n",
            "  Downloading dill-0.3.8-py3-none-any.whl.metadata (10 kB)\n",
            "Requirement already satisfied: python-dateutil>=2.8.0 in /usr/local/lib/python3.10/dist-packages (from qiskit) (2.8.2)\n",
            "Collecting stevedore>=3.0.0 (from qiskit)\n",
            "  Downloading stevedore-5.2.0-py3-none-any.whl.metadata (2.3 kB)\n",
            "Requirement already satisfied: typing-extensions in /usr/local/lib/python3.10/dist-packages (from qiskit) (4.12.2)\n",
            "Collecting symengine>=0.11 (from qiskit)\n",
            "  Downloading symengine-0.11.0-cp310-cp310-manylinux_2_12_x86_64.manylinux2010_x86_64.whl.metadata (1.2 kB)\n",
            "Requirement already satisfied: six>=1.5 in /usr/local/lib/python3.10/dist-packages (from python-dateutil>=2.8.0->qiskit) (1.16.0)\n",
            "Collecting pbr!=2.1.0,>=2.0.0 (from stevedore>=3.0.0->qiskit)\n",
            "  Downloading pbr-6.0.0-py2.py3-none-any.whl.metadata (1.3 kB)\n",
            "Requirement already satisfied: mpmath<1.4,>=1.1.0 in /usr/local/lib/python3.10/dist-packages (from sympy>=1.3->qiskit) (1.3.0)\n",
            "Downloading qiskit-1.1.1-cp38-abi3-manylinux_2_17_x86_64.manylinux2014_x86_64.whl (4.3 MB)\n",
            "\u001b[2K   \u001b[90m━━━━━━━━━━━━━━━━━━━━━━━━━━━━━━━━━━━━━━━━\u001b[0m \u001b[32m4.3/4.3 MB\u001b[0m \u001b[31m19.4 MB/s\u001b[0m eta \u001b[36m0:00:00\u001b[0m\n",
            "\u001b[?25hDownloading dill-0.3.8-py3-none-any.whl (116 kB)\n",
            "\u001b[2K   \u001b[90m━━━━━━━━━━━━━━━━━━━━━━━━━━━━━━━━━━━━━━━━\u001b[0m \u001b[32m116.3/116.3 kB\u001b[0m \u001b[31m3.4 MB/s\u001b[0m eta \u001b[36m0:00:00\u001b[0m\n",
            "\u001b[?25hDownloading rustworkx-0.15.1-cp38-abi3-manylinux_2_17_x86_64.manylinux2014_x86_64.whl (2.0 MB)\n",
            "\u001b[2K   \u001b[90m━━━━━━━━━━━━━━━━━━━━━━━━━━━━━━━━━━━━━━━━\u001b[0m \u001b[32m2.0/2.0 MB\u001b[0m \u001b[31m18.1 MB/s\u001b[0m eta \u001b[36m0:00:00\u001b[0m\n",
            "\u001b[?25hDownloading stevedore-5.2.0-py3-none-any.whl (49 kB)\n",
            "\u001b[2K   \u001b[90m━━━━━━━━━━━━━━━━━━━━━━━━━━━━━━━━━━━━━━━━\u001b[0m \u001b[32m49.7/49.7 kB\u001b[0m \u001b[31m1.9 MB/s\u001b[0m eta \u001b[36m0:00:00\u001b[0m\n",
            "\u001b[?25hDownloading symengine-0.11.0-cp310-cp310-manylinux_2_12_x86_64.manylinux2010_x86_64.whl (39.4 MB)\n",
            "\u001b[2K   \u001b[90m━━━━━━━━━━━━━━━━━━━━━━━━━━━━━━━━━━━━━━━━\u001b[0m \u001b[32m39.4/39.4 MB\u001b[0m \u001b[31m9.1 MB/s\u001b[0m eta \u001b[36m0:00:00\u001b[0m\n",
            "\u001b[?25hDownloading pbr-6.0.0-py2.py3-none-any.whl (107 kB)\n",
            "\u001b[2K   \u001b[90m━━━━━━━━━━━━━━━━━━━━━━━━━━━━━━━━━━━━━━━━\u001b[0m \u001b[32m107.5/107.5 kB\u001b[0m \u001b[31m4.4 MB/s\u001b[0m eta \u001b[36m0:00:00\u001b[0m\n",
            "\u001b[?25hInstalling collected packages: symengine, rustworkx, pbr, dill, stevedore, qiskit\n",
            "Successfully installed dill-0.3.8 pbr-6.0.0 qiskit-1.1.1 rustworkx-0.15.1 stevedore-5.2.0 symengine-0.11.0\n"
          ]
        }
      ],
      "source": [
        "pip install qiskit"
      ]
    },
    {
      "cell_type": "code",
      "execution_count": null,
      "metadata": {
        "colab": {
          "base_uri": "https://localhost:8080/"
        },
        "id": "8zn58gkH1YCs",
        "outputId": "f241db70-d6fd-461f-ffa4-2a61f5b9ac43"
      },
      "outputs": [
        {
          "output_type": "stream",
          "name": "stdout",
          "text": [
            "Collecting qiskit-aer\n",
            "  Downloading qiskit_aer-0.14.2-cp310-cp310-manylinux_2_17_x86_64.manylinux2014_x86_64.whl.metadata (8.1 kB)\n",
            "Requirement already satisfied: qiskit>=0.45.2 in /usr/local/lib/python3.10/dist-packages (from qiskit-aer) (1.1.1)\n",
            "Requirement already satisfied: numpy>=1.16.3 in /usr/local/lib/python3.10/dist-packages (from qiskit-aer) (1.26.4)\n",
            "Requirement already satisfied: scipy>=1.0 in /usr/local/lib/python3.10/dist-packages (from qiskit-aer) (1.13.1)\n",
            "Requirement already satisfied: psutil>=5 in /usr/local/lib/python3.10/dist-packages (from qiskit-aer) (5.9.5)\n",
            "Requirement already satisfied: rustworkx>=0.14.0 in /usr/local/lib/python3.10/dist-packages (from qiskit>=0.45.2->qiskit-aer) (0.15.1)\n",
            "Requirement already satisfied: sympy>=1.3 in /usr/local/lib/python3.10/dist-packages (from qiskit>=0.45.2->qiskit-aer) (1.13.1)\n",
            "Requirement already satisfied: dill>=0.3 in /usr/local/lib/python3.10/dist-packages (from qiskit>=0.45.2->qiskit-aer) (0.3.8)\n",
            "Requirement already satisfied: python-dateutil>=2.8.0 in /usr/local/lib/python3.10/dist-packages (from qiskit>=0.45.2->qiskit-aer) (2.8.2)\n",
            "Requirement already satisfied: stevedore>=3.0.0 in /usr/local/lib/python3.10/dist-packages (from qiskit>=0.45.2->qiskit-aer) (5.2.0)\n",
            "Requirement already satisfied: typing-extensions in /usr/local/lib/python3.10/dist-packages (from qiskit>=0.45.2->qiskit-aer) (4.12.2)\n",
            "Requirement already satisfied: symengine>=0.11 in /usr/local/lib/python3.10/dist-packages (from qiskit>=0.45.2->qiskit-aer) (0.11.0)\n",
            "Requirement already satisfied: six>=1.5 in /usr/local/lib/python3.10/dist-packages (from python-dateutil>=2.8.0->qiskit>=0.45.2->qiskit-aer) (1.16.0)\n",
            "Requirement already satisfied: pbr!=2.1.0,>=2.0.0 in /usr/local/lib/python3.10/dist-packages (from stevedore>=3.0.0->qiskit>=0.45.2->qiskit-aer) (6.0.0)\n",
            "Requirement already satisfied: mpmath<1.4,>=1.1.0 in /usr/local/lib/python3.10/dist-packages (from sympy>=1.3->qiskit>=0.45.2->qiskit-aer) (1.3.0)\n",
            "Downloading qiskit_aer-0.14.2-cp310-cp310-manylinux_2_17_x86_64.manylinux2014_x86_64.whl (12.4 MB)\n",
            "\u001b[2K   \u001b[90m━━━━━━━━━━━━━━━━━━━━━━━━━━━━━━━━━━━━━━━━\u001b[0m \u001b[32m12.4/12.4 MB\u001b[0m \u001b[31m17.1 MB/s\u001b[0m eta \u001b[36m0:00:00\u001b[0m\n",
            "\u001b[?25hInstalling collected packages: qiskit-aer\n",
            "Successfully installed qiskit-aer-0.14.2\n"
          ]
        }
      ],
      "source": [
        "pip install qiskit-aer"
      ]
    },
    {
      "cell_type": "code",
      "execution_count": null,
      "metadata": {
        "colab": {
          "base_uri": "https://localhost:8080/"
        },
        "id": "nHNtEusB1Z_i",
        "outputId": "632ca687-ffc5-472a-ff2e-d6e8424c9c46"
      },
      "outputs": [
        {
          "output_type": "stream",
          "name": "stdout",
          "text": [
            "Collecting pylatexenc\n",
            "  Downloading pylatexenc-2.10.tar.gz (162 kB)\n",
            "\u001b[?25l     \u001b[90m━━━━━━━━━━━━━━━━━━━━━━━━━━━━━━━━━━━━━━━━\u001b[0m \u001b[32m0.0/162.6 kB\u001b[0m \u001b[31m?\u001b[0m eta \u001b[36m-:--:--\u001b[0m\r\u001b[2K     \u001b[91m━━━━━━━━━━━━━━━━━━━━━━━━━━━━━━━━━━━━━\u001b[0m\u001b[91m╸\u001b[0m\u001b[90m━━\u001b[0m \u001b[32m153.6/162.6 kB\u001b[0m \u001b[31m5.0 MB/s\u001b[0m eta \u001b[36m0:00:01\u001b[0m\r\u001b[2K     \u001b[90m━━━━━━━━━━━━━━━━━━━━━━━━━━━━━━━━━━━━━━━━\u001b[0m \u001b[32m162.6/162.6 kB\u001b[0m \u001b[31m3.6 MB/s\u001b[0m eta \u001b[36m0:00:00\u001b[0m\n",
            "\u001b[?25h  Preparing metadata (setup.py) ... \u001b[?25l\u001b[?25hdone\n",
            "Building wheels for collected packages: pylatexenc\n",
            "  Building wheel for pylatexenc (setup.py) ... \u001b[?25l\u001b[?25hdone\n",
            "  Created wheel for pylatexenc: filename=pylatexenc-2.10-py3-none-any.whl size=136817 sha256=e8c2267281262764e1369cc83a50816ea3eeed99b98951295dd5c2c489e418e4\n",
            "  Stored in directory: /root/.cache/pip/wheels/d3/31/8b/e09b0386afd80cfc556c00408c9aeea5c35c4d484a9c762fd5\n",
            "Successfully built pylatexenc\n",
            "Installing collected packages: pylatexenc\n",
            "Successfully installed pylatexenc-2.10\n"
          ]
        }
      ],
      "source": [
        "!pip install pylatexenc"
      ]
    },
    {
      "cell_type": "code",
      "execution_count": null,
      "metadata": {
        "id": "KJQfixTf1b06"
      },
      "outputs": [],
      "source": [
        "from qiskit_aer import Aer\n",
        "from qiskit import QuantumCircuit, transpile, assemble\n",
        "from qiskit.quantum_info import Statevector\n",
        "from qiskit.visualization import plot_histogram, plot_bloch_multivector\n",
        "from qiskit.circuit.library import QFT\n",
        "import numpy as np\n",
        "import matplotlib.pyplot as plt"
      ]
    },
    {
      "cell_type": "code",
      "source": [
        "from qiskit import QuantumCircuit, QuantumRegister, ClassicalRegister\n",
        "from qiskit.circuit.library import RGQFTMultiplier\n",
        "from qiskit import transpile, assemble#, execute\n",
        "import numpy as np\n",
        "\n",
        "num_qubits = 2  # Number of qubits for the state vector\n",
        "factor = 3  # The integer by which to multiply\n",
        "\n",
        "# Create quantum and classical registers\n",
        "qr = QuantumRegister(num_qubits, 'q')\n",
        "cr = ClassicalRegister(num_qubits, 'c')\n",
        "qc = QuantumCircuit(qr, cr)\n",
        "\n",
        "# Initialize the quantum state (example with state |psi>)\n",
        "initial_state = [1/np.sqrt(2), 0, 0, 1/np.sqrt(2)]\n",
        "qc.initialize(initial_state, qr)"
      ],
      "metadata": {
        "colab": {
          "base_uri": "https://localhost:8080/"
        },
        "id": "J3RIVR6gHYS_",
        "outputId": "8148b800-5283-4590-8b27-839fd0a39987"
      },
      "execution_count": null,
      "outputs": [
        {
          "output_type": "execute_result",
          "data": {
            "text/plain": [
              "<qiskit.circuit.instructionset.InstructionSet at 0x7e8c507fb2e0>"
            ]
          },
          "metadata": {},
          "execution_count": 11
        }
      ]
    },
    {
      "cell_type": "code",
      "source": [
        "# Create the QFT multiplier circuit\n",
        "multiplier_circuit = RGQFTMultiplier(num_state_qubits=2*num_qubits, num_result_qubits=2*num_qubits)\n",
        "qc = qc.compose(multiplier_circuit, qc)"
      ],
      "metadata": {
        "colab": {
          "base_uri": "https://localhost:8080/",
          "height": 297
        },
        "id": "3EpNm52GHZLz",
        "outputId": "0e9ee146-a910-43f8-deb2-690d8ebbec12"
      },
      "execution_count": null,
      "outputs": [
        {
          "output_type": "error",
          "ename": "CircuitError",
          "evalue": "\"Trying to compose with another QuantumCircuit which has more 'in' edges.\"",
          "traceback": [
            "\u001b[0;31m---------------------------------------------------------------------------\u001b[0m",
            "\u001b[0;31mCircuitError\u001b[0m                              Traceback (most recent call last)",
            "\u001b[0;32m<ipython-input-20-457eb6ecc2af>\u001b[0m in \u001b[0;36m<cell line: 3>\u001b[0;34m()\u001b[0m\n\u001b[1;32m      1\u001b[0m \u001b[0;31m# Create the QFT multiplier circuit\u001b[0m\u001b[0;34m\u001b[0m\u001b[0;34m\u001b[0m\u001b[0m\n\u001b[1;32m      2\u001b[0m \u001b[0mmultiplier_circuit\u001b[0m \u001b[0;34m=\u001b[0m \u001b[0mRGQFTMultiplier\u001b[0m\u001b[0;34m(\u001b[0m\u001b[0mnum_state_qubits\u001b[0m\u001b[0;34m=\u001b[0m\u001b[0;36m2\u001b[0m\u001b[0;34m*\u001b[0m\u001b[0mnum_qubits\u001b[0m\u001b[0;34m,\u001b[0m \u001b[0mnum_result_qubits\u001b[0m\u001b[0;34m=\u001b[0m\u001b[0;36m2\u001b[0m\u001b[0;34m*\u001b[0m\u001b[0mnum_qubits\u001b[0m\u001b[0;34m)\u001b[0m\u001b[0;34m\u001b[0m\u001b[0;34m\u001b[0m\u001b[0m\n\u001b[0;32m----> 3\u001b[0;31m \u001b[0mqc\u001b[0m \u001b[0;34m=\u001b[0m \u001b[0mqc\u001b[0m\u001b[0;34m.\u001b[0m\u001b[0mcompose\u001b[0m\u001b[0;34m(\u001b[0m\u001b[0mmultiplier_circuit\u001b[0m\u001b[0;34m,\u001b[0m \u001b[0mqc\u001b[0m\u001b[0;34m)\u001b[0m\u001b[0;34m\u001b[0m\u001b[0;34m\u001b[0m\u001b[0m\n\u001b[0m",
            "\u001b[0;32m/usr/local/lib/python3.10/dist-packages/qiskit/circuit/quantumcircuit.py\u001b[0m in \u001b[0;36mcompose\u001b[0;34m(self, other, qubits, clbits, front, inplace, wrap, copy, var_remap, inline_captures)\u001b[0m\n\u001b[1;32m   1907\u001b[0m \u001b[0;34m\u001b[0m\u001b[0m\n\u001b[1;32m   1908\u001b[0m         \u001b[0;32mif\u001b[0m \u001b[0mother\u001b[0m\u001b[0;34m.\u001b[0m\u001b[0mnum_qubits\u001b[0m \u001b[0;34m>\u001b[0m \u001b[0mdest\u001b[0m\u001b[0;34m.\u001b[0m\u001b[0mnum_qubits\u001b[0m \u001b[0;32mor\u001b[0m \u001b[0mother\u001b[0m\u001b[0;34m.\u001b[0m\u001b[0mnum_clbits\u001b[0m \u001b[0;34m>\u001b[0m \u001b[0mdest\u001b[0m\u001b[0;34m.\u001b[0m\u001b[0mnum_clbits\u001b[0m\u001b[0;34m:\u001b[0m\u001b[0;34m\u001b[0m\u001b[0;34m\u001b[0m\u001b[0m\n\u001b[0;32m-> 1909\u001b[0;31m             raise CircuitError(\n\u001b[0m\u001b[1;32m   1910\u001b[0m                 \u001b[0;34m\"Trying to compose with another QuantumCircuit which has more 'in' edges.\"\u001b[0m\u001b[0;34m\u001b[0m\u001b[0;34m\u001b[0m\u001b[0m\n\u001b[1;32m   1911\u001b[0m             )\n",
            "\u001b[0;31mCircuitError\u001b[0m: \"Trying to compose with another QuantumCircuit which has more 'in' edges.\""
          ]
        }
      ]
    },
    {
      "cell_type": "code",
      "source": [
        "# Measure the result\n",
        "qc.measure(qr, cr)\n",
        "\n",
        "# Simulate the circuit\n",
        "simulator = Aer.get_backend('qasm_simulator')\n",
        "compiled_circuit = transpile(qc, simulator)\n",
        "result = execute(compiled_circuit, backend=simulator, shots=1024).result()\n",
        "\n",
        "# Get the results\n",
        "counts = result.get_counts()\n",
        "print(counts)"
      ],
      "metadata": {
        "id": "4loBct5AHaqZ"
      },
      "execution_count": null,
      "outputs": []
    },
    {
      "cell_type": "code",
      "source": [
        "from qiskit import QuantumCircuit, QuantumRegister, ClassicalRegister,  transpile#, execute\n",
        "from qiskit.circuit.library import RGQFTMultiplier\n",
        "\n",
        "\n",
        "# Define the number of qubits for each number\n",
        "num_qubits = 2  # Number of qubits to represent each number\n",
        "\n",
        "# Create quantum and classical registers\n",
        "qr = QuantumRegister(2 * num_qubits + num_qubits, 'q')  # Total qubits: 2*num_qubits (input) + num_qubits (output)\n",
        "cr = ClassicalRegister(num_qubits, 'c')\n",
        "qc = QuantumCircuit(qr, cr)\n",
        "\n",
        "# Encode the numbers to be multiplied (e.g., 2 and 3)\n",
        "# 2 in binary is '10', apply X gate to qubit 1\n",
        "qc.x(qr[1])\n",
        "# 3 in binary is '11', apply X gates to qubits 2 and 3\n",
        "qc.x(qr[2 + num_qubits])\n",
        "qc.x(qr[3 + num_qubits])\n",
        "\n",
        "# Create the QFT multiplier circuit\n",
        "multiplier_circuit = RGQFTMultiplier(num_state_qubits=num_qubits, num_result_qubits=num_qubits)\n",
        "\n",
        "# Append the multiplier circuit to the main circuit\n",
        "qc.append(multiplier_circuit.to_instruction(), qr)\n",
        "\n",
        "# Measure the result\n",
        "qc.measure(qr[2*num_qubits:], cr)\n",
        "\n",
        "# Simulate the circuit\n",
        "simulator = Aer.get_backend('qasm_simulator')\n",
        "compiled_circuit = transpile(qc, simulator)\n",
        "result = simulator.run(compiled_circuit, backend=simulator, shots=1024).result()\n",
        "\n",
        "# Get the results\n",
        "counts = result.get_counts()\n",
        "print(counts)\n",
        "\n"
      ],
      "metadata": {
        "colab": {
          "base_uri": "https://localhost:8080/"
        },
        "id": "KIUExzV8f7Kx",
        "outputId": "909c1f73-e59c-452e-a7fc-366a8fc3cccc"
      },
      "execution_count": null,
      "outputs": [
        {
          "output_type": "stream",
          "name": "stdout",
          "text": [
            "{'11': 1024}\n"
          ]
        }
      ]
    },
    {
      "cell_type": "code",
      "source": [
        "# from qiskit import QuantumCircuit, Aer, transpile, assemble, execute\n",
        "from qiskit.visualization import plot_histogram\n",
        "from qiskit_aer import AerSimulator\n",
        "# from qiskit.providers.aer import AerSimulator\n",
        "# from qiskit.providers.aer.library import SaveStatevector\n",
        "\n",
        "# Define the number of qubits\n",
        "num_qubits = 2\n",
        "\n",
        "# Create a quantum circuit\n",
        "qc = QuantumCircuit(num_qubits, num_qubits)\n",
        "\n",
        "# Initialize the quantum state (example with state |psi>)\n",
        "initial_state = [1/np.sqrt(2), 0, 0, 1/np.sqrt(2)]\n",
        "qc.initialize(initial_state, range(num_qubits))\n",
        "\n",
        "# Add some quantum gates (example: Hadamard gate)\n",
        "qc.h(0)\n",
        "qc.cx(0, 1)\n",
        "\n",
        "# Add a snapshot instruction to save the statevector\n",
        "qc.save_statevector()\n",
        "\n",
        "# Measure the qubits\n",
        "qc.measure(range(num_qubits), range(num_qubits))\n",
        "\n",
        "# Use the AerSimulator with statevector method\n",
        "simulator = AerSimulator(method=\"statevector\")\n",
        "\n",
        "# Transpile and execute the circuit\n",
        "compiled_circuit = transpile(qc, simulator)\n",
        "result = simulator.run(compiled_circuit, backend=simulator).result()\n",
        "\n",
        "# Get the statevector\n",
        "statevector = result.data()['statevector']\n",
        "print(\"Statevector: \", statevector)\n",
        "\n",
        "# Get the counts\n",
        "counts = result.get_counts()\n",
        "print(\"Counts: \", counts)\n"
      ],
      "metadata": {
        "colab": {
          "base_uri": "https://localhost:8080/"
        },
        "id": "LH2oTbcff-I7",
        "outputId": "f16657c3-1285-4a0e-9f59-df07052e7267"
      },
      "execution_count": null,
      "outputs": [
        {
          "output_type": "stream",
          "name": "stdout",
          "text": [
            "Statevector:  Statevector([ 0.5+0.000000e+00j, -0.5+6.123234e-17j,  0.5-6.123234e-17j,\n",
            "              0.5+0.000000e+00j],\n",
            "            dims=(2, 2))\n",
            "Counts:  {'11': 250, '00': 222, '10': 272, '01': 280}\n"
          ]
        }
      ]
    },
    {
      "cell_type": "code",
      "source": [
        "import plotly.graph_objects as go\n",
        "\n",
        "# result_coeffs = elementwise_multiply(current_window, coeffs_psi2, 0)\n",
        "\n",
        "# padded_result_coeffs = pad_to_power_of_two(result_coeffs)\n",
        "\n",
        "# padded_result_coeffs, window_scaling = normalize(padded_result_coeffs)\n",
        "\n",
        "# testing windowed state prep\n",
        "window_scaling= 2.0062463823972267\n",
        "padded_result_coeffs= [ 2.84459484e-01, -1.60769035e-01, -6.52830735e-01, -1.40302564e-01,\n",
        "  4.04440838e-01, -5.49152208e-02, -5.29882315e-01,  7.34968555e-16,\n",
        "  0.00000000e+00,  0.00000000e+00,  0.00000000e+00,  0.00000000e+00,\n",
        "  0.00000000e+00,  0.00000000e+00,  0.00000000e+00,  0.00000000e+00]\n",
        "filter_scaling= 0.48685999869309116\n",
        "padded_filter_vector= [-0.0020939558974013665, 0.04493999659839265, 0.267769868918511, 0.5812076801643039, 0.6512469871508397, 0.39116353951309446, 0.10554509675346828, 0.014199348776285179, 0, 0, 0, 0, 0, 0, 0, 0]\n",
        "\n",
        "\n",
        "# padded_result_coeffs = [0.284, -0.161, -0.653, -0.14, 0.404, -0.0549, -0.53, 0, 0, 0, 0, 0, 0, 0, 0, 0]\n",
        "# padded_filter_vector = [-0.00209, 0.0449, 0.268, 0.581, 0.651, 0.391, 0.106 ,0.0412 , 0, 0, 0, 0, 0, 0, 0, 0]\n",
        "\n",
        "num_qubits = int(np.log2(len(padded_result_coeffs)))\n",
        "qc_test = QuantumCircuit(num_qubits * 2, num_qubits * 2)\n",
        "\n",
        "# regular initialiazation\n",
        "# qc_test.initialize(padded_result_coeffs, range(num_qubits))\n",
        "# qc_test.initialize(padded_filter_vector, range(num_qubits, 2 * num_qubits))\n",
        "\n",
        "\n",
        "# # inverted initilization\n",
        "qc_test.initialize(padded_result_coeffs, range(num_qubits, 2 * num_qubits))\n",
        "qc_test.initialize(padded_filter_vector, range(num_qubits) )\n",
        "\n",
        "qc_test.append(QFT(num_qubits), range(num_qubits))\n",
        "qc_test.append(QFT(num_qubits), range(num_qubits, 2 * num_qubits))\n",
        "\n",
        "for i in range(num_qubits):\n",
        "    qc_test.cx(i, num_qubits + i)\n",
        "    # qc_test.cx(num_qubits + i, i)\n",
        "\n",
        "\n",
        "\n",
        "qc_test.append(QFT(num_qubits, inverse=True).to_gate(), range(num_qubits))\n",
        "# qc_test.append(QFT(num_qubits, inverse=True), range(num_qubits, 2 * num_qubits))\n",
        "\n",
        "# Add a snapshot instruction to save the statevector\n",
        "qc_test.save_statevector()\n",
        "\n",
        "qc_test.measure(range(num_qubits * 2),range(num_qubits, 2 * num_qubits))\n",
        "\n",
        "#####################\n",
        "# Add a snapshot instruction to save the statevector\n",
        "# qc_test.save_statevector()\n",
        "\n",
        "# # Measure the qubits\n",
        "# qc.measure(range(num_qubits), range(num_qubits))\n",
        "\n",
        "# Use the AerSimulator with statevector method\n",
        "simulator = AerSimulator(method=\"statevector\")\n",
        "\n",
        "# Transpile and execute the circuit\n",
        "compiled_circuit = transpile(qc_test, simulator)\n",
        "result = simulator.run(compiled_circuit, backend=simulator).result()\n",
        "\n",
        "# Get the statevector\n",
        "statevector = result.data()['statevector']\n",
        "print(\"Statevector: \", statevector)\n",
        "\n",
        "# Get the counts\n",
        "counts = result.get_counts()\n",
        "print(\"Counts: \", counts)\n",
        "\n",
        "\n",
        "\n",
        "##################\n",
        "\n",
        "\n",
        "# qc_test.save_statevector()\n",
        "\n",
        "# simulator = Aer.get_backend('aer_simulator')\n",
        "# compiled_circuit_test = transpile(qc_test, simulator)\n",
        "# result_test = simulator.run(compiled_circuit_test).result()\n",
        "\n",
        "# statevector_test = result_test.get_statevector()\n",
        "\n",
        "# norm_test = np.linalg.norm(statevector_test)\n",
        "# print(\"norm test\",norm_test)\n",
        "# # statevector_test /= norm_test\n",
        "\n",
        "# for i in range(0,17):\n",
        "#   s = i\n",
        "#   resulting_state_test = Statevector(statevector_test).data[s*2**num_qubits:(s+1)*2**num_qubits]\n",
        "\n",
        "#   # print(\"statevector = \", statevector_test)\n",
        "#   print(\"resulting_state = \", resulting_state_test)\n",
        "\n",
        "#   final_resulting_state_test = resulting_state_test * window_scaling / (filter_scaling )\n",
        "\n",
        "#   traces = []\n",
        "#   traces.append(go.Scatter(y=np.real(final_resulting_state_test), name=\"quantum final conv\"))\n",
        "#   traces.append(go.Scatter(y=y, name=\"numpy conv\"))\n",
        "#   fig = go.Figure(traces)\n",
        "#   fig.update_layout(title=f\"quantum vs numpy overlap add at s= {s}\")\n",
        "#   fig.show()\n",
        "\n",
        "#   print()\n",
        "#   scaling = y[:len(final_resulting_state_test)] / final_resulting_state_test\n",
        "#   print(f\"scaling at s= {i} \", scaling)\n",
        "#   print()"
      ],
      "metadata": {
        "colab": {
          "base_uri": "https://localhost:8080/",
          "height": 321
        },
        "id": "nw4CxxRvg9v9",
        "outputId": "a66aad85-25f0-44e4-9306-56e37c779f17"
      },
      "execution_count": null,
      "outputs": [
        {
          "output_type": "error",
          "ename": "CircuitError",
          "evalue": "'register size error'",
          "traceback": [
            "\u001b[0;31m---------------------------------------------------------------------------\u001b[0m",
            "\u001b[0;31mCircuitError\u001b[0m                              Traceback (most recent call last)",
            "\u001b[0;32m<ipython-input-29-fcc3b5640e50>\u001b[0m in \u001b[0;36m<cell line: 49>\u001b[0;34m()\u001b[0m\n\u001b[1;32m     47\u001b[0m \u001b[0mqc_test\u001b[0m\u001b[0;34m.\u001b[0m\u001b[0msave_statevector\u001b[0m\u001b[0;34m(\u001b[0m\u001b[0;34m)\u001b[0m\u001b[0;34m\u001b[0m\u001b[0;34m\u001b[0m\u001b[0m\n\u001b[1;32m     48\u001b[0m \u001b[0;34m\u001b[0m\u001b[0m\n\u001b[0;32m---> 49\u001b[0;31m \u001b[0mqc_test\u001b[0m\u001b[0;34m.\u001b[0m\u001b[0mmeasure\u001b[0m\u001b[0;34m(\u001b[0m\u001b[0mrange\u001b[0m\u001b[0;34m(\u001b[0m\u001b[0mnum_qubits\u001b[0m \u001b[0;34m*\u001b[0m \u001b[0;36m2\u001b[0m\u001b[0;34m)\u001b[0m\u001b[0;34m,\u001b[0m\u001b[0mrange\u001b[0m\u001b[0;34m(\u001b[0m\u001b[0mnum_qubits\u001b[0m\u001b[0;34m,\u001b[0m \u001b[0;36m2\u001b[0m \u001b[0;34m*\u001b[0m \u001b[0mnum_qubits\u001b[0m\u001b[0;34m)\u001b[0m\u001b[0;34m)\u001b[0m\u001b[0;34m\u001b[0m\u001b[0;34m\u001b[0m\u001b[0m\n\u001b[0m\u001b[1;32m     50\u001b[0m \u001b[0;34m\u001b[0m\u001b[0m\n\u001b[1;32m     51\u001b[0m \u001b[0;31m#####################\u001b[0m\u001b[0;34m\u001b[0m\u001b[0;34m\u001b[0m\u001b[0m\n",
            "\u001b[0;32m/usr/local/lib/python3.10/dist-packages/qiskit/circuit/quantumcircuit.py\u001b[0m in \u001b[0;36mmeasure\u001b[0;34m(self, qubit, cbit)\u001b[0m\n\u001b[1;32m   3805\u001b[0m         \u001b[0;32mfrom\u001b[0m \u001b[0;34m.\u001b[0m\u001b[0mmeasure\u001b[0m \u001b[0;32mimport\u001b[0m \u001b[0mMeasure\u001b[0m\u001b[0;34m\u001b[0m\u001b[0;34m\u001b[0m\u001b[0m\n\u001b[1;32m   3806\u001b[0m \u001b[0;34m\u001b[0m\u001b[0m\n\u001b[0;32m-> 3807\u001b[0;31m         \u001b[0;32mreturn\u001b[0m \u001b[0mself\u001b[0m\u001b[0;34m.\u001b[0m\u001b[0mappend\u001b[0m\u001b[0;34m(\u001b[0m\u001b[0mMeasure\u001b[0m\u001b[0;34m(\u001b[0m\u001b[0;34m)\u001b[0m\u001b[0;34m,\u001b[0m \u001b[0;34m[\u001b[0m\u001b[0mqubit\u001b[0m\u001b[0;34m]\u001b[0m\u001b[0;34m,\u001b[0m \u001b[0;34m[\u001b[0m\u001b[0mcbit\u001b[0m\u001b[0;34m]\u001b[0m\u001b[0;34m,\u001b[0m \u001b[0mcopy\u001b[0m\u001b[0;34m=\u001b[0m\u001b[0;32mFalse\u001b[0m\u001b[0;34m)\u001b[0m\u001b[0;34m\u001b[0m\u001b[0;34m\u001b[0m\u001b[0m\n\u001b[0m\u001b[1;32m   3808\u001b[0m \u001b[0;34m\u001b[0m\u001b[0m\n\u001b[1;32m   3809\u001b[0m     \u001b[0;32mdef\u001b[0m \u001b[0mmeasure_active\u001b[0m\u001b[0;34m(\u001b[0m\u001b[0mself\u001b[0m\u001b[0;34m,\u001b[0m \u001b[0minplace\u001b[0m\u001b[0;34m:\u001b[0m \u001b[0mbool\u001b[0m \u001b[0;34m=\u001b[0m \u001b[0;32mTrue\u001b[0m\u001b[0;34m)\u001b[0m \u001b[0;34m->\u001b[0m \u001b[0mOptional\u001b[0m\u001b[0;34m[\u001b[0m\u001b[0;34m\"QuantumCircuit\"\u001b[0m\u001b[0;34m]\u001b[0m\u001b[0;34m:\u001b[0m\u001b[0;34m\u001b[0m\u001b[0;34m\u001b[0m\u001b[0m\n",
            "\u001b[0;32m/usr/local/lib/python3.10/dist-packages/qiskit/circuit/quantumcircuit.py\u001b[0m in \u001b[0;36mappend\u001b[0;34m(self, instruction, qargs, cargs, copy)\u001b[0m\n\u001b[1;32m   2394\u001b[0m             \u001b[0;32melse\u001b[0m \u001b[0mInstruction\u001b[0m\u001b[0;34m.\u001b[0m\u001b[0mbroadcast_arguments\u001b[0m\u001b[0;34m(\u001b[0m\u001b[0moperation\u001b[0m\u001b[0;34m,\u001b[0m \u001b[0mexpanded_qargs\u001b[0m\u001b[0;34m,\u001b[0m \u001b[0mexpanded_cargs\u001b[0m\u001b[0;34m)\u001b[0m\u001b[0;34m\u001b[0m\u001b[0;34m\u001b[0m\u001b[0m\n\u001b[1;32m   2395\u001b[0m         )\n\u001b[0;32m-> 2396\u001b[0;31m         \u001b[0;32mfor\u001b[0m \u001b[0mqarg\u001b[0m\u001b[0;34m,\u001b[0m \u001b[0mcarg\u001b[0m \u001b[0;32min\u001b[0m \u001b[0mbroadcast_iter\u001b[0m\u001b[0;34m:\u001b[0m\u001b[0;34m\u001b[0m\u001b[0;34m\u001b[0m\u001b[0m\n\u001b[0m\u001b[1;32m   2397\u001b[0m             \u001b[0mself\u001b[0m\u001b[0;34m.\u001b[0m\u001b[0m_check_dups\u001b[0m\u001b[0;34m(\u001b[0m\u001b[0mqarg\u001b[0m\u001b[0;34m)\u001b[0m\u001b[0;34m\u001b[0m\u001b[0;34m\u001b[0m\u001b[0m\n\u001b[1;32m   2398\u001b[0m             \u001b[0minstruction\u001b[0m \u001b[0;34m=\u001b[0m \u001b[0mCircuitInstruction\u001b[0m\u001b[0;34m(\u001b[0m\u001b[0moperation\u001b[0m\u001b[0;34m,\u001b[0m \u001b[0mqarg\u001b[0m\u001b[0;34m,\u001b[0m \u001b[0mcarg\u001b[0m\u001b[0;34m)\u001b[0m\u001b[0;34m\u001b[0m\u001b[0;34m\u001b[0m\u001b[0m\n",
            "\u001b[0;32m/usr/local/lib/python3.10/dist-packages/qiskit/circuit/measure.py\u001b[0m in \u001b[0;36mbroadcast_arguments\u001b[0;34m(self, qargs, cargs)\u001b[0m\n\u001b[1;32m     42\u001b[0m                 \u001b[0;32myield\u001b[0m \u001b[0mqarg\u001b[0m\u001b[0;34m,\u001b[0m \u001b[0;34m[\u001b[0m\u001b[0meach_carg\u001b[0m\u001b[0;34m]\u001b[0m\u001b[0;34m\u001b[0m\u001b[0;34m\u001b[0m\u001b[0m\n\u001b[1;32m     43\u001b[0m         \u001b[0;32melse\u001b[0m\u001b[0;34m:\u001b[0m\u001b[0;34m\u001b[0m\u001b[0;34m\u001b[0m\u001b[0m\n\u001b[0;32m---> 44\u001b[0;31m             \u001b[0;32mraise\u001b[0m \u001b[0mCircuitError\u001b[0m\u001b[0;34m(\u001b[0m\u001b[0;34m\"register size error\"\u001b[0m\u001b[0;34m)\u001b[0m\u001b[0;34m\u001b[0m\u001b[0;34m\u001b[0m\u001b[0m\n\u001b[0m",
            "\u001b[0;31mCircuitError\u001b[0m: 'register size error'"
          ]
        }
      ]
    },
    {
      "cell_type": "code",
      "source": [],
      "metadata": {
        "id": "n_-1cp6Miefe"
      },
      "execution_count": null,
      "outputs": []
    }
  ]
}