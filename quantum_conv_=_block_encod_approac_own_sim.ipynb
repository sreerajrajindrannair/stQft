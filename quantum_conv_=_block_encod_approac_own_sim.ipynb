{
  "cells": [
    {
      "cell_type": "code",
      "execution_count": 1,
      "metadata": {
        "colab": {
          "base_uri": "https://localhost:8080/"
        },
        "id": "0fpQwwZ9803q",
        "outputId": "877ad705-b3fb-492b-e2bc-adc1a89b1dc0"
      },
      "outputs": [
        {
          "name": "stdout",
          "output_type": "stream",
          "text": [
            "Defaulting to user installation because normal site-packages is not writeable\n",
            "Requirement already satisfied: pennylane in /Users/sqnair/Library/Python/3.9/lib/python/site-packages (0.37.0)\n",
            "Requirement already satisfied: autograd in /Users/sqnair/Library/Python/3.9/lib/python/site-packages (from pennylane) (1.6.2)\n",
            "Requirement already satisfied: networkx in /Users/sqnair/Library/Python/3.9/lib/python/site-packages (from pennylane) (3.2.1)\n",
            "Requirement already satisfied: requests in /Users/sqnair/Library/Python/3.9/lib/python/site-packages (from pennylane) (2.32.2)\n",
            "Requirement already satisfied: typing-extensions in /Users/sqnair/Library/Python/3.9/lib/python/site-packages (from pennylane) (4.11.0)\n",
            "Requirement already satisfied: scipy in /Users/sqnair/Library/Python/3.9/lib/python/site-packages (from pennylane) (1.13.0)\n",
            "Requirement already satisfied: numpy<2.0 in /Users/sqnair/Library/Python/3.9/lib/python/site-packages (from pennylane) (1.26.4)\n",
            "Requirement already satisfied: pennylane-lightning>=0.37 in /Users/sqnair/Library/Python/3.9/lib/python/site-packages (from pennylane) (0.37.0)\n",
            "Requirement already satisfied: packaging in /Users/sqnair/Library/Python/3.9/lib/python/site-packages (from pennylane) (24.0)\n",
            "Requirement already satisfied: toml in /Users/sqnair/Library/Python/3.9/lib/python/site-packages (from pennylane) (0.10.2)\n",
            "Requirement already satisfied: autoray>=0.6.11 in /Users/sqnair/Library/Python/3.9/lib/python/site-packages (from pennylane) (0.6.12)\n",
            "Requirement already satisfied: rustworkx in /Users/sqnair/Library/Python/3.9/lib/python/site-packages (from pennylane) (0.14.2)\n",
            "Requirement already satisfied: appdirs in /Users/sqnair/Library/Python/3.9/lib/python/site-packages (from pennylane) (1.4.4)\n",
            "Requirement already satisfied: semantic-version>=2.7 in /Users/sqnair/Library/Python/3.9/lib/python/site-packages (from pennylane) (2.10.0)\n",
            "Requirement already satisfied: cachetools in /Users/sqnair/Library/Python/3.9/lib/python/site-packages (from pennylane) (5.3.3)\n",
            "Requirement already satisfied: future>=0.15.2 in /Library/Developer/CommandLineTools/Library/Frameworks/Python3.framework/Versions/3.9/lib/python3.9/site-packages (from autograd->pennylane) (0.18.2)\n",
            "Requirement already satisfied: charset-normalizer<4,>=2 in /Users/sqnair/Library/Python/3.9/lib/python/site-packages (from requests->pennylane) (3.3.2)\n",
            "Requirement already satisfied: certifi>=2017.4.17 in /Users/sqnair/Library/Python/3.9/lib/python/site-packages (from requests->pennylane) (2024.2.2)\n",
            "Requirement already satisfied: idna<4,>=2.5 in /Users/sqnair/Library/Python/3.9/lib/python/site-packages (from requests->pennylane) (3.7)\n",
            "Requirement already satisfied: urllib3<3,>=1.21.1 in /Users/sqnair/Library/Python/3.9/lib/python/site-packages (from requests->pennylane) (2.2.1)\n",
            "\u001b[33mWARNING: You are using pip version 21.2.4; however, version 24.2 is available.\n",
            "You should consider upgrading via the '/Library/Developer/CommandLineTools/usr/bin/python3 -m pip install --upgrade pip' command.\u001b[0m\n",
            "Note: you may need to restart the kernel to use updated packages.\n"
          ]
        }
      ],
      "source": [
        "pip install pennylane"
      ]
    },
    {
      "cell_type": "code",
      "execution_count": 2,
      "metadata": {
        "colab": {
          "base_uri": "https://localhost:8080/"
        },
        "id": "e-m201Dp1TOT",
        "outputId": "a0e7fa1d-37c8-447c-e944-6efdca3fa399"
      },
      "outputs": [
        {
          "name": "stdout",
          "output_type": "stream",
          "text": [
            "Defaulting to user installation because normal site-packages is not writeable\n",
            "Requirement already satisfied: qiskit in /Users/sqnair/Library/Python/3.9/lib/python/site-packages (1.1.0)\n",
            "Requirement already satisfied: rustworkx>=0.14.0 in /Users/sqnair/Library/Python/3.9/lib/python/site-packages (from qiskit) (0.14.2)\n",
            "Requirement already satisfied: dill>=0.3 in /Users/sqnair/Library/Python/3.9/lib/python/site-packages (from qiskit) (0.3.8)\n",
            "Requirement already satisfied: sympy>=1.3 in /Users/sqnair/Library/Python/3.9/lib/python/site-packages (from qiskit) (1.12)\n",
            "Requirement already satisfied: numpy<3,>=1.17 in /Users/sqnair/Library/Python/3.9/lib/python/site-packages (from qiskit) (1.26.4)\n",
            "Requirement already satisfied: scipy>=1.5 in /Users/sqnair/Library/Python/3.9/lib/python/site-packages (from qiskit) (1.13.0)\n",
            "Requirement already satisfied: python-dateutil>=2.8.0 in /Users/sqnair/Library/Python/3.9/lib/python/site-packages (from qiskit) (2.9.0.post0)\n",
            "Requirement already satisfied: symengine>=0.11 in /Users/sqnair/Library/Python/3.9/lib/python/site-packages (from qiskit) (0.11.0)\n",
            "Requirement already satisfied: stevedore>=3.0.0 in /Users/sqnair/Library/Python/3.9/lib/python/site-packages (from qiskit) (5.2.0)\n",
            "Requirement already satisfied: typing-extensions in /Users/sqnair/Library/Python/3.9/lib/python/site-packages (from qiskit) (4.11.0)\n",
            "Requirement already satisfied: six>=1.5 in /Library/Developer/CommandLineTools/Library/Frameworks/Python3.framework/Versions/3.9/lib/python3.9/site-packages (from python-dateutil>=2.8.0->qiskit) (1.15.0)\n",
            "Requirement already satisfied: pbr!=2.1.0,>=2.0.0 in /Users/sqnair/Library/Python/3.9/lib/python/site-packages (from stevedore>=3.0.0->qiskit) (6.0.0)\n",
            "Requirement already satisfied: mpmath>=0.19 in /Users/sqnair/Library/Python/3.9/lib/python/site-packages (from sympy>=1.3->qiskit) (1.3.0)\n",
            "\u001b[33mWARNING: You are using pip version 21.2.4; however, version 24.2 is available.\n",
            "You should consider upgrading via the '/Library/Developer/CommandLineTools/usr/bin/python3 -m pip install --upgrade pip' command.\u001b[0m\n",
            "Note: you may need to restart the kernel to use updated packages.\n"
          ]
        }
      ],
      "source": [
        "pip install qiskit"
      ]
    },
    {
      "cell_type": "code",
      "execution_count": 3,
      "metadata": {
        "colab": {
          "base_uri": "https://localhost:8080/"
        },
        "id": "8zn58gkH1YCs",
        "outputId": "57184e82-abb6-4966-aec2-d18df5f628d6"
      },
      "outputs": [
        {
          "name": "stdout",
          "output_type": "stream",
          "text": [
            "Defaulting to user installation because normal site-packages is not writeable\n",
            "Requirement already satisfied: qiskit-aer in /Users/sqnair/Library/Python/3.9/lib/python/site-packages (0.14.0.1)\n",
            "Requirement already satisfied: numpy>=1.16.3 in /Users/sqnair/Library/Python/3.9/lib/python/site-packages (from qiskit-aer) (1.26.4)\n",
            "Requirement already satisfied: scipy>=1.0 in /Users/sqnair/Library/Python/3.9/lib/python/site-packages (from qiskit-aer) (1.13.0)\n",
            "Requirement already satisfied: psutil>=5 in /Users/sqnair/Library/Python/3.9/lib/python/site-packages (from qiskit-aer) (5.9.8)\n",
            "Requirement already satisfied: qiskit>=0.45.0 in /Users/sqnair/Library/Python/3.9/lib/python/site-packages (from qiskit-aer) (1.1.0)\n",
            "Requirement already satisfied: rustworkx>=0.14.0 in /Users/sqnair/Library/Python/3.9/lib/python/site-packages (from qiskit>=0.45.0->qiskit-aer) (0.14.2)\n",
            "Requirement already satisfied: stevedore>=3.0.0 in /Users/sqnair/Library/Python/3.9/lib/python/site-packages (from qiskit>=0.45.0->qiskit-aer) (5.2.0)\n",
            "Requirement already satisfied: python-dateutil>=2.8.0 in /Users/sqnair/Library/Python/3.9/lib/python/site-packages (from qiskit>=0.45.0->qiskit-aer) (2.9.0.post0)\n",
            "Requirement already satisfied: typing-extensions in /Users/sqnair/Library/Python/3.9/lib/python/site-packages (from qiskit>=0.45.0->qiskit-aer) (4.11.0)\n",
            "Requirement already satisfied: dill>=0.3 in /Users/sqnair/Library/Python/3.9/lib/python/site-packages (from qiskit>=0.45.0->qiskit-aer) (0.3.8)\n",
            "Requirement already satisfied: symengine>=0.11 in /Users/sqnair/Library/Python/3.9/lib/python/site-packages (from qiskit>=0.45.0->qiskit-aer) (0.11.0)\n",
            "Requirement already satisfied: sympy>=1.3 in /Users/sqnair/Library/Python/3.9/lib/python/site-packages (from qiskit>=0.45.0->qiskit-aer) (1.12)\n",
            "Requirement already satisfied: six>=1.5 in /Library/Developer/CommandLineTools/Library/Frameworks/Python3.framework/Versions/3.9/lib/python3.9/site-packages (from python-dateutil>=2.8.0->qiskit>=0.45.0->qiskit-aer) (1.15.0)\n",
            "Requirement already satisfied: pbr!=2.1.0,>=2.0.0 in /Users/sqnair/Library/Python/3.9/lib/python/site-packages (from stevedore>=3.0.0->qiskit>=0.45.0->qiskit-aer) (6.0.0)\n",
            "Requirement already satisfied: mpmath>=0.19 in /Users/sqnair/Library/Python/3.9/lib/python/site-packages (from sympy>=1.3->qiskit>=0.45.0->qiskit-aer) (1.3.0)\n",
            "\u001b[33mWARNING: You are using pip version 21.2.4; however, version 24.2 is available.\n",
            "You should consider upgrading via the '/Library/Developer/CommandLineTools/usr/bin/python3 -m pip install --upgrade pip' command.\u001b[0m\n",
            "Note: you may need to restart the kernel to use updated packages.\n"
          ]
        }
      ],
      "source": [
        "pip install qiskit-aer"
      ]
    },
    {
      "cell_type": "code",
      "execution_count": 4,
      "metadata": {
        "colab": {
          "base_uri": "https://localhost:8080/"
        },
        "id": "nHNtEusB1Z_i",
        "outputId": "475e1111-c0aa-4314-e0f6-3e4998192496"
      },
      "outputs": [
        {
          "name": "stdout",
          "output_type": "stream",
          "text": [
            "/bin/bash: pip: command not found\n"
          ]
        }
      ],
      "source": [
        "!pip install pylatexenc"
      ]
    },
    {
      "cell_type": "code",
      "execution_count": 5,
      "metadata": {
        "id": "o8ly0LGIm9OE"
      },
      "outputs": [],
      "source": [
        "from qiskit_aer import Aer\n",
        "from qiskit import QuantumCircuit, transpile, assemble\n",
        "from qiskit.quantum_info import Statevector\n",
        "from qiskit.visualization import plot_histogram, plot_bloch_multivector\n",
        "from qiskit.circuit.library import QFT , CCXGate, UnitaryGate\n",
        "import numpy as np\n",
        "import matplotlib.pyplot as plt\n",
        "import plotly.graph_objects as go"
      ]
    },
    {
      "cell_type": "code",
      "execution_count": 6,
      "metadata": {
        "id": "fGRhQ2aGQgZN"
      },
      "outputs": [],
      "source": [
        "from qiskit.circuit.library import Diagonal\n",
        "from qiskit.quantum_info import Operator"
      ]
    },
    {
      "cell_type": "code",
      "execution_count": 7,
      "metadata": {
        "id": "1w2l9zp_bADO"
      },
      "outputs": [
        {
          "name": "stderr",
          "output_type": "stream",
          "text": [
            "/Users/sqnair/Library/Python/3.9/lib/python/site-packages/urllib3/__init__.py:35: NotOpenSSLWarning: urllib3 v2 only supports OpenSSL 1.1.1+, currently the 'ssl' module is compiled with 'LibreSSL 2.8.3'. See: https://github.com/urllib3/urllib3/issues/3020\n",
            "  warnings.warn(\n"
          ]
        }
      ],
      "source": [
        "import pennylane as qml\n",
        "from pennylane.templates.state_preparations.mottonen import compute_theta, gray_code\n",
        "import numpy as np\n",
        "import matplotlib.pyplot as plt"
      ]
    },
    {
      "cell_type": "code",
      "execution_count": 8,
      "metadata": {
        "colab": {
          "base_uri": "https://localhost:8080/"
        },
        "id": "_bUC7Ce79La0",
        "outputId": "63364956-42ad-42aa-d3ea-b84f1202920f"
      },
      "outputs": [
        {
          "name": "stdout",
          "output_type": "stream",
          "text": [
            "Defaulting to user installation because normal site-packages is not writeable\n",
            "Requirement already satisfied: plotly==5.22.0 in /Users/sqnair/Library/Python/3.9/lib/python/site-packages (5.22.0)\n",
            "Requirement already satisfied: tenacity>=6.2.0 in /Users/sqnair/Library/Python/3.9/lib/python/site-packages (from plotly==5.22.0) (8.4.2)\n",
            "Requirement already satisfied: packaging in /Users/sqnair/Library/Python/3.9/lib/python/site-packages (from plotly==5.22.0) (24.0)\n",
            "\u001b[33mWARNING: You are using pip version 21.2.4; however, version 24.2 is available.\n",
            "You should consider upgrading via the '/Library/Developer/CommandLineTools/usr/bin/python3 -m pip install --upgrade pip' command.\u001b[0m\n",
            "Note: you may need to restart the kernel to use updated packages.\n"
          ]
        }
      ],
      "source": [
        "pip install plotly==5.22.0"
      ]
    },
    {
      "cell_type": "code",
      "execution_count": 9,
      "metadata": {
        "id": "Grm4ju3_9La1"
      },
      "outputs": [
        {
          "name": "stdout",
          "output_type": "stream",
          "text": [
            "\u001b[33mWARNING: You are using pip version 21.2.4; however, version 24.2 is available.\n",
            "You should consider upgrading via the '/Library/Developer/CommandLineTools/usr/bin/python3 -m pip install --upgrade pip' command.\u001b[0m\n",
            "Note: you may need to restart the kernel to use updated packages.\n"
          ]
        }
      ],
      "source": [
        "pip install nbformat>=4.2.0"
      ]
    },
    {
      "cell_type": "markdown",
      "metadata": {
        "id": "SK2PN69Pa5Ev"
      },
      "source": [
        "\n",
        "\n",
        "---\n",
        "\n",
        "\n",
        "\n",
        "---\n",
        "\n"
      ]
    },
    {
      "cell_type": "code",
      "execution_count": 18,
      "metadata": {
        "colab": {
          "base_uri": "https://localhost:8080/"
        },
        "id": "-S0GjWeQbNbh",
        "outputId": "2971dcfd-c48a-4fc7-fc51-4ac32900a2ba"
      },
      "outputs": [
        {
          "name": "stdout",
          "output_type": "stream",
          "text": [
            "[0.07001400420140048, 0.14002800840280097, 0.21004201260420147, 0.28005601680560194, 0.3500700210070024, 0.42008402520840293, 0.4900980294098034, 0.5601120336112039, 0, 0, 0, 0, 0, 0, 0, 0]\n",
            "[0.07001400420140048, 0.14002800840280097, 0.21004201260420147, 0.28005601680560194, 0.3500700210070024, 0.42008402520840293, 0.4900980294098034, 0.5601120336112039, 0, 0, 0, 0, 0, 0, 0, 0]\n",
            "[0.07001400420140048, 0.14002800840280097, 0.21004201260420147, 0.28005601680560194, 0.3500700210070024, 0.42008402520840293, 0.4900980294098034, 0.5601120336112039] [0.07001400420140048, 0.14002800840280097, 0.21004201260420147, 0.28005601680560194, 0.3500700210070024, 0.42008402520840293, 0.4900980294098034, 0.5601120336112039]\n",
            "14.2828568570857 14.2828568570857\n"
          ]
        }
      ],
      "source": [
        "# Function to normalize a vector\n",
        "def normalize(coeffs):\n",
        "    norm = np.linalg.norm(coeffs)\n",
        "    return [c / norm for c in coeffs], norm\n",
        "\n",
        "# for now this only works for same lenght norm array 1 and 2. fo unequal array lenghts we need to add padding.\n",
        "norm_array1, norm1 = normalize([1,2,3,4, 5,6,7,8])\n",
        "norm_array2, norm2 = normalize([1,2,3,4, 5,6,7,8])\n",
        "print(norm_array1 + [0]*len(norm_array1))\n",
        "print(norm_array2 + [0]*len(norm_array2))\n",
        "print(norm_array1, norm_array2)\n",
        "print(norm1, norm2)"
      ]
    },
    {
      "cell_type": "markdown",
      "metadata": {
        "id": "vZ2S03Bgc1M4"
      },
      "source": [
        "# classical part"
      ]
    },
    {
      "cell_type": "code",
      "execution_count": 19,
      "metadata": {
        "colab": {
          "base_uri": "https://localhost:8080/"
        },
        "id": "FArC5hyScKb2",
        "outputId": "fdad1149-9d75-473e-9f0f-bfbd1c42796b"
      },
      "outputs": [
        {
          "name": "stdout",
          "output_type": "stream",
          "text": [
            "Element-wise product: [0.00490196 0.01960784 0.04411765 0.07843137 0.12254902 0.17647059\n",
            " 0.24019608 0.31372549 0.         0.         0.         0.\n",
            " 0.         0.         0.         0.        ]\n"
          ]
        }
      ],
      "source": [
        "import numpy as np\n",
        "\n",
        "# Define the two arrays\n",
        "array1 = np.array(norm_array1 + [0]*len(norm_array1))\n",
        "array2 = np.array(norm_array2 + [0]*len(norm_array2))\n",
        "\n",
        "# Compute the element-wise product\n",
        "elementwise_product = np.multiply(array1, array2)\n",
        "\n",
        "# Print the result\n",
        "print(\"Element-wise product:\", elementwise_product)"
      ]
    },
    {
      "cell_type": "code",
      "execution_count": 20,
      "metadata": {
        "colab": {
          "base_uri": "https://localhost:8080/",
          "height": 542
        },
        "id": "PW4sEl0JcnHg",
        "outputId": "92311edb-8e0f-411b-a8b0-e5399db7b68b"
      },
      "outputs": [
        {
          "data": {
            "application/vnd.plotly.v1+json": {
              "config": {
                "plotlyServerURL": "https://plot.ly"
              },
              "data": [
                {
                  "name": "input signal",
                  "type": "scatter",
                  "y": [
                    0.07001400420140048,
                    0.14002800840280097,
                    0.21004201260420147,
                    0.28005601680560194,
                    0.3500700210070024,
                    0.42008402520840293,
                    0.4900980294098034,
                    0.5601120336112039,
                    0,
                    0,
                    0,
                    0,
                    0,
                    0,
                    0,
                    0
                  ]
                },
                {
                  "name": "filtered result",
                  "type": "scatter",
                  "y": [
                    0.0049019607843137246,
                    0.019607843137254898,
                    0.04901960784313725,
                    0.0980392156862745,
                    0.17156862745098037,
                    0.2745098039215686,
                    0.4117647058823529,
                    0.588235294117647,
                    0.7205882352941175,
                    0.8039215686274508,
                    0.8333333333333333,
                    0.8039215686274509,
                    0.7107843137254901,
                    0.5490196078431372,
                    0.31372549019607837,
                    0,
                    0,
                    0,
                    0,
                    0,
                    0,
                    0,
                    0,
                    0,
                    0,
                    0,
                    0,
                    0,
                    0,
                    0,
                    0
                  ]
                }
              ],
              "layout": {
                "template": {
                  "data": {
                    "bar": [
                      {
                        "error_x": {
                          "color": "#2a3f5f"
                        },
                        "error_y": {
                          "color": "#2a3f5f"
                        },
                        "marker": {
                          "line": {
                            "color": "#E5ECF6",
                            "width": 0.5
                          },
                          "pattern": {
                            "fillmode": "overlay",
                            "size": 10,
                            "solidity": 0.2
                          }
                        },
                        "type": "bar"
                      }
                    ],
                    "barpolar": [
                      {
                        "marker": {
                          "line": {
                            "color": "#E5ECF6",
                            "width": 0.5
                          },
                          "pattern": {
                            "fillmode": "overlay",
                            "size": 10,
                            "solidity": 0.2
                          }
                        },
                        "type": "barpolar"
                      }
                    ],
                    "carpet": [
                      {
                        "aaxis": {
                          "endlinecolor": "#2a3f5f",
                          "gridcolor": "white",
                          "linecolor": "white",
                          "minorgridcolor": "white",
                          "startlinecolor": "#2a3f5f"
                        },
                        "baxis": {
                          "endlinecolor": "#2a3f5f",
                          "gridcolor": "white",
                          "linecolor": "white",
                          "minorgridcolor": "white",
                          "startlinecolor": "#2a3f5f"
                        },
                        "type": "carpet"
                      }
                    ],
                    "choropleth": [
                      {
                        "colorbar": {
                          "outlinewidth": 0,
                          "ticks": ""
                        },
                        "type": "choropleth"
                      }
                    ],
                    "contour": [
                      {
                        "colorbar": {
                          "outlinewidth": 0,
                          "ticks": ""
                        },
                        "colorscale": [
                          [
                            0,
                            "#0d0887"
                          ],
                          [
                            0.1111111111111111,
                            "#46039f"
                          ],
                          [
                            0.2222222222222222,
                            "#7201a8"
                          ],
                          [
                            0.3333333333333333,
                            "#9c179e"
                          ],
                          [
                            0.4444444444444444,
                            "#bd3786"
                          ],
                          [
                            0.5555555555555556,
                            "#d8576b"
                          ],
                          [
                            0.6666666666666666,
                            "#ed7953"
                          ],
                          [
                            0.7777777777777778,
                            "#fb9f3a"
                          ],
                          [
                            0.8888888888888888,
                            "#fdca26"
                          ],
                          [
                            1,
                            "#f0f921"
                          ]
                        ],
                        "type": "contour"
                      }
                    ],
                    "contourcarpet": [
                      {
                        "colorbar": {
                          "outlinewidth": 0,
                          "ticks": ""
                        },
                        "type": "contourcarpet"
                      }
                    ],
                    "heatmap": [
                      {
                        "colorbar": {
                          "outlinewidth": 0,
                          "ticks": ""
                        },
                        "colorscale": [
                          [
                            0,
                            "#0d0887"
                          ],
                          [
                            0.1111111111111111,
                            "#46039f"
                          ],
                          [
                            0.2222222222222222,
                            "#7201a8"
                          ],
                          [
                            0.3333333333333333,
                            "#9c179e"
                          ],
                          [
                            0.4444444444444444,
                            "#bd3786"
                          ],
                          [
                            0.5555555555555556,
                            "#d8576b"
                          ],
                          [
                            0.6666666666666666,
                            "#ed7953"
                          ],
                          [
                            0.7777777777777778,
                            "#fb9f3a"
                          ],
                          [
                            0.8888888888888888,
                            "#fdca26"
                          ],
                          [
                            1,
                            "#f0f921"
                          ]
                        ],
                        "type": "heatmap"
                      }
                    ],
                    "heatmapgl": [
                      {
                        "colorbar": {
                          "outlinewidth": 0,
                          "ticks": ""
                        },
                        "colorscale": [
                          [
                            0,
                            "#0d0887"
                          ],
                          [
                            0.1111111111111111,
                            "#46039f"
                          ],
                          [
                            0.2222222222222222,
                            "#7201a8"
                          ],
                          [
                            0.3333333333333333,
                            "#9c179e"
                          ],
                          [
                            0.4444444444444444,
                            "#bd3786"
                          ],
                          [
                            0.5555555555555556,
                            "#d8576b"
                          ],
                          [
                            0.6666666666666666,
                            "#ed7953"
                          ],
                          [
                            0.7777777777777778,
                            "#fb9f3a"
                          ],
                          [
                            0.8888888888888888,
                            "#fdca26"
                          ],
                          [
                            1,
                            "#f0f921"
                          ]
                        ],
                        "type": "heatmapgl"
                      }
                    ],
                    "histogram": [
                      {
                        "marker": {
                          "pattern": {
                            "fillmode": "overlay",
                            "size": 10,
                            "solidity": 0.2
                          }
                        },
                        "type": "histogram"
                      }
                    ],
                    "histogram2d": [
                      {
                        "colorbar": {
                          "outlinewidth": 0,
                          "ticks": ""
                        },
                        "colorscale": [
                          [
                            0,
                            "#0d0887"
                          ],
                          [
                            0.1111111111111111,
                            "#46039f"
                          ],
                          [
                            0.2222222222222222,
                            "#7201a8"
                          ],
                          [
                            0.3333333333333333,
                            "#9c179e"
                          ],
                          [
                            0.4444444444444444,
                            "#bd3786"
                          ],
                          [
                            0.5555555555555556,
                            "#d8576b"
                          ],
                          [
                            0.6666666666666666,
                            "#ed7953"
                          ],
                          [
                            0.7777777777777778,
                            "#fb9f3a"
                          ],
                          [
                            0.8888888888888888,
                            "#fdca26"
                          ],
                          [
                            1,
                            "#f0f921"
                          ]
                        ],
                        "type": "histogram2d"
                      }
                    ],
                    "histogram2dcontour": [
                      {
                        "colorbar": {
                          "outlinewidth": 0,
                          "ticks": ""
                        },
                        "colorscale": [
                          [
                            0,
                            "#0d0887"
                          ],
                          [
                            0.1111111111111111,
                            "#46039f"
                          ],
                          [
                            0.2222222222222222,
                            "#7201a8"
                          ],
                          [
                            0.3333333333333333,
                            "#9c179e"
                          ],
                          [
                            0.4444444444444444,
                            "#bd3786"
                          ],
                          [
                            0.5555555555555556,
                            "#d8576b"
                          ],
                          [
                            0.6666666666666666,
                            "#ed7953"
                          ],
                          [
                            0.7777777777777778,
                            "#fb9f3a"
                          ],
                          [
                            0.8888888888888888,
                            "#fdca26"
                          ],
                          [
                            1,
                            "#f0f921"
                          ]
                        ],
                        "type": "histogram2dcontour"
                      }
                    ],
                    "mesh3d": [
                      {
                        "colorbar": {
                          "outlinewidth": 0,
                          "ticks": ""
                        },
                        "type": "mesh3d"
                      }
                    ],
                    "parcoords": [
                      {
                        "line": {
                          "colorbar": {
                            "outlinewidth": 0,
                            "ticks": ""
                          }
                        },
                        "type": "parcoords"
                      }
                    ],
                    "pie": [
                      {
                        "automargin": true,
                        "type": "pie"
                      }
                    ],
                    "scatter": [
                      {
                        "fillpattern": {
                          "fillmode": "overlay",
                          "size": 10,
                          "solidity": 0.2
                        },
                        "type": "scatter"
                      }
                    ],
                    "scatter3d": [
                      {
                        "line": {
                          "colorbar": {
                            "outlinewidth": 0,
                            "ticks": ""
                          }
                        },
                        "marker": {
                          "colorbar": {
                            "outlinewidth": 0,
                            "ticks": ""
                          }
                        },
                        "type": "scatter3d"
                      }
                    ],
                    "scattercarpet": [
                      {
                        "marker": {
                          "colorbar": {
                            "outlinewidth": 0,
                            "ticks": ""
                          }
                        },
                        "type": "scattercarpet"
                      }
                    ],
                    "scattergeo": [
                      {
                        "marker": {
                          "colorbar": {
                            "outlinewidth": 0,
                            "ticks": ""
                          }
                        },
                        "type": "scattergeo"
                      }
                    ],
                    "scattergl": [
                      {
                        "marker": {
                          "colorbar": {
                            "outlinewidth": 0,
                            "ticks": ""
                          }
                        },
                        "type": "scattergl"
                      }
                    ],
                    "scattermapbox": [
                      {
                        "marker": {
                          "colorbar": {
                            "outlinewidth": 0,
                            "ticks": ""
                          }
                        },
                        "type": "scattermapbox"
                      }
                    ],
                    "scatterpolar": [
                      {
                        "marker": {
                          "colorbar": {
                            "outlinewidth": 0,
                            "ticks": ""
                          }
                        },
                        "type": "scatterpolar"
                      }
                    ],
                    "scatterpolargl": [
                      {
                        "marker": {
                          "colorbar": {
                            "outlinewidth": 0,
                            "ticks": ""
                          }
                        },
                        "type": "scatterpolargl"
                      }
                    ],
                    "scatterternary": [
                      {
                        "marker": {
                          "colorbar": {
                            "outlinewidth": 0,
                            "ticks": ""
                          }
                        },
                        "type": "scatterternary"
                      }
                    ],
                    "surface": [
                      {
                        "colorbar": {
                          "outlinewidth": 0,
                          "ticks": ""
                        },
                        "colorscale": [
                          [
                            0,
                            "#0d0887"
                          ],
                          [
                            0.1111111111111111,
                            "#46039f"
                          ],
                          [
                            0.2222222222222222,
                            "#7201a8"
                          ],
                          [
                            0.3333333333333333,
                            "#9c179e"
                          ],
                          [
                            0.4444444444444444,
                            "#bd3786"
                          ],
                          [
                            0.5555555555555556,
                            "#d8576b"
                          ],
                          [
                            0.6666666666666666,
                            "#ed7953"
                          ],
                          [
                            0.7777777777777778,
                            "#fb9f3a"
                          ],
                          [
                            0.8888888888888888,
                            "#fdca26"
                          ],
                          [
                            1,
                            "#f0f921"
                          ]
                        ],
                        "type": "surface"
                      }
                    ],
                    "table": [
                      {
                        "cells": {
                          "fill": {
                            "color": "#EBF0F8"
                          },
                          "line": {
                            "color": "white"
                          }
                        },
                        "header": {
                          "fill": {
                            "color": "#C8D4E3"
                          },
                          "line": {
                            "color": "white"
                          }
                        },
                        "type": "table"
                      }
                    ]
                  },
                  "layout": {
                    "annotationdefaults": {
                      "arrowcolor": "#2a3f5f",
                      "arrowhead": 0,
                      "arrowwidth": 1
                    },
                    "autotypenumbers": "strict",
                    "coloraxis": {
                      "colorbar": {
                        "outlinewidth": 0,
                        "ticks": ""
                      }
                    },
                    "colorscale": {
                      "diverging": [
                        [
                          0,
                          "#8e0152"
                        ],
                        [
                          0.1,
                          "#c51b7d"
                        ],
                        [
                          0.2,
                          "#de77ae"
                        ],
                        [
                          0.3,
                          "#f1b6da"
                        ],
                        [
                          0.4,
                          "#fde0ef"
                        ],
                        [
                          0.5,
                          "#f7f7f7"
                        ],
                        [
                          0.6,
                          "#e6f5d0"
                        ],
                        [
                          0.7,
                          "#b8e186"
                        ],
                        [
                          0.8,
                          "#7fbc41"
                        ],
                        [
                          0.9,
                          "#4d9221"
                        ],
                        [
                          1,
                          "#276419"
                        ]
                      ],
                      "sequential": [
                        [
                          0,
                          "#0d0887"
                        ],
                        [
                          0.1111111111111111,
                          "#46039f"
                        ],
                        [
                          0.2222222222222222,
                          "#7201a8"
                        ],
                        [
                          0.3333333333333333,
                          "#9c179e"
                        ],
                        [
                          0.4444444444444444,
                          "#bd3786"
                        ],
                        [
                          0.5555555555555556,
                          "#d8576b"
                        ],
                        [
                          0.6666666666666666,
                          "#ed7953"
                        ],
                        [
                          0.7777777777777778,
                          "#fb9f3a"
                        ],
                        [
                          0.8888888888888888,
                          "#fdca26"
                        ],
                        [
                          1,
                          "#f0f921"
                        ]
                      ],
                      "sequentialminus": [
                        [
                          0,
                          "#0d0887"
                        ],
                        [
                          0.1111111111111111,
                          "#46039f"
                        ],
                        [
                          0.2222222222222222,
                          "#7201a8"
                        ],
                        [
                          0.3333333333333333,
                          "#9c179e"
                        ],
                        [
                          0.4444444444444444,
                          "#bd3786"
                        ],
                        [
                          0.5555555555555556,
                          "#d8576b"
                        ],
                        [
                          0.6666666666666666,
                          "#ed7953"
                        ],
                        [
                          0.7777777777777778,
                          "#fb9f3a"
                        ],
                        [
                          0.8888888888888888,
                          "#fdca26"
                        ],
                        [
                          1,
                          "#f0f921"
                        ]
                      ]
                    },
                    "colorway": [
                      "#636efa",
                      "#EF553B",
                      "#00cc96",
                      "#ab63fa",
                      "#FFA15A",
                      "#19d3f3",
                      "#FF6692",
                      "#B6E880",
                      "#FF97FF",
                      "#FECB52"
                    ],
                    "font": {
                      "color": "#2a3f5f"
                    },
                    "geo": {
                      "bgcolor": "white",
                      "lakecolor": "white",
                      "landcolor": "#E5ECF6",
                      "showlakes": true,
                      "showland": true,
                      "subunitcolor": "white"
                    },
                    "hoverlabel": {
                      "align": "left"
                    },
                    "hovermode": "closest",
                    "mapbox": {
                      "style": "light"
                    },
                    "paper_bgcolor": "white",
                    "plot_bgcolor": "#E5ECF6",
                    "polar": {
                      "angularaxis": {
                        "gridcolor": "white",
                        "linecolor": "white",
                        "ticks": ""
                      },
                      "bgcolor": "#E5ECF6",
                      "radialaxis": {
                        "gridcolor": "white",
                        "linecolor": "white",
                        "ticks": ""
                      }
                    },
                    "scene": {
                      "xaxis": {
                        "backgroundcolor": "#E5ECF6",
                        "gridcolor": "white",
                        "gridwidth": 2,
                        "linecolor": "white",
                        "showbackground": true,
                        "ticks": "",
                        "zerolinecolor": "white"
                      },
                      "yaxis": {
                        "backgroundcolor": "#E5ECF6",
                        "gridcolor": "white",
                        "gridwidth": 2,
                        "linecolor": "white",
                        "showbackground": true,
                        "ticks": "",
                        "zerolinecolor": "white"
                      },
                      "zaxis": {
                        "backgroundcolor": "#E5ECF6",
                        "gridcolor": "white",
                        "gridwidth": 2,
                        "linecolor": "white",
                        "showbackground": true,
                        "ticks": "",
                        "zerolinecolor": "white"
                      }
                    },
                    "shapedefaults": {
                      "line": {
                        "color": "#2a3f5f"
                      }
                    },
                    "ternary": {
                      "aaxis": {
                        "gridcolor": "white",
                        "linecolor": "white",
                        "ticks": ""
                      },
                      "baxis": {
                        "gridcolor": "white",
                        "linecolor": "white",
                        "ticks": ""
                      },
                      "bgcolor": "#E5ECF6",
                      "caxis": {
                        "gridcolor": "white",
                        "linecolor": "white",
                        "ticks": ""
                      }
                    },
                    "title": {
                      "x": 0.05
                    },
                    "xaxis": {
                      "automargin": true,
                      "gridcolor": "white",
                      "linecolor": "white",
                      "ticks": "",
                      "title": {
                        "standoff": 15
                      },
                      "zerolinecolor": "white",
                      "zerolinewidth": 2
                    },
                    "yaxis": {
                      "automargin": true,
                      "gridcolor": "white",
                      "linecolor": "white",
                      "ticks": "",
                      "title": {
                        "standoff": 15
                      },
                      "zerolinecolor": "white",
                      "zerolinewidth": 2
                    }
                  }
                }
              }
            }
          },
          "metadata": {},
          "output_type": "display_data"
        }
      ],
      "source": [
        "import plotly.graph_objects as go\n",
        "\n",
        "# Perform convolution\n",
        "convolution_result = np.convolve(array1, array2, mode='full')\n",
        "\n",
        "traces = []\n",
        "traces.append(go.Scatter(y=array1, name=\"input signal\"))\n",
        "traces.append(go.Scatter(y=convolution_result, name=\"filtered result\"))\n",
        "fig = go.Figure(traces)\n",
        "fig.show()"
      ]
    },
    {
      "cell_type": "markdown",
      "metadata": {
        "id": "T_-RTj1Lc384"
      },
      "source": [
        "# quantum part"
      ]
    },
    {
      "cell_type": "markdown",
      "metadata": {
        "id": "vzYxKapCdCMz"
      },
      "source": [
        "## qft matrix"
      ]
    },
    {
      "cell_type": "code",
      "execution_count": 21,
      "metadata": {
        "colab": {
          "base_uri": "https://localhost:8080/"
        },
        "id": "M5QCCaoppT3V",
        "outputId": "2a1b9d39-d6bd-4636-db72-cddd9f286b39"
      },
      "outputs": [
        {
          "name": "stdout",
          "output_type": "stream",
          "text": [
            "4\n"
          ]
        }
      ],
      "source": [
        "qubits = int(np.log2(len(array1)))\n",
        "print(qubits)"
      ]
    },
    {
      "cell_type": "code",
      "execution_count": 22,
      "metadata": {
        "colab": {
          "base_uri": "https://localhost:8080/"
        },
        "id": "FZY7HTovdNNB",
        "outputId": "ec31d99a-a6c0-4f08-a4b1-6aff3e502bf7"
      },
      "outputs": [
        {
          "name": "stdout",
          "output_type": "stream",
          "text": [
            "QFT Matrix for 3 Qubits:\n",
            "[[ 2.50000000e-01+0.00000000e+00j  2.50000000e-01+0.00000000e+00j\n",
            "   2.50000000e-01+0.00000000e+00j  2.50000000e-01+0.00000000e+00j\n",
            "   2.50000000e-01+0.00000000e+00j  2.50000000e-01+0.00000000e+00j\n",
            "   2.50000000e-01+0.00000000e+00j  2.50000000e-01+0.00000000e+00j\n",
            "   2.50000000e-01+0.00000000e+00j  2.50000000e-01+0.00000000e+00j\n",
            "   2.50000000e-01+0.00000000e+00j  2.50000000e-01+0.00000000e+00j\n",
            "   2.50000000e-01+0.00000000e+00j  2.50000000e-01+0.00000000e+00j\n",
            "   2.50000000e-01+0.00000000e+00j  2.50000000e-01+0.00000000e+00j]\n",
            " [ 2.50000000e-01+0.00000000e+00j  2.30969883e-01+9.56708581e-02j\n",
            "   1.76776695e-01+1.76776695e-01j  9.56708581e-02+2.30969883e-01j\n",
            "  -5.55111512e-17+2.50000000e-01j -9.56708581e-02+2.30969883e-01j\n",
            "  -1.76776695e-01+1.76776695e-01j -2.30969883e-01+9.56708581e-02j\n",
            "  -2.50000000e-01-1.11022302e-16j -2.30969883e-01-9.56708581e-02j\n",
            "  -1.76776695e-01-1.76776695e-01j -9.56708581e-02-2.30969883e-01j\n",
            "   1.66533454e-16-2.50000000e-01j  9.56708581e-02-2.30969883e-01j\n",
            "   1.76776695e-01-1.76776695e-01j  2.30969883e-01-9.56708581e-02j]\n",
            " [ 2.50000000e-01+0.00000000e+00j  1.76776695e-01+1.76776695e-01j\n",
            "  -5.55111512e-17+2.50000000e-01j -1.76776695e-01+1.76776695e-01j\n",
            "  -2.50000000e-01-1.11022302e-16j -1.76776695e-01-1.76776695e-01j\n",
            "   1.66533454e-16-2.50000000e-01j  1.76776695e-01-1.76776695e-01j\n",
            "   2.50000000e-01+2.22044605e-16j  1.76776695e-01+1.76776695e-01j\n",
            "  -2.77555756e-16+2.50000000e-01j -1.76776695e-01+1.76776695e-01j\n",
            "  -2.50000000e-01-3.33066907e-16j -1.76776695e-01-1.76776695e-01j\n",
            "   3.88578059e-16-2.50000000e-01j  1.76776695e-01-1.76776695e-01j]\n",
            " [ 2.50000000e-01+0.00000000e+00j  9.56708581e-02+2.30969883e-01j\n",
            "  -1.76776695e-01+1.76776695e-01j -2.30969883e-01-9.56708581e-02j\n",
            "   1.66533454e-16-2.50000000e-01j  2.30969883e-01-9.56708581e-02j\n",
            "   1.76776695e-01+1.76776695e-01j -9.56708581e-02+2.30969883e-01j\n",
            "  -2.50000000e-01-3.33066907e-16j -9.56708581e-02-2.30969883e-01j\n",
            "   1.76776695e-01-1.76776695e-01j  2.30969883e-01+9.56708581e-02j\n",
            "  -4.99600361e-16+2.50000000e-01j -2.30969883e-01+9.56708581e-02j\n",
            "  -1.76776695e-01-1.76776695e-01j  9.56708581e-02-2.30969883e-01j]\n",
            " [ 2.50000000e-01+0.00000000e+00j -5.55111512e-17+2.50000000e-01j\n",
            "  -2.50000000e-01-1.11022302e-16j  1.66533454e-16-2.50000000e-01j\n",
            "   2.50000000e-01+2.22044605e-16j -2.77555756e-16+2.50000000e-01j\n",
            "  -2.50000000e-01-3.33066907e-16j  3.88578059e-16-2.50000000e-01j\n",
            "   2.50000000e-01+4.44089210e-16j -4.99600361e-16+2.50000000e-01j\n",
            "  -2.50000000e-01-5.55111512e-16j  6.10622664e-16-2.50000000e-01j\n",
            "   2.50000000e-01+6.66133815e-16j -7.21644966e-16+2.50000000e-01j\n",
            "  -2.50000000e-01-7.77156117e-16j  8.32667268e-16-2.50000000e-01j]\n",
            " [ 2.50000000e-01+0.00000000e+00j -9.56708581e-02+2.30969883e-01j\n",
            "  -1.76776695e-01-1.76776695e-01j  2.30969883e-01-9.56708581e-02j\n",
            "  -2.77555756e-16+2.50000000e-01j -2.30969883e-01-9.56708581e-02j\n",
            "   1.76776695e-01-1.76776695e-01j  9.56708581e-02+2.30969883e-01j\n",
            "  -2.50000000e-01-5.55111512e-16j  9.56708581e-02-2.30969883e-01j\n",
            "   1.76776695e-01+1.76776695e-01j -2.30969883e-01+9.56708581e-02j\n",
            "   8.32667268e-16-2.50000000e-01j  2.30969883e-01+9.56708581e-02j\n",
            "  -1.76776695e-01+1.76776695e-01j -9.56708581e-02-2.30969883e-01j]\n",
            " [ 2.50000000e-01+0.00000000e+00j -1.76776695e-01+1.76776695e-01j\n",
            "   1.66533454e-16-2.50000000e-01j  1.76776695e-01+1.76776695e-01j\n",
            "  -2.50000000e-01-3.33066907e-16j  1.76776695e-01-1.76776695e-01j\n",
            "  -4.99600361e-16+2.50000000e-01j -1.76776695e-01-1.76776695e-01j\n",
            "   2.50000000e-01+6.66133815e-16j -1.76776695e-01+1.76776695e-01j\n",
            "   8.32667268e-16-2.50000000e-01j  1.76776695e-01+1.76776695e-01j\n",
            "  -2.50000000e-01-9.99200722e-16j  1.76776695e-01-1.76776695e-01j\n",
            "  -1.16573418e-15+2.50000000e-01j -1.76776695e-01-1.76776695e-01j]\n",
            " [ 2.50000000e-01+0.00000000e+00j -2.30969883e-01+9.56708581e-02j\n",
            "   1.76776695e-01-1.76776695e-01j -9.56708581e-02+2.30969883e-01j\n",
            "   3.88578059e-16-2.50000000e-01j  9.56708581e-02+2.30969883e-01j\n",
            "  -1.76776695e-01-1.76776695e-01j  2.30969883e-01+9.56708581e-02j\n",
            "  -2.50000000e-01-7.77156117e-16j  2.30969883e-01-9.56708581e-02j\n",
            "  -1.76776695e-01+1.76776695e-01j  9.56708581e-02-2.30969883e-01j\n",
            "  -1.16573418e-15+2.50000000e-01j -9.56708581e-02-2.30969883e-01j\n",
            "   1.76776695e-01+1.76776695e-01j -2.30969883e-01-9.56708581e-02j]\n",
            " [ 2.50000000e-01+0.00000000e+00j -2.50000000e-01-1.11022302e-16j\n",
            "   2.50000000e-01+2.22044605e-16j -2.50000000e-01-3.33066907e-16j\n",
            "   2.50000000e-01+4.44089210e-16j -2.50000000e-01-5.55111512e-16j\n",
            "   2.50000000e-01+6.66133815e-16j -2.50000000e-01-7.77156117e-16j\n",
            "   2.50000000e-01+8.88178420e-16j -2.50000000e-01-9.99200722e-16j\n",
            "   2.50000000e-01+1.11022302e-15j -2.50000000e-01-1.22124533e-15j\n",
            "   2.50000000e-01+1.33226763e-15j -2.50000000e-01-4.90168210e-16j\n",
            "   2.50000000e-01+1.34773046e-15j -2.50000000e-01-4.28935870e-16j]\n",
            " [ 2.50000000e-01+0.00000000e+00j -2.30969883e-01-9.56708581e-02j\n",
            "   1.76776695e-01+1.76776695e-01j -9.56708581e-02-2.30969883e-01j\n",
            "  -4.99600361e-16+2.50000000e-01j  9.56708581e-02-2.30969883e-01j\n",
            "  -1.76776695e-01+1.76776695e-01j  2.30969883e-01-9.56708581e-02j\n",
            "  -2.50000000e-01-9.99200722e-16j  2.30969883e-01+9.56708581e-02j\n",
            "  -1.76776695e-01-1.76776695e-01j  9.56708581e-02+2.30969883e-01j\n",
            "   9.18949335e-16-2.50000000e-01j -9.56708581e-02+2.30969883e-01j\n",
            "   1.76776695e-01-1.76776695e-01j -2.30969883e-01+9.56708581e-02j]\n",
            " [ 2.50000000e-01+0.00000000e+00j -1.76776695e-01-1.76776695e-01j\n",
            "  -2.77555756e-16+2.50000000e-01j  1.76776695e-01-1.76776695e-01j\n",
            "  -2.50000000e-01-5.55111512e-16j  1.76776695e-01+1.76776695e-01j\n",
            "   8.32667268e-16-2.50000000e-01j -1.76776695e-01+1.76776695e-01j\n",
            "   2.50000000e-01+1.11022302e-15j -1.76776695e-01-1.76776695e-01j\n",
            "  -1.83774392e-15+2.50000000e-01j  1.76776695e-01-1.76776695e-01j\n",
            "  -2.50000000e-01-4.28935870e-16j  1.76776695e-01+1.76776695e-01j\n",
            "   7.96484655e-16-2.50000000e-01j -1.76776695e-01+1.76776695e-01j]\n",
            " [ 2.50000000e-01+0.00000000e+00j -9.56708581e-02-2.30969883e-01j\n",
            "  -1.76776695e-01+1.76776695e-01j  2.30969883e-01+9.56708581e-02j\n",
            "   6.10622664e-16-2.50000000e-01j -2.30969883e-01+9.56708581e-02j\n",
            "   1.76776695e-01+1.76776695e-01j  9.56708581e-02-2.30969883e-01j\n",
            "  -2.50000000e-01-1.22124533e-15j  9.56708581e-02+2.30969883e-01j\n",
            "   1.76776695e-01-1.76776695e-01j -2.30969883e-01-9.56708581e-02j\n",
            "  -1.71527924e-15+2.50000000e-01j  2.30969883e-01-9.56708581e-02j\n",
            "  -1.76776695e-01-1.76776695e-01j -9.56708581e-02+2.30969883e-01j]\n",
            " [ 2.50000000e-01+0.00000000e+00j  1.66533454e-16-2.50000000e-01j\n",
            "  -2.50000000e-01-3.33066907e-16j -4.99600361e-16+2.50000000e-01j\n",
            "   2.50000000e-01+6.66133815e-16j  8.32667268e-16-2.50000000e-01j\n",
            "  -2.50000000e-01-9.99200722e-16j -1.16573418e-15+2.50000000e-01j\n",
            "   2.50000000e-01+1.33226763e-15j  9.18949335e-16-2.50000000e-01j\n",
            "  -2.50000000e-01-4.28935870e-16j -1.71527924e-15+2.50000000e-01j\n",
            "   2.50000000e-01+1.22526578e-15j  7.35252315e-16-2.50000000e-01j\n",
            "  -2.50000000e-01-2.45238850e-16j -3.30793906e-15+2.50000000e-01j]\n",
            " [ 2.50000000e-01+0.00000000e+00j  9.56708581e-02-2.30969883e-01j\n",
            "  -1.76776695e-01-1.76776695e-01j -2.30969883e-01+9.56708581e-02j\n",
            "  -7.21644966e-16+2.50000000e-01j  2.30969883e-01+9.56708581e-02j\n",
            "   1.76776695e-01-1.76776695e-01j -9.56708581e-02-2.30969883e-01j\n",
            "  -2.50000000e-01-4.90168210e-16j -9.56708581e-02+2.30969883e-01j\n",
            "   1.76776695e-01+1.76776695e-01j  2.30969883e-01-9.56708581e-02j\n",
            "   7.35252315e-16-2.50000000e-01j -2.30969883e-01-9.56708581e-02j\n",
            "  -1.76776695e-01+1.76776695e-01j  9.56708581e-02+2.30969883e-01j]\n",
            " [ 2.50000000e-01+0.00000000e+00j  1.76776695e-01-1.76776695e-01j\n",
            "   3.88578059e-16-2.50000000e-01j -1.76776695e-01-1.76776695e-01j\n",
            "  -2.50000000e-01-7.77156117e-16j -1.76776695e-01+1.76776695e-01j\n",
            "  -1.16573418e-15+2.50000000e-01j  1.76776695e-01+1.76776695e-01j\n",
            "   2.50000000e-01+1.34773046e-15j  1.76776695e-01-1.76776695e-01j\n",
            "   7.96484655e-16-2.50000000e-01j -1.76776695e-01-1.76776695e-01j\n",
            "  -2.50000000e-01-2.45238850e-16j -1.76776695e-01+1.76776695e-01j\n",
            "  -1.47034988e-15+2.50000000e-01j  1.76776695e-01+1.76776695e-01j]\n",
            " [ 2.50000000e-01+0.00000000e+00j  2.30969883e-01-9.56708581e-02j\n",
            "   1.76776695e-01-1.76776695e-01j  9.56708581e-02-2.30969883e-01j\n",
            "   8.32667268e-16-2.50000000e-01j -9.56708581e-02-2.30969883e-01j\n",
            "  -1.76776695e-01-1.76776695e-01j -2.30969883e-01-9.56708581e-02j\n",
            "  -2.50000000e-01-4.28935870e-16j -2.30969883e-01+9.56708581e-02j\n",
            "  -1.76776695e-01+1.76776695e-01j -9.56708581e-02+2.30969883e-01j\n",
            "  -3.30793906e-15+2.50000000e-01j  9.56708581e-02+2.30969883e-01j\n",
            "   1.76776695e-01+1.76776695e-01j  2.30969883e-01+9.56708581e-02j]]\n",
            "(16, 16)\n"
          ]
        }
      ],
      "source": [
        "import numpy as np\n",
        "\n",
        "def qft_matrix(n):\n",
        "    \"\"\"Generate the QFT matrix for n qubits (size 2^n x 2^n).\"\"\"\n",
        "    N = 2**n\n",
        "    omega = np.exp(2j * np.pi / N)\n",
        "    qft_mat = np.zeros((N, N), dtype=complex)\n",
        "\n",
        "    for i in range(N):\n",
        "        for j in range(N):\n",
        "            qft_mat[i, j] = omega**(i * j)\n",
        "\n",
        "    return qft_mat / np.sqrt(N)\n",
        "\n",
        "int(np.log2(len(array1)))\n",
        "# Generate the QFT matrix for 4 qubits\n",
        "qft_mat_4_qubits = qft_matrix(qubits)\n",
        "\n",
        "# Print the QFT matrix\n",
        "print(\"QFT Matrix for 3 Qubits:\")\n",
        "print(qft_mat_4_qubits)\n",
        "print(np.shape(qft_mat_4_qubits))"
      ]
    },
    {
      "cell_type": "markdown",
      "metadata": {
        "id": "rtcjCE-bd9fW"
      },
      "source": [
        "## step 1: qft matrix on the normalised filter array and window array"
      ]
    },
    {
      "cell_type": "code",
      "execution_count": 23,
      "metadata": {
        "colab": {
          "base_uri": "https://localhost:8080/"
        },
        "id": "ZRhwEWO8dh29",
        "outputId": "771c93dc-d050-4a9f-ce47-8230dc518d75"
      },
      "outputs": [
        {
          "name": "stdout",
          "output_type": "stream",
          "text": [
            "Result of QFT matrix multiplied by filter array:\n",
            "[ 0.63012604+0.00000000e+00j -0.14242723+4.39980210e-01j\n",
            " -0.070014  -1.69028758e-01j  0.05916333+1.30979203e-01j\n",
            " -0.070014  -7.00140042e-02j  0.07485842+5.84773275e-02j\n",
            " -0.070014  -2.90007501e-02j  0.07841948+1.74083142e-02j\n",
            " -0.070014  -2.48739710e-16j  0.07841948-1.74083142e-02j\n",
            " -0.070014  +2.90007501e-02j  0.07485842-5.84773275e-02j\n",
            " -0.070014  +7.00140042e-02j  0.05916333-1.30979203e-01j\n",
            " -0.070014  +1.69028758e-01j -0.14242723-4.39980210e-01j]\n"
          ]
        }
      ],
      "source": [
        "# Define the filter array with 8 non-zero elements and 8 zeros\n",
        "# filter = [0.0020939558974013665, 0.04493999659839265, 0.267769868918511, 0.5812076801643039,\n",
        "#           0.6512469871508397, 0.39116353951309446, 0.10554509675346828, 0.014199348776285179] + [0]*8\n",
        "\n",
        "# window= [0]*0 + [ 2.84459484e-01, 1.60769035e-01, 6.52830735e-01, 1.40302564e-01,\n",
        "#   4.04440838e-01, 5.49152208e-02, 5.29882315e-01,  7.34968555e-16] + [0]*8\n",
        "\n",
        "# Convert the filter to a numpy array\n",
        "filter_array = np.array(array1)\n",
        "\n",
        "# Perform matrix-vector multiplication\n",
        "result1 = np.dot(qft_mat_4_qubits, filter_array)\n",
        "result_array1 = np.array(result1)\n",
        "# Print the resulting vector\n",
        "print(\"Result of QFT matrix multiplied by filter array:\")\n",
        "print(result1)"
      ]
    },
    {
      "cell_type": "code",
      "execution_count": 24,
      "metadata": {
        "colab": {
          "base_uri": "https://localhost:8080/"
        },
        "id": "8WBhvWUumFlQ",
        "outputId": "2614f314-e7ef-4f3d-c571-9955d4b6ae58"
      },
      "outputs": [
        {
          "name": "stdout",
          "output_type": "stream",
          "text": [
            "Result of QFT matrix multiplied by filter array:\n",
            "[ 0.63012604+0.00000000e+00j -0.14242723+4.39980210e-01j\n",
            " -0.070014  -1.69028758e-01j  0.05916333+1.30979203e-01j\n",
            " -0.070014  -7.00140042e-02j  0.07485842+5.84773275e-02j\n",
            " -0.070014  -2.90007501e-02j  0.07841948+1.74083142e-02j\n",
            " -0.070014  -2.48739710e-16j  0.07841948-1.74083142e-02j\n",
            " -0.070014  +2.90007501e-02j  0.07485842-5.84773275e-02j\n",
            " -0.070014  +7.00140042e-02j  0.05916333-1.30979203e-01j\n",
            " -0.070014  +1.69028758e-01j -0.14242723-4.39980210e-01j]\n"
          ]
        }
      ],
      "source": [
        "# Define the filter array with 8 non-zero elements and 8 zeros\n",
        "# filter = [0.0020939558974013665, 0.04493999659839265, 0.267769868918511, 0.5812076801643039,\n",
        "#           0.6512469871508397, 0.39116353951309446, 0.10554509675346828, 0.014199348776285179] + [0]*8\n",
        "\n",
        "# window= [0]*0 + [ 2.84459484e-01, 1.60769035e-01, 6.52830735e-01, 1.40302564e-01,\n",
        "#   4.04440838e-01, 5.49152208e-02, 5.29882315e-01,  7.34968555e-16] + [0]*8\n",
        "\n",
        "# Convert the filter to a numpy array\n",
        "window_array = np.array(array2)\n",
        "\n",
        "# Perform matrix-vector multiplication\n",
        "result1w = np.dot(qft_mat_4_qubits, window_array)\n",
        "result_array1w = np.array(result1w)\n",
        "# Print the resulting vector\n",
        "print(\"Result of QFT matrix multiplied by filter array:\")\n",
        "print(result1w)"
      ]
    },
    {
      "cell_type": "markdown",
      "metadata": {
        "id": "-oW6J4vvdH7v"
      },
      "source": [
        "## block matrix"
      ]
    },
    {
      "cell_type": "code",
      "execution_count": 25,
      "metadata": {
        "colab": {
          "base_uri": "https://localhost:8080/"
        },
        "id": "83Z6aUhnbCjM",
        "outputId": "02d1c162-2411-4f8d-deff-5063a4e9a00a"
      },
      "outputs": [
        {
          "name": "stdout",
          "output_type": "stream",
          "text": [
            "512\n",
            "Original matrix:\n",
            "[[ 0.63012604+0.00000000e+00j  0.        +0.00000000e+00j\n",
            "   0.        +0.00000000e+00j  0.        +0.00000000e+00j\n",
            "   0.        +0.00000000e+00j  0.        +0.00000000e+00j\n",
            "   0.        +0.00000000e+00j  0.        +0.00000000e+00j\n",
            "   0.        +0.00000000e+00j  0.        +0.00000000e+00j\n",
            "   0.        +0.00000000e+00j  0.        +0.00000000e+00j\n",
            "   0.        +0.00000000e+00j  0.        +0.00000000e+00j\n",
            "   0.        +0.00000000e+00j  0.        +0.00000000e+00j]\n",
            " [ 0.        +0.00000000e+00j -0.14242723+4.39980210e-01j\n",
            "   0.        +0.00000000e+00j  0.        +0.00000000e+00j\n",
            "   0.        +0.00000000e+00j  0.        +0.00000000e+00j\n",
            "   0.        +0.00000000e+00j  0.        +0.00000000e+00j\n",
            "   0.        +0.00000000e+00j  0.        +0.00000000e+00j\n",
            "   0.        +0.00000000e+00j  0.        +0.00000000e+00j\n",
            "   0.        +0.00000000e+00j  0.        +0.00000000e+00j\n",
            "   0.        +0.00000000e+00j  0.        +0.00000000e+00j]\n",
            " [ 0.        +0.00000000e+00j  0.        +0.00000000e+00j\n",
            "  -0.070014  -1.69028758e-01j  0.        +0.00000000e+00j\n",
            "   0.        +0.00000000e+00j  0.        +0.00000000e+00j\n",
            "   0.        +0.00000000e+00j  0.        +0.00000000e+00j\n",
            "   0.        +0.00000000e+00j  0.        +0.00000000e+00j\n",
            "   0.        +0.00000000e+00j  0.        +0.00000000e+00j\n",
            "   0.        +0.00000000e+00j  0.        +0.00000000e+00j\n",
            "   0.        +0.00000000e+00j  0.        +0.00000000e+00j]\n",
            " [ 0.        +0.00000000e+00j  0.        +0.00000000e+00j\n",
            "   0.        +0.00000000e+00j  0.05916333+1.30979203e-01j\n",
            "   0.        +0.00000000e+00j  0.        +0.00000000e+00j\n",
            "   0.        +0.00000000e+00j  0.        +0.00000000e+00j\n",
            "   0.        +0.00000000e+00j  0.        +0.00000000e+00j\n",
            "   0.        +0.00000000e+00j  0.        +0.00000000e+00j\n",
            "   0.        +0.00000000e+00j  0.        +0.00000000e+00j\n",
            "   0.        +0.00000000e+00j  0.        +0.00000000e+00j]\n",
            " [ 0.        +0.00000000e+00j  0.        +0.00000000e+00j\n",
            "   0.        +0.00000000e+00j  0.        +0.00000000e+00j\n",
            "  -0.070014  -7.00140042e-02j  0.        +0.00000000e+00j\n",
            "   0.        +0.00000000e+00j  0.        +0.00000000e+00j\n",
            "   0.        +0.00000000e+00j  0.        +0.00000000e+00j\n",
            "   0.        +0.00000000e+00j  0.        +0.00000000e+00j\n",
            "   0.        +0.00000000e+00j  0.        +0.00000000e+00j\n",
            "   0.        +0.00000000e+00j  0.        +0.00000000e+00j]\n",
            " [ 0.        +0.00000000e+00j  0.        +0.00000000e+00j\n",
            "   0.        +0.00000000e+00j  0.        +0.00000000e+00j\n",
            "   0.        +0.00000000e+00j  0.07485842+5.84773275e-02j\n",
            "   0.        +0.00000000e+00j  0.        +0.00000000e+00j\n",
            "   0.        +0.00000000e+00j  0.        +0.00000000e+00j\n",
            "   0.        +0.00000000e+00j  0.        +0.00000000e+00j\n",
            "   0.        +0.00000000e+00j  0.        +0.00000000e+00j\n",
            "   0.        +0.00000000e+00j  0.        +0.00000000e+00j]\n",
            " [ 0.        +0.00000000e+00j  0.        +0.00000000e+00j\n",
            "   0.        +0.00000000e+00j  0.        +0.00000000e+00j\n",
            "   0.        +0.00000000e+00j  0.        +0.00000000e+00j\n",
            "  -0.070014  -2.90007501e-02j  0.        +0.00000000e+00j\n",
            "   0.        +0.00000000e+00j  0.        +0.00000000e+00j\n",
            "   0.        +0.00000000e+00j  0.        +0.00000000e+00j\n",
            "   0.        +0.00000000e+00j  0.        +0.00000000e+00j\n",
            "   0.        +0.00000000e+00j  0.        +0.00000000e+00j]\n",
            " [ 0.        +0.00000000e+00j  0.        +0.00000000e+00j\n",
            "   0.        +0.00000000e+00j  0.        +0.00000000e+00j\n",
            "   0.        +0.00000000e+00j  0.        +0.00000000e+00j\n",
            "   0.        +0.00000000e+00j  0.07841948+1.74083142e-02j\n",
            "   0.        +0.00000000e+00j  0.        +0.00000000e+00j\n",
            "   0.        +0.00000000e+00j  0.        +0.00000000e+00j\n",
            "   0.        +0.00000000e+00j  0.        +0.00000000e+00j\n",
            "   0.        +0.00000000e+00j  0.        +0.00000000e+00j]\n",
            " [ 0.        +0.00000000e+00j  0.        +0.00000000e+00j\n",
            "   0.        +0.00000000e+00j  0.        +0.00000000e+00j\n",
            "   0.        +0.00000000e+00j  0.        +0.00000000e+00j\n",
            "   0.        +0.00000000e+00j  0.        +0.00000000e+00j\n",
            "  -0.070014  -2.48739710e-16j  0.        +0.00000000e+00j\n",
            "   0.        +0.00000000e+00j  0.        +0.00000000e+00j\n",
            "   0.        +0.00000000e+00j  0.        +0.00000000e+00j\n",
            "   0.        +0.00000000e+00j  0.        +0.00000000e+00j]\n",
            " [ 0.        +0.00000000e+00j  0.        +0.00000000e+00j\n",
            "   0.        +0.00000000e+00j  0.        +0.00000000e+00j\n",
            "   0.        +0.00000000e+00j  0.        +0.00000000e+00j\n",
            "   0.        +0.00000000e+00j  0.        +0.00000000e+00j\n",
            "   0.        +0.00000000e+00j  0.07841948-1.74083142e-02j\n",
            "   0.        +0.00000000e+00j  0.        +0.00000000e+00j\n",
            "   0.        +0.00000000e+00j  0.        +0.00000000e+00j\n",
            "   0.        +0.00000000e+00j  0.        +0.00000000e+00j]\n",
            " [ 0.        +0.00000000e+00j  0.        +0.00000000e+00j\n",
            "   0.        +0.00000000e+00j  0.        +0.00000000e+00j\n",
            "   0.        +0.00000000e+00j  0.        +0.00000000e+00j\n",
            "   0.        +0.00000000e+00j  0.        +0.00000000e+00j\n",
            "   0.        +0.00000000e+00j  0.        +0.00000000e+00j\n",
            "  -0.070014  +2.90007501e-02j  0.        +0.00000000e+00j\n",
            "   0.        +0.00000000e+00j  0.        +0.00000000e+00j\n",
            "   0.        +0.00000000e+00j  0.        +0.00000000e+00j]\n",
            " [ 0.        +0.00000000e+00j  0.        +0.00000000e+00j\n",
            "   0.        +0.00000000e+00j  0.        +0.00000000e+00j\n",
            "   0.        +0.00000000e+00j  0.        +0.00000000e+00j\n",
            "   0.        +0.00000000e+00j  0.        +0.00000000e+00j\n",
            "   0.        +0.00000000e+00j  0.        +0.00000000e+00j\n",
            "   0.        +0.00000000e+00j  0.07485842-5.84773275e-02j\n",
            "   0.        +0.00000000e+00j  0.        +0.00000000e+00j\n",
            "   0.        +0.00000000e+00j  0.        +0.00000000e+00j]\n",
            " [ 0.        +0.00000000e+00j  0.        +0.00000000e+00j\n",
            "   0.        +0.00000000e+00j  0.        +0.00000000e+00j\n",
            "   0.        +0.00000000e+00j  0.        +0.00000000e+00j\n",
            "   0.        +0.00000000e+00j  0.        +0.00000000e+00j\n",
            "   0.        +0.00000000e+00j  0.        +0.00000000e+00j\n",
            "   0.        +0.00000000e+00j  0.        +0.00000000e+00j\n",
            "  -0.070014  +7.00140042e-02j  0.        +0.00000000e+00j\n",
            "   0.        +0.00000000e+00j  0.        +0.00000000e+00j]\n",
            " [ 0.        +0.00000000e+00j  0.        +0.00000000e+00j\n",
            "   0.        +0.00000000e+00j  0.        +0.00000000e+00j\n",
            "   0.        +0.00000000e+00j  0.        +0.00000000e+00j\n",
            "   0.        +0.00000000e+00j  0.        +0.00000000e+00j\n",
            "   0.        +0.00000000e+00j  0.        +0.00000000e+00j\n",
            "   0.        +0.00000000e+00j  0.        +0.00000000e+00j\n",
            "   0.        +0.00000000e+00j  0.05916333-1.30979203e-01j\n",
            "   0.        +0.00000000e+00j  0.        +0.00000000e+00j]\n",
            " [ 0.        +0.00000000e+00j  0.        +0.00000000e+00j\n",
            "   0.        +0.00000000e+00j  0.        +0.00000000e+00j\n",
            "   0.        +0.00000000e+00j  0.        +0.00000000e+00j\n",
            "   0.        +0.00000000e+00j  0.        +0.00000000e+00j\n",
            "   0.        +0.00000000e+00j  0.        +0.00000000e+00j\n",
            "   0.        +0.00000000e+00j  0.        +0.00000000e+00j\n",
            "   0.        +0.00000000e+00j  0.        +0.00000000e+00j\n",
            "  -0.070014  +1.69028758e-01j  0.        +0.00000000e+00j]\n",
            " [ 0.        +0.00000000e+00j  0.        +0.00000000e+00j\n",
            "   0.        +0.00000000e+00j  0.        +0.00000000e+00j\n",
            "   0.        +0.00000000e+00j  0.        +0.00000000e+00j\n",
            "   0.        +0.00000000e+00j  0.        +0.00000000e+00j\n",
            "   0.        +0.00000000e+00j  0.        +0.00000000e+00j\n",
            "   0.        +0.00000000e+00j  0.        +0.00000000e+00j\n",
            "   0.        +0.00000000e+00j  0.        +0.00000000e+00j\n",
            "   0.        +0.00000000e+00j -0.14242723-4.39980210e-01j]]\n",
            "\n",
            "Original A:\n",
            "[[ 0.63012604+0.00000000e+00j  0.        +0.00000000e+00j\n",
            "   0.        +0.00000000e+00j  0.        +0.00000000e+00j\n",
            "   0.        +0.00000000e+00j  0.        +0.00000000e+00j\n",
            "   0.        +0.00000000e+00j  0.        +0.00000000e+00j\n",
            "   0.        +0.00000000e+00j  0.        +0.00000000e+00j\n",
            "   0.        +0.00000000e+00j  0.        +0.00000000e+00j\n",
            "   0.        +0.00000000e+00j  0.        +0.00000000e+00j\n",
            "   0.        +0.00000000e+00j  0.        +0.00000000e+00j]\n",
            " [ 0.        +0.00000000e+00j -0.14242723+4.39980210e-01j\n",
            "   0.        +0.00000000e+00j  0.        +0.00000000e+00j\n",
            "   0.        +0.00000000e+00j  0.        +0.00000000e+00j\n",
            "   0.        +0.00000000e+00j  0.        +0.00000000e+00j\n",
            "   0.        +0.00000000e+00j  0.        +0.00000000e+00j\n",
            "   0.        +0.00000000e+00j  0.        +0.00000000e+00j\n",
            "   0.        +0.00000000e+00j  0.        +0.00000000e+00j\n",
            "   0.        +0.00000000e+00j  0.        +0.00000000e+00j]\n",
            " [ 0.        +0.00000000e+00j  0.        +0.00000000e+00j\n",
            "  -0.070014  -1.69028758e-01j  0.        +0.00000000e+00j\n",
            "   0.        +0.00000000e+00j  0.        +0.00000000e+00j\n",
            "   0.        +0.00000000e+00j  0.        +0.00000000e+00j\n",
            "   0.        +0.00000000e+00j  0.        +0.00000000e+00j\n",
            "   0.        +0.00000000e+00j  0.        +0.00000000e+00j\n",
            "   0.        +0.00000000e+00j  0.        +0.00000000e+00j\n",
            "   0.        +0.00000000e+00j  0.        +0.00000000e+00j]\n",
            " [ 0.        +0.00000000e+00j  0.        +0.00000000e+00j\n",
            "   0.        +0.00000000e+00j  0.05916333+1.30979203e-01j\n",
            "   0.        +0.00000000e+00j  0.        +0.00000000e+00j\n",
            "   0.        +0.00000000e+00j  0.        +0.00000000e+00j\n",
            "   0.        +0.00000000e+00j  0.        +0.00000000e+00j\n",
            "   0.        +0.00000000e+00j  0.        +0.00000000e+00j\n",
            "   0.        +0.00000000e+00j  0.        +0.00000000e+00j\n",
            "   0.        +0.00000000e+00j  0.        +0.00000000e+00j]\n",
            " [ 0.        +0.00000000e+00j  0.        +0.00000000e+00j\n",
            "   0.        +0.00000000e+00j  0.        +0.00000000e+00j\n",
            "  -0.070014  -7.00140042e-02j  0.        +0.00000000e+00j\n",
            "   0.        +0.00000000e+00j  0.        +0.00000000e+00j\n",
            "   0.        +0.00000000e+00j  0.        +0.00000000e+00j\n",
            "   0.        +0.00000000e+00j  0.        +0.00000000e+00j\n",
            "   0.        +0.00000000e+00j  0.        +0.00000000e+00j\n",
            "   0.        +0.00000000e+00j  0.        +0.00000000e+00j]\n",
            " [ 0.        +0.00000000e+00j  0.        +0.00000000e+00j\n",
            "   0.        +0.00000000e+00j  0.        +0.00000000e+00j\n",
            "   0.        +0.00000000e+00j  0.07485842+5.84773275e-02j\n",
            "   0.        +0.00000000e+00j  0.        +0.00000000e+00j\n",
            "   0.        +0.00000000e+00j  0.        +0.00000000e+00j\n",
            "   0.        +0.00000000e+00j  0.        +0.00000000e+00j\n",
            "   0.        +0.00000000e+00j  0.        +0.00000000e+00j\n",
            "   0.        +0.00000000e+00j  0.        +0.00000000e+00j]\n",
            " [ 0.        +0.00000000e+00j  0.        +0.00000000e+00j\n",
            "   0.        +0.00000000e+00j  0.        +0.00000000e+00j\n",
            "   0.        +0.00000000e+00j  0.        +0.00000000e+00j\n",
            "  -0.070014  -2.90007501e-02j  0.        +0.00000000e+00j\n",
            "   0.        +0.00000000e+00j  0.        +0.00000000e+00j\n",
            "   0.        +0.00000000e+00j  0.        +0.00000000e+00j\n",
            "   0.        +0.00000000e+00j  0.        +0.00000000e+00j\n",
            "   0.        +0.00000000e+00j  0.        +0.00000000e+00j]\n",
            " [ 0.        +0.00000000e+00j  0.        +0.00000000e+00j\n",
            "   0.        +0.00000000e+00j  0.        +0.00000000e+00j\n",
            "   0.        +0.00000000e+00j  0.        +0.00000000e+00j\n",
            "   0.        +0.00000000e+00j  0.07841948+1.74083142e-02j\n",
            "   0.        +0.00000000e+00j  0.        +0.00000000e+00j\n",
            "   0.        +0.00000000e+00j  0.        +0.00000000e+00j\n",
            "   0.        +0.00000000e+00j  0.        +0.00000000e+00j\n",
            "   0.        +0.00000000e+00j  0.        +0.00000000e+00j]\n",
            " [ 0.        +0.00000000e+00j  0.        +0.00000000e+00j\n",
            "   0.        +0.00000000e+00j  0.        +0.00000000e+00j\n",
            "   0.        +0.00000000e+00j  0.        +0.00000000e+00j\n",
            "   0.        +0.00000000e+00j  0.        +0.00000000e+00j\n",
            "  -0.070014  -2.48739710e-16j  0.        +0.00000000e+00j\n",
            "   0.        +0.00000000e+00j  0.        +0.00000000e+00j\n",
            "   0.        +0.00000000e+00j  0.        +0.00000000e+00j\n",
            "   0.        +0.00000000e+00j  0.        +0.00000000e+00j]\n",
            " [ 0.        +0.00000000e+00j  0.        +0.00000000e+00j\n",
            "   0.        +0.00000000e+00j  0.        +0.00000000e+00j\n",
            "   0.        +0.00000000e+00j  0.        +0.00000000e+00j\n",
            "   0.        +0.00000000e+00j  0.        +0.00000000e+00j\n",
            "   0.        +0.00000000e+00j  0.07841948-1.74083142e-02j\n",
            "   0.        +0.00000000e+00j  0.        +0.00000000e+00j\n",
            "   0.        +0.00000000e+00j  0.        +0.00000000e+00j\n",
            "   0.        +0.00000000e+00j  0.        +0.00000000e+00j]\n",
            " [ 0.        +0.00000000e+00j  0.        +0.00000000e+00j\n",
            "   0.        +0.00000000e+00j  0.        +0.00000000e+00j\n",
            "   0.        +0.00000000e+00j  0.        +0.00000000e+00j\n",
            "   0.        +0.00000000e+00j  0.        +0.00000000e+00j\n",
            "   0.        +0.00000000e+00j  0.        +0.00000000e+00j\n",
            "  -0.070014  +2.90007501e-02j  0.        +0.00000000e+00j\n",
            "   0.        +0.00000000e+00j  0.        +0.00000000e+00j\n",
            "   0.        +0.00000000e+00j  0.        +0.00000000e+00j]\n",
            " [ 0.        +0.00000000e+00j  0.        +0.00000000e+00j\n",
            "   0.        +0.00000000e+00j  0.        +0.00000000e+00j\n",
            "   0.        +0.00000000e+00j  0.        +0.00000000e+00j\n",
            "   0.        +0.00000000e+00j  0.        +0.00000000e+00j\n",
            "   0.        +0.00000000e+00j  0.        +0.00000000e+00j\n",
            "   0.        +0.00000000e+00j  0.07485842-5.84773275e-02j\n",
            "   0.        +0.00000000e+00j  0.        +0.00000000e+00j\n",
            "   0.        +0.00000000e+00j  0.        +0.00000000e+00j]\n",
            " [ 0.        +0.00000000e+00j  0.        +0.00000000e+00j\n",
            "   0.        +0.00000000e+00j  0.        +0.00000000e+00j\n",
            "   0.        +0.00000000e+00j  0.        +0.00000000e+00j\n",
            "   0.        +0.00000000e+00j  0.        +0.00000000e+00j\n",
            "   0.        +0.00000000e+00j  0.        +0.00000000e+00j\n",
            "   0.        +0.00000000e+00j  0.        +0.00000000e+00j\n",
            "  -0.070014  +7.00140042e-02j  0.        +0.00000000e+00j\n",
            "   0.        +0.00000000e+00j  0.        +0.00000000e+00j]\n",
            " [ 0.        +0.00000000e+00j  0.        +0.00000000e+00j\n",
            "   0.        +0.00000000e+00j  0.        +0.00000000e+00j\n",
            "   0.        +0.00000000e+00j  0.        +0.00000000e+00j\n",
            "   0.        +0.00000000e+00j  0.        +0.00000000e+00j\n",
            "   0.        +0.00000000e+00j  0.        +0.00000000e+00j\n",
            "   0.        +0.00000000e+00j  0.        +0.00000000e+00j\n",
            "   0.        +0.00000000e+00j  0.05916333-1.30979203e-01j\n",
            "   0.        +0.00000000e+00j  0.        +0.00000000e+00j]\n",
            " [ 0.        +0.00000000e+00j  0.        +0.00000000e+00j\n",
            "   0.        +0.00000000e+00j  0.        +0.00000000e+00j\n",
            "   0.        +0.00000000e+00j  0.        +0.00000000e+00j\n",
            "   0.        +0.00000000e+00j  0.        +0.00000000e+00j\n",
            "   0.        +0.00000000e+00j  0.        +0.00000000e+00j\n",
            "   0.        +0.00000000e+00j  0.        +0.00000000e+00j\n",
            "   0.        +0.00000000e+00j  0.        +0.00000000e+00j\n",
            "  -0.070014  +1.69028758e-01j  0.        +0.00000000e+00j]\n",
            " [ 0.        +0.00000000e+00j  0.        +0.00000000e+00j\n",
            "   0.        +0.00000000e+00j  0.        +0.00000000e+00j\n",
            "   0.        +0.00000000e+00j  0.        +0.00000000e+00j\n",
            "   0.        +0.00000000e+00j  0.        +0.00000000e+00j\n",
            "   0.        +0.00000000e+00j  0.        +0.00000000e+00j\n",
            "   0.        +0.00000000e+00j  0.        +0.00000000e+00j\n",
            "   0.        +0.00000000e+00j  0.        +0.00000000e+00j\n",
            "   0.        +0.00000000e+00j -0.14242723-4.39980210e-01j]]\n",
            "\n",
            "Full block-encoded matrix saved successfully!\n",
            "[[ 6.30126038e-01-8.67361738e-19j  1.56862370e-15+3.33934269e-17j\n",
            "   1.31405303e-15+3.16587034e-17j ... -1.00000000e+00-1.32137140e-19j\n",
            "  -1.00000000e+00+6.81014490e-19j -1.00000000e+00+3.99799551e-19j]\n",
            " [ 8.82106888e-16-3.46944695e-18j -1.42427234e-01+4.39980210e-01j\n",
            "   1.31969088e-15+3.07913417e-17j ...  1.00000000e+00+5.11607900e-19j\n",
            "   1.00000000e+00+6.09863722e-20j  1.00000000e+00+4.98055373e-19j]\n",
            " [ 9.93129190e-16-1.73472348e-18j  1.58944038e-15-6.37510877e-17j\n",
            "  -7.00140042e-02-1.69028758e-01j ...  1.00000000e+00+6.43745040e-20j\n",
            "   1.00000000e+00-7.11507676e-20j  1.00000000e+00-6.77626358e-20j]\n",
            " ...\n",
            " [ 1.00000000e+00+3.38813179e-21j -1.00000000e+00-2.31748214e-18j\n",
            "  -1.00000000e+00-2.71050543e-20j ...  5.91633318e-02-1.30979203e-01j\n",
            "   1.22037797e-15-3.03576608e-18j -9.95731275e-16-1.64798730e-17j]\n",
            " [ 1.00000000e+00-4.87890978e-19j -1.00000000e+00-2.20228566e-19j\n",
            "  -1.00000000e+00+1.01982767e-18j ...  1.23078631e-15-1.64798730e-17j\n",
            "  -7.00140042e-02+1.69028758e-01j -9.87491339e-16+2.73218947e-17j]\n",
            " [ 1.00000000e+00+6.43745040e-20j -1.00000000e+00+2.71050543e-19j\n",
            "  -1.00000000e+00-3.72694497e-20j ... -1.22384741e-15+2.90566182e-17j\n",
            "  -1.20563282e-15-2.16840434e-18j -1.42427234e-01-4.39980210e-01j]]\n",
            "(512, 512)\n",
            "[ 0.63012604+0.00000000e+00j -0.14242723+4.39980210e-01j\n",
            " -0.070014  -1.69028758e-01j  0.05916333+1.30979203e-01j\n",
            " -0.070014  -7.00140042e-02j  0.07485842+5.84773275e-02j\n",
            " -0.070014  -2.90007501e-02j  0.07841948+1.74083142e-02j\n",
            " -0.070014  -2.48739710e-16j  0.07841948-1.74083142e-02j\n",
            " -0.070014  +2.90007501e-02j  0.07485842-5.84773275e-02j\n",
            " -0.070014  +7.00140042e-02j  0.05916333-1.30979203e-01j\n",
            " -0.070014  +1.69028758e-01j -0.14242723-4.39980210e-01j]\n",
            "[ 0.63012604-8.67361738e-19j -0.14242723+4.39980210e-01j\n",
            " -0.070014  -1.69028758e-01j  0.05916333+1.30979203e-01j\n",
            " -0.070014  -7.00140042e-02j  0.07485842+5.84773275e-02j\n",
            " -0.070014  -2.90007501e-02j  0.07841948+1.74083142e-02j\n",
            " -0.070014  -2.39825521e-16j  0.07841948-1.74083142e-02j\n",
            " -0.070014  +2.90007501e-02j  0.07485842-5.84773275e-02j\n",
            " -0.070014  +7.00140042e-02j  0.05916333-1.30979203e-01j\n",
            " -0.070014  +1.69028758e-01j -0.14242723-4.39980210e-01j\n",
            "  0.63012604-8.67361738e-19j -0.14242723+4.39980210e-01j\n",
            " -0.070014  -1.69028758e-01j  0.05916333+1.30979203e-01j\n",
            " -0.070014  -7.00140042e-02j  0.07485842+5.84773275e-02j\n",
            " -0.070014  -2.90007501e-02j  0.07841948+1.74083142e-02j\n",
            " -0.070014  -2.39825521e-16j  0.07841948-1.74083142e-02j\n",
            " -0.070014  +2.90007501e-02j  0.07485842-5.84773275e-02j\n",
            " -0.070014  +7.00140042e-02j  0.05916333-1.30979203e-01j\n",
            " -0.070014  +1.69028758e-01j -0.14242723-4.39980210e-01j\n",
            "  0.63012604-8.67361738e-19j -0.14242723+4.39980210e-01j\n",
            " -0.070014  -1.69028758e-01j  0.05916333+1.30979203e-01j\n",
            " -0.070014  -7.00140042e-02j  0.07485842+5.84773275e-02j\n",
            " -0.070014  -2.90007501e-02j  0.07841948+1.74083142e-02j\n",
            " -0.070014  -2.39825521e-16j  0.07841948-1.74083142e-02j\n",
            " -0.070014  +2.90007501e-02j  0.07485842-5.84773275e-02j\n",
            " -0.070014  +7.00140042e-02j  0.05916333-1.30979203e-01j\n",
            " -0.070014  +1.69028758e-01j -0.14242723-4.39980210e-01j\n",
            "  0.63012604-8.67361738e-19j -0.14242723+4.39980210e-01j\n",
            " -0.070014  -1.69028758e-01j  0.05916333+1.30979203e-01j\n",
            " -0.070014  -7.00140042e-02j  0.07485842+5.84773275e-02j\n",
            " -0.070014  -2.90007501e-02j  0.07841948+1.74083142e-02j\n",
            " -0.070014  -2.39825521e-16j  0.07841948-1.74083142e-02j\n",
            " -0.070014  +2.90007501e-02j  0.07485842-5.84773275e-02j\n",
            " -0.070014  +7.00140042e-02j  0.05916333-1.30979203e-01j\n",
            " -0.070014  +1.69028758e-01j -0.14242723-4.39980210e-01j\n",
            "  0.63012604-8.67361738e-19j -0.14242723+4.39980210e-01j\n",
            " -0.070014  -1.69028758e-01j  0.05916333+1.30979203e-01j\n",
            " -0.070014  -7.00140042e-02j  0.07485842+5.84773275e-02j\n",
            " -0.070014  -2.90007501e-02j  0.07841948+1.74083142e-02j\n",
            " -0.070014  -2.39825521e-16j  0.07841948-1.74083142e-02j\n",
            " -0.070014  +2.90007501e-02j  0.07485842-5.84773275e-02j\n",
            " -0.070014  +7.00140042e-02j  0.05916333-1.30979203e-01j\n",
            " -0.070014  +1.69028758e-01j -0.14242723-4.39980210e-01j\n",
            "  0.63012604-8.67361738e-19j -0.14242723+4.39980210e-01j\n",
            " -0.070014  -1.69028758e-01j  0.05916333+1.30979203e-01j\n",
            " -0.070014  -7.00140042e-02j  0.07485842+5.84773275e-02j\n",
            " -0.070014  -2.90007501e-02j  0.07841948+1.74083142e-02j\n",
            " -0.070014  -2.39825521e-16j  0.07841948-1.74083142e-02j\n",
            " -0.070014  +2.90007501e-02j  0.07485842-5.84773275e-02j\n",
            " -0.070014  +7.00140042e-02j  0.05916333-1.30979203e-01j\n",
            " -0.070014  +1.69028758e-01j -0.14242723-4.39980210e-01j\n",
            "  0.63012604-8.67361738e-19j -0.14242723+4.39980210e-01j\n",
            " -0.070014  -1.69028758e-01j  0.05916333+1.30979203e-01j\n",
            " -0.070014  -7.00140042e-02j  0.07485842+5.84773275e-02j\n",
            " -0.070014  -2.90007501e-02j  0.07841948+1.74083142e-02j\n",
            " -0.070014  -2.39825521e-16j  0.07841948-1.74083142e-02j\n",
            " -0.070014  +2.90007501e-02j  0.07485842-5.84773275e-02j\n",
            " -0.070014  +7.00140042e-02j  0.05916333-1.30979203e-01j\n",
            " -0.070014  +1.69028758e-01j -0.14242723-4.39980210e-01j\n",
            "  0.63012604-8.67361738e-19j -0.14242723+4.39980210e-01j\n",
            " -0.070014  -1.69028758e-01j  0.05916333+1.30979203e-01j\n",
            " -0.070014  -7.00140042e-02j  0.07485842+5.84773275e-02j\n",
            " -0.070014  -2.90007501e-02j  0.07841948+1.74083142e-02j\n",
            " -0.070014  -2.39825521e-16j  0.07841948-1.74083142e-02j\n",
            " -0.070014  +2.90007501e-02j  0.07485842-5.84773275e-02j\n",
            " -0.070014  +7.00140042e-02j  0.05916333-1.30979203e-01j\n",
            " -0.070014  +1.69028758e-01j -0.14242723-4.39980210e-01j\n",
            "  0.63012604-8.67361738e-19j -0.14242723+4.39980210e-01j\n",
            " -0.070014  -1.69028758e-01j  0.05916333+1.30979203e-01j\n",
            " -0.070014  -7.00140042e-02j  0.07485842+5.84773275e-02j\n",
            " -0.070014  -2.90007501e-02j  0.07841948+1.74083142e-02j\n",
            " -0.070014  -2.39825521e-16j  0.07841948-1.74083142e-02j\n",
            " -0.070014  +2.90007501e-02j  0.07485842-5.84773275e-02j\n",
            " -0.070014  +7.00140042e-02j  0.05916333-1.30979203e-01j\n",
            " -0.070014  +1.69028758e-01j -0.14242723-4.39980210e-01j\n",
            "  0.63012604-8.67361738e-19j -0.14242723+4.39980210e-01j\n",
            " -0.070014  -1.69028758e-01j  0.05916333+1.30979203e-01j\n",
            " -0.070014  -7.00140042e-02j  0.07485842+5.84773275e-02j\n",
            " -0.070014  -2.90007501e-02j  0.07841948+1.74083142e-02j\n",
            " -0.070014  -2.39825521e-16j  0.07841948-1.74083142e-02j\n",
            " -0.070014  +2.90007501e-02j  0.07485842-5.84773275e-02j\n",
            " -0.070014  +7.00140042e-02j  0.05916333-1.30979203e-01j\n",
            " -0.070014  +1.69028758e-01j -0.14242723-4.39980210e-01j\n",
            "  0.63012604-8.67361738e-19j -0.14242723+4.39980210e-01j\n",
            " -0.070014  -1.69028758e-01j  0.05916333+1.30979203e-01j\n",
            " -0.070014  -7.00140042e-02j  0.07485842+5.84773275e-02j\n",
            " -0.070014  -2.90007501e-02j  0.07841948+1.74083142e-02j\n",
            " -0.070014  -2.39825521e-16j  0.07841948-1.74083142e-02j\n",
            " -0.070014  +2.90007501e-02j  0.07485842-5.84773275e-02j\n",
            " -0.070014  +7.00140042e-02j  0.05916333-1.30979203e-01j\n",
            " -0.070014  +1.69028758e-01j -0.14242723-4.39980210e-01j\n",
            "  0.63012604-8.67361738e-19j -0.14242723+4.39980210e-01j\n",
            " -0.070014  -1.69028758e-01j  0.05916333+1.30979203e-01j\n",
            " -0.070014  -7.00140042e-02j  0.07485842+5.84773275e-02j\n",
            " -0.070014  -2.90007501e-02j  0.07841948+1.74083142e-02j\n",
            " -0.070014  -2.39825521e-16j  0.07841948-1.74083142e-02j\n",
            " -0.070014  +2.90007501e-02j  0.07485842-5.84773275e-02j\n",
            " -0.070014  +7.00140042e-02j  0.05916333-1.30979203e-01j\n",
            " -0.070014  +1.69028758e-01j -0.14242723-4.39980210e-01j\n",
            "  0.63012604-8.67361738e-19j -0.14242723+4.39980210e-01j\n",
            " -0.070014  -1.69028758e-01j  0.05916333+1.30979203e-01j\n",
            " -0.070014  -7.00140042e-02j  0.07485842+5.84773275e-02j\n",
            " -0.070014  -2.90007501e-02j  0.07841948+1.74083142e-02j\n",
            " -0.070014  -2.39825521e-16j  0.07841948-1.74083142e-02j\n",
            " -0.070014  +2.90007501e-02j  0.07485842-5.84773275e-02j\n",
            " -0.070014  +7.00140042e-02j  0.05916333-1.30979203e-01j\n",
            " -0.070014  +1.69028758e-01j -0.14242723-4.39980210e-01j\n",
            "  0.63012604-8.67361738e-19j -0.14242723+4.39980210e-01j\n",
            " -0.070014  -1.69028758e-01j  0.05916333+1.30979203e-01j\n",
            " -0.070014  -7.00140042e-02j  0.07485842+5.84773275e-02j\n",
            " -0.070014  -2.90007501e-02j  0.07841948+1.74083142e-02j\n",
            " -0.070014  -2.39825521e-16j  0.07841948-1.74083142e-02j\n",
            " -0.070014  +2.90007501e-02j  0.07485842-5.84773275e-02j\n",
            " -0.070014  +7.00140042e-02j  0.05916333-1.30979203e-01j\n",
            " -0.070014  +1.69028758e-01j -0.14242723-4.39980210e-01j\n",
            "  0.63012604-8.67361738e-19j -0.14242723+4.39980210e-01j\n",
            " -0.070014  -1.69028758e-01j  0.05916333+1.30979203e-01j\n",
            " -0.070014  -7.00140042e-02j  0.07485842+5.84773275e-02j\n",
            " -0.070014  -2.90007501e-02j  0.07841948+1.74083142e-02j\n",
            " -0.070014  -2.39825521e-16j  0.07841948-1.74083142e-02j\n",
            " -0.070014  +2.90007501e-02j  0.07485842-5.84773275e-02j\n",
            " -0.070014  +7.00140042e-02j  0.05916333-1.30979203e-01j\n",
            " -0.070014  +1.69028758e-01j -0.14242723-4.39980210e-01j\n",
            "  0.63012604-8.67361738e-19j -0.14242723+4.39980210e-01j\n",
            " -0.070014  -1.69028758e-01j  0.05916333+1.30979203e-01j\n",
            " -0.070014  -7.00140042e-02j  0.07485842+5.84773275e-02j\n",
            " -0.070014  -2.90007501e-02j  0.07841948+1.74083142e-02j\n",
            " -0.070014  -2.39825521e-16j  0.07841948-1.74083142e-02j\n",
            " -0.070014  +2.90007501e-02j  0.07485842-5.84773275e-02j\n",
            " -0.070014  +7.00140042e-02j  0.05916333-1.30979203e-01j\n",
            " -0.070014  +1.69028758e-01j -0.14242723-4.39980210e-01j\n",
            "  0.63012604-8.67361738e-19j -0.14242723+4.39980210e-01j\n",
            " -0.070014  -1.69028758e-01j  0.05916333+1.30979203e-01j\n",
            " -0.070014  -7.00140042e-02j  0.07485842+5.84773275e-02j\n",
            " -0.070014  -2.90007501e-02j  0.07841948+1.74083142e-02j\n",
            " -0.070014  -2.39825521e-16j  0.07841948-1.74083142e-02j\n",
            " -0.070014  +2.90007501e-02j  0.07485842-5.84773275e-02j\n",
            " -0.070014  +7.00140042e-02j  0.05916333-1.30979203e-01j\n",
            " -0.070014  +1.69028758e-01j -0.14242723-4.39980210e-01j\n",
            "  0.63012604-8.67361738e-19j -0.14242723+4.39980210e-01j\n",
            " -0.070014  -1.69028758e-01j  0.05916333+1.30979203e-01j\n",
            " -0.070014  -7.00140042e-02j  0.07485842+5.84773275e-02j\n",
            " -0.070014  -2.90007501e-02j  0.07841948+1.74083142e-02j\n",
            " -0.070014  -2.39825521e-16j  0.07841948-1.74083142e-02j\n",
            " -0.070014  +2.90007501e-02j  0.07485842-5.84773275e-02j\n",
            " -0.070014  +7.00140042e-02j  0.05916333-1.30979203e-01j\n",
            " -0.070014  +1.69028758e-01j -0.14242723-4.39980210e-01j\n",
            "  0.63012604-8.67361738e-19j -0.14242723+4.39980210e-01j\n",
            " -0.070014  -1.69028758e-01j  0.05916333+1.30979203e-01j\n",
            " -0.070014  -7.00140042e-02j  0.07485842+5.84773275e-02j\n",
            " -0.070014  -2.90007501e-02j  0.07841948+1.74083142e-02j\n",
            " -0.070014  -2.39825521e-16j  0.07841948-1.74083142e-02j\n",
            " -0.070014  +2.90007501e-02j  0.07485842-5.84773275e-02j\n",
            " -0.070014  +7.00140042e-02j  0.05916333-1.30979203e-01j\n",
            " -0.070014  +1.69028758e-01j -0.14242723-4.39980210e-01j\n",
            "  0.63012604-8.67361738e-19j -0.14242723+4.39980210e-01j\n",
            " -0.070014  -1.69028758e-01j  0.05916333+1.30979203e-01j\n",
            " -0.070014  -7.00140042e-02j  0.07485842+5.84773275e-02j\n",
            " -0.070014  -2.90007501e-02j  0.07841948+1.74083142e-02j\n",
            " -0.070014  -2.39825521e-16j  0.07841948-1.74083142e-02j\n",
            " -0.070014  +2.90007501e-02j  0.07485842-5.84773275e-02j\n",
            " -0.070014  +7.00140042e-02j  0.05916333-1.30979203e-01j\n",
            " -0.070014  +1.69028758e-01j -0.14242723-4.39980210e-01j\n",
            "  0.63012604-8.67361738e-19j -0.14242723+4.39980210e-01j\n",
            " -0.070014  -1.69028758e-01j  0.05916333+1.30979203e-01j\n",
            " -0.070014  -7.00140042e-02j  0.07485842+5.84773275e-02j\n",
            " -0.070014  -2.90007501e-02j  0.07841948+1.74083142e-02j\n",
            " -0.070014  -2.39825521e-16j  0.07841948-1.74083142e-02j\n",
            " -0.070014  +2.90007501e-02j  0.07485842-5.84773275e-02j\n",
            " -0.070014  +7.00140042e-02j  0.05916333-1.30979203e-01j\n",
            " -0.070014  +1.69028758e-01j -0.14242723-4.39980210e-01j\n",
            "  0.63012604-8.67361738e-19j -0.14242723+4.39980210e-01j\n",
            " -0.070014  -1.69028758e-01j  0.05916333+1.30979203e-01j\n",
            " -0.070014  -7.00140042e-02j  0.07485842+5.84773275e-02j\n",
            " -0.070014  -2.90007501e-02j  0.07841948+1.74083142e-02j\n",
            " -0.070014  -2.39825521e-16j  0.07841948-1.74083142e-02j\n",
            " -0.070014  +2.90007501e-02j  0.07485842-5.84773275e-02j\n",
            " -0.070014  +7.00140042e-02j  0.05916333-1.30979203e-01j\n",
            " -0.070014  +1.69028758e-01j -0.14242723-4.39980210e-01j\n",
            "  0.63012604-8.67361738e-19j -0.14242723+4.39980210e-01j\n",
            " -0.070014  -1.69028758e-01j  0.05916333+1.30979203e-01j\n",
            " -0.070014  -7.00140042e-02j  0.07485842+5.84773275e-02j\n",
            " -0.070014  -2.90007501e-02j  0.07841948+1.74083142e-02j\n",
            " -0.070014  -2.39825521e-16j  0.07841948-1.74083142e-02j\n",
            " -0.070014  +2.90007501e-02j  0.07485842-5.84773275e-02j\n",
            " -0.070014  +7.00140042e-02j  0.05916333-1.30979203e-01j\n",
            " -0.070014  +1.69028758e-01j -0.14242723-4.39980210e-01j\n",
            "  0.63012604-8.67361738e-19j -0.14242723+4.39980210e-01j\n",
            " -0.070014  -1.69028758e-01j  0.05916333+1.30979203e-01j\n",
            " -0.070014  -7.00140042e-02j  0.07485842+5.84773275e-02j\n",
            " -0.070014  -2.90007501e-02j  0.07841948+1.74083142e-02j\n",
            " -0.070014  -2.39825521e-16j  0.07841948-1.74083142e-02j\n",
            " -0.070014  +2.90007501e-02j  0.07485842-5.84773275e-02j\n",
            " -0.070014  +7.00140042e-02j  0.05916333-1.30979203e-01j\n",
            " -0.070014  +1.69028758e-01j -0.14242723-4.39980210e-01j\n",
            "  0.63012604-8.67361738e-19j -0.14242723+4.39980210e-01j\n",
            " -0.070014  -1.69028758e-01j  0.05916333+1.30979203e-01j\n",
            " -0.070014  -7.00140042e-02j  0.07485842+5.84773275e-02j\n",
            " -0.070014  -2.90007501e-02j  0.07841948+1.74083142e-02j\n",
            " -0.070014  -2.39825521e-16j  0.07841948-1.74083142e-02j\n",
            " -0.070014  +2.90007501e-02j  0.07485842-5.84773275e-02j\n",
            " -0.070014  +7.00140042e-02j  0.05916333-1.30979203e-01j\n",
            " -0.070014  +1.69028758e-01j -0.14242723-4.39980210e-01j\n",
            "  0.63012604-8.67361738e-19j -0.14242723+4.39980210e-01j\n",
            " -0.070014  -1.69028758e-01j  0.05916333+1.30979203e-01j\n",
            " -0.070014  -7.00140042e-02j  0.07485842+5.84773275e-02j\n",
            " -0.070014  -2.90007501e-02j  0.07841948+1.74083142e-02j\n",
            " -0.070014  -2.39825521e-16j  0.07841948-1.74083142e-02j\n",
            " -0.070014  +2.90007501e-02j  0.07485842-5.84773275e-02j\n",
            " -0.070014  +7.00140042e-02j  0.05916333-1.30979203e-01j\n",
            " -0.070014  +1.69028758e-01j -0.14242723-4.39980210e-01j\n",
            "  0.63012604-8.67361738e-19j -0.14242723+4.39980210e-01j\n",
            " -0.070014  -1.69028758e-01j  0.05916333+1.30979203e-01j\n",
            " -0.070014  -7.00140042e-02j  0.07485842+5.84773275e-02j\n",
            " -0.070014  -2.90007501e-02j  0.07841948+1.74083142e-02j\n",
            " -0.070014  -2.39825521e-16j  0.07841948-1.74083142e-02j\n",
            " -0.070014  +2.90007501e-02j  0.07485842-5.84773275e-02j\n",
            " -0.070014  +7.00140042e-02j  0.05916333-1.30979203e-01j\n",
            " -0.070014  +1.69028758e-01j -0.14242723-4.39980210e-01j\n",
            "  0.63012604-8.67361738e-19j -0.14242723+4.39980210e-01j\n",
            " -0.070014  -1.69028758e-01j  0.05916333+1.30979203e-01j\n",
            " -0.070014  -7.00140042e-02j  0.07485842+5.84773275e-02j\n",
            " -0.070014  -2.90007501e-02j  0.07841948+1.74083142e-02j\n",
            " -0.070014  -2.39825521e-16j  0.07841948-1.74083142e-02j\n",
            " -0.070014  +2.90007501e-02j  0.07485842-5.84773275e-02j\n",
            " -0.070014  +7.00140042e-02j  0.05916333-1.30979203e-01j\n",
            " -0.070014  +1.69028758e-01j -0.14242723-4.39980210e-01j\n",
            "  0.63012604-8.67361738e-19j -0.14242723+4.39980210e-01j\n",
            " -0.070014  -1.69028758e-01j  0.05916333+1.30979203e-01j\n",
            " -0.070014  -7.00140042e-02j  0.07485842+5.84773275e-02j\n",
            " -0.070014  -2.90007501e-02j  0.07841948+1.74083142e-02j\n",
            " -0.070014  -2.39825521e-16j  0.07841948-1.74083142e-02j\n",
            " -0.070014  +2.90007501e-02j  0.07485842-5.84773275e-02j\n",
            " -0.070014  +7.00140042e-02j  0.05916333-1.30979203e-01j\n",
            " -0.070014  +1.69028758e-01j -0.14242723-4.39980210e-01j\n",
            "  0.63012604-8.67361738e-19j -0.14242723+4.39980210e-01j\n",
            " -0.070014  -1.69028758e-01j  0.05916333+1.30979203e-01j\n",
            " -0.070014  -7.00140042e-02j  0.07485842+5.84773275e-02j\n",
            " -0.070014  -2.90007501e-02j  0.07841948+1.74083142e-02j\n",
            " -0.070014  -2.39825521e-16j  0.07841948-1.74083142e-02j\n",
            " -0.070014  +2.90007501e-02j  0.07485842-5.84773275e-02j\n",
            " -0.070014  +7.00140042e-02j  0.05916333-1.30979203e-01j\n",
            " -0.070014  +1.69028758e-01j -0.14242723-4.39980210e-01j\n",
            "  0.63012604-8.67361738e-19j -0.14242723+4.39980210e-01j\n",
            " -0.070014  -1.69028758e-01j  0.05916333+1.30979203e-01j\n",
            " -0.070014  -7.00140042e-02j  0.07485842+5.84773275e-02j\n",
            " -0.070014  -2.90007501e-02j  0.07841948+1.74083142e-02j\n",
            " -0.070014  -2.39825521e-16j  0.07841948-1.74083142e-02j\n",
            " -0.070014  +2.90007501e-02j  0.07485842-5.84773275e-02j\n",
            " -0.070014  +7.00140042e-02j  0.05916333-1.30979203e-01j\n",
            " -0.070014  +1.69028758e-01j -0.14242723-4.39980210e-01j\n",
            "  0.63012604-8.67361738e-19j -0.14242723+4.39980210e-01j\n",
            " -0.070014  -1.69028758e-01j  0.05916333+1.30979203e-01j\n",
            " -0.070014  -7.00140042e-02j  0.07485842+5.84773275e-02j\n",
            " -0.070014  -2.90007501e-02j  0.07841948+1.74083142e-02j\n",
            " -0.070014  -2.39825521e-16j  0.07841948-1.74083142e-02j\n",
            " -0.070014  +2.90007501e-02j  0.07485842-5.84773275e-02j\n",
            " -0.070014  +7.00140042e-02j  0.05916333-1.30979203e-01j\n",
            " -0.070014  +1.69028758e-01j -0.14242723-4.39980210e-01j]\n"
          ]
        }
      ],
      "source": [
        "import pennylane as qml\n",
        "from pennylane.templates.state_preparations.mottonen import compute_theta, gray_code\n",
        "import numpy as np\n",
        "import matplotlib.pyplot as plt\n",
        "\n",
        "# Diagonal matrix from the filter vector\n",
        "# padded_filter_vector = [ 0.51454162-9.68201942e-17j,  0.0544829 +4.59051512e-01j,\n",
        "#              -0.32372637+7.95857983e-02j, -0.06910756-1.76186542e-01j,\n",
        "#               0.07000649-3.98258732e-02j,  0.01279942+1.74501796e-02j,\n",
        "#              -0.00085015-1.52658776e-03j,  0.0039192 +1.44124616e-03j,\n",
        "#              -0.00121366+2.76210952e-17j,  0.0039192 -1.44124616e-03j,\n",
        "#              -0.00085015+1.52658776e-03j,  0.01279942-1.74501796e-02j,\n",
        "#               0.07000649+3.98258732e-02j, -0.06910756+1.76186542e-01j,\n",
        "#              -0.32372637-7.95857983e-02j,  0.0544829 -4.59051512e-01j]\n",
        "\n",
        "# padded_filter_vector = [0.18257418583505536, 0.3651483716701107, 0.5477225575051661, 0.7302967433402214] + [0]*4\n",
        "\n",
        "padded_filter_vector = result1\n",
        "# padded_filter_vector =   [ 0.72767174-1.36924432e-16j, -0.45781822+1.12551315e-01j,\n",
        "#               0.09900413-5.63222900e-02j, -0.00120229-2.15892112e-03j,\n",
        "#              -0.00171638+3.90621274e-17j, -0.00120229+2.15892112e-03j,\n",
        "#               0.09900413+5.63222900e-02j, -0.45781822-1.12551315e-01j] + [0]*8\n",
        "\n",
        "# padded_filter_vector = [ 2.05816647+0.j  ,       -1.29490548-0.31834319j , 0.28002598+0.15930349j,\n",
        "#  -0.00340058+0.00610635j ,-0.00485466+0.j   ,      -0.00340058-0.00610635j,\n",
        "#   0.28002598-0.15930349j ,-1.29490548+0.31834319j] + [0]*8\n",
        "\n",
        "  # [-0.0020939558974013665, 0.04493999659839265, 0.267769868918511, 0.5812076801643039,\n",
        "                        #  0.6512469871508397, 0.39116353951309446, 0.10554509675346828, 0.014199348776285179] #+ [0]*8\n",
        "\n",
        "  #                        -2.09395590e-03  4.49399966e-02  2.67769869e-01  5.81207680e-01\n",
        "  # 6.51246987e-01  3.91163540e-01  1.05545097e-01  1.41993488e-02\n",
        "A = np.diag(padded_filter_vector)\n",
        "# print(f\"Original A:\\n{A}\\n\")\n",
        "\n",
        "# Compute angles for UA\n",
        "alphas = np.arccos(A).flatten()\n",
        "thetas = compute_theta(alphas)\n",
        "\n",
        "# Define wires\n",
        "ancilla_wires = [\"ancilla\"]\n",
        "s = int(np.log2(A.shape[0]))\n",
        "wires_i = [f\"i{index}\" for index in range(s)]\n",
        "wires_j = [f\"j{index}\" for index in range(s)]\n",
        "\n",
        "# Compute control wires for UA\n",
        "code = gray_code(2 * np.log2(len(A)))\n",
        "n_selections = len(code)\n",
        "control_wires = [int(np.log2(int(code[i], 2) ^ int(code[(i + 1) %\n",
        "                 n_selections], 2))) for i in range(n_selections)]\n",
        "wire_map = {control_index : wire for control_index, wire in enumerate(wires_j + wires_i)}\n",
        "\n",
        "# Define UA\n",
        "def UA(thetas, control_wires, ancilla):\n",
        "    for theta, control_index in zip(thetas, control_wires):\n",
        "        qml.RY(2 * theta, wires=ancilla)\n",
        "        qml.CNOT(wires=[wire_map[control_index]] + ancilla)\n",
        "\n",
        "# Define UB\n",
        "def UB(wires_i, wires_j):\n",
        "    for w_i, w_j in zip(wires_i, wires_j):\n",
        "        qml.SWAP(wires=[w_i, w_j])\n",
        "\n",
        "# Define HN\n",
        "def HN(input_wires):\n",
        "    for w in input_wires:\n",
        "        qml.Hadamard(wires=w)\n",
        "\n",
        "# Device initialization\n",
        "dev = qml.device('default.qubit', wires=ancilla_wires + wires_i + wires_j)\n",
        "\n",
        "# Define the circuit with state preparation\n",
        "@qml.qnode(dev)\n",
        "def circuit():\n",
        "    HN(wires_i)\n",
        "    qml.Barrier()  # to separate the sections in the circuit\n",
        "    UA(thetas, control_wires, ancilla_wires)\n",
        "    qml.Barrier()\n",
        "    UB(wires_i, wires_j)\n",
        "    qml.Barrier()\n",
        "    HN(wires_i)\n",
        "    return qml.state()  # Return the full statevector\n",
        "\n",
        "# Draw the circuit\n",
        "# qml.draw_mpl(circuit, style='pennylane')()\n",
        "plt.show()\n",
        "\n",
        "# Get the final statevector\n",
        "output_state = circuit()\n",
        "print(len(output_state))\n",
        "# Print the statevector\n",
        "# print(\"Final statevector after applying the circuit:\\n\", output_state)\n",
        "\n",
        "# If you still need to extract the block-encoded matrix, you can compute it as follows:\n",
        "print(f\"Original matrix:\\n{A}\\n\")\n",
        "wire_order = ancilla_wires + wires_i[::-1] + wires_j[::-1]\n",
        "# Get the full matrix without trimming\n",
        "full_matrix = qml.matrix(circuit, wire_order=wire_order)()#.real\n",
        "\n",
        "# Save the full block-encoded matrix as a .npy file\n",
        "np.save(\"block_encoded_full_matrix.npy\", full_matrix)\n",
        "\n",
        "# Alternatively, save as a .txt file if you prefer a text format\n",
        "np.savetxt(\"block_encoded_full_matrix.txt\", full_matrix)\n",
        "\n",
        "print(f\"Original A:\\n{A}\\n\")\n",
        "print(\"Full block-encoded matrix saved successfully!\")\n",
        "print(full_matrix*len(A))\n",
        "print(np.shape(full_matrix))\n",
        "print(np.diag(A))\n",
        "print(np.diag(full_matrix)*len(A))"
      ]
    },
    {
      "cell_type": "markdown",
      "metadata": {
        "id": "SmYoBd-BY0W8"
      },
      "source": [
        "1h 24m 1s\n",
        "completed at 14:05  for 16 len array. padded to 32. block matrix is (2048, 2048)"
      ]
    },
    {
      "cell_type": "markdown",
      "metadata": {
        "id": "lTuRuz1gfQA2"
      },
      "source": [
        "# step 2: block matrix acts on the qft matrix product* window array"
      ]
    },
    {
      "cell_type": "code",
      "execution_count": 26,
      "metadata": {
        "colab": {
          "base_uri": "https://localhost:8080/"
        },
        "id": "CpvKI2KVpx8b",
        "outputId": "ad69788c-d682-40b7-dc06-d28b9f29dc26"
      },
      "outputs": [
        {
          "name": "stdout",
          "output_type": "stream",
          "text": [
            "496\n"
          ]
        }
      ],
      "source": [
        "block_residue = np.shape(full_matrix)[0] - len(A)\n",
        "print(block_residue)"
      ]
    },
    {
      "cell_type": "code",
      "execution_count": 27,
      "metadata": {
        "colab": {
          "base_uri": "https://localhost:8080/"
        },
        "id": "wnTMeLhebyOV",
        "outputId": "31e8237b-5838-4e5a-8b69-7de2498519ca"
      },
      "outputs": [
        {
          "name": "stdout",
          "output_type": "stream",
          "text": [
            "(512, 512)\n",
            "Result of QFT matrix multiplied by filter array:\n",
            "[ 2.48161765e-02+6.07079225e-18j -1.08310668e-02-7.83314555e-03j\n",
            " -1.47929753e-03+1.47929753e-03j -8.53453232e-04+9.68645753e-04j\n",
            "  2.06788960e-17+6.12745098e-04j  1.36511619e-04+5.47190076e-04j\n",
            "  2.53807330e-04+2.53807330e-04j  3.65410358e-04+1.70643872e-04j\n",
            "  3.06372549e-04+3.06822950e-18j  3.65410358e-04-1.70643872e-04j\n",
            "  2.53807330e-04-2.53807330e-04j  1.36511619e-04-5.47190076e-04j\n",
            "  4.22413367e-17-6.12745098e-04j -8.53453232e-04-9.68645753e-04j\n",
            " -1.47929753e-03-1.47929753e-03j -1.08310668e-02+7.83314555e-03j\n",
            "  2.48161765e-02-7.02244885e-18j  1.08310668e-02+7.83314555e-03j\n",
            " -1.47929753e-03+1.47929753e-03j  8.53453232e-04-9.68645753e-04j\n",
            " -3.43869706e-18+6.12745098e-04j -1.36511619e-04-5.47190076e-04j\n",
            "  2.53807330e-04+2.53807330e-04j -3.65410358e-04-1.70643872e-04j\n",
            "  3.06372549e-04+8.24452828e-19j -3.65410358e-04+1.70643872e-04j\n",
            "  2.53807330e-04-2.53807330e-04j -1.36511619e-04+5.47190076e-04j\n",
            "  2.57251315e-17-6.12745098e-04j  8.53453232e-04+9.68645753e-04j\n",
            " -1.47929753e-03-1.47929753e-03j  1.08310668e-02-7.83314555e-03j\n",
            "  2.48161765e-02+6.21541403e-17j -1.08310668e-02-7.83314555e-03j\n",
            "  1.47929753e-03-1.47929753e-03j  8.53453232e-04-9.68645753e-04j\n",
            "  5.20867117e-17+6.12745098e-04j  1.36511619e-04+5.47190076e-04j\n",
            " -2.53807330e-04-2.53807330e-04j -3.65410358e-04-1.70643872e-04j\n",
            "  3.06372549e-04+5.52305150e-17j  3.65410358e-04-1.70643872e-04j\n",
            " -2.53807330e-04+2.53807330e-04j -1.36511619e-04+5.47190076e-04j\n",
            "  7.44115911e-17-6.12745098e-04j -8.53453232e-04-9.68645753e-04j\n",
            "  1.47929753e-03+1.47929753e-03j  1.08310668e-02-7.83314555e-03j\n",
            "  2.48161765e-02-6.10506651e-17j  1.08310668e-02+7.83314555e-03j\n",
            "  1.47929753e-03-1.47929753e-03j -8.53453232e-04+9.68645753e-04j\n",
            "  4.91289717e-17+6.12745098e-04j -1.36511619e-04-5.47190076e-04j\n",
            " -2.53807330e-04-2.53807330e-04j  3.65410358e-04+1.70643872e-04j\n",
            "  3.06372549e-04-5.21201458e-17j -3.65410358e-04+1.70643872e-04j\n",
            " -2.53807330e-04+2.53807330e-04j  1.36511619e-04-5.47190076e-04j\n",
            "  7.69176921e-17-6.12745098e-04j  8.53453232e-04+9.68645753e-04j\n",
            "  1.47929753e-03+1.47929753e-03j -1.08310668e-02+7.83314555e-03j\n",
            "  2.48161765e-02+6.37972842e-17j -1.08310668e-02-7.83314555e-03j\n",
            " -1.47929753e-03+1.47929753e-03j -8.53453232e-04+9.68645753e-04j\n",
            "  5.61587354e-17-6.12745098e-04j -1.36511619e-04-5.47190076e-04j\n",
            " -2.53807330e-04-2.53807330e-04j -3.65410358e-04-1.70643872e-04j\n",
            "  3.06372549e-04+5.60212457e-17j  3.65410358e-04-1.70643872e-04j\n",
            "  2.53807330e-04-2.53807330e-04j  1.36511619e-04-5.47190076e-04j\n",
            "  6.05357690e-17+6.12745098e-04j  8.53453232e-04+9.68645753e-04j\n",
            "  1.47929753e-03+1.47929753e-03j  1.08310668e-02-7.83314555e-03j\n",
            "  2.48161765e-02-1.09484323e-16j  1.08310668e-02+7.83314555e-03j\n",
            " -1.47929753e-03+1.47929753e-03j  8.53453232e-04-9.68645753e-04j\n",
            "  6.54564604e-17-6.12745098e-04j  1.36511619e-04+5.47190076e-04j\n",
            " -2.53807330e-04-2.53807330e-04j  3.65410358e-04+1.70643872e-04j\n",
            "  3.06372549e-04-9.34169533e-17j -3.65410358e-04+1.70643872e-04j\n",
            "  2.53807330e-04-2.53807330e-04j -1.36511619e-04+5.47190076e-04j\n",
            "  7.45625979e-17+6.12745098e-04j -8.53453232e-04-9.68645753e-04j\n",
            "  1.47929753e-03+1.47929753e-03j -1.08310668e-02+7.83314555e-03j\n",
            "  2.48161765e-02+3.24268902e-17j -1.08310668e-02-7.83314555e-03j\n",
            "  1.47929753e-03-1.47929753e-03j  8.53453232e-04-9.68645753e-04j\n",
            "  3.01564756e-17-6.12745098e-04j -1.36511619e-04-5.47190076e-04j\n",
            "  2.53807330e-04+2.53807330e-04j  3.65410358e-04+1.70643872e-04j\n",
            "  3.06372549e-04+2.50169393e-17j  3.65410358e-04-1.70643872e-04j\n",
            " -2.53807330e-04+2.53807330e-04j -1.36511619e-04+5.47190076e-04j\n",
            "  3.62734304e-17+6.12745098e-04j  8.53453232e-04+9.68645753e-04j\n",
            " -1.47929753e-03-1.47929753e-03j -1.08310668e-02+7.83314555e-03j\n",
            "  2.48161765e-02+1.29413297e-17j  1.08310668e-02+7.83314555e-03j\n",
            "  1.47929753e-03-1.47929753e-03j -8.53453232e-04+9.68645753e-04j\n",
            "  9.02749814e-17-6.12745098e-04j  1.36511619e-04+5.47190076e-04j\n",
            "  2.53807330e-04+2.53807330e-04j -3.65410358e-04-1.70643872e-04j\n",
            "  3.06372549e-04+2.20690104e-17j -3.65410358e-04+1.70643872e-04j\n",
            " -2.53807330e-04+2.53807330e-04j  1.36511619e-04-5.47190076e-04j\n",
            "  9.78739503e-17+6.12745098e-04j -8.53453232e-04-9.68645753e-04j\n",
            " -1.47929753e-03-1.47929753e-03j  1.08310668e-02-7.83314555e-03j\n",
            "  2.48161765e-02+7.35351934e-17j -1.08310668e-02-7.83314555e-03j\n",
            " -1.47929753e-03+1.47929753e-03j -8.53453232e-04+9.68645753e-04j\n",
            "  4.95098539e-17+6.12745098e-04j  1.36511619e-04+5.47190076e-04j\n",
            "  2.53807330e-04+2.53807330e-04j  3.65410358e-04+1.70643872e-04j\n",
            " -3.06372549e-04+5.72786646e-17j -3.65410358e-04+1.70643872e-04j\n",
            " -2.53807330e-04+2.53807330e-04j -1.36511619e-04+5.47190076e-04j\n",
            "  5.97557917e-17+6.12745098e-04j  8.53453232e-04+9.68645753e-04j\n",
            "  1.47929753e-03+1.47929753e-03j  1.08310668e-02-7.83314555e-03j\n",
            "  2.48161765e-02-1.52183493e-16j  1.08310668e-02+7.83314555e-03j\n",
            " -1.47929753e-03+1.47929753e-03j  8.53453232e-04-9.68645753e-04j\n",
            "  5.95271883e-17+6.12745098e-04j -1.36511619e-04-5.47190076e-04j\n",
            "  2.53807330e-04+2.53807330e-04j -3.65410358e-04-1.70643872e-04j\n",
            " -3.06372549e-04-1.37874440e-16j  3.65410358e-04-1.70643872e-04j\n",
            " -2.53807330e-04+2.53807330e-04j  1.36511619e-04-5.47190076e-04j\n",
            "  7.51480990e-17+6.12745098e-04j -8.53453232e-04-9.68645753e-04j\n",
            "  1.47929753e-03+1.47929753e-03j -1.08310668e-02+7.83314555e-03j\n",
            "  2.48161765e-02+3.87940585e-17j -1.08310668e-02-7.83314555e-03j\n",
            "  1.47929753e-03-1.47929753e-03j  8.53453232e-04-9.68645753e-04j\n",
            "  2.34206131e-17+6.12745098e-04j  1.36511619e-04+5.47190076e-04j\n",
            " -2.53807330e-04-2.53807330e-04j -3.65410358e-04-1.70643872e-04j\n",
            " -3.06372549e-04+2.12663761e-17j -3.65410358e-04+1.70643872e-04j\n",
            "  2.53807330e-04-2.53807330e-04j  1.36511619e-04-5.47190076e-04j\n",
            "  3.51739990e-17+6.12745098e-04j  8.53453232e-04+9.68645753e-04j\n",
            " -1.47929753e-03-1.47929753e-03j -1.08310668e-02+7.83314555e-03j\n",
            "  2.48161765e-02+1.21473338e-17j  1.08310668e-02+7.83314555e-03j\n",
            "  1.47929753e-03-1.47929753e-03j -8.53453232e-04+9.68645753e-04j\n",
            "  8.55305475e-17+6.12745098e-04j -1.36511619e-04-5.47190076e-04j\n",
            " -2.53807330e-04-2.53807330e-04j  3.65410358e-04+1.70643872e-04j\n",
            " -3.06372549e-04+1.85163296e-17j  3.65410358e-04-1.70643872e-04j\n",
            "  2.53807330e-04-2.53807330e-04j -1.36511619e-04+5.47190076e-04j\n",
            "  9.87341770e-17+6.12745098e-04j -8.53453232e-04-9.68645753e-04j\n",
            " -1.47929753e-03-1.47929753e-03j  1.08310668e-02-7.83314555e-03j\n",
            "  2.48161765e-02+1.10997058e-17j -1.08310668e-02-7.83314555e-03j\n",
            " -1.47929753e-03+1.47929753e-03j -8.53453232e-04+9.68645753e-04j\n",
            "  2.40768831e-17-6.12745098e-04j -1.36511619e-04-5.47190076e-04j\n",
            " -2.53807330e-04-2.53807330e-04j -3.65410358e-04-1.70643872e-04j\n",
            " -3.06372549e-04+7.17556062e-18j -3.65410358e-04+1.70643872e-04j\n",
            " -2.53807330e-04+2.53807330e-04j -1.36511619e-04+5.47190076e-04j\n",
            "  4.51318943e-17-6.12745098e-04j -8.53453232e-04-9.68645753e-04j\n",
            " -1.47929753e-03-1.47929753e-03j -1.08310668e-02+7.83314555e-03j\n",
            "  2.48161765e-02+1.74936335e-18j  1.08310668e-02+7.83314555e-03j\n",
            " -1.47929753e-03+1.47929753e-03j  8.53453232e-04-9.68645753e-04j\n",
            "  9.68829801e-17-6.12745098e-04j  1.36511619e-04+5.47190076e-04j\n",
            " -2.53807330e-04-2.53807330e-04j  3.65410358e-04+1.70643872e-04j\n",
            " -3.06372549e-04+5.02516820e-18j  3.65410358e-04-1.70643872e-04j\n",
            " -2.53807330e-04+2.53807330e-04j  1.36511619e-04-5.47190076e-04j\n",
            "  1.17753097e-16-6.12745098e-04j  8.53453232e-04+9.68645753e-04j\n",
            " -1.47929753e-03-1.47929753e-03j  1.08310668e-02-7.83314555e-03j\n",
            "  2.48161765e-02+5.45522884e-17j -1.08310668e-02-7.83314555e-03j\n",
            "  1.47929753e-03-1.47929753e-03j  8.53453232e-04-9.68645753e-04j\n",
            "  5.44419230e-17-6.12745098e-04j -1.36511619e-04-5.47190076e-04j\n",
            "  2.53807330e-04+2.53807330e-04j  3.65410358e-04+1.70643872e-04j\n",
            " -3.06372549e-04+4.61587143e-17j -3.65410358e-04+1.70643872e-04j\n",
            "  2.53807330e-04-2.53807330e-04j  1.36511619e-04-5.47190076e-04j\n",
            "  7.25349577e-17-6.12745098e-04j -8.53453232e-04-9.68645753e-04j\n",
            "  1.47929753e-03+1.47929753e-03j  1.08310668e-02-7.83314555e-03j\n",
            "  2.48161765e-02-4.00739968e-17j  1.08310668e-02+7.83314555e-03j\n",
            "  1.47929753e-03-1.47929753e-03j -8.53453232e-04+9.68645753e-04j\n",
            "  6.57643183e-17-6.12745098e-04j  1.36511619e-04+5.47190076e-04j\n",
            "  2.53807330e-04+2.53807330e-04j -3.65410358e-04-1.70643872e-04j\n",
            " -3.06372549e-04-3.50594880e-17j  3.65410358e-04-1.70643872e-04j\n",
            "  2.53807330e-04-2.53807330e-04j -1.36511619e-04+5.47190076e-04j\n",
            "  8.81760514e-17-6.12745098e-04j  8.53453232e-04+9.68645753e-04j\n",
            "  1.47929753e-03+1.47929753e-03j -1.08310668e-02+7.83314555e-03j\n",
            "  8.70114714e-03-2.02696864e-16j  1.51606644e-02+1.81565590e-03j\n",
            "  1.73281625e-02-7.38247436e-05j  1.75917764e-02+2.74839545e-05j\n",
            "  1.74819984e-02+2.13975384e-05j  1.75144502e-02-2.44615668e-05j\n",
            "  1.75086983e-02+1.25833973e-05j  1.74906467e-02-9.89477015e-06j\n",
            "  1.75142394e-02-1.45908563e-16j  1.74906467e-02+9.89477015e-06j\n",
            "  1.75086983e-02-1.25833973e-05j  1.75144502e-02+2.44615668e-05j\n",
            "  1.74819984e-02-2.13975384e-05j  1.75917764e-02-2.74839545e-05j\n",
            "  1.73281625e-02+7.38247436e-05j  1.51606644e-02-1.81565590e-03j\n",
            " -8.80235391e-03+4.01644224e-17j  2.34283662e-03-1.81565590e-03j\n",
            " -1.75338587e-04-7.38247436e-05j -8.82753942e-05-2.74839545e-05j\n",
            " -2.15026841e-05+2.13975384e-05j -1.09491122e-05+2.44615668e-05j\n",
            "  5.19720757e-06+1.25833973e-05j  1.28543706e-05+9.89477015e-06j\n",
            "  1.07383604e-05-7.13068452e-18j  1.28543706e-05-9.89477015e-06j\n",
            "  5.19720757e-06-1.25833973e-05j -1.09491122e-05-2.44615668e-05j\n",
            " -2.15026841e-05-2.13975384e-05j -8.82753942e-05+2.74839545e-05j\n",
            " -1.75338587e-04+7.38247436e-05j  2.34283662e-03+1.81565590e-03j\n",
            "  3.49563987e-02+4.37587526e-02j  4.14159160e-02+4.55744085e-02j\n",
            "  4.39340912e-02+4.38325774e-02j  4.36704772e-02+4.37312687e-02j\n",
            "  4.37372499e-02+4.37801502e-02j  4.37697017e-02+4.37342911e-02j\n",
            "  4.37535554e-02+4.37461692e-02j  4.37716070e-02+4.37686474e-02j\n",
            "  4.37694910e-02+4.37587526e-02j  4.37458983e-02+4.37686474e-02j\n",
            "  4.37535554e-02+4.37713360e-02j  4.37478035e-02+4.37342911e-02j\n",
            "  4.37372499e-02+4.37373551e-02j  4.38470280e-02+4.37312687e-02j\n",
            "  4.39340912e-02+4.36849279e-02j  4.61015893e-02+4.55744085e-02j\n",
            "  3.49563987e-02-4.37587526e-02j  4.61015893e-02-4.55744085e-02j\n",
            "  4.39340912e-02-4.36849279e-02j  4.38470280e-02-4.37312687e-02j\n",
            "  4.37372499e-02-4.37373551e-02j  4.37478035e-02-4.37342911e-02j\n",
            "  4.37535554e-02-4.37713360e-02j  4.37458983e-02-4.37686474e-02j\n",
            "  4.37694910e-02-4.37587526e-02j  4.37716070e-02-4.37686474e-02j\n",
            "  4.37535554e-02-4.37461692e-02j  4.37697017e-02-4.37342911e-02j\n",
            "  4.37372499e-02-4.37801502e-02j  4.36704772e-02-4.37312687e-02j\n",
            "  4.39340912e-02-4.38325774e-02j  4.14159160e-02-4.55744085e-02j\n",
            "  3.49563987e-02+4.43807204e-02j  4.14159160e-02+4.61963763e-02j\n",
            "  4.35834140e-02+4.43068956e-02j  4.38470280e-02+4.44082043e-02j\n",
            "  4.37802553e-02+4.43593228e-02j  4.37478035e-02+4.44051820e-02j\n",
            "  4.37535554e-02+4.43681370e-02j  4.37716070e-02+4.43906152e-02j\n",
            "  4.37694910e-02+4.43807204e-02j  4.37458983e-02+4.43906152e-02j\n",
            "  4.37639498e-02+4.43681370e-02j  4.37697017e-02+4.44051820e-02j\n",
            "  4.37802553e-02+4.44021179e-02j  4.36704772e-02+4.44082043e-02j\n",
            "  4.39340912e-02+4.43068956e-02j  4.61015893e-02+4.61963763e-02j\n",
            "  3.49563987e-02-7.93877225e-02j  4.61015893e-02-8.12033784e-02j\n",
            "  4.35834140e-02-7.94615472e-02j  4.36704772e-02-7.94152064e-02j\n",
            "  4.37802553e-02-7.94091200e-02j  4.37697017e-02-7.94121841e-02j\n",
            "  4.37535554e-02-7.94003059e-02j  4.37458983e-02-7.93976173e-02j\n",
            "  4.37694910e-02-7.93877225e-02j  4.37716070e-02-7.93976173e-02j\n",
            "  4.37639498e-02-7.94003059e-02j  4.37478035e-02-7.94121841e-02j\n",
            "  4.37802553e-02-7.93663249e-02j  4.38470280e-02-7.94152064e-02j\n",
            "  4.39340912e-02-7.94615472e-02j  4.14159160e-02-8.12033784e-02j\n",
            "  1.02027101e-02+1.75035011e-02j  1.66622274e-02+1.93191570e-02j\n",
            "  1.91804026e-02+1.75773258e-02j  1.89167887e-02+1.74760171e-02j\n",
            "  1.90265667e-02+1.74821035e-02j  1.89941149e-02+1.75279626e-02j\n",
            "  1.90102613e-02+1.75160844e-02j  1.89922097e-02+1.74936063e-02j\n",
            "  1.90158024e-02+1.75035011e-02j  1.89922097e-02+1.75133958e-02j\n",
            "  1.89998668e-02+1.75160844e-02j  1.89941149e-02+1.74790395e-02j\n",
            "  1.90265667e-02+1.75248986e-02j  1.89167887e-02+1.75309850e-02j\n",
            "  1.88297255e-02+1.75773258e-02j  1.66622274e-02+1.56878451e-02j\n",
            "  5.97100873e-02+1.75035011e-02j  7.08552778e-02+1.56878451e-02j\n",
            "  6.86877798e-02+1.75773258e-02j  6.86007166e-02+1.75309850e-02j\n",
            "  6.85339439e-02+1.74821035e-02j  6.85233903e-02+1.74790395e-02j\n",
            "  6.85176384e-02+1.75160844e-02j  6.85252956e-02+1.75133958e-02j\n",
            "  6.85231796e-02+1.75035011e-02j  6.85252956e-02+1.74936063e-02j\n",
            "  6.85072440e-02+1.75160844e-02j  6.85233903e-02+1.75279626e-02j\n",
            "  6.85339439e-02+1.75248986e-02j  6.86007166e-02+1.74760171e-02j\n",
            "  6.83371026e-02+1.75773258e-02j  7.08552778e-02+1.93191570e-02j\n",
            "  3.49563987e-02+4.73501927e-02j  4.14159160e-02+4.91658486e-02j\n",
            "  4.35834140e-02+4.72763680e-02j  4.38470280e-02+4.73776767e-02j\n",
            "  4.37372499e-02+4.73715903e-02j  4.37697017e-02+4.73257312e-02j\n",
            "  4.37639498e-02+4.73627761e-02j  4.37458983e-02+4.73402980e-02j\n",
            "  4.37480143e-02+4.73501927e-02j  4.37716070e-02+4.73402980e-02j\n",
            "  4.37535554e-02+4.73627761e-02j  4.37478035e-02+4.73257312e-02j\n",
            "  4.37802553e-02+4.73715903e-02j  4.36704772e-02+4.73776767e-02j\n",
            "  4.39340912e-02+4.72763680e-02j  4.61015893e-02+4.91658486e-02j\n",
            "  3.49563987e-02-1.14361071e-01j  4.61015893e-02-1.16176727e-01j\n",
            "  4.35834140e-02-1.14434896e-01j  4.36704772e-02-1.14388555e-01j\n",
            "  4.37372499e-02-1.14339673e-01j  4.37478035e-02-1.14336609e-01j\n",
            "  4.37639498e-02-1.14348488e-01j  4.37716070e-02-1.14351176e-01j\n",
            "  4.37480143e-02-1.14361071e-01j  4.37458983e-02-1.14351176e-01j\n",
            "  4.37535554e-02-1.14348488e-01j  4.37697017e-02-1.14336609e-01j\n",
            "  4.37802553e-02-1.14339673e-01j  4.38470280e-02-1.14388555e-01j\n",
            "  4.39340912e-02-1.14434896e-01j  4.14159160e-02-1.16176727e-01j\n",
            "  9.31244584e-03+1.60019380e-02j  1.57719631e-02+1.78175939e-02j\n",
            "  1.82901383e-02+1.60757628e-02j  1.80265244e-02+1.59744541e-02j\n",
            "  1.80932971e-02+1.60233356e-02j  1.81257489e-02+1.59774765e-02j\n",
            "  1.81096025e-02+1.59893547e-02j  1.81276541e-02+1.60118328e-02j\n",
            "  1.81040614e-02+1.60019380e-02j  1.81276541e-02+1.59920433e-02j\n",
            "  1.81199970e-02+1.59893547e-02j  1.81257489e-02+1.60263996e-02j\n",
            "  1.81363024e-02+1.60233356e-02j  1.80265244e-02+1.60294220e-02j\n",
            "  1.79394612e-02+1.60757628e-02j  1.57719631e-02+1.41862821e-02j\n",
            "  6.06003516e-02+1.60019380e-02j  7.17455421e-02+1.41862821e-02j\n",
            "  6.95780441e-02+1.60757628e-02j  6.94909809e-02+1.60294220e-02j\n",
            "  6.93812028e-02+1.60233356e-02j  6.93917564e-02+1.60263996e-02j\n",
            "  6.93975083e-02+1.59893547e-02j  6.93898511e-02+1.59920433e-02j\n",
            "  6.93919671e-02+1.60019380e-02j  6.93898511e-02+1.60118328e-02j\n",
            "  6.94079027e-02+1.59893547e-02j  6.93917564e-02+1.59774765e-02j\n",
            "  6.94242082e-02+1.60233356e-02j  6.94909809e-02+1.59744541e-02j\n",
            "  6.92273669e-02+1.60757628e-02j  7.17455421e-02+1.78175939e-02j\n",
            "  5.38867263e-03+8.75175053e-03j  1.18481899e-02+1.05674064e-02j\n",
            "  1.40156880e-02+8.67792578e-03j  1.42793019e-02+8.77923448e-03j\n",
            "  1.42125292e-02+8.73035299e-03j  1.41800774e-02+8.77621209e-03j\n",
            "  1.41858293e-02+8.73916713e-03j  1.42038809e-02+8.76164530e-03j\n",
            "  1.41802882e-02+8.75175053e-03j  1.42038809e-02+8.74185576e-03j\n",
            "  1.41858293e-02+8.76433392e-03j  1.41800774e-02+8.72728896e-03j\n",
            "  1.41695239e-02+8.73035299e-03j  1.42793019e-02+8.72426657e-03j\n",
            "  1.40156880e-02+8.82557527e-03j  1.18481899e-02+6.93609462e-03j\n",
            "  6.45241248e-02+8.75175053e-03j  7.56693153e-02+6.93609462e-03j\n",
            "  7.31511401e-02+8.67792578e-03j  7.32382033e-02+8.72426657e-03j\n",
            "  7.33479814e-02+8.73035299e-03j  7.33374278e-02+8.72728896e-03j\n",
            "  7.33212815e-02+8.73916713e-03j  7.33136243e-02+8.74185576e-03j\n",
            "  7.33157404e-02+8.75175053e-03j  7.33136243e-02+8.76164530e-03j\n",
            "  7.33212815e-02+8.76433392e-03j  7.33374278e-02+8.77621209e-03j\n",
            "  7.33049760e-02+8.73035299e-03j  7.32382033e-02+8.77923448e-03j\n",
            "  7.31511401e-02+8.82557527e-03j  7.56693153e-02+1.05674064e-02j\n",
            "  3.49563987e-02+4.22432498e-02j  4.14159160e-02+4.40589057e-02j\n",
            "  4.39340912e-02+4.23170746e-02j  4.36704772e-02+4.22157659e-02j\n",
            "  4.37802553e-02+4.22218523e-02j  4.37478035e-02+4.22677114e-02j\n",
            "  4.37639498e-02+4.22558332e-02j  4.37458983e-02+4.22333551e-02j\n",
            "  4.37480143e-02+4.22432498e-02j  4.37716070e-02+4.22333551e-02j\n",
            "  4.37639498e-02+4.22306664e-02j  4.37697017e-02+4.22677114e-02j\n",
            "  4.37372499e-02+4.22218523e-02j  4.38470280e-02+4.22157659e-02j\n",
            "  4.39340912e-02+4.21694251e-02j  4.61015893e-02+4.40589057e-02j\n",
            "  3.49563987e-02-2.47397488e-02j  4.61015893e-02-2.65554047e-02j\n",
            "  4.39340912e-02-2.46659240e-02j  4.38470280e-02-2.47122648e-02j\n",
            "  4.37802553e-02-2.47611463e-02j  4.37697017e-02-2.47642103e-02j\n",
            "  4.37639498e-02-2.47271654e-02j  4.37716070e-02-2.47298540e-02j\n",
            "  4.37480143e-02-2.47397488e-02j  4.37458983e-02-2.47298540e-02j\n",
            "  4.37639498e-02-2.47523322e-02j  4.37478035e-02-2.47642103e-02j\n",
            "  4.37372499e-02-2.47611463e-02j  4.36704772e-02-2.47122648e-02j\n",
            "  4.39340912e-02-2.48135735e-02j  4.14159160e-02-2.65554047e-02j]\n"
          ]
        }
      ],
      "source": [
        "full_matrix_array = np.array(full_matrix)\n",
        "print(np.shape(full_matrix_array))\n",
        "\n",
        "# result_array1w = np.array(result1w)\n",
        "# Perform matrix-vector multiplication\n",
        "result2 = np.dot(full_matrix_array, np.concatenate((result_array1w, np.array([0]*block_residue))))\n",
        "\n",
        "# Print the resulting vector\n",
        "print(\"Result of QFT matrix multiplied by filter array:\")\n",
        "print(result2)"
      ]
    },
    {
      "cell_type": "markdown",
      "metadata": {
        "id": "c2VRw6c3fwjS"
      },
      "source": [
        "# step 3: IQFT acts on the resulting staevector from previous operations"
      ]
    },
    {
      "cell_type": "code",
      "execution_count": 28,
      "metadata": {
        "id": "-V4pK9Bkq1ME"
      },
      "outputs": [],
      "source": [
        "# def qft_matrix(n):\n",
        "#     \"\"\"Generate the QFT matrix for n qubits (size 2^n x 2^n).\"\"\"\n",
        "#     N = 2**n\n",
        "#     omega = np.exp(2j * np.pi / N)\n",
        "#     qft_mat = np.zeros((N, N), dtype=complex)\n",
        "\n",
        "#     for i in range(N):\n",
        "#         for j in range(N):\n",
        "#             qft_mat[i, j] = omega**(i * j)\n",
        "\n",
        "#     return qft_mat / np.sqrt(N)"
      ]
    },
    {
      "cell_type": "code",
      "execution_count": 29,
      "metadata": {
        "colab": {
          "base_uri": "https://localhost:8080/"
        },
        "id": "eVrFFXcbfsAp",
        "outputId": "593d768b-a223-424d-8b46-c43a598ebeb2"
      },
      "outputs": [
        {
          "name": "stdout",
          "output_type": "stream",
          "text": [
            "Inverse QFT Matrix for 3 Qubits:\n",
            "[[ 2.50000000e-01+0.00000000e+00j  2.50000000e-01+0.00000000e+00j\n",
            "   2.50000000e-01+0.00000000e+00j  2.50000000e-01+0.00000000e+00j\n",
            "   2.50000000e-01+0.00000000e+00j  2.50000000e-01+0.00000000e+00j\n",
            "   2.50000000e-01+0.00000000e+00j  2.50000000e-01+0.00000000e+00j\n",
            "   2.50000000e-01+0.00000000e+00j  2.50000000e-01+0.00000000e+00j\n",
            "   2.50000000e-01+0.00000000e+00j  2.50000000e-01+0.00000000e+00j\n",
            "   2.50000000e-01+0.00000000e+00j  2.50000000e-01+0.00000000e+00j\n",
            "   2.50000000e-01+0.00000000e+00j  2.50000000e-01+0.00000000e+00j]\n",
            " [ 2.50000000e-01+0.00000000e+00j  2.30969883e-01-9.56708581e-02j\n",
            "   1.76776695e-01-1.76776695e-01j  9.56708581e-02-2.30969883e-01j\n",
            "  -5.55111512e-17-2.50000000e-01j -9.56708581e-02-2.30969883e-01j\n",
            "  -1.76776695e-01-1.76776695e-01j -2.30969883e-01-9.56708581e-02j\n",
            "  -2.50000000e-01+1.11022302e-16j -2.30969883e-01+9.56708581e-02j\n",
            "  -1.76776695e-01+1.76776695e-01j -9.56708581e-02+2.30969883e-01j\n",
            "   1.66533454e-16+2.50000000e-01j  9.56708581e-02+2.30969883e-01j\n",
            "   1.76776695e-01+1.76776695e-01j  2.30969883e-01+9.56708581e-02j]\n",
            " [ 2.50000000e-01+0.00000000e+00j  1.76776695e-01-1.76776695e-01j\n",
            "  -5.55111512e-17-2.50000000e-01j -1.76776695e-01-1.76776695e-01j\n",
            "  -2.50000000e-01+1.11022302e-16j -1.76776695e-01+1.76776695e-01j\n",
            "   1.66533454e-16+2.50000000e-01j  1.76776695e-01+1.76776695e-01j\n",
            "   2.50000000e-01-2.22044605e-16j  1.76776695e-01-1.76776695e-01j\n",
            "  -2.77555756e-16-2.50000000e-01j -1.76776695e-01-1.76776695e-01j\n",
            "  -2.50000000e-01+3.33066907e-16j -1.76776695e-01+1.76776695e-01j\n",
            "   3.88578059e-16+2.50000000e-01j  1.76776695e-01+1.76776695e-01j]\n",
            " [ 2.50000000e-01+0.00000000e+00j  9.56708581e-02-2.30969883e-01j\n",
            "  -1.76776695e-01-1.76776695e-01j -2.30969883e-01+9.56708581e-02j\n",
            "   1.66533454e-16+2.50000000e-01j  2.30969883e-01+9.56708581e-02j\n",
            "   1.76776695e-01-1.76776695e-01j -9.56708581e-02-2.30969883e-01j\n",
            "  -2.50000000e-01+3.33066907e-16j -9.56708581e-02+2.30969883e-01j\n",
            "   1.76776695e-01+1.76776695e-01j  2.30969883e-01-9.56708581e-02j\n",
            "  -4.99600361e-16-2.50000000e-01j -2.30969883e-01-9.56708581e-02j\n",
            "  -1.76776695e-01+1.76776695e-01j  9.56708581e-02+2.30969883e-01j]\n",
            " [ 2.50000000e-01+0.00000000e+00j -5.55111512e-17-2.50000000e-01j\n",
            "  -2.50000000e-01+1.11022302e-16j  1.66533454e-16+2.50000000e-01j\n",
            "   2.50000000e-01-2.22044605e-16j -2.77555756e-16-2.50000000e-01j\n",
            "  -2.50000000e-01+3.33066907e-16j  3.88578059e-16+2.50000000e-01j\n",
            "   2.50000000e-01-4.44089210e-16j -4.99600361e-16-2.50000000e-01j\n",
            "  -2.50000000e-01+5.55111512e-16j  6.10622664e-16+2.50000000e-01j\n",
            "   2.50000000e-01-6.66133815e-16j -7.21644966e-16-2.50000000e-01j\n",
            "  -2.50000000e-01+7.77156117e-16j  8.32667268e-16+2.50000000e-01j]\n",
            " [ 2.50000000e-01+0.00000000e+00j -9.56708581e-02-2.30969883e-01j\n",
            "  -1.76776695e-01+1.76776695e-01j  2.30969883e-01+9.56708581e-02j\n",
            "  -2.77555756e-16-2.50000000e-01j -2.30969883e-01+9.56708581e-02j\n",
            "   1.76776695e-01+1.76776695e-01j  9.56708581e-02-2.30969883e-01j\n",
            "  -2.50000000e-01+5.55111512e-16j  9.56708581e-02+2.30969883e-01j\n",
            "   1.76776695e-01-1.76776695e-01j -2.30969883e-01-9.56708581e-02j\n",
            "   8.32667268e-16+2.50000000e-01j  2.30969883e-01-9.56708581e-02j\n",
            "  -1.76776695e-01-1.76776695e-01j -9.56708581e-02+2.30969883e-01j]\n",
            " [ 2.50000000e-01+0.00000000e+00j -1.76776695e-01-1.76776695e-01j\n",
            "   1.66533454e-16+2.50000000e-01j  1.76776695e-01-1.76776695e-01j\n",
            "  -2.50000000e-01+3.33066907e-16j  1.76776695e-01+1.76776695e-01j\n",
            "  -4.99600361e-16-2.50000000e-01j -1.76776695e-01+1.76776695e-01j\n",
            "   2.50000000e-01-6.66133815e-16j -1.76776695e-01-1.76776695e-01j\n",
            "   8.32667268e-16+2.50000000e-01j  1.76776695e-01-1.76776695e-01j\n",
            "  -2.50000000e-01+9.99200722e-16j  1.76776695e-01+1.76776695e-01j\n",
            "  -1.16573418e-15-2.50000000e-01j -1.76776695e-01+1.76776695e-01j]\n",
            " [ 2.50000000e-01+0.00000000e+00j -2.30969883e-01-9.56708581e-02j\n",
            "   1.76776695e-01+1.76776695e-01j -9.56708581e-02-2.30969883e-01j\n",
            "   3.88578059e-16+2.50000000e-01j  9.56708581e-02-2.30969883e-01j\n",
            "  -1.76776695e-01+1.76776695e-01j  2.30969883e-01-9.56708581e-02j\n",
            "  -2.50000000e-01+7.77156117e-16j  2.30969883e-01+9.56708581e-02j\n",
            "  -1.76776695e-01-1.76776695e-01j  9.56708581e-02+2.30969883e-01j\n",
            "  -1.16573418e-15-2.50000000e-01j -9.56708581e-02+2.30969883e-01j\n",
            "   1.76776695e-01-1.76776695e-01j -2.30969883e-01+9.56708581e-02j]\n",
            " [ 2.50000000e-01+0.00000000e+00j -2.50000000e-01+1.11022302e-16j\n",
            "   2.50000000e-01-2.22044605e-16j -2.50000000e-01+3.33066907e-16j\n",
            "   2.50000000e-01-4.44089210e-16j -2.50000000e-01+5.55111512e-16j\n",
            "   2.50000000e-01-6.66133815e-16j -2.50000000e-01+7.77156117e-16j\n",
            "   2.50000000e-01-8.88178420e-16j -2.50000000e-01+9.99200722e-16j\n",
            "   2.50000000e-01-1.11022302e-15j -2.50000000e-01+1.22124533e-15j\n",
            "   2.50000000e-01-1.33226763e-15j -2.50000000e-01+4.90168210e-16j\n",
            "   2.50000000e-01-1.34773046e-15j -2.50000000e-01+4.28935870e-16j]\n",
            " [ 2.50000000e-01+0.00000000e+00j -2.30969883e-01+9.56708581e-02j\n",
            "   1.76776695e-01-1.76776695e-01j -9.56708581e-02+2.30969883e-01j\n",
            "  -4.99600361e-16-2.50000000e-01j  9.56708581e-02+2.30969883e-01j\n",
            "  -1.76776695e-01-1.76776695e-01j  2.30969883e-01+9.56708581e-02j\n",
            "  -2.50000000e-01+9.99200722e-16j  2.30969883e-01-9.56708581e-02j\n",
            "  -1.76776695e-01+1.76776695e-01j  9.56708581e-02-2.30969883e-01j\n",
            "   9.18949335e-16+2.50000000e-01j -9.56708581e-02-2.30969883e-01j\n",
            "   1.76776695e-01+1.76776695e-01j -2.30969883e-01-9.56708581e-02j]\n",
            " [ 2.50000000e-01+0.00000000e+00j -1.76776695e-01+1.76776695e-01j\n",
            "  -2.77555756e-16-2.50000000e-01j  1.76776695e-01+1.76776695e-01j\n",
            "  -2.50000000e-01+5.55111512e-16j  1.76776695e-01-1.76776695e-01j\n",
            "   8.32667268e-16+2.50000000e-01j -1.76776695e-01-1.76776695e-01j\n",
            "   2.50000000e-01-1.11022302e-15j -1.76776695e-01+1.76776695e-01j\n",
            "  -1.83774392e-15-2.50000000e-01j  1.76776695e-01+1.76776695e-01j\n",
            "  -2.50000000e-01+4.28935870e-16j  1.76776695e-01-1.76776695e-01j\n",
            "   7.96484655e-16+2.50000000e-01j -1.76776695e-01-1.76776695e-01j]\n",
            " [ 2.50000000e-01+0.00000000e+00j -9.56708581e-02+2.30969883e-01j\n",
            "  -1.76776695e-01-1.76776695e-01j  2.30969883e-01-9.56708581e-02j\n",
            "   6.10622664e-16+2.50000000e-01j -2.30969883e-01-9.56708581e-02j\n",
            "   1.76776695e-01-1.76776695e-01j  9.56708581e-02+2.30969883e-01j\n",
            "  -2.50000000e-01+1.22124533e-15j  9.56708581e-02-2.30969883e-01j\n",
            "   1.76776695e-01+1.76776695e-01j -2.30969883e-01+9.56708581e-02j\n",
            "  -1.71527924e-15-2.50000000e-01j  2.30969883e-01+9.56708581e-02j\n",
            "  -1.76776695e-01+1.76776695e-01j -9.56708581e-02-2.30969883e-01j]\n",
            " [ 2.50000000e-01+0.00000000e+00j  1.66533454e-16+2.50000000e-01j\n",
            "  -2.50000000e-01+3.33066907e-16j -4.99600361e-16-2.50000000e-01j\n",
            "   2.50000000e-01-6.66133815e-16j  8.32667268e-16+2.50000000e-01j\n",
            "  -2.50000000e-01+9.99200722e-16j -1.16573418e-15-2.50000000e-01j\n",
            "   2.50000000e-01-1.33226763e-15j  9.18949335e-16+2.50000000e-01j\n",
            "  -2.50000000e-01+4.28935870e-16j -1.71527924e-15-2.50000000e-01j\n",
            "   2.50000000e-01-1.22526578e-15j  7.35252315e-16+2.50000000e-01j\n",
            "  -2.50000000e-01+2.45238850e-16j -3.30793906e-15-2.50000000e-01j]\n",
            " [ 2.50000000e-01+0.00000000e+00j  9.56708581e-02+2.30969883e-01j\n",
            "  -1.76776695e-01+1.76776695e-01j -2.30969883e-01-9.56708581e-02j\n",
            "  -7.21644966e-16-2.50000000e-01j  2.30969883e-01-9.56708581e-02j\n",
            "   1.76776695e-01+1.76776695e-01j -9.56708581e-02+2.30969883e-01j\n",
            "  -2.50000000e-01+4.90168210e-16j -9.56708581e-02-2.30969883e-01j\n",
            "   1.76776695e-01-1.76776695e-01j  2.30969883e-01+9.56708581e-02j\n",
            "   7.35252315e-16+2.50000000e-01j -2.30969883e-01+9.56708581e-02j\n",
            "  -1.76776695e-01-1.76776695e-01j  9.56708581e-02-2.30969883e-01j]\n",
            " [ 2.50000000e-01+0.00000000e+00j  1.76776695e-01+1.76776695e-01j\n",
            "   3.88578059e-16+2.50000000e-01j -1.76776695e-01+1.76776695e-01j\n",
            "  -2.50000000e-01+7.77156117e-16j -1.76776695e-01-1.76776695e-01j\n",
            "  -1.16573418e-15-2.50000000e-01j  1.76776695e-01-1.76776695e-01j\n",
            "   2.50000000e-01-1.34773046e-15j  1.76776695e-01+1.76776695e-01j\n",
            "   7.96484655e-16+2.50000000e-01j -1.76776695e-01+1.76776695e-01j\n",
            "  -2.50000000e-01+2.45238850e-16j -1.76776695e-01-1.76776695e-01j\n",
            "  -1.47034988e-15-2.50000000e-01j  1.76776695e-01-1.76776695e-01j]\n",
            " [ 2.50000000e-01+0.00000000e+00j  2.30969883e-01+9.56708581e-02j\n",
            "   1.76776695e-01+1.76776695e-01j  9.56708581e-02+2.30969883e-01j\n",
            "   8.32667268e-16+2.50000000e-01j -9.56708581e-02+2.30969883e-01j\n",
            "  -1.76776695e-01+1.76776695e-01j -2.30969883e-01+9.56708581e-02j\n",
            "  -2.50000000e-01+4.28935870e-16j -2.30969883e-01-9.56708581e-02j\n",
            "  -1.76776695e-01-1.76776695e-01j -9.56708581e-02-2.30969883e-01j\n",
            "  -3.30793906e-15-2.50000000e-01j  9.56708581e-02-2.30969883e-01j\n",
            "   1.76776695e-01-1.76776695e-01j  2.30969883e-01-9.56708581e-02j]]\n"
          ]
        }
      ],
      "source": [
        "import numpy as np\n",
        "\n",
        "def inverse_qft_matrix(n):\n",
        "    \"\"\"Generate the inverse QFT matrix for n qubits (size 2^n x 2^n).\"\"\"\n",
        "    N = 2**n\n",
        "    omega = np.exp(-2j * np.pi / N)  # Use the inverse root of unity\n",
        "    iqft_mat = np.zeros((N, N), dtype=complex)\n",
        "\n",
        "    for i in range(N):\n",
        "        for j in range(N):\n",
        "            iqft_mat[i, j] = omega**(i * j)\n",
        "\n",
        "    return iqft_mat / np.sqrt(N)\n",
        "\n",
        "# Generate the inverse QFT matrix for 4 qubits\n",
        "iqft_mat_4_qubits = inverse_qft_matrix(qubits)\n",
        "\n",
        "# Print the inverse QFT matrix\n",
        "print(\"Inverse QFT Matrix for 3 Qubits:\")\n",
        "print(iqft_mat_4_qubits)"
      ]
    },
    {
      "cell_type": "code",
      "execution_count": 30,
      "metadata": {
        "colab": {
          "base_uri": "https://localhost:8080/"
        },
        "id": "Yhose8_Yf_Ol",
        "outputId": "6b12ed09-5655-4f96-ef7f-654d8fb5a3d3"
      },
      "outputs": [
        {
          "name": "stdout",
          "output_type": "stream",
          "text": [
            "Result of QFT matrix multiplied by filter array:\n",
            "[7.65931373e-05+1.16551734e-18j 3.06372549e-04-8.54922806e-18j\n",
            " 7.65931373e-04-1.44526104e-17j 1.53186275e-03-3.02742867e-17j\n",
            " 2.68075980e-03-2.61834825e-17j 4.28921569e-03-1.77195781e-17j\n",
            " 6.43382353e-03-1.65714440e-17j 9.19117647e-03-2.10986873e-17j\n",
            " 1.12591912e-02+5.77337657e-18j 1.25612745e-02+1.31703183e-17j\n",
            " 1.30208333e-02+1.37295421e-17j 1.25612745e-02+2.28037745e-17j\n",
            " 1.11060049e-02+1.52330405e-17j 8.57843137e-03+2.31701674e-17j\n",
            " 4.90196078e-03+1.20413247e-17j 1.73472348e-18+2.18757748e-17j]\n"
          ]
        }
      ],
      "source": [
        "# Perform matrix-vector multiplication\n",
        "final_result = np.dot(iqft_mat_4_qubits,  result2[:len(A)])\n",
        "\n",
        "# Print the resulting vector\n",
        "print(\"Result of QFT matrix multiplied by filter array:\")\n",
        "print(final_result)"
      ]
    },
    {
      "cell_type": "code",
      "execution_count": 31,
      "metadata": {
        "colab": {
          "base_uri": "https://localhost:8080/",
          "height": 1000
        },
        "id": "YKd8TsBngHqa",
        "outputId": "e6c632eb-d144-4d63-ad3f-3e70caa5721b"
      },
      "outputs": [
        {
          "data": {
            "application/vnd.plotly.v1+json": {
              "config": {
                "plotlyServerURL": "https://plot.ly"
              },
              "data": [
                {
                  "name": "input signal",
                  "type": "scatter",
                  "y": [
                    0.07001400420140048,
                    0.14002800840280097,
                    0.21004201260420147,
                    0.28005601680560194,
                    0.3500700210070024,
                    0.42008402520840293,
                    0.4900980294098034,
                    0.5601120336112039,
                    0,
                    0,
                    0,
                    0,
                    0,
                    0,
                    0,
                    0
                  ]
                },
                {
                  "name": "quantum filtered signal",
                  "type": "scatter",
                  "y": [
                    0.004901960784317705,
                    0.0196078431372555,
                    0.04901960784313636,
                    0.09803921568627527,
                    0.17156862745098062,
                    0.2745098039215692,
                    0.41176470588235276,
                    0.588235294117647,
                    0.7205882352941182,
                    0.8039215686274503,
                    0.8333333333333319,
                    0.8039215686274496,
                    0.7107843137254898,
                    0.549019607843136,
                    0.3137254901960782,
                    1.1102230246251565e-16
                  ]
                }
              ],
              "layout": {
                "template": {
                  "data": {
                    "bar": [
                      {
                        "error_x": {
                          "color": "#2a3f5f"
                        },
                        "error_y": {
                          "color": "#2a3f5f"
                        },
                        "marker": {
                          "line": {
                            "color": "#E5ECF6",
                            "width": 0.5
                          },
                          "pattern": {
                            "fillmode": "overlay",
                            "size": 10,
                            "solidity": 0.2
                          }
                        },
                        "type": "bar"
                      }
                    ],
                    "barpolar": [
                      {
                        "marker": {
                          "line": {
                            "color": "#E5ECF6",
                            "width": 0.5
                          },
                          "pattern": {
                            "fillmode": "overlay",
                            "size": 10,
                            "solidity": 0.2
                          }
                        },
                        "type": "barpolar"
                      }
                    ],
                    "carpet": [
                      {
                        "aaxis": {
                          "endlinecolor": "#2a3f5f",
                          "gridcolor": "white",
                          "linecolor": "white",
                          "minorgridcolor": "white",
                          "startlinecolor": "#2a3f5f"
                        },
                        "baxis": {
                          "endlinecolor": "#2a3f5f",
                          "gridcolor": "white",
                          "linecolor": "white",
                          "minorgridcolor": "white",
                          "startlinecolor": "#2a3f5f"
                        },
                        "type": "carpet"
                      }
                    ],
                    "choropleth": [
                      {
                        "colorbar": {
                          "outlinewidth": 0,
                          "ticks": ""
                        },
                        "type": "choropleth"
                      }
                    ],
                    "contour": [
                      {
                        "colorbar": {
                          "outlinewidth": 0,
                          "ticks": ""
                        },
                        "colorscale": [
                          [
                            0,
                            "#0d0887"
                          ],
                          [
                            0.1111111111111111,
                            "#46039f"
                          ],
                          [
                            0.2222222222222222,
                            "#7201a8"
                          ],
                          [
                            0.3333333333333333,
                            "#9c179e"
                          ],
                          [
                            0.4444444444444444,
                            "#bd3786"
                          ],
                          [
                            0.5555555555555556,
                            "#d8576b"
                          ],
                          [
                            0.6666666666666666,
                            "#ed7953"
                          ],
                          [
                            0.7777777777777778,
                            "#fb9f3a"
                          ],
                          [
                            0.8888888888888888,
                            "#fdca26"
                          ],
                          [
                            1,
                            "#f0f921"
                          ]
                        ],
                        "type": "contour"
                      }
                    ],
                    "contourcarpet": [
                      {
                        "colorbar": {
                          "outlinewidth": 0,
                          "ticks": ""
                        },
                        "type": "contourcarpet"
                      }
                    ],
                    "heatmap": [
                      {
                        "colorbar": {
                          "outlinewidth": 0,
                          "ticks": ""
                        },
                        "colorscale": [
                          [
                            0,
                            "#0d0887"
                          ],
                          [
                            0.1111111111111111,
                            "#46039f"
                          ],
                          [
                            0.2222222222222222,
                            "#7201a8"
                          ],
                          [
                            0.3333333333333333,
                            "#9c179e"
                          ],
                          [
                            0.4444444444444444,
                            "#bd3786"
                          ],
                          [
                            0.5555555555555556,
                            "#d8576b"
                          ],
                          [
                            0.6666666666666666,
                            "#ed7953"
                          ],
                          [
                            0.7777777777777778,
                            "#fb9f3a"
                          ],
                          [
                            0.8888888888888888,
                            "#fdca26"
                          ],
                          [
                            1,
                            "#f0f921"
                          ]
                        ],
                        "type": "heatmap"
                      }
                    ],
                    "heatmapgl": [
                      {
                        "colorbar": {
                          "outlinewidth": 0,
                          "ticks": ""
                        },
                        "colorscale": [
                          [
                            0,
                            "#0d0887"
                          ],
                          [
                            0.1111111111111111,
                            "#46039f"
                          ],
                          [
                            0.2222222222222222,
                            "#7201a8"
                          ],
                          [
                            0.3333333333333333,
                            "#9c179e"
                          ],
                          [
                            0.4444444444444444,
                            "#bd3786"
                          ],
                          [
                            0.5555555555555556,
                            "#d8576b"
                          ],
                          [
                            0.6666666666666666,
                            "#ed7953"
                          ],
                          [
                            0.7777777777777778,
                            "#fb9f3a"
                          ],
                          [
                            0.8888888888888888,
                            "#fdca26"
                          ],
                          [
                            1,
                            "#f0f921"
                          ]
                        ],
                        "type": "heatmapgl"
                      }
                    ],
                    "histogram": [
                      {
                        "marker": {
                          "pattern": {
                            "fillmode": "overlay",
                            "size": 10,
                            "solidity": 0.2
                          }
                        },
                        "type": "histogram"
                      }
                    ],
                    "histogram2d": [
                      {
                        "colorbar": {
                          "outlinewidth": 0,
                          "ticks": ""
                        },
                        "colorscale": [
                          [
                            0,
                            "#0d0887"
                          ],
                          [
                            0.1111111111111111,
                            "#46039f"
                          ],
                          [
                            0.2222222222222222,
                            "#7201a8"
                          ],
                          [
                            0.3333333333333333,
                            "#9c179e"
                          ],
                          [
                            0.4444444444444444,
                            "#bd3786"
                          ],
                          [
                            0.5555555555555556,
                            "#d8576b"
                          ],
                          [
                            0.6666666666666666,
                            "#ed7953"
                          ],
                          [
                            0.7777777777777778,
                            "#fb9f3a"
                          ],
                          [
                            0.8888888888888888,
                            "#fdca26"
                          ],
                          [
                            1,
                            "#f0f921"
                          ]
                        ],
                        "type": "histogram2d"
                      }
                    ],
                    "histogram2dcontour": [
                      {
                        "colorbar": {
                          "outlinewidth": 0,
                          "ticks": ""
                        },
                        "colorscale": [
                          [
                            0,
                            "#0d0887"
                          ],
                          [
                            0.1111111111111111,
                            "#46039f"
                          ],
                          [
                            0.2222222222222222,
                            "#7201a8"
                          ],
                          [
                            0.3333333333333333,
                            "#9c179e"
                          ],
                          [
                            0.4444444444444444,
                            "#bd3786"
                          ],
                          [
                            0.5555555555555556,
                            "#d8576b"
                          ],
                          [
                            0.6666666666666666,
                            "#ed7953"
                          ],
                          [
                            0.7777777777777778,
                            "#fb9f3a"
                          ],
                          [
                            0.8888888888888888,
                            "#fdca26"
                          ],
                          [
                            1,
                            "#f0f921"
                          ]
                        ],
                        "type": "histogram2dcontour"
                      }
                    ],
                    "mesh3d": [
                      {
                        "colorbar": {
                          "outlinewidth": 0,
                          "ticks": ""
                        },
                        "type": "mesh3d"
                      }
                    ],
                    "parcoords": [
                      {
                        "line": {
                          "colorbar": {
                            "outlinewidth": 0,
                            "ticks": ""
                          }
                        },
                        "type": "parcoords"
                      }
                    ],
                    "pie": [
                      {
                        "automargin": true,
                        "type": "pie"
                      }
                    ],
                    "scatter": [
                      {
                        "fillpattern": {
                          "fillmode": "overlay",
                          "size": 10,
                          "solidity": 0.2
                        },
                        "type": "scatter"
                      }
                    ],
                    "scatter3d": [
                      {
                        "line": {
                          "colorbar": {
                            "outlinewidth": 0,
                            "ticks": ""
                          }
                        },
                        "marker": {
                          "colorbar": {
                            "outlinewidth": 0,
                            "ticks": ""
                          }
                        },
                        "type": "scatter3d"
                      }
                    ],
                    "scattercarpet": [
                      {
                        "marker": {
                          "colorbar": {
                            "outlinewidth": 0,
                            "ticks": ""
                          }
                        },
                        "type": "scattercarpet"
                      }
                    ],
                    "scattergeo": [
                      {
                        "marker": {
                          "colorbar": {
                            "outlinewidth": 0,
                            "ticks": ""
                          }
                        },
                        "type": "scattergeo"
                      }
                    ],
                    "scattergl": [
                      {
                        "marker": {
                          "colorbar": {
                            "outlinewidth": 0,
                            "ticks": ""
                          }
                        },
                        "type": "scattergl"
                      }
                    ],
                    "scattermapbox": [
                      {
                        "marker": {
                          "colorbar": {
                            "outlinewidth": 0,
                            "ticks": ""
                          }
                        },
                        "type": "scattermapbox"
                      }
                    ],
                    "scatterpolar": [
                      {
                        "marker": {
                          "colorbar": {
                            "outlinewidth": 0,
                            "ticks": ""
                          }
                        },
                        "type": "scatterpolar"
                      }
                    ],
                    "scatterpolargl": [
                      {
                        "marker": {
                          "colorbar": {
                            "outlinewidth": 0,
                            "ticks": ""
                          }
                        },
                        "type": "scatterpolargl"
                      }
                    ],
                    "scatterternary": [
                      {
                        "marker": {
                          "colorbar": {
                            "outlinewidth": 0,
                            "ticks": ""
                          }
                        },
                        "type": "scatterternary"
                      }
                    ],
                    "surface": [
                      {
                        "colorbar": {
                          "outlinewidth": 0,
                          "ticks": ""
                        },
                        "colorscale": [
                          [
                            0,
                            "#0d0887"
                          ],
                          [
                            0.1111111111111111,
                            "#46039f"
                          ],
                          [
                            0.2222222222222222,
                            "#7201a8"
                          ],
                          [
                            0.3333333333333333,
                            "#9c179e"
                          ],
                          [
                            0.4444444444444444,
                            "#bd3786"
                          ],
                          [
                            0.5555555555555556,
                            "#d8576b"
                          ],
                          [
                            0.6666666666666666,
                            "#ed7953"
                          ],
                          [
                            0.7777777777777778,
                            "#fb9f3a"
                          ],
                          [
                            0.8888888888888888,
                            "#fdca26"
                          ],
                          [
                            1,
                            "#f0f921"
                          ]
                        ],
                        "type": "surface"
                      }
                    ],
                    "table": [
                      {
                        "cells": {
                          "fill": {
                            "color": "#EBF0F8"
                          },
                          "line": {
                            "color": "white"
                          }
                        },
                        "header": {
                          "fill": {
                            "color": "#C8D4E3"
                          },
                          "line": {
                            "color": "white"
                          }
                        },
                        "type": "table"
                      }
                    ]
                  },
                  "layout": {
                    "annotationdefaults": {
                      "arrowcolor": "#2a3f5f",
                      "arrowhead": 0,
                      "arrowwidth": 1
                    },
                    "autotypenumbers": "strict",
                    "coloraxis": {
                      "colorbar": {
                        "outlinewidth": 0,
                        "ticks": ""
                      }
                    },
                    "colorscale": {
                      "diverging": [
                        [
                          0,
                          "#8e0152"
                        ],
                        [
                          0.1,
                          "#c51b7d"
                        ],
                        [
                          0.2,
                          "#de77ae"
                        ],
                        [
                          0.3,
                          "#f1b6da"
                        ],
                        [
                          0.4,
                          "#fde0ef"
                        ],
                        [
                          0.5,
                          "#f7f7f7"
                        ],
                        [
                          0.6,
                          "#e6f5d0"
                        ],
                        [
                          0.7,
                          "#b8e186"
                        ],
                        [
                          0.8,
                          "#7fbc41"
                        ],
                        [
                          0.9,
                          "#4d9221"
                        ],
                        [
                          1,
                          "#276419"
                        ]
                      ],
                      "sequential": [
                        [
                          0,
                          "#0d0887"
                        ],
                        [
                          0.1111111111111111,
                          "#46039f"
                        ],
                        [
                          0.2222222222222222,
                          "#7201a8"
                        ],
                        [
                          0.3333333333333333,
                          "#9c179e"
                        ],
                        [
                          0.4444444444444444,
                          "#bd3786"
                        ],
                        [
                          0.5555555555555556,
                          "#d8576b"
                        ],
                        [
                          0.6666666666666666,
                          "#ed7953"
                        ],
                        [
                          0.7777777777777778,
                          "#fb9f3a"
                        ],
                        [
                          0.8888888888888888,
                          "#fdca26"
                        ],
                        [
                          1,
                          "#f0f921"
                        ]
                      ],
                      "sequentialminus": [
                        [
                          0,
                          "#0d0887"
                        ],
                        [
                          0.1111111111111111,
                          "#46039f"
                        ],
                        [
                          0.2222222222222222,
                          "#7201a8"
                        ],
                        [
                          0.3333333333333333,
                          "#9c179e"
                        ],
                        [
                          0.4444444444444444,
                          "#bd3786"
                        ],
                        [
                          0.5555555555555556,
                          "#d8576b"
                        ],
                        [
                          0.6666666666666666,
                          "#ed7953"
                        ],
                        [
                          0.7777777777777778,
                          "#fb9f3a"
                        ],
                        [
                          0.8888888888888888,
                          "#fdca26"
                        ],
                        [
                          1,
                          "#f0f921"
                        ]
                      ]
                    },
                    "colorway": [
                      "#636efa",
                      "#EF553B",
                      "#00cc96",
                      "#ab63fa",
                      "#FFA15A",
                      "#19d3f3",
                      "#FF6692",
                      "#B6E880",
                      "#FF97FF",
                      "#FECB52"
                    ],
                    "font": {
                      "color": "#2a3f5f"
                    },
                    "geo": {
                      "bgcolor": "white",
                      "lakecolor": "white",
                      "landcolor": "#E5ECF6",
                      "showlakes": true,
                      "showland": true,
                      "subunitcolor": "white"
                    },
                    "hoverlabel": {
                      "align": "left"
                    },
                    "hovermode": "closest",
                    "mapbox": {
                      "style": "light"
                    },
                    "paper_bgcolor": "white",
                    "plot_bgcolor": "#E5ECF6",
                    "polar": {
                      "angularaxis": {
                        "gridcolor": "white",
                        "linecolor": "white",
                        "ticks": ""
                      },
                      "bgcolor": "#E5ECF6",
                      "radialaxis": {
                        "gridcolor": "white",
                        "linecolor": "white",
                        "ticks": ""
                      }
                    },
                    "scene": {
                      "xaxis": {
                        "backgroundcolor": "#E5ECF6",
                        "gridcolor": "white",
                        "gridwidth": 2,
                        "linecolor": "white",
                        "showbackground": true,
                        "ticks": "",
                        "zerolinecolor": "white"
                      },
                      "yaxis": {
                        "backgroundcolor": "#E5ECF6",
                        "gridcolor": "white",
                        "gridwidth": 2,
                        "linecolor": "white",
                        "showbackground": true,
                        "ticks": "",
                        "zerolinecolor": "white"
                      },
                      "zaxis": {
                        "backgroundcolor": "#E5ECF6",
                        "gridcolor": "white",
                        "gridwidth": 2,
                        "linecolor": "white",
                        "showbackground": true,
                        "ticks": "",
                        "zerolinecolor": "white"
                      }
                    },
                    "shapedefaults": {
                      "line": {
                        "color": "#2a3f5f"
                      }
                    },
                    "ternary": {
                      "aaxis": {
                        "gridcolor": "white",
                        "linecolor": "white",
                        "ticks": ""
                      },
                      "baxis": {
                        "gridcolor": "white",
                        "linecolor": "white",
                        "ticks": ""
                      },
                      "bgcolor": "#E5ECF6",
                      "caxis": {
                        "gridcolor": "white",
                        "linecolor": "white",
                        "ticks": ""
                      }
                    },
                    "title": {
                      "x": 0.05
                    },
                    "xaxis": {
                      "automargin": true,
                      "gridcolor": "white",
                      "linecolor": "white",
                      "ticks": "",
                      "title": {
                        "standoff": 15
                      },
                      "zerolinecolor": "white",
                      "zerolinewidth": 2
                    },
                    "yaxis": {
                      "automargin": true,
                      "gridcolor": "white",
                      "linecolor": "white",
                      "ticks": "",
                      "title": {
                        "standoff": 15
                      },
                      "zerolinecolor": "white",
                      "zerolinewidth": 2
                    }
                  }
                }
              }
            }
          },
          "metadata": {},
          "output_type": "display_data"
        },
        {
          "data": {
            "application/vnd.plotly.v1+json": {
              "config": {
                "plotlyServerURL": "https://plot.ly"
              },
              "data": [
                {
                  "name": "input signal",
                  "type": "scatter",
                  "y": [
                    0.07001400420140048,
                    0.14002800840280097,
                    0.21004201260420147,
                    0.28005601680560194,
                    0.3500700210070024,
                    0.42008402520840293,
                    0.4900980294098034,
                    0.5601120336112039,
                    0,
                    0,
                    0,
                    0,
                    0,
                    0,
                    0,
                    0
                  ]
                },
                {
                  "name": "numpy filtered result",
                  "type": "scatter",
                  "y": [
                    0.0049019607843137246,
                    0.019607843137254898,
                    0.04901960784313725,
                    0.0980392156862745,
                    0.17156862745098037,
                    0.2745098039215686,
                    0.4117647058823529,
                    0.588235294117647,
                    0.7205882352941175,
                    0.8039215686274508,
                    0.8333333333333333,
                    0.8039215686274509,
                    0.7107843137254901,
                    0.5490196078431372,
                    0.31372549019607837,
                    0
                  ]
                }
              ],
              "layout": {
                "template": {
                  "data": {
                    "bar": [
                      {
                        "error_x": {
                          "color": "#2a3f5f"
                        },
                        "error_y": {
                          "color": "#2a3f5f"
                        },
                        "marker": {
                          "line": {
                            "color": "#E5ECF6",
                            "width": 0.5
                          },
                          "pattern": {
                            "fillmode": "overlay",
                            "size": 10,
                            "solidity": 0.2
                          }
                        },
                        "type": "bar"
                      }
                    ],
                    "barpolar": [
                      {
                        "marker": {
                          "line": {
                            "color": "#E5ECF6",
                            "width": 0.5
                          },
                          "pattern": {
                            "fillmode": "overlay",
                            "size": 10,
                            "solidity": 0.2
                          }
                        },
                        "type": "barpolar"
                      }
                    ],
                    "carpet": [
                      {
                        "aaxis": {
                          "endlinecolor": "#2a3f5f",
                          "gridcolor": "white",
                          "linecolor": "white",
                          "minorgridcolor": "white",
                          "startlinecolor": "#2a3f5f"
                        },
                        "baxis": {
                          "endlinecolor": "#2a3f5f",
                          "gridcolor": "white",
                          "linecolor": "white",
                          "minorgridcolor": "white",
                          "startlinecolor": "#2a3f5f"
                        },
                        "type": "carpet"
                      }
                    ],
                    "choropleth": [
                      {
                        "colorbar": {
                          "outlinewidth": 0,
                          "ticks": ""
                        },
                        "type": "choropleth"
                      }
                    ],
                    "contour": [
                      {
                        "colorbar": {
                          "outlinewidth": 0,
                          "ticks": ""
                        },
                        "colorscale": [
                          [
                            0,
                            "#0d0887"
                          ],
                          [
                            0.1111111111111111,
                            "#46039f"
                          ],
                          [
                            0.2222222222222222,
                            "#7201a8"
                          ],
                          [
                            0.3333333333333333,
                            "#9c179e"
                          ],
                          [
                            0.4444444444444444,
                            "#bd3786"
                          ],
                          [
                            0.5555555555555556,
                            "#d8576b"
                          ],
                          [
                            0.6666666666666666,
                            "#ed7953"
                          ],
                          [
                            0.7777777777777778,
                            "#fb9f3a"
                          ],
                          [
                            0.8888888888888888,
                            "#fdca26"
                          ],
                          [
                            1,
                            "#f0f921"
                          ]
                        ],
                        "type": "contour"
                      }
                    ],
                    "contourcarpet": [
                      {
                        "colorbar": {
                          "outlinewidth": 0,
                          "ticks": ""
                        },
                        "type": "contourcarpet"
                      }
                    ],
                    "heatmap": [
                      {
                        "colorbar": {
                          "outlinewidth": 0,
                          "ticks": ""
                        },
                        "colorscale": [
                          [
                            0,
                            "#0d0887"
                          ],
                          [
                            0.1111111111111111,
                            "#46039f"
                          ],
                          [
                            0.2222222222222222,
                            "#7201a8"
                          ],
                          [
                            0.3333333333333333,
                            "#9c179e"
                          ],
                          [
                            0.4444444444444444,
                            "#bd3786"
                          ],
                          [
                            0.5555555555555556,
                            "#d8576b"
                          ],
                          [
                            0.6666666666666666,
                            "#ed7953"
                          ],
                          [
                            0.7777777777777778,
                            "#fb9f3a"
                          ],
                          [
                            0.8888888888888888,
                            "#fdca26"
                          ],
                          [
                            1,
                            "#f0f921"
                          ]
                        ],
                        "type": "heatmap"
                      }
                    ],
                    "heatmapgl": [
                      {
                        "colorbar": {
                          "outlinewidth": 0,
                          "ticks": ""
                        },
                        "colorscale": [
                          [
                            0,
                            "#0d0887"
                          ],
                          [
                            0.1111111111111111,
                            "#46039f"
                          ],
                          [
                            0.2222222222222222,
                            "#7201a8"
                          ],
                          [
                            0.3333333333333333,
                            "#9c179e"
                          ],
                          [
                            0.4444444444444444,
                            "#bd3786"
                          ],
                          [
                            0.5555555555555556,
                            "#d8576b"
                          ],
                          [
                            0.6666666666666666,
                            "#ed7953"
                          ],
                          [
                            0.7777777777777778,
                            "#fb9f3a"
                          ],
                          [
                            0.8888888888888888,
                            "#fdca26"
                          ],
                          [
                            1,
                            "#f0f921"
                          ]
                        ],
                        "type": "heatmapgl"
                      }
                    ],
                    "histogram": [
                      {
                        "marker": {
                          "pattern": {
                            "fillmode": "overlay",
                            "size": 10,
                            "solidity": 0.2
                          }
                        },
                        "type": "histogram"
                      }
                    ],
                    "histogram2d": [
                      {
                        "colorbar": {
                          "outlinewidth": 0,
                          "ticks": ""
                        },
                        "colorscale": [
                          [
                            0,
                            "#0d0887"
                          ],
                          [
                            0.1111111111111111,
                            "#46039f"
                          ],
                          [
                            0.2222222222222222,
                            "#7201a8"
                          ],
                          [
                            0.3333333333333333,
                            "#9c179e"
                          ],
                          [
                            0.4444444444444444,
                            "#bd3786"
                          ],
                          [
                            0.5555555555555556,
                            "#d8576b"
                          ],
                          [
                            0.6666666666666666,
                            "#ed7953"
                          ],
                          [
                            0.7777777777777778,
                            "#fb9f3a"
                          ],
                          [
                            0.8888888888888888,
                            "#fdca26"
                          ],
                          [
                            1,
                            "#f0f921"
                          ]
                        ],
                        "type": "histogram2d"
                      }
                    ],
                    "histogram2dcontour": [
                      {
                        "colorbar": {
                          "outlinewidth": 0,
                          "ticks": ""
                        },
                        "colorscale": [
                          [
                            0,
                            "#0d0887"
                          ],
                          [
                            0.1111111111111111,
                            "#46039f"
                          ],
                          [
                            0.2222222222222222,
                            "#7201a8"
                          ],
                          [
                            0.3333333333333333,
                            "#9c179e"
                          ],
                          [
                            0.4444444444444444,
                            "#bd3786"
                          ],
                          [
                            0.5555555555555556,
                            "#d8576b"
                          ],
                          [
                            0.6666666666666666,
                            "#ed7953"
                          ],
                          [
                            0.7777777777777778,
                            "#fb9f3a"
                          ],
                          [
                            0.8888888888888888,
                            "#fdca26"
                          ],
                          [
                            1,
                            "#f0f921"
                          ]
                        ],
                        "type": "histogram2dcontour"
                      }
                    ],
                    "mesh3d": [
                      {
                        "colorbar": {
                          "outlinewidth": 0,
                          "ticks": ""
                        },
                        "type": "mesh3d"
                      }
                    ],
                    "parcoords": [
                      {
                        "line": {
                          "colorbar": {
                            "outlinewidth": 0,
                            "ticks": ""
                          }
                        },
                        "type": "parcoords"
                      }
                    ],
                    "pie": [
                      {
                        "automargin": true,
                        "type": "pie"
                      }
                    ],
                    "scatter": [
                      {
                        "fillpattern": {
                          "fillmode": "overlay",
                          "size": 10,
                          "solidity": 0.2
                        },
                        "type": "scatter"
                      }
                    ],
                    "scatter3d": [
                      {
                        "line": {
                          "colorbar": {
                            "outlinewidth": 0,
                            "ticks": ""
                          }
                        },
                        "marker": {
                          "colorbar": {
                            "outlinewidth": 0,
                            "ticks": ""
                          }
                        },
                        "type": "scatter3d"
                      }
                    ],
                    "scattercarpet": [
                      {
                        "marker": {
                          "colorbar": {
                            "outlinewidth": 0,
                            "ticks": ""
                          }
                        },
                        "type": "scattercarpet"
                      }
                    ],
                    "scattergeo": [
                      {
                        "marker": {
                          "colorbar": {
                            "outlinewidth": 0,
                            "ticks": ""
                          }
                        },
                        "type": "scattergeo"
                      }
                    ],
                    "scattergl": [
                      {
                        "marker": {
                          "colorbar": {
                            "outlinewidth": 0,
                            "ticks": ""
                          }
                        },
                        "type": "scattergl"
                      }
                    ],
                    "scattermapbox": [
                      {
                        "marker": {
                          "colorbar": {
                            "outlinewidth": 0,
                            "ticks": ""
                          }
                        },
                        "type": "scattermapbox"
                      }
                    ],
                    "scatterpolar": [
                      {
                        "marker": {
                          "colorbar": {
                            "outlinewidth": 0,
                            "ticks": ""
                          }
                        },
                        "type": "scatterpolar"
                      }
                    ],
                    "scatterpolargl": [
                      {
                        "marker": {
                          "colorbar": {
                            "outlinewidth": 0,
                            "ticks": ""
                          }
                        },
                        "type": "scatterpolargl"
                      }
                    ],
                    "scatterternary": [
                      {
                        "marker": {
                          "colorbar": {
                            "outlinewidth": 0,
                            "ticks": ""
                          }
                        },
                        "type": "scatterternary"
                      }
                    ],
                    "surface": [
                      {
                        "colorbar": {
                          "outlinewidth": 0,
                          "ticks": ""
                        },
                        "colorscale": [
                          [
                            0,
                            "#0d0887"
                          ],
                          [
                            0.1111111111111111,
                            "#46039f"
                          ],
                          [
                            0.2222222222222222,
                            "#7201a8"
                          ],
                          [
                            0.3333333333333333,
                            "#9c179e"
                          ],
                          [
                            0.4444444444444444,
                            "#bd3786"
                          ],
                          [
                            0.5555555555555556,
                            "#d8576b"
                          ],
                          [
                            0.6666666666666666,
                            "#ed7953"
                          ],
                          [
                            0.7777777777777778,
                            "#fb9f3a"
                          ],
                          [
                            0.8888888888888888,
                            "#fdca26"
                          ],
                          [
                            1,
                            "#f0f921"
                          ]
                        ],
                        "type": "surface"
                      }
                    ],
                    "table": [
                      {
                        "cells": {
                          "fill": {
                            "color": "#EBF0F8"
                          },
                          "line": {
                            "color": "white"
                          }
                        },
                        "header": {
                          "fill": {
                            "color": "#C8D4E3"
                          },
                          "line": {
                            "color": "white"
                          }
                        },
                        "type": "table"
                      }
                    ]
                  },
                  "layout": {
                    "annotationdefaults": {
                      "arrowcolor": "#2a3f5f",
                      "arrowhead": 0,
                      "arrowwidth": 1
                    },
                    "autotypenumbers": "strict",
                    "coloraxis": {
                      "colorbar": {
                        "outlinewidth": 0,
                        "ticks": ""
                      }
                    },
                    "colorscale": {
                      "diverging": [
                        [
                          0,
                          "#8e0152"
                        ],
                        [
                          0.1,
                          "#c51b7d"
                        ],
                        [
                          0.2,
                          "#de77ae"
                        ],
                        [
                          0.3,
                          "#f1b6da"
                        ],
                        [
                          0.4,
                          "#fde0ef"
                        ],
                        [
                          0.5,
                          "#f7f7f7"
                        ],
                        [
                          0.6,
                          "#e6f5d0"
                        ],
                        [
                          0.7,
                          "#b8e186"
                        ],
                        [
                          0.8,
                          "#7fbc41"
                        ],
                        [
                          0.9,
                          "#4d9221"
                        ],
                        [
                          1,
                          "#276419"
                        ]
                      ],
                      "sequential": [
                        [
                          0,
                          "#0d0887"
                        ],
                        [
                          0.1111111111111111,
                          "#46039f"
                        ],
                        [
                          0.2222222222222222,
                          "#7201a8"
                        ],
                        [
                          0.3333333333333333,
                          "#9c179e"
                        ],
                        [
                          0.4444444444444444,
                          "#bd3786"
                        ],
                        [
                          0.5555555555555556,
                          "#d8576b"
                        ],
                        [
                          0.6666666666666666,
                          "#ed7953"
                        ],
                        [
                          0.7777777777777778,
                          "#fb9f3a"
                        ],
                        [
                          0.8888888888888888,
                          "#fdca26"
                        ],
                        [
                          1,
                          "#f0f921"
                        ]
                      ],
                      "sequentialminus": [
                        [
                          0,
                          "#0d0887"
                        ],
                        [
                          0.1111111111111111,
                          "#46039f"
                        ],
                        [
                          0.2222222222222222,
                          "#7201a8"
                        ],
                        [
                          0.3333333333333333,
                          "#9c179e"
                        ],
                        [
                          0.4444444444444444,
                          "#bd3786"
                        ],
                        [
                          0.5555555555555556,
                          "#d8576b"
                        ],
                        [
                          0.6666666666666666,
                          "#ed7953"
                        ],
                        [
                          0.7777777777777778,
                          "#fb9f3a"
                        ],
                        [
                          0.8888888888888888,
                          "#fdca26"
                        ],
                        [
                          1,
                          "#f0f921"
                        ]
                      ]
                    },
                    "colorway": [
                      "#636efa",
                      "#EF553B",
                      "#00cc96",
                      "#ab63fa",
                      "#FFA15A",
                      "#19d3f3",
                      "#FF6692",
                      "#B6E880",
                      "#FF97FF",
                      "#FECB52"
                    ],
                    "font": {
                      "color": "#2a3f5f"
                    },
                    "geo": {
                      "bgcolor": "white",
                      "lakecolor": "white",
                      "landcolor": "#E5ECF6",
                      "showlakes": true,
                      "showland": true,
                      "subunitcolor": "white"
                    },
                    "hoverlabel": {
                      "align": "left"
                    },
                    "hovermode": "closest",
                    "mapbox": {
                      "style": "light"
                    },
                    "paper_bgcolor": "white",
                    "plot_bgcolor": "#E5ECF6",
                    "polar": {
                      "angularaxis": {
                        "gridcolor": "white",
                        "linecolor": "white",
                        "ticks": ""
                      },
                      "bgcolor": "#E5ECF6",
                      "radialaxis": {
                        "gridcolor": "white",
                        "linecolor": "white",
                        "ticks": ""
                      }
                    },
                    "scene": {
                      "xaxis": {
                        "backgroundcolor": "#E5ECF6",
                        "gridcolor": "white",
                        "gridwidth": 2,
                        "linecolor": "white",
                        "showbackground": true,
                        "ticks": "",
                        "zerolinecolor": "white"
                      },
                      "yaxis": {
                        "backgroundcolor": "#E5ECF6",
                        "gridcolor": "white",
                        "gridwidth": 2,
                        "linecolor": "white",
                        "showbackground": true,
                        "ticks": "",
                        "zerolinecolor": "white"
                      },
                      "zaxis": {
                        "backgroundcolor": "#E5ECF6",
                        "gridcolor": "white",
                        "gridwidth": 2,
                        "linecolor": "white",
                        "showbackground": true,
                        "ticks": "",
                        "zerolinecolor": "white"
                      }
                    },
                    "shapedefaults": {
                      "line": {
                        "color": "#2a3f5f"
                      }
                    },
                    "ternary": {
                      "aaxis": {
                        "gridcolor": "white",
                        "linecolor": "white",
                        "ticks": ""
                      },
                      "baxis": {
                        "gridcolor": "white",
                        "linecolor": "white",
                        "ticks": ""
                      },
                      "bgcolor": "#E5ECF6",
                      "caxis": {
                        "gridcolor": "white",
                        "linecolor": "white",
                        "ticks": ""
                      }
                    },
                    "title": {
                      "x": 0.05
                    },
                    "xaxis": {
                      "automargin": true,
                      "gridcolor": "white",
                      "linecolor": "white",
                      "ticks": "",
                      "title": {
                        "standoff": 15
                      },
                      "zerolinecolor": "white",
                      "zerolinewidth": 2
                    },
                    "yaxis": {
                      "automargin": true,
                      "gridcolor": "white",
                      "linecolor": "white",
                      "ticks": "",
                      "title": {
                        "standoff": 15
                      },
                      "zerolinecolor": "white",
                      "zerolinewidth": 2
                    }
                  }
                }
              }
            }
          },
          "metadata": {},
          "output_type": "display_data"
        },
        {
          "data": {
            "application/vnd.plotly.v1+json": {
              "config": {
                "plotlyServerURL": "https://plot.ly"
              },
              "data": [
                {
                  "name": "quantum filtered signal",
                  "type": "scatter",
                  "y": [
                    0.004901960784317705,
                    0.0196078431372555,
                    0.04901960784313636,
                    0.09803921568627527,
                    0.17156862745098062,
                    0.2745098039215692,
                    0.41176470588235276,
                    0.588235294117647,
                    0.7205882352941182,
                    0.8039215686274503,
                    0.8333333333333319,
                    0.8039215686274496,
                    0.7107843137254898,
                    0.549019607843136,
                    0.3137254901960782,
                    1.1102230246251565e-16
                  ]
                },
                {
                  "name": "numpy filtered result",
                  "type": "scatter",
                  "y": [
                    0.0049019607843137246,
                    0.019607843137254898,
                    0.04901960784313725,
                    0.0980392156862745,
                    0.17156862745098037,
                    0.2745098039215686,
                    0.4117647058823529,
                    0.588235294117647,
                    0.7205882352941175,
                    0.8039215686274508,
                    0.8333333333333333,
                    0.8039215686274509,
                    0.7107843137254901,
                    0.5490196078431372,
                    0.31372549019607837,
                    0,
                    0,
                    0,
                    0,
                    0,
                    0,
                    0,
                    0,
                    0,
                    0,
                    0,
                    0,
                    0,
                    0,
                    0,
                    0
                  ]
                }
              ],
              "layout": {
                "template": {
                  "data": {
                    "bar": [
                      {
                        "error_x": {
                          "color": "#2a3f5f"
                        },
                        "error_y": {
                          "color": "#2a3f5f"
                        },
                        "marker": {
                          "line": {
                            "color": "#E5ECF6",
                            "width": 0.5
                          },
                          "pattern": {
                            "fillmode": "overlay",
                            "size": 10,
                            "solidity": 0.2
                          }
                        },
                        "type": "bar"
                      }
                    ],
                    "barpolar": [
                      {
                        "marker": {
                          "line": {
                            "color": "#E5ECF6",
                            "width": 0.5
                          },
                          "pattern": {
                            "fillmode": "overlay",
                            "size": 10,
                            "solidity": 0.2
                          }
                        },
                        "type": "barpolar"
                      }
                    ],
                    "carpet": [
                      {
                        "aaxis": {
                          "endlinecolor": "#2a3f5f",
                          "gridcolor": "white",
                          "linecolor": "white",
                          "minorgridcolor": "white",
                          "startlinecolor": "#2a3f5f"
                        },
                        "baxis": {
                          "endlinecolor": "#2a3f5f",
                          "gridcolor": "white",
                          "linecolor": "white",
                          "minorgridcolor": "white",
                          "startlinecolor": "#2a3f5f"
                        },
                        "type": "carpet"
                      }
                    ],
                    "choropleth": [
                      {
                        "colorbar": {
                          "outlinewidth": 0,
                          "ticks": ""
                        },
                        "type": "choropleth"
                      }
                    ],
                    "contour": [
                      {
                        "colorbar": {
                          "outlinewidth": 0,
                          "ticks": ""
                        },
                        "colorscale": [
                          [
                            0,
                            "#0d0887"
                          ],
                          [
                            0.1111111111111111,
                            "#46039f"
                          ],
                          [
                            0.2222222222222222,
                            "#7201a8"
                          ],
                          [
                            0.3333333333333333,
                            "#9c179e"
                          ],
                          [
                            0.4444444444444444,
                            "#bd3786"
                          ],
                          [
                            0.5555555555555556,
                            "#d8576b"
                          ],
                          [
                            0.6666666666666666,
                            "#ed7953"
                          ],
                          [
                            0.7777777777777778,
                            "#fb9f3a"
                          ],
                          [
                            0.8888888888888888,
                            "#fdca26"
                          ],
                          [
                            1,
                            "#f0f921"
                          ]
                        ],
                        "type": "contour"
                      }
                    ],
                    "contourcarpet": [
                      {
                        "colorbar": {
                          "outlinewidth": 0,
                          "ticks": ""
                        },
                        "type": "contourcarpet"
                      }
                    ],
                    "heatmap": [
                      {
                        "colorbar": {
                          "outlinewidth": 0,
                          "ticks": ""
                        },
                        "colorscale": [
                          [
                            0,
                            "#0d0887"
                          ],
                          [
                            0.1111111111111111,
                            "#46039f"
                          ],
                          [
                            0.2222222222222222,
                            "#7201a8"
                          ],
                          [
                            0.3333333333333333,
                            "#9c179e"
                          ],
                          [
                            0.4444444444444444,
                            "#bd3786"
                          ],
                          [
                            0.5555555555555556,
                            "#d8576b"
                          ],
                          [
                            0.6666666666666666,
                            "#ed7953"
                          ],
                          [
                            0.7777777777777778,
                            "#fb9f3a"
                          ],
                          [
                            0.8888888888888888,
                            "#fdca26"
                          ],
                          [
                            1,
                            "#f0f921"
                          ]
                        ],
                        "type": "heatmap"
                      }
                    ],
                    "heatmapgl": [
                      {
                        "colorbar": {
                          "outlinewidth": 0,
                          "ticks": ""
                        },
                        "colorscale": [
                          [
                            0,
                            "#0d0887"
                          ],
                          [
                            0.1111111111111111,
                            "#46039f"
                          ],
                          [
                            0.2222222222222222,
                            "#7201a8"
                          ],
                          [
                            0.3333333333333333,
                            "#9c179e"
                          ],
                          [
                            0.4444444444444444,
                            "#bd3786"
                          ],
                          [
                            0.5555555555555556,
                            "#d8576b"
                          ],
                          [
                            0.6666666666666666,
                            "#ed7953"
                          ],
                          [
                            0.7777777777777778,
                            "#fb9f3a"
                          ],
                          [
                            0.8888888888888888,
                            "#fdca26"
                          ],
                          [
                            1,
                            "#f0f921"
                          ]
                        ],
                        "type": "heatmapgl"
                      }
                    ],
                    "histogram": [
                      {
                        "marker": {
                          "pattern": {
                            "fillmode": "overlay",
                            "size": 10,
                            "solidity": 0.2
                          }
                        },
                        "type": "histogram"
                      }
                    ],
                    "histogram2d": [
                      {
                        "colorbar": {
                          "outlinewidth": 0,
                          "ticks": ""
                        },
                        "colorscale": [
                          [
                            0,
                            "#0d0887"
                          ],
                          [
                            0.1111111111111111,
                            "#46039f"
                          ],
                          [
                            0.2222222222222222,
                            "#7201a8"
                          ],
                          [
                            0.3333333333333333,
                            "#9c179e"
                          ],
                          [
                            0.4444444444444444,
                            "#bd3786"
                          ],
                          [
                            0.5555555555555556,
                            "#d8576b"
                          ],
                          [
                            0.6666666666666666,
                            "#ed7953"
                          ],
                          [
                            0.7777777777777778,
                            "#fb9f3a"
                          ],
                          [
                            0.8888888888888888,
                            "#fdca26"
                          ],
                          [
                            1,
                            "#f0f921"
                          ]
                        ],
                        "type": "histogram2d"
                      }
                    ],
                    "histogram2dcontour": [
                      {
                        "colorbar": {
                          "outlinewidth": 0,
                          "ticks": ""
                        },
                        "colorscale": [
                          [
                            0,
                            "#0d0887"
                          ],
                          [
                            0.1111111111111111,
                            "#46039f"
                          ],
                          [
                            0.2222222222222222,
                            "#7201a8"
                          ],
                          [
                            0.3333333333333333,
                            "#9c179e"
                          ],
                          [
                            0.4444444444444444,
                            "#bd3786"
                          ],
                          [
                            0.5555555555555556,
                            "#d8576b"
                          ],
                          [
                            0.6666666666666666,
                            "#ed7953"
                          ],
                          [
                            0.7777777777777778,
                            "#fb9f3a"
                          ],
                          [
                            0.8888888888888888,
                            "#fdca26"
                          ],
                          [
                            1,
                            "#f0f921"
                          ]
                        ],
                        "type": "histogram2dcontour"
                      }
                    ],
                    "mesh3d": [
                      {
                        "colorbar": {
                          "outlinewidth": 0,
                          "ticks": ""
                        },
                        "type": "mesh3d"
                      }
                    ],
                    "parcoords": [
                      {
                        "line": {
                          "colorbar": {
                            "outlinewidth": 0,
                            "ticks": ""
                          }
                        },
                        "type": "parcoords"
                      }
                    ],
                    "pie": [
                      {
                        "automargin": true,
                        "type": "pie"
                      }
                    ],
                    "scatter": [
                      {
                        "fillpattern": {
                          "fillmode": "overlay",
                          "size": 10,
                          "solidity": 0.2
                        },
                        "type": "scatter"
                      }
                    ],
                    "scatter3d": [
                      {
                        "line": {
                          "colorbar": {
                            "outlinewidth": 0,
                            "ticks": ""
                          }
                        },
                        "marker": {
                          "colorbar": {
                            "outlinewidth": 0,
                            "ticks": ""
                          }
                        },
                        "type": "scatter3d"
                      }
                    ],
                    "scattercarpet": [
                      {
                        "marker": {
                          "colorbar": {
                            "outlinewidth": 0,
                            "ticks": ""
                          }
                        },
                        "type": "scattercarpet"
                      }
                    ],
                    "scattergeo": [
                      {
                        "marker": {
                          "colorbar": {
                            "outlinewidth": 0,
                            "ticks": ""
                          }
                        },
                        "type": "scattergeo"
                      }
                    ],
                    "scattergl": [
                      {
                        "marker": {
                          "colorbar": {
                            "outlinewidth": 0,
                            "ticks": ""
                          }
                        },
                        "type": "scattergl"
                      }
                    ],
                    "scattermapbox": [
                      {
                        "marker": {
                          "colorbar": {
                            "outlinewidth": 0,
                            "ticks": ""
                          }
                        },
                        "type": "scattermapbox"
                      }
                    ],
                    "scatterpolar": [
                      {
                        "marker": {
                          "colorbar": {
                            "outlinewidth": 0,
                            "ticks": ""
                          }
                        },
                        "type": "scatterpolar"
                      }
                    ],
                    "scatterpolargl": [
                      {
                        "marker": {
                          "colorbar": {
                            "outlinewidth": 0,
                            "ticks": ""
                          }
                        },
                        "type": "scatterpolargl"
                      }
                    ],
                    "scatterternary": [
                      {
                        "marker": {
                          "colorbar": {
                            "outlinewidth": 0,
                            "ticks": ""
                          }
                        },
                        "type": "scatterternary"
                      }
                    ],
                    "surface": [
                      {
                        "colorbar": {
                          "outlinewidth": 0,
                          "ticks": ""
                        },
                        "colorscale": [
                          [
                            0,
                            "#0d0887"
                          ],
                          [
                            0.1111111111111111,
                            "#46039f"
                          ],
                          [
                            0.2222222222222222,
                            "#7201a8"
                          ],
                          [
                            0.3333333333333333,
                            "#9c179e"
                          ],
                          [
                            0.4444444444444444,
                            "#bd3786"
                          ],
                          [
                            0.5555555555555556,
                            "#d8576b"
                          ],
                          [
                            0.6666666666666666,
                            "#ed7953"
                          ],
                          [
                            0.7777777777777778,
                            "#fb9f3a"
                          ],
                          [
                            0.8888888888888888,
                            "#fdca26"
                          ],
                          [
                            1,
                            "#f0f921"
                          ]
                        ],
                        "type": "surface"
                      }
                    ],
                    "table": [
                      {
                        "cells": {
                          "fill": {
                            "color": "#EBF0F8"
                          },
                          "line": {
                            "color": "white"
                          }
                        },
                        "header": {
                          "fill": {
                            "color": "#C8D4E3"
                          },
                          "line": {
                            "color": "white"
                          }
                        },
                        "type": "table"
                      }
                    ]
                  },
                  "layout": {
                    "annotationdefaults": {
                      "arrowcolor": "#2a3f5f",
                      "arrowhead": 0,
                      "arrowwidth": 1
                    },
                    "autotypenumbers": "strict",
                    "coloraxis": {
                      "colorbar": {
                        "outlinewidth": 0,
                        "ticks": ""
                      }
                    },
                    "colorscale": {
                      "diverging": [
                        [
                          0,
                          "#8e0152"
                        ],
                        [
                          0.1,
                          "#c51b7d"
                        ],
                        [
                          0.2,
                          "#de77ae"
                        ],
                        [
                          0.3,
                          "#f1b6da"
                        ],
                        [
                          0.4,
                          "#fde0ef"
                        ],
                        [
                          0.5,
                          "#f7f7f7"
                        ],
                        [
                          0.6,
                          "#e6f5d0"
                        ],
                        [
                          0.7,
                          "#b8e186"
                        ],
                        [
                          0.8,
                          "#7fbc41"
                        ],
                        [
                          0.9,
                          "#4d9221"
                        ],
                        [
                          1,
                          "#276419"
                        ]
                      ],
                      "sequential": [
                        [
                          0,
                          "#0d0887"
                        ],
                        [
                          0.1111111111111111,
                          "#46039f"
                        ],
                        [
                          0.2222222222222222,
                          "#7201a8"
                        ],
                        [
                          0.3333333333333333,
                          "#9c179e"
                        ],
                        [
                          0.4444444444444444,
                          "#bd3786"
                        ],
                        [
                          0.5555555555555556,
                          "#d8576b"
                        ],
                        [
                          0.6666666666666666,
                          "#ed7953"
                        ],
                        [
                          0.7777777777777778,
                          "#fb9f3a"
                        ],
                        [
                          0.8888888888888888,
                          "#fdca26"
                        ],
                        [
                          1,
                          "#f0f921"
                        ]
                      ],
                      "sequentialminus": [
                        [
                          0,
                          "#0d0887"
                        ],
                        [
                          0.1111111111111111,
                          "#46039f"
                        ],
                        [
                          0.2222222222222222,
                          "#7201a8"
                        ],
                        [
                          0.3333333333333333,
                          "#9c179e"
                        ],
                        [
                          0.4444444444444444,
                          "#bd3786"
                        ],
                        [
                          0.5555555555555556,
                          "#d8576b"
                        ],
                        [
                          0.6666666666666666,
                          "#ed7953"
                        ],
                        [
                          0.7777777777777778,
                          "#fb9f3a"
                        ],
                        [
                          0.8888888888888888,
                          "#fdca26"
                        ],
                        [
                          1,
                          "#f0f921"
                        ]
                      ]
                    },
                    "colorway": [
                      "#636efa",
                      "#EF553B",
                      "#00cc96",
                      "#ab63fa",
                      "#FFA15A",
                      "#19d3f3",
                      "#FF6692",
                      "#B6E880",
                      "#FF97FF",
                      "#FECB52"
                    ],
                    "font": {
                      "color": "#2a3f5f"
                    },
                    "geo": {
                      "bgcolor": "white",
                      "lakecolor": "white",
                      "landcolor": "#E5ECF6",
                      "showlakes": true,
                      "showland": true,
                      "subunitcolor": "white"
                    },
                    "hoverlabel": {
                      "align": "left"
                    },
                    "hovermode": "closest",
                    "mapbox": {
                      "style": "light"
                    },
                    "paper_bgcolor": "white",
                    "plot_bgcolor": "#E5ECF6",
                    "polar": {
                      "angularaxis": {
                        "gridcolor": "white",
                        "linecolor": "white",
                        "ticks": ""
                      },
                      "bgcolor": "#E5ECF6",
                      "radialaxis": {
                        "gridcolor": "white",
                        "linecolor": "white",
                        "ticks": ""
                      }
                    },
                    "scene": {
                      "xaxis": {
                        "backgroundcolor": "#E5ECF6",
                        "gridcolor": "white",
                        "gridwidth": 2,
                        "linecolor": "white",
                        "showbackground": true,
                        "ticks": "",
                        "zerolinecolor": "white"
                      },
                      "yaxis": {
                        "backgroundcolor": "#E5ECF6",
                        "gridcolor": "white",
                        "gridwidth": 2,
                        "linecolor": "white",
                        "showbackground": true,
                        "ticks": "",
                        "zerolinecolor": "white"
                      },
                      "zaxis": {
                        "backgroundcolor": "#E5ECF6",
                        "gridcolor": "white",
                        "gridwidth": 2,
                        "linecolor": "white",
                        "showbackground": true,
                        "ticks": "",
                        "zerolinecolor": "white"
                      }
                    },
                    "shapedefaults": {
                      "line": {
                        "color": "#2a3f5f"
                      }
                    },
                    "ternary": {
                      "aaxis": {
                        "gridcolor": "white",
                        "linecolor": "white",
                        "ticks": ""
                      },
                      "baxis": {
                        "gridcolor": "white",
                        "linecolor": "white",
                        "ticks": ""
                      },
                      "bgcolor": "#E5ECF6",
                      "caxis": {
                        "gridcolor": "white",
                        "linecolor": "white",
                        "ticks": ""
                      }
                    },
                    "title": {
                      "x": 0.05
                    },
                    "xaxis": {
                      "automargin": true,
                      "gridcolor": "white",
                      "linecolor": "white",
                      "ticks": "",
                      "title": {
                        "standoff": 15
                      },
                      "zerolinecolor": "white",
                      "zerolinewidth": 2
                    },
                    "yaxis": {
                      "automargin": true,
                      "gridcolor": "white",
                      "linecolor": "white",
                      "ticks": "",
                      "title": {
                        "standoff": 15
                      },
                      "zerolinecolor": "white",
                      "zerolinewidth": 2
                    }
                  }
                }
              }
            }
          },
          "metadata": {},
          "output_type": "display_data"
        }
      ],
      "source": [
        "traces = []\n",
        "traces.append(go.Scatter(y=array1, name=\"input signal\"))\n",
        "traces.append(go.Scatter(y=np.real(final_result)*len(A)*np.sqrt(len(A)), name=\"quantum filtered signal\")) # explain why we have 2*sqrt(2) for rescaling here. explain why len[A] is in here????\n",
        "# traces.append(go.Scatter(y=convolution_result, name=\"numpy filtered result\"))\n",
        "fig = go.Figure(traces)\n",
        "fig.show()\n",
        "\n",
        "traces = []\n",
        "traces.append(go.Scatter(y=array1, name=\"input signal\"))\n",
        "# traces.append(go.Scatter(y=np.real(final_result)*len(A)*2*np.sqrt(2), name=\"quantum filtered signal\"))\n",
        "traces.append(go.Scatter(y=convolution_result[:len(A)], name=\"numpy filtered result\"))\n",
        "fig = go.Figure(traces)\n",
        "fig.show()\n",
        "\n",
        "traces = []\n",
        "# traces.append(go.Scatter(y=array1, name=\"input signal\"))\n",
        "traces.append(go.Scatter(y=np.real(final_result)*len(A)*np.sqrt(len(A)), name=\"quantum filtered signal\"))\n",
        "traces.append(go.Scatter(y=convolution_result, name=\"numpy filtered result\"))\n",
        "fig = go.Figure(traces)\n",
        "fig.show()"
      ]
    },
    {
      "cell_type": "code",
      "execution_count": 32,
      "metadata": {
        "colab": {
          "base_uri": "https://localhost:8080/"
        },
        "id": "J5wXIeYNgWyh",
        "outputId": "1ed0c590-7429-4a81-b2a4-dbe8d47c13b3"
      },
      "outputs": [
        {
          "name": "stdout",
          "output_type": "stream",
          "text": [
            "[1. 1. 1. 1. 1.]\n"
          ]
        }
      ],
      "source": [
        "scaling = np.real(final_result*len(A)*np.sqrt(len(A)))[:5]/ convolution_result[:5]\n",
        "print(scaling)"
      ]
    },
    {
      "cell_type": "code",
      "execution_count": 33,
      "metadata": {
        "colab": {
          "base_uri": "https://localhost:8080/"
        },
        "id": "r5eE1pwfguP4",
        "outputId": "05729bd8-654a-4099-dfa6-8929afda33ba"
      },
      "outputs": [
        {
          "name": "stdout",
          "output_type": "stream",
          "text": [
            "0.35355339059327373\n"
          ]
        }
      ],
      "source": [
        "print(1/(2*np.sqrt(2))) # why is the scaling equal to this?\n",
        "\n",
        "# this is bcoz of the 1/sqrt(2) normalisation factor due to the qfts. in case of window qft and iqft pair cancel it out. but for filter only qft is acting upon it. so this factor is not cancelled anywhere"
      ]
    },
    {
      "cell_type": "code",
      "execution_count": null,
      "metadata": {
        "id": "tbw4PrWMifCf"
      },
      "outputs": [],
      "source": []
    }
  ],
  "metadata": {
    "colab": {
      "provenance": []
    },
    "kernelspec": {
      "display_name": "Python 3",
      "name": "python3"
    },
    "language_info": {
      "codemirror_mode": {
        "name": "ipython",
        "version": 3
      },
      "file_extension": ".py",
      "mimetype": "text/x-python",
      "name": "python",
      "nbconvert_exporter": "python",
      "pygments_lexer": "ipython3",
      "version": "3.9.6"
    }
  },
  "nbformat": 4,
  "nbformat_minor": 0
}
