{
  "nbformat": 4,
  "nbformat_minor": 0,
  "metadata": {
    "colab": {
      "provenance": []
    },
    "kernelspec": {
      "name": "python3",
      "display_name": "Python 3"
    },
    "language_info": {
      "name": "python"
    }
  },
  "cells": [
    {
      "cell_type": "code",
      "execution_count": null,
      "metadata": {
        "colab": {
          "base_uri": "https://localhost:8080/"
        },
        "outputId": "2e7b6f28-16de-4cf7-ff08-bf5b6d27614e",
        "id": "RKDH3a43bjFT"
      },
      "outputs": [
        {
          "output_type": "stream",
          "name": "stdout",
          "text": [
            "Collecting qiskit\n",
            "  Downloading qiskit-1.2.0-cp38-abi3-manylinux_2_17_x86_64.manylinux2014_x86_64.whl.metadata (12 kB)\n",
            "Collecting rustworkx>=0.15.0 (from qiskit)\n",
            "  Downloading rustworkx-0.15.1-cp38-abi3-manylinux_2_17_x86_64.manylinux2014_x86_64.whl.metadata (9.9 kB)\n",
            "Requirement already satisfied: numpy<3,>=1.17 in /usr/local/lib/python3.10/dist-packages (from qiskit) (1.26.4)\n",
            "Requirement already satisfied: scipy>=1.5 in /usr/local/lib/python3.10/dist-packages (from qiskit) (1.13.1)\n",
            "Requirement already satisfied: sympy>=1.3 in /usr/local/lib/python3.10/dist-packages (from qiskit) (1.13.2)\n",
            "Collecting dill>=0.3 (from qiskit)\n",
            "  Downloading dill-0.3.8-py3-none-any.whl.metadata (10 kB)\n",
            "Requirement already satisfied: python-dateutil>=2.8.0 in /usr/local/lib/python3.10/dist-packages (from qiskit) (2.8.2)\n",
            "Collecting stevedore>=3.0.0 (from qiskit)\n",
            "  Downloading stevedore-5.3.0-py3-none-any.whl.metadata (2.3 kB)\n",
            "Requirement already satisfied: typing-extensions in /usr/local/lib/python3.10/dist-packages (from qiskit) (4.12.2)\n",
            "Collecting symengine>=0.11 (from qiskit)\n",
            "  Downloading symengine-0.11.0-cp310-cp310-manylinux_2_12_x86_64.manylinux2010_x86_64.whl.metadata (1.2 kB)\n",
            "Requirement already satisfied: six>=1.5 in /usr/local/lib/python3.10/dist-packages (from python-dateutil>=2.8.0->qiskit) (1.16.0)\n",
            "Collecting pbr>=2.0.0 (from stevedore>=3.0.0->qiskit)\n",
            "  Downloading pbr-6.0.0-py2.py3-none-any.whl.metadata (1.3 kB)\n",
            "Requirement already satisfied: mpmath<1.4,>=1.1.0 in /usr/local/lib/python3.10/dist-packages (from sympy>=1.3->qiskit) (1.3.0)\n",
            "Downloading qiskit-1.2.0-cp38-abi3-manylinux_2_17_x86_64.manylinux2014_x86_64.whl (4.8 MB)\n",
            "\u001b[2K   \u001b[90m━━━━━━━━━━━━━━━━━━━━━━━━━━━━━━━━━━━━━━━━\u001b[0m \u001b[32m4.8/4.8 MB\u001b[0m \u001b[31m36.6 MB/s\u001b[0m eta \u001b[36m0:00:00\u001b[0m\n",
            "\u001b[?25hDownloading dill-0.3.8-py3-none-any.whl (116 kB)\n",
            "\u001b[2K   \u001b[90m━━━━━━━━━━━━━━━━━━━━━━━━━━━━━━━━━━━━━━━━\u001b[0m \u001b[32m116.3/116.3 kB\u001b[0m \u001b[31m11.2 MB/s\u001b[0m eta \u001b[36m0:00:00\u001b[0m\n",
            "\u001b[?25hDownloading rustworkx-0.15.1-cp38-abi3-manylinux_2_17_x86_64.manylinux2014_x86_64.whl (2.0 MB)\n",
            "\u001b[2K   \u001b[90m━━━━━━━━━━━━━━━━━━━━━━━━━━━━━━━━━━━━━━━━\u001b[0m \u001b[32m2.0/2.0 MB\u001b[0m \u001b[31m68.3 MB/s\u001b[0m eta \u001b[36m0:00:00\u001b[0m\n",
            "\u001b[?25hDownloading stevedore-5.3.0-py3-none-any.whl (49 kB)\n",
            "\u001b[2K   \u001b[90m━━━━━━━━━━━━━━━━━━━━━━━━━━━━━━━━━━━━━━━━\u001b[0m \u001b[32m49.7/49.7 kB\u001b[0m \u001b[31m4.0 MB/s\u001b[0m eta \u001b[36m0:00:00\u001b[0m\n",
            "\u001b[?25hDownloading symengine-0.11.0-cp310-cp310-manylinux_2_12_x86_64.manylinux2010_x86_64.whl (39.4 MB)\n",
            "\u001b[2K   \u001b[90m━━━━━━━━━━━━━━━━━━━━━━━━━━━━━━━━━━━━━━━━\u001b[0m \u001b[32m39.4/39.4 MB\u001b[0m \u001b[31m18.0 MB/s\u001b[0m eta \u001b[36m0:00:00\u001b[0m\n",
            "\u001b[?25hDownloading pbr-6.0.0-py2.py3-none-any.whl (107 kB)\n",
            "\u001b[2K   \u001b[90m━━━━━━━━━━━━━━━━━━━━━━━━━━━━━━━━━━━━━━━━\u001b[0m \u001b[32m107.5/107.5 kB\u001b[0m \u001b[31m9.2 MB/s\u001b[0m eta \u001b[36m0:00:00\u001b[0m\n",
            "\u001b[?25hInstalling collected packages: symengine, rustworkx, pbr, dill, stevedore, qiskit\n",
            "Successfully installed dill-0.3.8 pbr-6.0.0 qiskit-1.2.0 rustworkx-0.15.1 stevedore-5.3.0 symengine-0.11.0\n"
          ]
        }
      ],
      "source": [
        "pip install qiskit"
      ]
    },
    {
      "cell_type": "code",
      "execution_count": null,
      "metadata": {
        "colab": {
          "base_uri": "https://localhost:8080/"
        },
        "outputId": "2272012c-8c4e-47ad-993b-2859c51de2be",
        "id": "jiOYgSd-bjFT"
      },
      "outputs": [
        {
          "output_type": "stream",
          "name": "stdout",
          "text": [
            "Collecting qiskit-aer\n",
            "  Downloading qiskit_aer-0.15.0-cp310-cp310-manylinux_2_17_x86_64.manylinux2014_x86_64.whl.metadata (8.0 kB)\n",
            "Requirement already satisfied: qiskit>=1.1.0 in /usr/local/lib/python3.10/dist-packages (from qiskit-aer) (1.2.0)\n",
            "Requirement already satisfied: numpy>=1.16.3 in /usr/local/lib/python3.10/dist-packages (from qiskit-aer) (1.26.4)\n",
            "Requirement already satisfied: scipy>=1.0 in /usr/local/lib/python3.10/dist-packages (from qiskit-aer) (1.13.1)\n",
            "Requirement already satisfied: psutil>=5 in /usr/local/lib/python3.10/dist-packages (from qiskit-aer) (5.9.5)\n",
            "Requirement already satisfied: rustworkx>=0.15.0 in /usr/local/lib/python3.10/dist-packages (from qiskit>=1.1.0->qiskit-aer) (0.15.1)\n",
            "Requirement already satisfied: sympy>=1.3 in /usr/local/lib/python3.10/dist-packages (from qiskit>=1.1.0->qiskit-aer) (1.13.2)\n",
            "Requirement already satisfied: dill>=0.3 in /usr/local/lib/python3.10/dist-packages (from qiskit>=1.1.0->qiskit-aer) (0.3.8)\n",
            "Requirement already satisfied: python-dateutil>=2.8.0 in /usr/local/lib/python3.10/dist-packages (from qiskit>=1.1.0->qiskit-aer) (2.8.2)\n",
            "Requirement already satisfied: stevedore>=3.0.0 in /usr/local/lib/python3.10/dist-packages (from qiskit>=1.1.0->qiskit-aer) (5.3.0)\n",
            "Requirement already satisfied: typing-extensions in /usr/local/lib/python3.10/dist-packages (from qiskit>=1.1.0->qiskit-aer) (4.12.2)\n",
            "Requirement already satisfied: symengine>=0.11 in /usr/local/lib/python3.10/dist-packages (from qiskit>=1.1.0->qiskit-aer) (0.11.0)\n",
            "Requirement already satisfied: six>=1.5 in /usr/local/lib/python3.10/dist-packages (from python-dateutil>=2.8.0->qiskit>=1.1.0->qiskit-aer) (1.16.0)\n",
            "Requirement already satisfied: pbr>=2.0.0 in /usr/local/lib/python3.10/dist-packages (from stevedore>=3.0.0->qiskit>=1.1.0->qiskit-aer) (6.0.0)\n",
            "Requirement already satisfied: mpmath<1.4,>=1.1.0 in /usr/local/lib/python3.10/dist-packages (from sympy>=1.3->qiskit>=1.1.0->qiskit-aer) (1.3.0)\n",
            "Downloading qiskit_aer-0.15.0-cp310-cp310-manylinux_2_17_x86_64.manylinux2014_x86_64.whl (12.3 MB)\n",
            "\u001b[2K   \u001b[90m━━━━━━━━━━━━━━━━━━━━━━━━━━━━━━━━━━━━━━━━\u001b[0m \u001b[32m12.3/12.3 MB\u001b[0m \u001b[31m90.7 MB/s\u001b[0m eta \u001b[36m0:00:00\u001b[0m\n",
            "\u001b[?25hInstalling collected packages: qiskit-aer\n",
            "Successfully installed qiskit-aer-0.15.0\n"
          ]
        }
      ],
      "source": [
        "pip install qiskit-aer"
      ]
    },
    {
      "cell_type": "code",
      "execution_count": null,
      "metadata": {
        "colab": {
          "base_uri": "https://localhost:8080/"
        },
        "outputId": "f2a7249b-8705-42f9-ff49-cd05e5cec625",
        "id": "Om8rHrj3bjFU"
      },
      "outputs": [
        {
          "output_type": "stream",
          "name": "stdout",
          "text": [
            "Collecting pylatexenc\n",
            "  Downloading pylatexenc-2.10.tar.gz (162 kB)\n",
            "\u001b[2K     \u001b[90m━━━━━━━━━━━━━━━━━━━━━━━━━━━━━━━━━━━━━━━━\u001b[0m \u001b[32m162.6/162.6 kB\u001b[0m \u001b[31m3.2 MB/s\u001b[0m eta \u001b[36m0:00:00\u001b[0m\n",
            "\u001b[?25h  Preparing metadata (setup.py) ... \u001b[?25l\u001b[?25hdone\n",
            "Building wheels for collected packages: pylatexenc\n",
            "  Building wheel for pylatexenc (setup.py) ... \u001b[?25l\u001b[?25hdone\n",
            "  Created wheel for pylatexenc: filename=pylatexenc-2.10-py3-none-any.whl size=136817 sha256=9e1d111d756aafece463413c56e842f3623a54c0511b917b32c1c327f9fc46d3\n",
            "  Stored in directory: /root/.cache/pip/wheels/d3/31/8b/e09b0386afd80cfc556c00408c9aeea5c35c4d484a9c762fd5\n",
            "Successfully built pylatexenc\n",
            "Installing collected packages: pylatexenc\n",
            "Successfully installed pylatexenc-2.10\n"
          ]
        }
      ],
      "source": [
        "!pip install pylatexenc"
      ]
    },
    {
      "cell_type": "code",
      "execution_count": null,
      "metadata": {
        "id": "Adci_VojbjFU"
      },
      "outputs": [],
      "source": [
        "from qiskit_aer import Aer\n",
        "from qiskit import QuantumCircuit, transpile, assemble\n",
        "from qiskit.quantum_info import Statevector\n",
        "from qiskit.visualization import plot_histogram, plot_bloch_multivector\n",
        "from qiskit.circuit.library import QFT , CCXGate, UnitaryGate\n",
        "import numpy as np\n",
        "import matplotlib.pyplot as plt"
      ]
    },
    {
      "cell_type": "code",
      "source": [
        "vector = [1, 2, 3, 4, 5, 6, 7, 8]\n",
        "\n",
        "vector_norm = np.linalg.norm(vector)\n",
        "normalized_vector = vector / vector_norm\n",
        "num_qubits = int(np.log2(len(vector)))\n",
        "num_overlap = 2\n",
        "\n",
        "print(normalized_vector)\n",
        "print(normalized_vector*vector_norm)\n",
        "print(num_qubits)"
      ],
      "metadata": {
        "colab": {
          "base_uri": "https://localhost:8080/"
        },
        "id": "vi8Z9qRxmzbA",
        "outputId": "aca39d50-b68c-4405-bcb7-2c7ce0f7f7f0"
      },
      "execution_count": null,
      "outputs": [
        {
          "output_type": "stream",
          "name": "stdout",
          "text": [
            "[0.070014   0.14002801 0.21004201 0.28005602 0.35007002 0.42008403\n",
            " 0.49009803 0.56011203]\n",
            "[1. 2. 3. 4. 5. 6. 7. 8.]\n",
            "3\n"
          ]
        }
      ]
    },
    {
      "cell_type": "code",
      "source": [
        "# Initialize parameters\n",
        "# window_scaling = 2.0062463823972267\n",
        "# padded_result_coeffs = [2.84459484e-01, -1.60769035e-01, -6.52830735e-01, -1.40302564e-01,\n",
        "#     4.04440838e-01, -5.49152208e-02, -5.29882315e-01,  7.34968555e-16]\n",
        "padded_result_coeffs = normalized_vector\n",
        "\n",
        "num_qubits = int(np.log2(len(padded_result_coeffs)))\n",
        "qc_test = QuantumCircuit(num_qubits + 1, 1)  # Increased from num_qubits*2 to num_qubits*3 for ancilla\n",
        "\n",
        "# Inverted initialization\n",
        "# qc_test.initialize(padded_result_coeffs, range(1,num_qubits+1))\n",
        "qc_test.initialize(padded_result_coeffs, range(0,num_qubits))\n",
        "\n",
        "\n",
        "# qc_test.append(QFT(num_qubits), range(num_qubits))\n",
        "# qc_test.append(QFT(num_qubits), range(num_qubits, 2 * num_qubits))\n",
        "\n",
        "# New code with CCX gates\n",
        "qc_test.barrier()\n",
        "\n",
        "qc_test.cx(2, 3)\n",
        "\n",
        "# Define the original permutation matrix (acts on 3 qubits)\n",
        "# perm_matrix = np.array([\n",
        "#     [1, 0, 0, 0, 0, 0, 0, 0],\n",
        "#     [0, 1, 0, 0, 0, 0, 0, 0],\n",
        "#     [0, 0, 0, 0, 1, 0, 0, 0],\n",
        "#     [0, 0, 0, 0, 0, 1, 0, 0],\n",
        "#     [0, 0, 1, 0, 0, 0, 0, 0],\n",
        "#     [0, 0, 0, 1, 0, 0, 0, 0],\n",
        "#     [0, 0, 0, 0, 0, 0, 1, 0],\n",
        "#     [0, 0, 0, 0, 0, 0, 0, 1]\n",
        "# ])\n",
        "\n",
        "perm_matrix = np.array([\n",
        "    [1, 0, 0, 0, 0, 0, 0, 0],\n",
        "    [0, 1, 0, 0, 0, 0, 0, 0],\n",
        "    [0, 0, 0, 0, 1, 0, 0, 0],\n",
        "    [0, 0, 0, 0, 0, 1, 0, 0],\n",
        "    [0, 0, 0, 0, 0, 0, 1, 0],\n",
        "    [0, 0, 0, 0, 0, 0, 0, 1],\n",
        "    [0, 0, 1, 0, 0, 0, 0, 0],\n",
        "    [0, 0, 0, 1, 0, 0, 0, 0]\n",
        "])  # this is modified version of one before so that the last two coeffcients as well move up two places, this gives a neet output at the end with no zeroes in the middle like was the case with before\n",
        "\n",
        "# Identity matrix for the other qubits\n",
        "identity_matrix = np.eye(8)\n",
        "\n",
        "# Construct the controlled matrix:\n",
        "# Block matrix with identity on top-left and the permutation matrix on bottom-right\n",
        "controlled_perm_matrix = np.block([\n",
        "    [identity_matrix, np.zeros((8, 8))],\n",
        "    [np.zeros((8, 8)), perm_matrix]\n",
        "])\n",
        "\n",
        "# print(\"Controlled Permutation Matrix:\")\n",
        "# print(controlled_perm_matrix)\n",
        "\n",
        "# Create the unitary gate from the permutation matrix\n",
        "unitary_gate = UnitaryGate(controlled_perm_matrix)\n",
        "\n",
        "# Append the controlled gate, with qubit 2 as the control and qubits 0 and 1 as the target\n",
        "qc_test.append(unitary_gate, [0 ,1 ,2, 3])\n",
        "# qc_test.append(unitary_gate, [3, 0 ,1 ,2])\n",
        "\n",
        "# Draw the circuit\n",
        "qc_test.draw('mpl')\n",
        "\n",
        "# qc_test.append(unitary_gate, [0, 1, 2])"
      ],
      "metadata": {
        "colab": {
          "base_uri": "https://localhost:8080/",
          "height": 384
        },
        "id": "9ZbBlES4b74O",
        "outputId": "f9e3e589-d54e-4b5b-d056-596097d9f852"
      },
      "execution_count": null,
      "outputs": [
        {
          "output_type": "execute_result",
          "data": {
            "text/plain": [
              "<Figure size 872.774x451.5 with 1 Axes>"
            ],
            "image/png": "[encoded data removed]"
          },
          "metadata": {},
          "execution_count": 58
        }
      ]
    },
    {
      "cell_type": "code",
      "source": [
        "# Use the Aer's Statevector simulator\n",
        "simulator = Aer.get_backend('statevector_simulator')\n",
        "\n",
        "# Transpile the quantum circuit for the simulator\n",
        "compiled_circuit = transpile(qc_test, simulator)\n",
        "\n",
        "# Run the simulation\n",
        "result = simulator.run(compiled_circuit).result()\n",
        "\n",
        "# Get the final statevector\n",
        "statevector = result.get_statevector()\n",
        "\n",
        "# Print the statevector\n",
        "print(\"Final Statevector:\", np.real(statevector))\n",
        "print()\n",
        "# print(\"adjusted Final Statevector:\", np.sqrt(2)*np.abs(statevector))\n",
        "\n",
        "print(normalized_vector)"
      ],
      "metadata": {
        "colab": {
          "base_uri": "https://localhost:8080/"
        },
        "id": "skpnhdf1aTKi",
        "outputId": "945e8606-c905-4d86-bf57-ef60eb54ecb8"
      },
      "execution_count": null,
      "outputs": [
        {
          "output_type": "stream",
          "name": "stdout",
          "text": [
            "Final Statevector: [0.070014   0.14002801 0.21004201 0.28005602 0.         0.\n",
            " 0.         0.         0.         0.         0.35007002 0.42008403\n",
            " 0.49009803 0.56011203 0.         0.        ]\n",
            "\n",
            "[0.070014   0.14002801 0.21004201 0.28005602 0.35007002 0.42008403\n",
            " 0.49009803 0.56011203]\n"
          ]
        }
      ]
    },
    {
      "cell_type": "code",
      "source": [
        "qc_test.h(3)\n",
        "qc_test.draw('mpl')"
      ],
      "metadata": {
        "colab": {
          "base_uri": "https://localhost:8080/",
          "height": 384
        },
        "id": "ryk2cg5tavqo",
        "outputId": "303a70ff-eb43-41f5-a710-687daa5c7771"
      },
      "execution_count": null,
      "outputs": [
        {
          "output_type": "execute_result",
          "data": {
            "text/plain": [
              "<Figure size 956.385x451.5 with 1 Axes>"
            ],
            "image/png": "[encoded data removed]"
          },
          "metadata": {},
          "execution_count": 8
        }
      ]
    },
    {
      "cell_type": "code",
      "source": [
        "# Use the Aer's Statevector simulator\n",
        "simulator = Aer.get_backend('statevector_simulator')\n",
        "\n",
        "# Transpile the quantum circuit for the simulator\n",
        "compiled_circuit = transpile(qc_test, simulator)\n",
        "\n",
        "# Run the simulation\n",
        "result = simulator.run(compiled_circuit).result()\n",
        "\n",
        "# Get the final statevector\n",
        "statevector = result.get_statevector()\n",
        "\n",
        "# Print the statevector\n",
        "print(\"Final Statevector:\", statevector)\n",
        "print()\n",
        "# print(\"adjusted Final Statevector with abs:\", np.sqrt(2)*np.abs(statevector))\n",
        "# print()\n",
        "print(\"Adjusted Final Statevector [*sqrt(2)]:\", np.sqrt(2)*statevector)\n",
        "print()\n",
        "print(\"Adjusted Final Statevector [*sqrt(2)] with real:\", np.sqrt(2)*np.real(statevector))\n",
        "print()\n",
        "print(\"Adjusted Final Statevector [*vecotr_norm*sqrt(2)] with real:\", vector_norm*np.sqrt(2)*np.real(statevector))\n",
        "print()\n",
        "print(\"Original vecotr:\", vector)\n",
        "print()\n",
        "\n",
        "\n",
        "[2.84459484e-01, -1.60769035e-01, -6.52830735e-01, -1.40302564e-01,\n",
        "    4.04440838e-01, -5.49152208e-02, -5.29882315e-01,  7.34968555e-16]"
      ],
      "metadata": {
        "colab": {
          "base_uri": "https://localhost:8080/"
        },
        "id": "hAbPylAAa0jc",
        "outputId": "c94938f7-154c-4982-c8e5-05aa0e58ed54"
      },
      "execution_count": null,
      "outputs": [
        {
          "output_type": "stream",
          "name": "stdout",
          "text": [
            "Final Statevector: Statevector([ 0.04950738+0.00000000e+00j,  0.09901475+0.00000000e+00j,\n",
            "              0.39605902-3.03145255e-17j,  0.49507377-3.63774306e-17j,\n",
            "              0.34655164-4.24403357e-17j,  0.39605902-4.85032408e-17j,\n",
            "              0.        +0.00000000e+00j,  0.        +0.00000000e+00j,\n",
            "              0.04950738+0.00000000e+00j,  0.09901475+0.00000000e+00j,\n",
            "             -0.09901475+3.03145255e-17j, -0.09901475+3.63774306e-17j,\n",
            "             -0.34655164+4.24403357e-17j, -0.39605902+4.85032408e-17j,\n",
            "              0.        +0.00000000e+00j,  0.        +0.00000000e+00j],\n",
            "            dims=(2, 2, 2, 2))\n",
            "\n",
            "Adjusted Final Statevector [*sqrt(2)]: Statevector([ 0.070014  +0.00000000e+00j,  0.14002801+0.00000000e+00j,\n",
            "              0.56011203-4.28712131e-17j,  0.70014004-5.14454557e-17j,\n",
            "              0.49009803-6.00196983e-17j,  0.56011203-6.85939409e-17j,\n",
            "              0.        +0.00000000e+00j,  0.        +0.00000000e+00j,\n",
            "              0.070014  +0.00000000e+00j,  0.14002801+0.00000000e+00j,\n",
            "             -0.14002801+4.28712131e-17j, -0.14002801+5.14454557e-17j,\n",
            "             -0.49009803+6.00196983e-17j, -0.56011203+6.85939409e-17j,\n",
            "              0.        +0.00000000e+00j,  0.        +0.00000000e+00j],\n",
            "            dims=(2, 2, 2, 2))\n",
            "\n",
            "Adjusted Final Statevector [*sqrt(2)] with real: [ 0.070014    0.14002801  0.56011203  0.70014004  0.49009803  0.56011203\n",
            "  0.          0.          0.070014    0.14002801 -0.14002801 -0.14002801\n",
            " -0.49009803 -0.56011203  0.          0.        ]\n",
            "\n",
            "Adjusted Final Statevector [*vecotr_norm*sqrt(2)] with real: [ 1.  2.  8. 10.  7.  8.  0.  0.  1.  2. -2. -2. -7. -8.  0.  0.]\n",
            "\n",
            "Original vecotr: [1, 2, 3, 4, 5, 6, 7, 8]\n",
            "\n"
          ]
        },
        {
          "output_type": "execute_result",
          "data": {
            "text/plain": [
              "[0.284459484,\n",
              " -0.160769035,\n",
              " -0.652830735,\n",
              " -0.140302564,\n",
              " 0.404440838,\n",
              " -0.0549152208,\n",
              " -0.529882315,\n",
              " 7.34968555e-16]"
            ]
          },
          "metadata": {},
          "execution_count": 9
        }
      ]
    },
    {
      "cell_type": "markdown",
      "source": [
        "Check sum and difference with below:\n",
        "\n",
        "sum:\n",
        "\n",
        "-6.52830735e-01 + 4.04440838e-01 = −0.248389897\n",
        "\n",
        "-1.40302564e-01 + -5.49152208e-02 = −0.195217784\n",
        "\n",
        "difference:\n",
        "\n",
        "-6.52830735e-01 - 4.04440838e-01 = −1.057271573\n",
        "\n",
        "-1.40302564e-01 - -5.49152208e-02 = −0.0853873432"
      ],
      "metadata": {
        "id": "SRusaQmycc1B"
      }
    },
    {
      "cell_type": "code",
      "source": [
        "def build_perm_matrix(num_qubits, num_overlap):\n",
        "  p = np.eye(2**num_qubits)\n",
        "  p[num_overlap:,:] = np.roll(p[num_overlap:,:], - num_overlap, axis=0)\n",
        "  return p\n",
        "\n",
        "print(build_perm_matrix(3, 2))\n",
        "i = np.shape(perm_matrix)[0]\n",
        "identity_matrix = np.eye(i)\n",
        "print(identity_matrix)"
      ],
      "metadata": {
        "colab": {
          "base_uri": "https://localhost:8080/"
        },
        "id": "P6J2xzXCos9r",
        "outputId": "dd32c4c7-2f9d-46e2-e81a-264b58a62e8b"
      },
      "execution_count": null,
      "outputs": [
        {
          "output_type": "stream",
          "name": "stdout",
          "text": [
            "[[1. 0. 0. 0. 0. 0. 0. 0.]\n",
            " [0. 1. 0. 0. 0. 0. 0. 0.]\n",
            " [0. 0. 0. 0. 1. 0. 0. 0.]\n",
            " [0. 0. 0. 0. 0. 1. 0. 0.]\n",
            " [0. 0. 0. 0. 0. 0. 1. 0.]\n",
            " [0. 0. 0. 0. 0. 0. 0. 1.]\n",
            " [0. 0. 1. 0. 0. 0. 0. 0.]\n",
            " [0. 0. 0. 1. 0. 0. 0. 0.]]\n",
            "[[1. 0. 0. 0. 0. 0. 0. 0.]\n",
            " [0. 1. 0. 0. 0. 0. 0. 0.]\n",
            " [0. 0. 1. 0. 0. 0. 0. 0.]\n",
            " [0. 0. 0. 1. 0. 0. 0. 0.]\n",
            " [0. 0. 0. 0. 1. 0. 0. 0.]\n",
            " [0. 0. 0. 0. 0. 1. 0. 0.]\n",
            " [0. 0. 0. 0. 0. 0. 1. 0.]\n",
            " [0. 0. 0. 0. 0. 0. 0. 1.]]\n"
          ]
        }
      ]
    },
    {
      "cell_type": "code",
      "source": [
        "def build_controlled_perm_matrix(perm_matrix):\n",
        "  i = np.shape(perm_matrix)[0]\n",
        "  identity_matrix = np.eye(i)\n",
        "  controlled_perm_matrix = np.block([\n",
        "    [identity_matrix, np.zeros((i, i))],\n",
        "    [np.zeros((i, i)), perm_matrix]\n",
        "  ])\n",
        "  return controlled_perm_matrix\n",
        "\n",
        "print(build_controlled_perm_matrix(build_perm_matrix(3, 2)))\n"
      ],
      "metadata": {
        "colab": {
          "base_uri": "https://localhost:8080/"
        },
        "id": "P4me2RHHpKup",
        "outputId": "9f942f77-5380-4c68-ec7f-1005a7200bb0"
      },
      "execution_count": null,
      "outputs": [
        {
          "output_type": "stream",
          "name": "stdout",
          "text": [
            "[[1. 0. 0. 0. 0. 0. 0. 0. 0. 0. 0. 0. 0. 0. 0. 0.]\n",
            " [0. 1. 0. 0. 0. 0. 0. 0. 0. 0. 0. 0. 0. 0. 0. 0.]\n",
            " [0. 0. 1. 0. 0. 0. 0. 0. 0. 0. 0. 0. 0. 0. 0. 0.]\n",
            " [0. 0. 0. 1. 0. 0. 0. 0. 0. 0. 0. 0. 0. 0. 0. 0.]\n",
            " [0. 0. 0. 0. 1. 0. 0. 0. 0. 0. 0. 0. 0. 0. 0. 0.]\n",
            " [0. 0. 0. 0. 0. 1. 0. 0. 0. 0. 0. 0. 0. 0. 0. 0.]\n",
            " [0. 0. 0. 0. 0. 0. 1. 0. 0. 0. 0. 0. 0. 0. 0. 0.]\n",
            " [0. 0. 0. 0. 0. 0. 0. 1. 0. 0. 0. 0. 0. 0. 0. 0.]\n",
            " [0. 0. 0. 0. 0. 0. 0. 0. 1. 0. 0. 0. 0. 0. 0. 0.]\n",
            " [0. 0. 0. 0. 0. 0. 0. 0. 0. 1. 0. 0. 0. 0. 0. 0.]\n",
            " [0. 0. 0. 0. 0. 0. 0. 0. 0. 0. 0. 0. 1. 0. 0. 0.]\n",
            " [0. 0. 0. 0. 0. 0. 0. 0. 0. 0. 0. 0. 0. 1. 0. 0.]\n",
            " [0. 0. 0. 0. 0. 0. 0. 0. 0. 0. 0. 0. 0. 0. 1. 0.]\n",
            " [0. 0. 0. 0. 0. 0. 0. 0. 0. 0. 0. 0. 0. 0. 0. 1.]\n",
            " [0. 0. 0. 0. 0. 0. 0. 0. 0. 0. 1. 0. 0. 0. 0. 0.]\n",
            " [0. 0. 0. 0. 0. 0. 0. 0. 0. 0. 0. 1. 0. 0. 0. 0.]]\n"
          ]
        }
      ]
    },
    {
      "cell_type": "code",
      "source": [
        "def build_perm_matrix(num_qubits, num_overlap):\n",
        "  p = np.eye(2**num_qubits)\n",
        "  p[num_overlap:,:] = np.roll(p[num_overlap:,:], - num_overlap, axis=0)\n",
        "  return p\n",
        "\n",
        "\n",
        "def build_controlled_perm_matrix1(num_qubits, num_overlap):\n",
        "  perm_matrix = np.eye(2**num_qubits)\n",
        "  perm_matrix[num_overlap:,:] = np.roll(perm_matrix[num_overlap:,:], - num_overlap, axis=0)\n",
        "  i = np.shape(perm_matrix)[0]\n",
        "  identity_matrix = np.eye(i)\n",
        "  controlled_perm_matrix = np.block([\n",
        "    [identity_matrix, np.zeros((i, i))],\n",
        "    [np.zeros((i, i)), perm_matrix]\n",
        "  ])\n",
        "  return perm_matrix, controlled_perm_matrix\n",
        "\n",
        "print(build_controlled_perm_matrix1(4, 6)[0])\n"
      ],
      "metadata": {
        "colab": {
          "base_uri": "https://localhost:8080/"
        },
        "id": "54M_b_BapnVW",
        "outputId": "106eeb18-ecf6-4229-9f62-79e6652797ea"
      },
      "execution_count": null,
      "outputs": [
        {
          "output_type": "stream",
          "name": "stdout",
          "text": [
            "[[1. 0. 0. 0. 0. 0. 0. 0. 0. 0. 0. 0. 0. 0. 0. 0.]\n",
            " [0. 1. 0. 0. 0. 0. 0. 0. 0. 0. 0. 0. 0. 0. 0. 0.]\n",
            " [0. 0. 1. 0. 0. 0. 0. 0. 0. 0. 0. 0. 0. 0. 0. 0.]\n",
            " [0. 0. 0. 1. 0. 0. 0. 0. 0. 0. 0. 0. 0. 0. 0. 0.]\n",
            " [0. 0. 0. 0. 1. 0. 0. 0. 0. 0. 0. 0. 0. 0. 0. 0.]\n",
            " [0. 0. 0. 0. 0. 1. 0. 0. 0. 0. 0. 0. 0. 0. 0. 0.]\n",
            " [0. 0. 0. 0. 0. 0. 0. 0. 0. 0. 0. 0. 1. 0. 0. 0.]\n",
            " [0. 0. 0. 0. 0. 0. 0. 0. 0. 0. 0. 0. 0. 1. 0. 0.]\n",
            " [0. 0. 0. 0. 0. 0. 0. 0. 0. 0. 0. 0. 0. 0. 1. 0.]\n",
            " [0. 0. 0. 0. 0. 0. 0. 0. 0. 0. 0. 0. 0. 0. 0. 1.]\n",
            " [0. 0. 0. 0. 0. 0. 1. 0. 0. 0. 0. 0. 0. 0. 0. 0.]\n",
            " [0. 0. 0. 0. 0. 0. 0. 1. 0. 0. 0. 0. 0. 0. 0. 0.]\n",
            " [0. 0. 0. 0. 0. 0. 0. 0. 1. 0. 0. 0. 0. 0. 0. 0.]\n",
            " [0. 0. 0. 0. 0. 0. 0. 0. 0. 1. 0. 0. 0. 0. 0. 0.]\n",
            " [0. 0. 0. 0. 0. 0. 0. 0. 0. 0. 1. 0. 0. 0. 0. 0.]\n",
            " [0. 0. 0. 0. 0. 0. 0. 0. 0. 0. 0. 1. 0. 0. 0. 0.]]\n"
          ]
        }
      ]
    },
    {
      "cell_type": "markdown",
      "source": [
        "\n",
        "\n",
        "---\n",
        "\n",
        "\n",
        "\n",
        "---\n",
        "\n",
        "\n",
        "\n",
        "---\n",
        "\n"
      ],
      "metadata": {
        "id": "TN6HSfKYr951"
      }
    },
    {
      "cell_type": "code",
      "source": [
        "def pad_to_power_of_two_overlap(coeffs):\n",
        "    length = len(coeffs)\n",
        "    next_power_of_two = 1 << (length - 1).bit_length()\n",
        "    return coeffs + [0] * (next_power_of_two - length)\n",
        "a = [1,2,3,5,5]\n",
        "b = [4,5,6]\n",
        "print(a+b)\n",
        "padded_a = pad_to_power_of_two_overlap(a)\n",
        "padded_b = pad_to_power_of_two_overlap(b)\n",
        "print(padded_a)\n",
        "print(padded_b)\n",
        "print(padded_a+padded_b)\n",
        "vector = padded_a+padded_b\n",
        "print(vector)"
      ],
      "metadata": {
        "colab": {
          "base_uri": "https://localhost:8080/"
        },
        "id": "hcz_Op0Dusjh",
        "outputId": "0cdfcc4a-8fde-404a-b1ea-1f6b7ff31faa"
      },
      "execution_count": null,
      "outputs": [
        {
          "output_type": "stream",
          "name": "stdout",
          "text": [
            "[1, 2, 3, 5, 5, 4, 5, 6]\n",
            "[1, 2, 3, 5, 5, 0, 0, 0]\n",
            "[4, 5, 6, 0]\n",
            "[1, 2, 3, 5, 5, 0, 0, 0, 4, 5, 6, 0]\n",
            "[1, 2, 3, 5, 5, 0, 0, 0, 4, 5, 6, 0]\n"
          ]
        }
      ]
    },
    {
      "cell_type": "markdown",
      "source": [
        "\n",
        "\n",
        "---\n",
        "\n",
        "\n",
        "\n",
        "---\n",
        "\n"
      ],
      "metadata": {
        "id": "nl0RP5LV6gQq"
      }
    },
    {
      "cell_type": "code",
      "source": [
        "def pad_to_power_of_two_based_on_longest(a, b):\n",
        "    # Find the length of the longer array\n",
        "    max_length = max(len(a), len(b))\n",
        "\n",
        "    # Find the next power of two greater than or equal to the max length\n",
        "    next_power_of_two = 1 << (max_length - 1).bit_length()\n",
        "\n",
        "    # Pad both arrays to this length\n",
        "    padded_a = a + [0] * (next_power_of_two - len(a))\n",
        "    padded_b = b + [0] * (next_power_of_two - len(b))\n",
        "\n",
        "    return padded_a, padded_b, next_power_of_two - len(a)\n",
        "\n",
        "# Example usage:\n",
        "a = [1, 2, 3, 4, 5, 6]\n",
        "b = [7, 8, 9]\n",
        "padded_a, padded_b, padding = pad_to_power_of_two_based_on_longest(a, b) # padding needs to be tracked so that appropriate overlap can be performed. we dont want to overlap the zeroes alone.\n",
        "print(\"Padded a:\", padded_a)\n",
        "print(\"Padded b:\", padded_b)\n",
        "print(\"Padding:\", padding)\n",
        "print(\"Combined vector:\", padded_a + padded_b)\n",
        "# print(len(a)+len(b)-num_overlap_nopad)"
      ],
      "metadata": {
        "colab": {
          "base_uri": "https://localhost:8080/"
        },
        "id": "0GqnZfutxRr0",
        "outputId": "ee082e99-67df-4cb5-86f1-ad9c2b51c819"
      },
      "execution_count": null,
      "outputs": [
        {
          "output_type": "stream",
          "name": "stdout",
          "text": [
            "Padded a: [1, 2, 3, 4, 5, 6, 0, 0]\n",
            "Padded b: [7, 8, 9, 0, 0, 0, 0, 0]\n",
            "Padding: 2\n",
            "Combined vector: [1, 2, 3, 4, 5, 6, 0, 0, 7, 8, 9, 0, 0, 0, 0, 0]\n"
          ]
        }
      ]
    },
    {
      "cell_type": "code",
      "source": [
        "vector = [1, 2, 3, 4, 5, 6, 7, 8, 1, 2, 3, 4, 5, 6, 7, 8]\n",
        "vector = padded_a + padded_b\n",
        "print(vector)\n",
        "\n",
        "vector_norm = np.linalg.norm(vector)\n",
        "normalized_vector = vector / vector_norm\n",
        "num_qubits = int(np.log2(len(vector)))\n",
        "num_overlap_nopad = 2\n",
        "num_overlap = num_overlap_nopad + padding\n",
        "\n",
        "statevector_slice_point = len(a)+len(b)-num_overlap_nopad\n",
        "print(statevector_slice_point)\n",
        "print(normalized_vector)\n",
        "print(normalized_vector*vector_norm)\n",
        "print(num_qubits)"
      ],
      "metadata": {
        "colab": {
          "base_uri": "https://localhost:8080/"
        },
        "id": "bFpgQyewqtJE",
        "outputId": "8fe570ee-ef15-4c63-f290-c669083b3066"
      },
      "execution_count": null,
      "outputs": [
        {
          "output_type": "stream",
          "name": "stdout",
          "text": [
            "[1, 2, 3, 4, 5, 6, 0, 0, 7, 8, 9, 0, 0, 0, 0, 0]\n",
            "7\n",
            "[0.05923489 0.11846978 0.17770466 0.23693955 0.29617444 0.35540933\n",
            " 0.         0.         0.41464421 0.4738791  0.53311399 0.\n",
            " 0.         0.         0.         0.        ]\n",
            "[1. 2. 3. 4. 5. 6. 0. 0. 7. 8. 9. 0. 0. 0. 0. 0.]\n",
            "4\n"
          ]
        }
      ]
    },
    {
      "cell_type": "code",
      "source": [
        "# Initialize parameters\n",
        "# window_scaling = 2.0062463823972267\n",
        "# padded_result_coeffs = [2.84459484e-01, -1.60769035e-01, -6.52830735e-01, -1.40302564e-01,\n",
        "#     4.04440838e-01, -5.49152208e-02, -5.29882315e-01,  7.34968555e-16]\n",
        "padded_result_coeffs = normalized_vector\n",
        "\n",
        "num_qubits = int(np.log2(len(padded_result_coeffs)))\n",
        "qc_test = QuantumCircuit(num_qubits + 1, 1)  # Increased from num_qubits*2 to num_qubits*3 for ancilla\n",
        "\n",
        "# Inverted initialization\n",
        "# qc_test.initialize(padded_result_coeffs, range(1,num_qubits+1))\n",
        "qc_test.initialize(padded_result_coeffs, range(0,num_qubits))\n",
        "\n",
        "\n",
        "# qc_test.append(QFT(num_qubits), range(num_qubits))\n",
        "# qc_test.append(QFT(num_qubits), range(num_qubits, 2 * num_qubits))\n",
        "\n",
        "# New code with CCX gates\n",
        "qc_test.barrier()\n",
        "\n",
        "qc_test.cx(num_qubits - 1, num_qubits)\n",
        "\n",
        "###################################\n",
        "\n",
        "def build_controlled_perm_matrix(num_qubits, num_overlap):\n",
        "  perm_matrix = np.eye(2**num_qubits)\n",
        "  perm_matrix[num_overlap:,:] = np.roll(perm_matrix[num_overlap:,:], - num_overlap, axis=0)\n",
        "  i = np.shape(perm_matrix)[0]\n",
        "  identity_matrix = np.eye(i)\n",
        "  controlled_perm_matrix = np.block([\n",
        "    [identity_matrix, np.zeros((i, i))],\n",
        "    [np.zeros((i, i)), perm_matrix]\n",
        "  ])\n",
        "  return perm_matrix, controlled_perm_matrix\n",
        "\n",
        "perm_matrix, controlled_perm_matrix = build_controlled_perm_matrix(num_qubits, num_overlap)\n",
        "\n",
        "###############################################\n",
        "# print(\"Controlled Permutation Matrix:\")\n",
        "# print(controlled_perm_matrix)\n",
        "\n",
        "# Create the unitary gate from the permutation matrix\n",
        "unitary_gate = UnitaryGate(controlled_perm_matrix)\n",
        "\n",
        "# Append the controlled gate, with qubit 2 as the control and qubits 0 and 1 as the target\n",
        "qc_test.append(unitary_gate, range(0,num_qubits+1))\n",
        "\n",
        "# Draw the circuit\n",
        "qc_test.draw('mpl')\n",
        "\n",
        "# qc_test.append(unitary_gate, [0, 1, 2])\n",
        "\n",
        "qc_test.h(num_qubits)\n",
        "qc_test.draw('mpl')\n",
        "\n",
        "# Use the Aer's Statevector simulator\n",
        "simulator = Aer.get_backend('statevector_simulator')\n",
        "\n",
        "# Transpile the quantum circuit for the simulator\n",
        "compiled_circuit = transpile(qc_test, simulator)\n",
        "\n",
        "# Run the simulation\n",
        "result = simulator.run(compiled_circuit).result()\n",
        "\n",
        "# Get the final statevector\n",
        "statevector = result.get_statevector()\n",
        "\n",
        "# Print the statevector\n",
        "print(\"Final Statevector:\", statevector)\n",
        "print()\n",
        "# print(\"adjusted Final Statevector with abs:\", np.sqrt(2)*np.abs(statevector))\n",
        "# print()\n",
        "print(\"Adjusted Final Statevector [*sqrt(2)]:\", np.sqrt(2)*statevector)\n",
        "print()\n",
        "print(\"Adjusted Final Statevector [*sqrt(2)] with real:\", np.sqrt(2)*np.real(statevector))\n",
        "print()\n",
        "print(\"Adjusted Final Statevector [*vector_norm*sqrt(2)] with real:\", vector_norm*np.sqrt(2)*np.real(statevector))\n",
        "print()\n",
        "print(\"Original vector:\", vector)\n",
        "print()\n",
        "###################\n",
        "resulting_state = Statevector(statevector).data[num_overlap_nopad:statevector_slice_point]\n",
        "\n",
        "overlap_add_output = vector_norm*np.sqrt(2)*np.real(resulting_state)\n",
        "print(overlap_add_output)"
      ],
      "metadata": {
        "colab": {
          "base_uri": "https://localhost:8080/"
        },
        "id": "Es8ApIoLsC7b",
        "outputId": "16411bb0-592e-4358-8c6b-4e7ce5ac53cb"
      },
      "execution_count": null,
      "outputs": [
        {
          "output_type": "stream",
          "name": "stdout",
          "text": [
            "Final Statevector: Statevector([ 0.04188539+0.00000000e+00j,  0.08377078+0.00000000e+00j,\n",
            "              0.12565617+0.00000000e+00j,  0.16754156+0.00000000e+00j,\n",
            "              0.50262469-3.59063669e-17j,  0.58639547-4.10358478e-17j,\n",
            "              0.37696852-4.61653288e-17j,  0.        +0.00000000e+00j,\n",
            "              0.        +0.00000000e+00j,  0.        +0.00000000e+00j,\n",
            "              0.        +0.00000000e+00j,  0.        +0.00000000e+00j,\n",
            "              0.        +0.00000000e+00j,  0.        +0.00000000e+00j,\n",
            "              0.        +0.00000000e+00j,  0.        +0.00000000e+00j,\n",
            "              0.04188539+0.00000000e+00j,  0.08377078+0.00000000e+00j,\n",
            "              0.12565617+0.00000000e+00j,  0.16754156+0.00000000e+00j,\n",
            "             -0.08377078+3.59063669e-17j, -0.08377078+4.10358478e-17j,\n",
            "             -0.37696852+4.61653288e-17j,  0.        +0.00000000e+00j,\n",
            "              0.        +0.00000000e+00j,  0.        +0.00000000e+00j,\n",
            "              0.        +0.00000000e+00j,  0.        +0.00000000e+00j,\n",
            "              0.        +0.00000000e+00j,  0.        +0.00000000e+00j,\n",
            "              0.        +0.00000000e+00j,  0.        +0.00000000e+00j],\n",
            "            dims=(2, 2, 2, 2, 2))\n",
            "\n",
            "Adjusted Final Statevector [*sqrt(2)]: Statevector([ 0.05923489+0.00000000e+00j,  0.11846978+0.00000000e+00j,\n",
            "              0.17770466+0.00000000e+00j,  0.23693955+0.00000000e+00j,\n",
            "              0.71081865-5.07792710e-17j,  0.82928843-5.80334526e-17j,\n",
            "              0.53311399-6.52876341e-17j,  0.        +0.00000000e+00j,\n",
            "              0.        +0.00000000e+00j,  0.        +0.00000000e+00j,\n",
            "              0.        +0.00000000e+00j,  0.        +0.00000000e+00j,\n",
            "              0.        +0.00000000e+00j,  0.        +0.00000000e+00j,\n",
            "              0.        +0.00000000e+00j,  0.        +0.00000000e+00j,\n",
            "              0.05923489+0.00000000e+00j,  0.11846978+0.00000000e+00j,\n",
            "              0.17770466+0.00000000e+00j,  0.23693955+0.00000000e+00j,\n",
            "             -0.11846978+5.07792710e-17j, -0.11846978+5.80334526e-17j,\n",
            "             -0.53311399+6.52876341e-17j,  0.        +0.00000000e+00j,\n",
            "              0.        +0.00000000e+00j,  0.        +0.00000000e+00j,\n",
            "              0.        +0.00000000e+00j,  0.        +0.00000000e+00j,\n",
            "              0.        +0.00000000e+00j,  0.        +0.00000000e+00j,\n",
            "              0.        +0.00000000e+00j,  0.        +0.00000000e+00j],\n",
            "            dims=(2, 2, 2, 2, 2))\n",
            "\n",
            "Adjusted Final Statevector [*sqrt(2)] with real: [ 0.05923489  0.11846978  0.17770466  0.23693955  0.71081865  0.82928843\n",
            "  0.53311399  0.          0.          0.          0.          0.\n",
            "  0.          0.          0.          0.          0.05923489  0.11846978\n",
            "  0.17770466  0.23693955 -0.11846978 -0.11846978 -0.53311399  0.\n",
            "  0.          0.          0.          0.          0.          0.\n",
            "  0.          0.        ]\n",
            "\n",
            "Adjusted Final Statevector [*vector_norm*sqrt(2)] with real: [ 1.  2.  3.  4. 12. 14.  9.  0.  0.  0.  0.  0.  0.  0.  0.  0.  1.  2.\n",
            "  3.  4. -2. -2. -9.  0.  0.  0.  0.  0.  0.  0.  0.  0.]\n",
            "\n",
            "Original vector: [1, 2, 3, 4, 5, 6, 0, 0, 7, 8, 9, 0, 0, 0, 0, 0]\n",
            "\n",
            "[ 3.  4. 12. 14.  9.]\n"
          ]
        }
      ]
    },
    {
      "cell_type": "code",
      "source": [
        "qc_test.draw('mpl')"
      ],
      "metadata": {
        "colab": {
          "base_uri": "https://localhost:8080/",
          "height": 449
        },
        "id": "blyVtA4osu3l",
        "outputId": "98cf78ab-5220-4266-adf9-1ca74be67dfb"
      },
      "execution_count": null,
      "outputs": [
        {
          "output_type": "execute_result",
          "data": {
            "text/plain": [
              "<Figure size 1207.22x535.111 with 1 Axes>"
            ],
            "image/png": "[encoded data removed]"
          },
          "metadata": {},
          "execution_count": 17
        }
      ]
    },
    {
      "cell_type": "markdown",
      "source": [
        "\n",
        "\n",
        "---\n",
        "\n",
        "\n",
        "\n",
        "---\n",
        "\n",
        "\n",
        "\n",
        "---\n",
        "\n"
      ],
      "metadata": {
        "id": "dQr5EoAiKOQD"
      }
    },
    {
      "cell_type": "code",
      "source": [
        "def pad_to_power_of_two_based_on_longest(a, b):\n",
        "    # Find the length of the longer array\n",
        "    max_length = max(len(a), len(b))\n",
        "\n",
        "    # Find the next power of two greater than or equal to the max length\n",
        "    next_power_of_two = 1 << (max_length - 1).bit_length()\n",
        "\n",
        "    # Pad both arrays to this length\n",
        "    padded_a = a + [0] * (next_power_of_two - len(a))\n",
        "    padded_b = b + [0] * (next_power_of_two - len(b))\n",
        "\n",
        "    return padded_a, padded_b, next_power_of_two - len(a)\n",
        "\n",
        "# Example usage:\n",
        "a = [1, 2, 3, 4, 5,6,7, 8, 1, 2, 3, 4, 5,6,7, 8]\n",
        "b = [1, 2, 3, 4, 5,6,7, 8, 1, 2, 3, 4, 5,6,7, 8]\n",
        "padded_a, padded_b, padding = pad_to_power_of_two_based_on_longest(a, b) # padding needs to be tracked so that appropriate overlap can be performed. we dont want to overlap the zeroes alone.\n",
        "print(\"Padded a:\", padded_a)\n",
        "print(\"Padded b:\", padded_b)\n",
        "print(\"Padding:\", padding)\n",
        "\n",
        "# vector = [1, 2, 3, 4, 5, 6, 7, 8, 1, 2, 3, 4, 5, 6, 7, 8]\n",
        "vector = padded_a + padded_b\n",
        "print(\"input padded vector\", vector)\n",
        "\n",
        "vector_norm = np.linalg.norm(vector)\n",
        "normalized_vector = vector / vector_norm\n",
        "num_qubits = int(np.log2(len(vector)))\n",
        "num_overlap_nopad = 9\n",
        "num_overlap = num_overlap_nopad + padding\n",
        "\n",
        "statevector_slice_point = len(a)+len(b)-num_overlap_nopad\n",
        "print(\"statevector_slice_point\",statevector_slice_point)\n",
        "print(\"num overlap\", num_overlap)\n",
        "print(\"normalized_vector\",normalized_vector)\n",
        "print(normalized_vector*vector_norm)\n",
        "print(\"num_qubits\",num_qubits)\n",
        "\n",
        "padded_result_coeffs = normalized_vector\n",
        "\n",
        "num_qubits = int(np.log2(len(padded_result_coeffs)))\n",
        "qc_test = QuantumCircuit(num_qubits + 1, 1)  # Increased from num_qubits*2 to num_qubits*3 for ancilla\n",
        "\n",
        "# Inverted initialization\n",
        "# qc_test.initialize(padded_result_coeffs, range(1,num_qubits+1))\n",
        "qc_test.initialize(padded_result_coeffs, range(0,num_qubits))\n",
        "\n",
        "\n",
        "\n",
        "# New code with CCX gates\n",
        "qc_test.barrier()\n",
        "\n",
        "qc_test.cx(num_qubits - 1, num_qubits)\n",
        "\n",
        "###################################\n",
        "\n",
        "def build_controlled_perm_matrix(num_qubits, num_overlap):\n",
        "  perm_matrix = np.eye(2**num_qubits)\n",
        "  perm_matrix[num_overlap:,:] = np.roll(perm_matrix[num_overlap:,:], - num_overlap, axis=0)\n",
        "  i = np.shape(perm_matrix)[0]\n",
        "  identity_matrix = np.eye(i)\n",
        "  controlled_perm_matrix = np.block([\n",
        "    [identity_matrix, np.zeros((i, i))],\n",
        "    [np.zeros((i, i)), perm_matrix]\n",
        "  ])\n",
        "  return perm_matrix, controlled_perm_matrix\n",
        "\n",
        "perm_matrix, controlled_perm_matrix = build_controlled_perm_matrix(num_qubits, num_overlap)\n",
        "\n",
        "###############################################\n",
        "\n",
        "# Create the unitary gate from the permutation matrix\n",
        "unitary_gate = UnitaryGate(controlled_perm_matrix)\n",
        "\n",
        "# Append the controlled gate, with qubit 2 as the control and qubits 0 and 1 as the target\n",
        "qc_test.append(unitary_gate, range(0,num_qubits+1))\n",
        "\n",
        "# Draw the circuit\n",
        "qc_test.draw('mpl')\n",
        "\n",
        "# qc_test.append(unitary_gate, [0, 1, 2])\n",
        "\n",
        "qc_test.h(num_qubits)\n",
        "qc_test.draw('mpl')\n",
        "\n",
        "# Use the Aer's Statevector simulator\n",
        "simulator = Aer.get_backend('statevector_simulator')\n",
        "\n",
        "# Transpile the quantum circuit for the simulator\n",
        "compiled_circuit = transpile(qc_test, simulator)\n",
        "\n",
        "# Run the simulation\n",
        "result = simulator.run(compiled_circuit).result()\n",
        "\n",
        "# Get the final statevector\n",
        "statevector = result.get_statevector()\n",
        "\n",
        "\n",
        "print(\"Adjusted Final Statevector [*vector_norm*sqrt(2)] with real:\", vector_norm*np.sqrt(2)*np.real(statevector))\n",
        "print()\n",
        "print(\"Original vector:\", vector)\n",
        "print()\n",
        "###################\n",
        "resulting_state = Statevector(statevector).data[num_overlap_nopad:statevector_slice_point]\n",
        "\n",
        "overlap_add_output = vector_norm*np.sqrt(2)*np.real(resulting_state)\n",
        "print(\"sliced norm adjusted overlap add ouput:\", overlap_add_output)"
      ],
      "metadata": {
        "colab": {
          "base_uri": "https://localhost:8080/"
        },
        "id": "g-Wt-KjIMWjZ",
        "outputId": "c553c688-eb98-451d-8394-1668a9312f06"
      },
      "execution_count": null,
      "outputs": [
        {
          "output_type": "stream",
          "name": "stdout",
          "text": [
            "Padded a: [1, 2, 3, 4, 5, 6, 7, 8, 1, 2, 3, 4, 5, 6, 7, 8]\n",
            "Padded b: [1, 2, 3, 4, 5, 6, 7, 8, 1, 2, 3, 4, 5, 6, 7, 8]\n",
            "Padding: 0\n",
            "input padded vector [1, 2, 3, 4, 5, 6, 7, 8, 1, 2, 3, 4, 5, 6, 7, 8, 1, 2, 3, 4, 5, 6, 7, 8, 1, 2, 3, 4, 5, 6, 7, 8]\n",
            "statevector_slice_point 23\n",
            "num overlap 9\n",
            "normalized_vector [0.035007   0.070014   0.10502101 0.14002801 0.17503501 0.21004201\n",
            " 0.24504901 0.28005602 0.035007   0.070014   0.10502101 0.14002801\n",
            " 0.17503501 0.21004201 0.24504901 0.28005602 0.035007   0.070014\n",
            " 0.10502101 0.14002801 0.17503501 0.21004201 0.24504901 0.28005602\n",
            " 0.035007   0.070014   0.10502101 0.14002801 0.17503501 0.21004201\n",
            " 0.24504901 0.28005602]\n",
            "[1. 2. 3. 4. 5. 6. 7. 8. 1. 2. 3. 4. 5. 6. 7. 8. 1. 2. 3. 4. 5. 6. 7. 8.\n",
            " 1. 2. 3. 4. 5. 6. 7. 8.]\n",
            "num_qubits 5\n",
            "Adjusted Final Statevector [*vector_norm*sqrt(2)] with real: [ 1.  2.  3.  4.  5.  6.  7.  8.  1.  5.  7.  9. 11. 13. 15.  9.  2.  3.\n",
            "  4.  5.  6.  7.  8.  0.  0.  0.  0.  0.  0.  0.  1.  2.  1.  2.  3.  4.\n",
            "  5.  6.  7.  8.  1. -1. -1. -1. -1. -1. -1.  7. -2. -3. -4. -5. -6. -7.\n",
            " -8.  0.  0.  0.  0.  0.  0.  0. -1. -2.]\n",
            "\n",
            "Original vector: [1, 2, 3, 4, 5, 6, 7, 8, 1, 2, 3, 4, 5, 6, 7, 8, 1, 2, 3, 4, 5, 6, 7, 8, 1, 2, 3, 4, 5, 6, 7, 8]\n",
            "\n",
            "sliced norm adjusted overlap add ouput: [ 5.  7.  9. 11. 13. 15.  9.  2.  3.  4.  5.  6.  7.  8.]\n"
          ]
        }
      ]
    },
    {
      "cell_type": "code",
      "source": [
        "qc_test.draw('mpl')"
      ],
      "metadata": {
        "colab": {
          "base_uri": "https://localhost:8080/",
          "height": 513
        },
        "id": "djYx3OQsPIiP",
        "outputId": "f9e99157-db91-4f67-8616-342aade72d60"
      },
      "execution_count": null,
      "outputs": [
        {
          "output_type": "execute_result",
          "data": {
            "text/plain": [
              "<Figure size 1207.22x618.722 with 1 Axes>"
            ],
            "image/png": "[encoded data removed]"
          },
          "metadata": {},
          "execution_count": 30
        }
      ]
    },
    {
      "cell_type": "markdown",
      "source": [
        "\n",
        "\n",
        "---\n",
        "\n",
        "\n",
        "\n",
        "---\n",
        "\n"
      ],
      "metadata": {
        "id": "C7Am9UgYMVsc"
      }
    },
    {
      "cell_type": "code",
      "source": [
        "def pad_to_power_of_two_based_on_longest(a, b):\n",
        "    # Find the length of the longer array\n",
        "    max_length = max(len(a), len(b))\n",
        "\n",
        "    # Find the next power of two greater than or equal to the max length\n",
        "    next_power_of_two = 1 << (max_length - 1).bit_length()\n",
        "\n",
        "    # Pad both arrays to this length\n",
        "    padded_a = a + [0] * (next_power_of_two - len(a))\n",
        "    padded_b = b + [0] * (next_power_of_two - len(b))\n",
        "\n",
        "    return padded_a, padded_b, next_power_of_two - len(a)\n",
        "\n",
        "def build_controlled_perm_matrix(num_qubits, num_overlap):\n",
        "  perm_matrix = np.eye(2**num_qubits)\n",
        "  perm_matrix[num_overlap:,:] = np.roll(perm_matrix[num_overlap:,:], - num_overlap, axis=0)\n",
        "  i = np.shape(perm_matrix)[0]\n",
        "  identity_matrix = np.eye(i)\n",
        "  controlled_perm_matrix = np.block([\n",
        "    [identity_matrix, np.zeros((i, i))],\n",
        "    [np.zeros((i, i)), perm_matrix]\n",
        "  ])\n",
        "  return perm_matrix, controlled_perm_matrix\n",
        "\n",
        "# Example usage:\n",
        "a = [1, 2, 3, 4, 5,6,7, 8, 1, 2, 3, 4, 5,6,7, 8]\n",
        "b = [1, 2, 3, 4, 5,6,7, 8, 1, 2, 3, 4, 5,6,7, 8]\n",
        "padded_a, padded_b, padding = pad_to_power_of_two_based_on_longest(a, b) # padding needs to be tracked so that appropriate overlap can be performed. we dont want to overlap the zeroes alone.\n",
        "\n",
        "vector = padded_a + padded_b\n",
        "print(\"input padded vector\", vector)\n",
        "\n",
        "vector_norm = np.linalg.norm(vector)\n",
        "normalized_vector = vector / vector_norm\n",
        "num_qubits = int(np.log2(len(vector)))\n",
        "num_overlap_nopad = 9\n",
        "num_overlap = num_overlap_nopad + padding\n",
        "\n",
        "statevector_slice_point = len(a)+len(b)-num_overlap_nopad\n",
        "padded_result_coeffs = normalized_vector\n",
        "\n",
        "num_qubits = int(np.log2(len(padded_result_coeffs)))\n",
        "qc_test = QuantumCircuit(num_qubits + 1, 1)  # Increased from num_qubits*2 to num_qubits*3 for ancilla\n",
        "\n",
        "# Inverted initialization\n",
        "# qc_test.initialize(padded_result_coeffs, range(1,num_qubits+1))\n",
        "qc_test.initialize(padded_result_coeffs, range(0,num_qubits))\n",
        "\n",
        "# New code with CCX gates\n",
        "qc_test.barrier()\n",
        "\n",
        "qc_test.cx(num_qubits - 1, num_qubits)\n",
        "\n",
        "perm_matrix, controlled_perm_matrix = build_controlled_perm_matrix(num_qubits, num_overlap)\n",
        "\n",
        "# Create the unitary gate from the permutation matrix\n",
        "unitary_gate = UnitaryGate(controlled_perm_matrix)\n",
        "\n",
        "# Append the controlled gate, with qubit 2 as the control and qubits 0 and 1 as the target\n",
        "qc_test.append(unitary_gate, range(0,num_qubits+1))\n",
        "\n",
        "qc_test.h(num_qubits)\n",
        "# Use the Aer's Statevector simulator\n",
        "simulator = Aer.get_backend('statevector_simulator')\n",
        "\n",
        "# Transpile the quantum circuit for the simulator\n",
        "compiled_circuit = transpile(qc_test, simulator)\n",
        "\n",
        "# Run the simulation\n",
        "result = simulator.run(compiled_circuit).result()\n",
        "\n",
        "# Get the final statevector\n",
        "statevector = result.get_statevector()\n",
        "\n",
        "\n",
        "print(\"Adjusted Final Statevector [*vector_norm*sqrt(2)] with real:\", vector_norm*np.sqrt(2)*np.real(statevector))\n",
        "print()\n",
        "print(\"Original vector:\", vector)\n",
        "print()\n",
        "###################\n",
        "resulting_state = Statevector(statevector).data[num_overlap_nopad:statevector_slice_point]\n",
        "\n",
        "overlap_add_output = vector_norm*np.sqrt(2)*np.real(resulting_state)\n",
        "print(\"sliced norm adjusted overlap add ouput:\", overlap_add_output)"
      ],
      "metadata": {
        "colab": {
          "base_uri": "https://localhost:8080/"
        },
        "id": "U54Rk7Z4svRG",
        "outputId": "948f44f0-d5ad-4d83-b23b-87347c42e0c5"
      },
      "execution_count": null,
      "outputs": [
        {
          "output_type": "stream",
          "name": "stdout",
          "text": [
            "[1, 2, 7, 5, 13, 8, 9]\n",
            "[4, 5, 6]\n"
          ]
        }
      ]
    },
    {
      "cell_type": "code",
      "source": [
        "qc_test.cx(num_qubits - 1, num_qubits)\n",
        "\n",
        "perm_matrix, controlled_perm_matrix = build_controlled_perm_matrix(num_qubits, num_overlap)\n",
        "\n",
        "# Create the unitary gate from the permutation matrix\n",
        "unitary_gate = UnitaryGate(controlled_perm_matrix)\n",
        "\n",
        "# Append the controlled gate, with qubit 2 as the control and qubits 0 and 1 as the target\n",
        "qc_test.append(unitary_gate, range(0,num_qubits+1))\n",
        "\n",
        "qc_test.h(num_qubits)"
      ],
      "metadata": {
        "id": "bQTb3vMOcB1y"
      },
      "execution_count": null,
      "outputs": []
    },
    {
      "cell_type": "code",
      "source": [
        "def build_controlled_perm_matrix(num_qubits, num_overlap):\n",
        "  perm_matrix = np.eye(2**num_qubits)\n",
        "  perm_matrix[num_overlap:,:] = np.roll(perm_matrix[num_overlap:,:], - num_overlap, axis=0)\n",
        "  i = np.shape(perm_matrix)[0]\n",
        "  identity_matrix = np.eye(i)\n",
        "  controlled_perm_matrix = np.block([\n",
        "    [identity_matrix, np.zeros((i, i))],\n",
        "    [np.zeros((i, i)), perm_matrix]\n",
        "  ])\n",
        "  return perm_matrix, controlled_perm_matrix\n",
        "\n",
        "def quantum_sequential_overlap_add(segments, overlap_length):\n",
        "    final_statevector = None\n",
        "\n",
        "    for i, segment in enumerate(segments):\n",
        "        if i == 0:\n",
        "            # First segment, initialize statevector\n",
        "            padded_segment = segment + [0] * (len(segments[0]) - len(segment))\n",
        "            vector_norm = np.linalg.norm(padded_segment)\n",
        "            normalized_vector = np.array(padded_segment) / vector_norm\n",
        "            num_qubits = int(np.log2(len(normalized_vector)))\n",
        "\n",
        "            qc_test = QuantumCircuit(num_qubits, 1)\n",
        "            qc_test.initialize(normalized_vector, range(num_qubits))\n",
        "\n",
        "            # Run the circuit\n",
        "            simulator = Aer.get_backend('statevector_simulator')\n",
        "            compiled_circuit = transpile(qc_test, simulator)\n",
        "            result = simulator.run(compiled_circuit).result()\n",
        "            final_statevector = result.get_statevector()\n",
        "\n",
        "        else:\n",
        "        #     # For subsequent segments\n",
        "            overlap_start_index = len(final_statevector) - overlap_length\n",
        "\n",
        "            # Apply quantum overlap logic (as in the previous example)\n",
        "            padded_segment = segment + [0] * (len(segments[0]) - len(segment))\n",
        "            vector_norm = np.linalg.norm(padded_segment)\n",
        "            normalized_vector = np.array(padded_segment) / vector_norm\n",
        "\n",
        "            num_qubits = int(np.log2(len(normalized_vector)))\n",
        "            qc_test = QuantumCircuit(num_qubits + 1, 1)\n",
        "            qc_test.initialize(normalized_vector, range(num_qubits))\n",
        "\n",
        "            ###################\n",
        "            # Apply controlled operations to perform the overlap-add\n",
        "            qc_test.cx(num_qubits - 1, num_qubits)\n",
        "\n",
        "            perm_matrix, controlled_perm_matrix = build_controlled_perm_matrix(num_qubits, overlap_length)\n",
        "\n",
        "            # Create the unitary gate from the permutation matrix\n",
        "            unitary_gate = UnitaryGate(controlled_perm_matrix)\n",
        "\n",
        "            # Append the controlled gate, with qubit 2 as the control and qubits 0 and 1 as the target\n",
        "            qc_test.append(unitary_gate, range(0,num_qubits+1))\n",
        "\n",
        "            qc_test.h(num_qubits)\n",
        "            #################\n",
        "\n",
        "            simulator = Aer.get_backend('statevector_simulator')\n",
        "            compiled_circuit = transpile(qc_test, simulator)\n",
        "            result = simulator.run(compiled_circuit).result()\n",
        "\n",
        "            new_statevector = result.get_statevector()\n",
        "            # Combine this with the final statevector by adding the overlapping parts and appending the rest\n",
        "\n",
        "            for j in range(overlap_length):\n",
        "                final_statevector[overlap_start_index + j] += new_statevector[j]\n",
        "\n",
        "            final_statevector = np.concatenate((final_statevector, new_statevector[overlap_length:]))\n",
        "\n",
        "    return final_statevector\n",
        "\n",
        "# Example usage\n",
        "segments = [[1, 2, 3], [4, 5, 6], [7, 8, 9]]\n",
        "overlap_length = 1\n",
        "final_statevector = quantum_sequential_overlap_add(segments, overlap_length)\n",
        "print(final_statevector)\n"
      ],
      "metadata": {
        "colab": {
          "base_uri": "https://localhost:8080/",
          "height": 315
        },
        "id": "vUIvc5NvKPjG",
        "outputId": "1a09817b-f163-4ebb-e3d7-2cc78cdd064a"
      },
      "execution_count": null,
      "outputs": [
        {
          "output_type": "error",
          "ename": "TypeError",
          "evalue": "object of type 'NoneType' has no len()",
          "traceback": [
            "\u001b[0;31m---------------------------------------------------------------------------\u001b[0m",
            "\u001b[0;31mTypeError\u001b[0m                                 Traceback (most recent call last)",
            "\u001b[0;32m<ipython-input-79-cf81048efc2d>\u001b[0m in \u001b[0;36m<cell line: 77>\u001b[0;34m()\u001b[0m\n\u001b[1;32m     75\u001b[0m \u001b[0msegments\u001b[0m \u001b[0;34m=\u001b[0m \u001b[0;34m[\u001b[0m\u001b[0;34m[\u001b[0m\u001b[0;36m1\u001b[0m\u001b[0;34m,\u001b[0m \u001b[0;36m2\u001b[0m\u001b[0;34m,\u001b[0m \u001b[0;36m3\u001b[0m\u001b[0;34m]\u001b[0m\u001b[0;34m,\u001b[0m \u001b[0;34m[\u001b[0m\u001b[0;36m4\u001b[0m\u001b[0;34m,\u001b[0m \u001b[0;36m5\u001b[0m\u001b[0;34m,\u001b[0m \u001b[0;36m6\u001b[0m\u001b[0;34m]\u001b[0m\u001b[0;34m,\u001b[0m \u001b[0;34m[\u001b[0m\u001b[0;36m7\u001b[0m\u001b[0;34m,\u001b[0m \u001b[0;36m8\u001b[0m\u001b[0;34m,\u001b[0m \u001b[0;36m9\u001b[0m\u001b[0;34m]\u001b[0m\u001b[0;34m]\u001b[0m\u001b[0;34m\u001b[0m\u001b[0;34m\u001b[0m\u001b[0m\n\u001b[1;32m     76\u001b[0m \u001b[0moverlap_length\u001b[0m \u001b[0;34m=\u001b[0m \u001b[0;36m1\u001b[0m\u001b[0;34m\u001b[0m\u001b[0;34m\u001b[0m\u001b[0m\n\u001b[0;32m---> 77\u001b[0;31m \u001b[0mfinal_statevector\u001b[0m \u001b[0;34m=\u001b[0m \u001b[0mquantum_sequential_overlap_add\u001b[0m\u001b[0;34m(\u001b[0m\u001b[0msegments\u001b[0m\u001b[0;34m,\u001b[0m \u001b[0moverlap_length\u001b[0m\u001b[0;34m)\u001b[0m\u001b[0;34m\u001b[0m\u001b[0;34m\u001b[0m\u001b[0m\n\u001b[0m\u001b[1;32m     78\u001b[0m \u001b[0mprint\u001b[0m\u001b[0;34m(\u001b[0m\u001b[0mfinal_statevector\u001b[0m\u001b[0;34m)\u001b[0m\u001b[0;34m\u001b[0m\u001b[0;34m\u001b[0m\u001b[0m\n",
            "\u001b[0;32m<ipython-input-79-cf81048efc2d>\u001b[0m in \u001b[0;36mquantum_sequential_overlap_add\u001b[0;34m(segments, overlap_length)\u001b[0m\n\u001b[1;32m     32\u001b[0m         \u001b[0;31m# else:\u001b[0m\u001b[0;34m\u001b[0m\u001b[0;34m\u001b[0m\u001b[0m\n\u001b[1;32m     33\u001b[0m         \u001b[0;31m#     # For subsequent segments\u001b[0m\u001b[0;34m\u001b[0m\u001b[0;34m\u001b[0m\u001b[0m\n\u001b[0;32m---> 34\u001b[0;31m             \u001b[0moverlap_start_index\u001b[0m \u001b[0;34m=\u001b[0m \u001b[0mlen\u001b[0m\u001b[0;34m(\u001b[0m\u001b[0mfinal_statevector\u001b[0m\u001b[0;34m)\u001b[0m \u001b[0;34m-\u001b[0m \u001b[0moverlap_length\u001b[0m\u001b[0;34m\u001b[0m\u001b[0;34m\u001b[0m\u001b[0m\n\u001b[0m\u001b[1;32m     35\u001b[0m \u001b[0;34m\u001b[0m\u001b[0m\n\u001b[1;32m     36\u001b[0m             \u001b[0;31m# Apply quantum overlap logic (as in the previous example)\u001b[0m\u001b[0;34m\u001b[0m\u001b[0;34m\u001b[0m\u001b[0m\n",
            "\u001b[0;31mTypeError\u001b[0m: object of type 'NoneType' has no len()"
          ]
        }
      ]
    },
    {
      "cell_type": "code",
      "source": [
        "# Function to pad and normalize input vectors\n",
        "def pad_to_power_of_two_based_on_longest(a, b):\n",
        "    max_length = max(len(a), len(b))\n",
        "    next_power_of_two = 1 << (max_length - 1).bit_length()\n",
        "    padded_a = a + [0] * (next_power_of_two - len(a))\n",
        "    padded_b = b + [0] * (next_power_of_two - len(b))\n",
        "    return padded_a, padded_b, next_power_of_two - len(a)\n",
        "\n",
        "# Function to build the controlled permutation matrix\n",
        "def build_controlled_perm_matrix(num_qubits, num_overlap):\n",
        "    perm_matrix = np.eye(2**num_qubits)\n",
        "    perm_matrix[num_overlap:, :] = np.roll(perm_matrix[num_overlap:, :], -num_overlap, axis=0)\n",
        "    i = np.shape(perm_matrix)[0]\n",
        "    identity_matrix = np.eye(i)\n",
        "    controlled_perm_matrix = np.block([\n",
        "        [identity_matrix, np.zeros((i, i))],\n",
        "        [np.zeros((i, i)), perm_matrix]\n",
        "    ])\n",
        "    return perm_matrix, controlled_perm_matrix\n",
        "\n",
        "# Example input: a list of (a, b) pairs\n",
        "array_pairs = [\n",
        "    ([1, 2, 3, 4, 5, 6, 7, 8], [1, 2, 3, 4, 5, 6, 7, 8]),\n",
        "    ([9, 10, 11, 12], [13, 14, 15, 16]),\n",
        "    ([17, 18, 19, 20], [21, 22, 23, 24])\n",
        "]\n",
        "\n",
        "for a, b in array_pairs:\n",
        "    padded_a, padded_b, padding = pad_to_power_of_two_based_on_longest(a, b)\n",
        "\n",
        "    vector = padded_a + padded_b\n",
        "    vector_norm = np.linalg.norm(vector)\n",
        "    normalized_vector = vector / vector_norm\n",
        "    num_qubits = int(np.log2(len(vector)))\n",
        "    num_overlap_nopad = 2\n",
        "    num_overlap = num_overlap_nopad + padding\n",
        "\n",
        "    statevector_slice_point = len(a) + len(b) - num_overlap_nopad\n",
        "    padded_result_coeffs = normalized_vector\n",
        "\n",
        "    qc_test = QuantumCircuit(num_qubits + 1, 1)\n",
        "    qc_test.initialize(padded_result_coeffs, range(0, num_qubits))\n",
        "\n",
        "    qc_test.barrier()\n",
        "    qc_test.cx(num_qubits - 1, num_qubits)\n",
        "\n",
        "    perm_matrix, controlled_perm_matrix = build_controlled_perm_matrix(num_qubits, num_overlap)\n",
        "\n",
        "    unitary_gate = UnitaryGate(controlled_perm_matrix)\n",
        "    qc_test.append(unitary_gate, range(0, num_qubits + 1))\n",
        "\n",
        "    qc_test.h(num_qubits)\n",
        "\n",
        "    simulator = Aer.get_backend('statevector_simulator')\n",
        "    compiled_circuit = transpile(qc_test, simulator)\n",
        "    result = simulator.run(compiled_circuit).result()\n",
        "\n",
        "    statevector = result.get_statevector()\n",
        "    resulting_state = Statevector(statevector).data[num_overlap_nopad:statevector_slice_point]\n",
        "    overlap_add_output = vector_norm * np.sqrt(2) * np.real(resulting_state)\n",
        "\n",
        "    print(\"Overlap-add output for this pair:\", overlap_add_output)\n"
      ],
      "metadata": {
        "colab": {
          "base_uri": "https://localhost:8080/"
        },
        "id": "sCLTO6LvcqOh",
        "outputId": "188d1559-99b2-4905-95a1-917cfa04fbe1"
      },
      "execution_count": null,
      "outputs": [
        {
          "output_type": "stream",
          "name": "stdout",
          "text": [
            "Overlap-add output for this pair: [ 3.  4.  5.  6.  8. 10.  3.  4.  5.  6.  7.  8.]\n",
            "Overlap-add output for this pair: [24. 26. 15. 16.]\n",
            "Overlap-add output for this pair: [40. 42. 23. 24.]\n"
          ]
        }
      ]
    },
    {
      "cell_type": "code",
      "source": [
        "def pad_to_power_of_two_based_on_longest(a, b):\n",
        "    max_length = max(len(a), len(b))\n",
        "    next_power_of_two = 1 << (max_length - 1).bit_length()\n",
        "    padded_a = a + [0] * (next_power_of_two - len(a))\n",
        "    padded_b = b + [0] * (next_power_of_two - len(b))\n",
        "    return padded_a, padded_b, next_power_of_two - len(a)\n",
        "\n",
        "def build_controlled_perm_matrix(num_qubits, num_overlap):\n",
        "    perm_matrix = np.eye(2**num_qubits)\n",
        "    perm_matrix[num_overlap:, :] = np.roll(perm_matrix[num_overlap:, :], -num_overlap, axis=0)\n",
        "    i = np.shape(perm_matrix)[0]\n",
        "    identity_matrix = np.eye(i)\n",
        "    controlled_perm_matrix = np.block([\n",
        "        [identity_matrix, np.zeros((i, i))],\n",
        "        [np.zeros((i, i)), perm_matrix]\n",
        "    ])\n",
        "    return perm_matrix, controlled_perm_matrix\n",
        "\n",
        "# Example input: a list of arrays [a, b, c, d]\n",
        "arrays = [\n",
        "    [1, 2, 3, 4, 5, 6, 7, 8],\n",
        "    [9, 10, 11, 12],\n",
        "    [13, 14, 15, 16],\n",
        "    [17, 18, 19, 20]\n",
        "]\n",
        "\n",
        "final_result = []\n",
        "\n",
        "for i in range(len(arrays) - 1):\n",
        "    a = arrays[i]\n",
        "    b = arrays[i + 1]\n",
        "    padded_a, padded_b, padding = pad_to_power_of_two_based_on_longest(a, b)\n",
        "\n",
        "    vector = padded_a + padded_b\n",
        "    vector_norm = np.linalg.norm(vector)\n",
        "    normalized_vector = vector / vector_norm\n",
        "    num_qubits = int(np.log2(len(vector)))\n",
        "    num_overlap_nopad = 2\n",
        "    num_overlap = num_overlap_nopad + padding\n",
        "\n",
        "    statevector_slice_point = len(a) + len(b) - num_overlap_nopad\n",
        "    padded_result_coeffs = normalized_vector\n",
        "\n",
        "    qc_test = QuantumCircuit(num_qubits + 1, 1)\n",
        "    qc_test.initialize(padded_result_coeffs, range(0, num_qubits))\n",
        "\n",
        "    qc_test.barrier()\n",
        "    qc_test.cx(num_qubits - 1, num_qubits)\n",
        "\n",
        "    perm_matrix, controlled_perm_matrix = build_controlled_perm_matrix(num_qubits, num_overlap)\n",
        "\n",
        "    unitary_gate = UnitaryGate(controlled_perm_matrix)\n",
        "    qc_test.append(unitary_gate, range(0, num_qubits + 1))\n",
        "\n",
        "    qc_test.h(num_qubits)\n",
        "\n",
        "    simulator = Aer.get_backend('statevector_simulator')\n",
        "    compiled_circuit = transpile(qc_test, simulator)\n",
        "    result = simulator.run(compiled_circuit).result()\n",
        "\n",
        "    statevector = result.get_statevector()\n",
        "    resulting_state = Statevector(statevector).data[num_overlap_nopad:statevector_slice_point]\n",
        "    overlap_add_output = vector_norm * np.sqrt(2) * np.real(resulting_state)\n",
        "\n",
        "    if i == 0:\n",
        "        final_result.extend(overlap_add_output)\n",
        "    else:\n",
        "        # Overlap-add with the previous final result\n",
        "        overlap_start_index = len(final_result) - num_overlap_nopad\n",
        "        for j in range(num_overlap_nopad):\n",
        "            final_result[overlap_start_index + j] += overlap_add_output[j]\n",
        "        final_result.extend(overlap_add_output[num_overlap_nopad:])\n",
        "\n",
        "print(\"Final stitched result:\", final_result)\n"
      ],
      "metadata": {
        "colab": {
          "base_uri": "https://localhost:8080/"
        },
        "id": "XbxJ2bvVd2xU",
        "outputId": "565d9dd5-2d27-4100-ccb2-bf1de67d6cfa"
      },
      "execution_count": null,
      "outputs": [
        {
          "output_type": "stream",
          "name": "stdout",
          "text": [
            "Final stitched result: [3.0, 4.0, 5.0, 6.0, 16.0, 18.0, 35.0, 38.0, 47.0, 50.00000000000001, 19.0, 20.0]\n"
          ]
        }
      ]
    },
    {
      "cell_type": "code",
      "source": [
        "def pad_to_power_of_two_based_on_longest(a, b):\n",
        "    max_length = max(len(a), len(b))\n",
        "    next_power_of_two = 1 << (max_length - 1).bit_length()\n",
        "    padded_a = a + [0] * (next_power_of_two - len(a))\n",
        "    padded_b = b + [0] * (next_power_of_two - len(b))\n",
        "    return padded_a, padded_b, next_power_of_two - len(a)\n",
        "\n",
        "def build_controlled_perm_matrix(num_qubits, num_overlap):\n",
        "    perm_matrix = np.eye(2**num_qubits)\n",
        "    perm_matrix[num_overlap:, :] = np.roll(perm_matrix[num_overlap:, :], -num_overlap, axis=0)\n",
        "    i = np.shape(perm_matrix)[0]\n",
        "    identity_matrix = np.eye(i)\n",
        "    controlled_perm_matrix = np.block([\n",
        "        [identity_matrix, np.zeros((i, i))],\n",
        "        [np.zeros((i, i)), perm_matrix]\n",
        "    ])\n",
        "    return perm_matrix, controlled_perm_matrix\n",
        "\n",
        "# Example input: a list of arrays [a, b, c, d]\n",
        "arrays = [\n",
        "    [1, 2, 3, 4, 5, 6, 7, 8],\n",
        "    [9, 10, 11, 12],\n",
        "    [13, 14, 15, 16],\n",
        "    [17, 18, 19, 20]\n",
        "]\n",
        "\n",
        "\n",
        "for i in range(len(arrays) - 1):\n",
        "    a = arrays[i]\n",
        "    b = arrays[i + 1]\n",
        "    padded_a, padded_b, padding = pad_to_power_of_two_based_on_longest(a, b)\n",
        "\n",
        "    vector = padded_a + padded_b\n",
        "    vector_norm = np.linalg.norm(vector)\n",
        "    normalized_vector = vector / vector_norm\n",
        "    num_qubits = int(np.log2(len(vector)))\n",
        "    num_overlap_nopad = 2\n",
        "    num_overlap = num_overlap_nopad + padding\n",
        "\n",
        "    statevector_slice_point = len(a) + len(b) - num_overlap_nopad\n",
        "    padded_result_coeffs = normalized_vector\n",
        "\n",
        "    qc_test = QuantumCircuit(num_qubits + 1, 1)\n",
        "    qc_test.initialize(padded_result_coeffs, range(0, num_qubits))\n",
        "\n",
        "    qc_test.barrier()\n",
        "    qc_test.cx(num_qubits - 1, num_qubits)\n",
        "\n",
        "    perm_matrix, controlled_perm_matrix = build_controlled_perm_matrix(num_qubits, num_overlap)\n",
        "\n",
        "    unitary_gate = UnitaryGate(controlled_perm_matrix)\n",
        "    qc_test.append(unitary_gate, range(0, num_qubits + 1))\n",
        "\n",
        "    qc_test.h(num_qubits)\n",
        "\n",
        "    simulator = Aer.get_backend('statevector_simulator')\n",
        "    compiled_circuit = transpile(qc_test, simulator)\n",
        "    result = simulator.run(compiled_circuit).result()\n",
        "\n",
        "    statevector = result.get_statevector()\n",
        "    resulting_state = Statevector(statevector).data[num_overlap_nopad:statevector_slice_point- num_overlap_nopad]\n",
        "    overlap_add_output = vector_norm * np.sqrt(2) * np.real(resulting_state)\n",
        "\n",
        "    print(f\"Overlap-add output for pair ({i}, {i+1}):\", overlap_add_output)"
      ],
      "metadata": {
        "colab": {
          "base_uri": "https://localhost:8080/"
        },
        "id": "UPPEo96NhJV_",
        "outputId": "b8ccaa31-6964-4d6a-f43e-da076d5b6e8d"
      },
      "execution_count": null,
      "outputs": [
        {
          "output_type": "stream",
          "name": "stdout",
          "text": [
            "Overlap-add output for pair (0, 1): [ 3.  4.  5.  6. 16. 18.]\n",
            "Overlap-add output for pair (1, 2): [24. 26.]\n",
            "Overlap-add output for pair (2, 3): [32. 34.]\n"
          ]
        }
      ]
    },
    {
      "cell_type": "markdown",
      "source": [
        "# correct one\n"
      ],
      "metadata": {
        "id": "H6rHPH8KjuyF"
      }
    },
    {
      "cell_type": "code",
      "source": [
        "def pad_to_power_of_two_based_on_longest(a, b):\n",
        "    max_length = max(len(a), len(b))\n",
        "    next_power_of_two = 1 << (max_length - 1).bit_length()\n",
        "    padded_a = a + [0] * (next_power_of_two - len(a))\n",
        "    padded_b = b + [0] * (next_power_of_two - len(b))\n",
        "    return padded_a, padded_b, next_power_of_two - len(a)\n",
        "\n",
        "def build_controlled_perm_matrix(num_qubits, num_overlap):\n",
        "    perm_matrix = np.eye(2**num_qubits)\n",
        "    perm_matrix[num_overlap:, :] = np.roll(perm_matrix[num_overlap:, :], -num_overlap, axis=0)\n",
        "    i = np.shape(perm_matrix)[0]\n",
        "    identity_matrix = np.eye(i)\n",
        "    controlled_perm_matrix = np.block([\n",
        "        [identity_matrix, np.zeros((i, i))],\n",
        "        [np.zeros((i, i)), perm_matrix]\n",
        "    ])\n",
        "    return perm_matrix, controlled_perm_matrix\n",
        "\n",
        "# Example input: a list of arrays [a, b, c, d]\n",
        "arrays = [\n",
        "    [1, 2, 3, 4, 5, 6, 7, 8],\n",
        "    [9, 10, 11, 12],\n",
        "    [13, 14, 15, 16],\n",
        "    [17, 18, 19, 20]\n",
        "]\n",
        "\n",
        "# Final result\n",
        "final_result = []\n",
        "\n",
        "for i in range(len(arrays) - 1):\n",
        "    a = arrays[i]\n",
        "    b = arrays[i + 1]\n",
        "    padded_a, padded_b, padding = pad_to_power_of_two_based_on_longest(a, b)\n",
        "\n",
        "    vector = padded_a + padded_b\n",
        "    vector_norm = np.linalg.norm(vector)\n",
        "    normalized_vector = vector / vector_norm\n",
        "    num_qubits = int(np.log2(len(vector)))\n",
        "    num_overlap_nopad = 2\n",
        "    num_overlap = num_overlap_nopad + padding\n",
        "\n",
        "    statevector_slice_point = len(a) + len(b) - num_overlap_nopad\n",
        "    padded_result_coeffs = normalized_vector\n",
        "\n",
        "    qc_test = QuantumCircuit(num_qubits + 1, 1)\n",
        "    qc_test.initialize(padded_result_coeffs, range(0, num_qubits))\n",
        "\n",
        "    qc_test.barrier()\n",
        "    qc_test.cx(num_qubits - 1, num_qubits)\n",
        "\n",
        "    perm_matrix, controlled_perm_matrix = build_controlled_perm_matrix(num_qubits, num_overlap)\n",
        "\n",
        "    unitary_gate = UnitaryGate(controlled_perm_matrix)\n",
        "    qc_test.append(unitary_gate, range(0, num_qubits + 1))\n",
        "\n",
        "    qc_test.h(num_qubits)\n",
        "\n",
        "    simulator = Aer.get_backend('statevector_simulator')\n",
        "    compiled_circuit = transpile(qc_test, simulator)\n",
        "    result = simulator.run(compiled_circuit).result()\n",
        "\n",
        "    statevector = result.get_statevector()\n",
        "    resulting_state = Statevector(statevector).data[num_overlap_nopad:statevector_slice_point - num_overlap_nopad]\n",
        "    overlap_add_output = vector_norm * np.sqrt(2) * np.real(resulting_state)\n",
        "\n",
        "    print(f\"Overlap-add output for pair ({i}, {i+1}):\", overlap_add_output)\n",
        "\n",
        "    # Append the output to the final result\n",
        "    final_result.extend(overlap_add_output)\n",
        "\n",
        "print(\"Final continuous array:\", final_result)\n"
      ],
      "metadata": {
        "colab": {
          "base_uri": "https://localhost:8080/"
        },
        "id": "o48snrGDjgpB",
        "outputId": "402f067f-7bd7-4362-f059-8df8c0825764"
      },
      "execution_count": null,
      "outputs": [
        {
          "output_type": "stream",
          "name": "stdout",
          "text": [
            "Overlap-add output for pair (0, 1): [ 3.  4.  5.  6. 16. 18.]\n",
            "Overlap-add output for pair (1, 2): [24. 26.]\n",
            "Overlap-add output for pair (2, 3): [32. 34.]\n",
            "Final continuous array: [3.0, 4.0, 5.0, 6.0, 16.0, 18.0, 24.000000000000004, 26.0, 32.0, 34.00000000000001]\n"
          ]
        }
      ]
    },
    {
      "cell_type": "code",
      "source": [
        "def sequential_overlap_add(segments, overlap_length):\n",
        "    final_statevector = []\n",
        "\n",
        "    for i, segment in enumerate(segments):\n",
        "        if i == 0:\n",
        "            # First segment, just append it\n",
        "            final_statevector.extend(segment)\n",
        "        else:\n",
        "            # Find the overlap start index in final_statevector\n",
        "            overlap_start_index = len(final_statevector) - overlap_length\n",
        "\n",
        "            # Add the overlapping part\n",
        "            for j in range(overlap_length):\n",
        "                final_statevector[overlap_start_index + j] += segment[j]\n",
        "\n",
        "            # Append the remaining part\n",
        "            final_statevector.extend(segment[overlap_length:])\n",
        "\n",
        "    return final_statevector\n",
        "\n",
        "# Example usage\n",
        "arrays = [\n",
        "    [1, 2, 3, 4, 5, 6, 7, 8],\n",
        "    [9, 10, 11, 12],\n",
        "    [13, 14, 15, 16],\n",
        "    [17, 18, 19, 20]\n",
        "]\n",
        "segments = arrays\n",
        "overlap_length = 2\n",
        "final_statevector = sequential_overlap_add(segments, overlap_length)\n",
        "print(final_statevector)"
      ],
      "metadata": {
        "colab": {
          "base_uri": "https://localhost:8080/"
        },
        "id": "oPTeZa52euQy",
        "outputId": "1a02406d-7af8-4c77-8e84-677c1d4d6fe0"
      },
      "execution_count": null,
      "outputs": [
        {
          "output_type": "stream",
          "name": "stdout",
          "text": [
            "[1, 2, 3, 4, 5, 6, 16, 18, 24, 26, 32, 34, 19, 20]\n"
          ]
        }
      ]
    },
    {
      "cell_type": "code",
      "source": [
        "# Final result list for all outputs\n",
        "all_overlap_outputs = []\n",
        "\n",
        "# Final result for the continuous array\n",
        "final_result = []\n",
        "\n",
        "for i in range(len(arrays) - 1):\n",
        "    a = arrays[i]\n",
        "    b = arrays[i + 1]\n",
        "    padded_a, padded_b, padding = pad_to_power_of_two_based_on_longest(a, b)\n",
        "\n",
        "    vector = padded_a + padded_b\n",
        "    vector_norm = np.linalg.norm(vector)\n",
        "    normalized_vector = vector / vector_norm\n",
        "    num_qubits = int(np.log2(len(vector)))\n",
        "    num_overlap_nopad = 2\n",
        "    num_overlap = num_overlap_nopad + padding\n",
        "\n",
        "    statevector_slice_point = len(a) + len(b) - num_overlap_nopad\n",
        "    padded_result_coeffs = normalized_vector\n",
        "\n",
        "    qc_test = QuantumCircuit(num_qubits + 1, 1)\n",
        "    qc_test.initialize(padded_result_coeffs, range(0, num_qubits))\n",
        "\n",
        "    qc_test.barrier()\n",
        "    qc_test.cx(num_qubits - 1, num_qubits)\n",
        "\n",
        "    perm_matrix, controlled_perm_matrix = build_controlled_perm_matrix(num_qubits, num_overlap)\n",
        "\n",
        "    unitary_gate = UnitaryGate(controlled_perm_matrix)\n",
        "    qc_test.append(unitary_gate, range(0, num_qubits + 1))\n",
        "\n",
        "    qc_test.h(num_qubits)\n",
        "\n",
        "    simulator = Aer.get_backend('statevector_simulator')\n",
        "    compiled_circuit = transpile(qc_test, simulator)\n",
        "    result = simulator.run(compiled_circuit).result()\n",
        "\n",
        "    statevector = result.get_statevector()\n",
        "    resulting_state = Statevector(statevector).data[num_overlap_nopad:statevector_slice_point]\n",
        "    overlap_add_output = vector_norm * np.sqrt(2) * np.real(resulting_state)\n",
        "\n",
        "    print(f\"Overlap-add output for pair ({i}, {i+1}):\", overlap_add_output)\n",
        "\n",
        "    # Save each overlap add output to a list\n",
        "    all_overlap_outputs.append(overlap_add_output)\n",
        "\n",
        "    # Append the output to the final result\n",
        "    final_result.extend(overlap_add_output)\n",
        "\n",
        "print(\"Final continuous array:\", final_result)\n",
        "print(\"All overlap-add outputs:\", all_overlap_outputs)\n"
      ],
      "metadata": {
        "colab": {
          "base_uri": "https://localhost:8080/"
        },
        "id": "KT99WCJcfKHC",
        "outputId": "3438c5a6-ee6c-4730-f7ca-3fbc4f3d37bc"
      },
      "execution_count": null,
      "outputs": [
        {
          "output_type": "stream",
          "name": "stdout",
          "text": [
            "Overlap-add output for pair (0, 1): [ 3.  4.  5.  6. 16. 18. 11. 12.]\n",
            "Overlap-add output for pair (1, 2): [24. 26. 15. 16.]\n",
            "Overlap-add output for pair (2, 3): [32. 34. 19. 20.]\n",
            "Final continuous array: [3.0, 4.0, 5.0, 6.0, 16.0, 18.0, 10.999999999999998, 11.999999999999998, 24.000000000000004, 26.0, 15.000000000000002, 16.0, 32.0, 34.00000000000001, 19.0, 20.0]\n",
            "All overlap-add outputs: [array([ 3.,  4.,  5.,  6., 16., 18., 11., 12.]), array([24., 26., 15., 16.]), array([32., 34., 19., 20.])]\n"
          ]
        }
      ]
    },
    {
      "cell_type": "code",
      "source": [],
      "metadata": {
        "id": "Vmqy7CD_rkT3"
      },
      "execution_count": null,
      "outputs": []
    }
  ]
}