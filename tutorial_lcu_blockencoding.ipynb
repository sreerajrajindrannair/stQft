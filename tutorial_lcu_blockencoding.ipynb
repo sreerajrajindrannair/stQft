{
  "cells": [
    {
      "cell_type": "code",
      "execution_count": 1,
      "metadata": {
        "colab": {
          "base_uri": "https://localhost:8080/"
        },
        "id": "JqCd8zsbUBcT",
        "outputId": "59304064-c605-4c65-97e4-a04d92c03178"
      },
      "outputs": [
        {
          "name": "stdout",
          "output_type": "stream",
          "text": [
            "Defaulting to user installation because normal site-packages is not writeable\n",
            "Requirement already satisfied: pennylane in /Users/sqnair/Library/Python/3.9/lib/python/site-packages (0.37.0)\n",
            "Requirement already satisfied: packaging in /Users/sqnair/Library/Python/3.9/lib/python/site-packages (from pennylane) (24.0)\n",
            "Requirement already satisfied: rustworkx in /Users/sqnair/Library/Python/3.9/lib/python/site-packages (from pennylane) (0.14.2)\n",
            "Requirement already satisfied: numpy<2.0 in /Users/sqnair/Library/Python/3.9/lib/python/site-packages (from pennylane) (1.26.4)\n",
            "Requirement already satisfied: cachetools in /Users/sqnair/Library/Python/3.9/lib/python/site-packages (from pennylane) (5.3.3)\n",
            "Requirement already satisfied: autograd in /Users/sqnair/Library/Python/3.9/lib/python/site-packages (from pennylane) (1.6.2)\n",
            "Requirement already satisfied: semantic-version>=2.7 in /Users/sqnair/Library/Python/3.9/lib/python/site-packages (from pennylane) (2.10.0)\n",
            "Requirement already satisfied: appdirs in /Users/sqnair/Library/Python/3.9/lib/python/site-packages (from pennylane) (1.4.4)\n",
            "Requirement already satisfied: autoray>=0.6.11 in /Users/sqnair/Library/Python/3.9/lib/python/site-packages (from pennylane) (0.6.12)\n",
            "Requirement already satisfied: requests in /Users/sqnair/Library/Python/3.9/lib/python/site-packages (from pennylane) (2.32.2)\n",
            "Requirement already satisfied: scipy in /Users/sqnair/Library/Python/3.9/lib/python/site-packages (from pennylane) (1.13.0)\n",
            "Requirement already satisfied: typing-extensions in /Users/sqnair/Library/Python/3.9/lib/python/site-packages (from pennylane) (4.11.0)\n",
            "Requirement already satisfied: networkx in /Users/sqnair/Library/Python/3.9/lib/python/site-packages (from pennylane) (3.2.1)\n",
            "Requirement already satisfied: pennylane-lightning>=0.37 in /Users/sqnair/Library/Python/3.9/lib/python/site-packages (from pennylane) (0.37.0)\n",
            "Requirement already satisfied: toml in /Users/sqnair/Library/Python/3.9/lib/python/site-packages (from pennylane) (0.10.2)\n",
            "Requirement already satisfied: future>=0.15.2 in /Library/Developer/CommandLineTools/Library/Frameworks/Python3.framework/Versions/3.9/lib/python3.9/site-packages (from autograd->pennylane) (0.18.2)\n",
            "Requirement already satisfied: idna<4,>=2.5 in /Users/sqnair/Library/Python/3.9/lib/python/site-packages (from requests->pennylane) (3.7)\n",
            "Requirement already satisfied: certifi>=2017.4.17 in /Users/sqnair/Library/Python/3.9/lib/python/site-packages (from requests->pennylane) (2024.2.2)\n",
            "Requirement already satisfied: charset-normalizer<4,>=2 in /Users/sqnair/Library/Python/3.9/lib/python/site-packages (from requests->pennylane) (3.3.2)\n",
            "Requirement already satisfied: urllib3<3,>=1.21.1 in /Users/sqnair/Library/Python/3.9/lib/python/site-packages (from requests->pennylane) (2.2.1)\n",
            "\u001b[33mWARNING: You are using pip version 21.2.4; however, version 24.1.2 is available.\n",
            "You should consider upgrading via the '/Library/Developer/CommandLineTools/usr/bin/python3 -m pip install --upgrade pip' command.\u001b[0m\n",
            "Note: you may need to restart the kernel to use updated packages.\n"
          ]
        }
      ],
      "source": [
        "pip install pennylane"
      ]
    },
    {
      "cell_type": "code",
      "execution_count": 2,
      "metadata": {
        "id": "YfdWjLd4T_1B"
      },
      "outputs": [],
      "source": [
        "# This cell is added by sphinx-gallery\n",
        "# It can be customized to whatever you like\n",
        "%matplotlib inline"
      ]
    },
    {
      "cell_type": "markdown",
      "metadata": {
        "id": "kr65r3HYT_1C"
      },
      "source": [
        "Linear combination of unitaries and block encodings\n",
        "===================================================\n",
        "\n",
        "If I (Juan Miguel) had to summarize quantum computing in one sentence,\n",
        "it would be this: information is encoded in quantum states and processed\n",
        "using [unitary\n",
        "operations](https://pennylane.ai/codebook/01-introduction-to-quantum-computing/03-unitary-matrices/).\n",
        "The challenge of quantum algorithms is to design and build these\n",
        "unitaries to perform interesting and useful tasks with the encoded\n",
        "information. My colleague [Nathan\n",
        "Wiebe](https://scholar.google.ca/citations?user=DSgKHOQAAAAJ&hl=en) once\n",
        "told me that some of his early research was motivated by a simple\n",
        "question: Quantum computers can implement products of unitaries \\-\\--\n",
        "after all, that\\'s how we build circuits from a [universal gate\n",
        "set](https://pennylane.ai/codebook/02-single-qubit-gates/04-universal-gate-sets/).\n",
        "But what about **sums of unitaries**? 🤔\n",
        "\n",
        "In this tutorial, we will teach you the basics of one of the most\n",
        "versatile tools in quantum algorithms: *linear combinations of\n",
        "unitaries*, or LCUs for short. You will also understand how to use LCUs\n",
        "to create another powerful building block of quantum algorithms: block\n",
        "encodings. Among their many uses, block encodings allow us to transform\n",
        "quantum states by non-unitary operators, and they are useful in a\n",
        "variety of contexts, perhaps most famously in\n",
        "[qubitization](https://arxiv.org/abs/1610.06546) and the [quantum\n",
        "singular value transformation\n",
        "(QSVT)](https://pennylane.ai/qml/demos/tutorial_intro_qsvt).\n",
        "\n",
        "|\n",
        "\n",
        "![](../_static/demonstration_assets/lcu_blockencoding/thumbnail_lcu_blockencoding.png){.align-center\n",
        "width=\"50.0%\"}\n",
        "\n",
        "|\n",
        "\n",
        "LCUs\n",
        "----\n",
        "\n",
        "Linear combinations of unitaries are straightforward \\-\\-- it's already\n",
        "explained in the name: we decompose operators into a weighted sum of\n",
        "unitaries. Mathematically, this means expressing an operator $A$ in\n",
        "terms of coefficients $\\alpha_{k}$ and unitaries $U_{k}$ as\n",
        "\n",
        "$$A =  \\sum_{k=0}^{N-1} \\alpha_k U_k.$$\n",
        "\n",
        "A general way to build LCUs is to employ properties of the **Pauli\n",
        "basis**. This is the set of all products of Pauli matrices\n",
        "$\\{I, X, Y, Z\\}$. For the space of operators acting on $n$ qubits, this\n",
        "set forms a complete basis. Thus, any operator can be expressed in the\n",
        "Pauli basis, which immediately gives an LCU decomposition. PennyLane\n",
        "allows you to decompose any matrix into the Pauli basis using the\n",
        "`~.pennylane.pauli_decompose`{.interpreted-text role=\"func\"} function.\n",
        "The coefficients $\\alpha_k$ and the unitaries $U_k$ from the\n",
        "decomposition can be accessed directly from the result. We show how to\n",
        "do this in the code below for a simple example.\n"
      ]
    },
    {
      "cell_type": "code",
      "execution_count": 3,
      "metadata": {
        "colab": {
          "base_uri": "https://localhost:8080/"
        },
        "id": "XWNrZtfsT_1D",
        "outputId": "9debf8f9-ba95-465d-8cbc-e09406a4d547"
      },
      "outputs": [
        {
          "name": "stdout",
          "output_type": "stream",
          "text": [
            "LCU decomposition:\n",
            " 0.25 * (I(0) @ Z(1)) + 0.75 * (X(0) @ X(1))\n",
            "Coefficients:\n",
            " [0.25 0.75]\n",
            "Unitaries:\n",
            " [I(0) @ Z(1), X(0) @ X(1)]\n"
          ]
        },
        {
          "name": "stderr",
          "output_type": "stream",
          "text": [
            "/Users/sqnair/Library/Python/3.9/lib/python/site-packages/urllib3/__init__.py:35: NotOpenSSLWarning: urllib3 v2 only supports OpenSSL 1.1.1+, currently the 'ssl' module is compiled with 'LibreSSL 2.8.3'. See: https://github.com/urllib3/urllib3/issues/3020\n",
            "  warnings.warn(\n"
          ]
        }
      ],
      "source": [
        "import numpy as np\n",
        "import pennylane as qml\n",
        "\n",
        "a = 0.25\n",
        "b = 0.75\n",
        "\n",
        "# matrix to be decomposed\n",
        "A = np.array(\n",
        "    [[a,  0, 0,  b],\n",
        "     [0, -a, b,  0],\n",
        "     [0,  b, a,  0],\n",
        "     [b,  0, 0, -a]]\n",
        ")\n",
        "\n",
        "LCU = qml.pauli_decompose(A)\n",
        "LCU_coeffs, LCU_ops = LCU.terms()\n",
        "\n",
        "print(f\"LCU decomposition:\\n {LCU}\")\n",
        "print(f\"Coefficients:\\n {LCU_coeffs}\")\n",
        "print(f\"Unitaries:\\n {LCU_ops}\")"
      ]
    },
    {
      "cell_type": "markdown",
      "metadata": {
        "id": "VaK5-MlMT_1D"
      },
      "source": [
        "PennyLane uses a smart Pauli decomposition based on vectorizing the\n",
        "matrix and exploiting properties of the [Walsh-Hadamard\n",
        "transform](https://en.wikipedia.org/wiki/Hadamard_transform), but the\n",
        "cost still scales as \\~ $O(n 4^n)$ for $n$ qubits, so be careful.\n",
        "\n",
        "It\\'s good to remember that many types of Hamiltonians are already\n",
        "compactly expressed in the Pauli basis, for example in various [Ising\n",
        "models](https://en.wikipedia.org/wiki/Ising_model) and molecular\n",
        "Hamiltonians using the [Jordan-Wigner\n",
        "transformation](https://en.wikipedia.org/wiki/Jordan%E2%80%93Wigner_transformation).\n",
        "This is very useful since we get an LCU decomposition for free.\n",
        "\n",
        "Block Encodings\n",
        "===============\n",
        "\n",
        "Going from an LCU to a quantum circuit that applies the associated\n",
        "operator is also straightforward once you know the trick: to prepare,\n",
        "select, and unprepare.\n",
        "\n",
        "Starting from the LCU decomposition $A =  \\sum_{k=0}^{N-1} \\alpha_k U_k$\n",
        "with positive, real coefficients, we define the prepare (PREP) operator:\n",
        "\n",
        "$$\\text{PREP}|0\\rangle = \\sum_k \\sqrt{\\frac{|\\alpha_k|}{\\lambda}}|k\\rangle,$$\n",
        "\n",
        "where $\\lambda$ is a normalization constant defined as\n",
        "$\\lambda = \\sum_k |\\alpha_k|$, and the select (SEL) operator:\n",
        "\n",
        "$$\\text{SEL}|k\\rangle |\\psi\\rangle = |k\\rangle U_k |\\psi\\rangle.$$\n",
        "\n",
        "They are aptly named: PREP prepares a state whose amplitudes are\n",
        "determined by the coefficients of the LCU, and SEL selects which unitary\n",
        "is applied.\n",
        "\n",
        "::: {.note}\n",
        "::: {.title}\n",
        "Note\n",
        ":::\n",
        "\n",
        "Some important details about the equations above:\n",
        "\n",
        "-   $SEL$ acts this way on any state $|\\psi\\rangle$\n",
        "-   We are using $|0\\rangle$ as shorthand to denote the all-zero state\n",
        "    for multiple qubits.\n",
        ":::\n",
        "\n",
        "The final trick is to combine PREP and SEL to make $A$ appear 🪄:\n",
        "\n",
        "$$\\langle 0| \\text{PREP}^\\dagger \\cdot \\text{SEL} \\cdot \\text{PREP} |0\\rangle|\\psi\\rangle = \\frac{A}{\\lambda} |\\psi\\rangle.$$\n",
        "\n",
        "If you\\'re up for it, it\\'s illuminating to go through the math and show\n",
        "how $A$ comes out on the right side of the equation. (Tip: calculate the\n",
        "action of $\\text{PREP}^\\dagger$ on $\\langle 0|$, not on the output state\n",
        "after $\\text{SEL} \\cdot \\text{PREP}$).\n",
        "\n",
        "Otherwise, the intuitive way to understand this equation is that we\n",
        "apply PREP, SEL, and then invert PREP. If we measure $|0\\rangle$ in the\n",
        "auxiliary qubits, the input state $|\\psi\\rangle$ will be transformed by\n",
        "$A$ (up to normalization). The figure below shows this as a circuit with\n",
        "four unitaries in SEL.\n",
        "\n",
        "|\n",
        "\n",
        "![](../_static/demonstration_assets/lcu_blockencoding/schematic.png){.align-center\n",
        "width=\"50.0%\"}\n",
        "\n",
        "|\n",
        "\n",
        "The circuit\n",
        "\n",
        "$$U = \\text{PREP}^\\dagger \\cdot \\text{SEL} \\cdot \\text{PREP}$$\n",
        "\n",
        "is a **block encoding** of $A$, up to normalization. The reason for this\n",
        "name is that if we write $U$ as a matrix, the operator $A$ is encoded\n",
        "inside a block of $U$ as\n",
        "\n",
        "$$\\begin{aligned}\n",
        "U = \\begin{bmatrix} A & \\cdot \\\\ \\cdot & \\cdot \\end{bmatrix}.\n",
        "\\end{aligned}$$\n",
        "\n",
        "This block is defined by the subspace of all states where the auxiliary\n",
        "qubits are in state $|0\\rangle$.\n",
        "\n",
        "PennyLane supports the direct implementation of\n",
        "[prepare](https://docs.pennylane.ai/en/stable/code/api/pennylane.StatePrep.html)\n",
        "and\n",
        "[select](https://docs.pennylane.ai/en/stable/code/api/pennylane.Select.html)\n",
        "operators. We\\'ll go through them individually and use them to construct\n",
        "a block encoding circuit. Prepare circuits can be constructed using the\n",
        "`~.pennylane.StatePrep`{.interpreted-text role=\"class\"} operation, which\n",
        "takes the normalized target state as input:\n"
      ]
    },
    {
      "cell_type": "code",
      "execution_count": 4,
      "metadata": {
        "colab": {
          "base_uri": "https://localhost:8080/"
        },
        "id": "gK09gD4HT_1D",
        "outputId": "f93080d8-d78e-4bad-f700-6abad84a17e0"
      },
      "outputs": [
        {
          "name": "stdout",
          "output_type": "stream",
          "text": [
            "Target state:  [0.5       0.8660254]\n",
            "Output state:  [0.5       0.8660254]\n"
          ]
        }
      ],
      "source": [
        "dev1 = qml.device(\"default.qubit\", wires=1)\n",
        "\n",
        "# normalized square roots of coefficients\n",
        "alphas = (np.sqrt(LCU_coeffs) / np.linalg.norm(np.sqrt(LCU_coeffs)))\n",
        "\n",
        "\n",
        "@qml.qnode(dev1)\n",
        "def prep_circuit():\n",
        "    qml.StatePrep(alphas, wires=0)\n",
        "    return qml.state()\n",
        "\n",
        "\n",
        "print(\"Target state: \", alphas)\n",
        "print(\"Output state: \", np.real(prep_circuit()))"
      ]
    },
    {
      "cell_type": "markdown",
      "metadata": {
        "id": "UWxZLrQXT_1D"
      },
      "source": [
        "Similarly, select circuits can be implemented using\n",
        "`~.pennylane.Select`{.interpreted-text role=\"class\"}, which takes the\n",
        "target unitaries as input. We specify the control wires directly, but\n",
        "the system wires are inherited from the unitaries. Since\n",
        "`~.pennylane.pauli_decompose`{.interpreted-text role=\"func\"} uses a\n",
        "canonical wire ordering, we first map the wires to those used for the\n",
        "system register in our circuit:\n"
      ]
    },
    {
      "cell_type": "code",
      "execution_count": 5,
      "metadata": {
        "colab": {
          "base_uri": "https://localhost:8080/",
          "height": 436
        },
        "id": "rvm_40D0T_1D",
        "outputId": "24b69cea-6acf-4398-e714-547e6dd13c3e"
      },
      "outputs": [
        {
          "name": "stderr",
          "output_type": "stream",
          "text": [
            "Matplotlib is building the font cache; this may take a moment.\n"
          ]
        },
        {
          "data": {
            "image/png": "[encoded data removed]",
            "text/plain": [
              "<Figure size 500x400 with 1 Axes>"
            ]
          },
          "metadata": {},
          "output_type": "display_data"
        }
      ],
      "source": [
        "import matplotlib.pyplot as plt\n",
        "\n",
        "dev2 = qml.device(\"default.qubit\", wires=3)\n",
        "\n",
        "# unitaries\n",
        "ops = LCU_ops\n",
        "# relabeling wires: 0 → 1, and 1 → 2\n",
        "unitaries = [qml.map_wires(op, {0: 1, 1: 2}) for op in ops]\n",
        "\n",
        "\n",
        "@qml.qnode(dev2)\n",
        "def sel_circuit(qubit_value):\n",
        "    qml.BasisState(qubit_value, wires=0)\n",
        "    qml.Select(unitaries, control=0)\n",
        "    return qml.expval(qml.PauliZ(2))\n",
        "\n",
        "qml.draw_mpl(sel_circuit, style='pennylane')([0])\n",
        "plt.show()"
      ]
    },
    {
      "cell_type": "markdown",
      "metadata": {
        "id": "EQgyXXHaT_1D"
      },
      "source": [
        "Based on the controlled operations, the circuit above will flip the\n",
        "measured qubit if the input is $|1\\rangle$ and leave it unchanged if the\n",
        "input is $|0\\rangle$. The output expectation values correspond to these\n",
        "states:\n"
      ]
    },
    {
      "cell_type": "code",
      "execution_count": 6,
      "metadata": {
        "colab": {
          "base_uri": "https://localhost:8080/"
        },
        "id": "he6NZv5yT_1D",
        "outputId": "2886defe-38d5-4be4-bb58-29e6f9db0e3e"
      },
      "outputs": [
        {
          "name": "stdout",
          "output_type": "stream",
          "text": [
            "Expectation value for input |0>: 1.0\n",
            "Expectation value for input |1>: -1.0\n"
          ]
        }
      ],
      "source": [
        "print('Expectation value for input |0>:', sel_circuit([0]))\n",
        "print('Expectation value for input |1>:', sel_circuit([1]))"
      ]
    },
    {
      "cell_type": "markdown",
      "metadata": {
        "id": "SjokVP3xT_1E"
      },
      "source": [
        "We can now combine these to construct a full LCU circuit. Here we make\n",
        "use of the `~.pennylane.adjoint`{.interpreted-text role=\"func\"} function\n",
        "as a convenient way to invert the prepare circuit. We have chosen an\n",
        "input matrix that is already normalized, so it can be seen appearing\n",
        "directly in the top-left block of the unitary describing the full\n",
        "circuit \\-\\-- the mark of a successful block encoding.\n"
      ]
    },
    {
      "cell_type": "code",
      "execution_count": 7,
      "metadata": {
        "colab": {
          "base_uri": "https://localhost:8080/"
        },
        "id": "aR1NR32fT_1E",
        "outputId": "44effe29-ac7e-4251-f72b-6a53353d0726"
      },
      "outputs": [
        {
          "name": "stdout",
          "output_type": "stream",
          "text": [
            "A:\n",
            " [[ 0.25  0.    0.    0.75]\n",
            " [ 0.   -0.25  0.75  0.  ]\n",
            " [ 0.    0.75  0.25  0.  ]\n",
            " [ 0.75  0.    0.   -0.25]] \n",
            "\n",
            "Block-encoded A:\n",
            "\n",
            "[[ 0.25  0.    0.    0.75 -0.43  0.    0.    0.43]\n",
            " [ 0.   -0.25  0.75  0.    0.    0.43  0.43  0.  ]\n",
            " [ 0.    0.75  0.25  0.    0.    0.43 -0.43  0.  ]\n",
            " [ 0.75  0.    0.   -0.25  0.43  0.    0.    0.43]\n",
            " [-0.43  0.    0.    0.43  0.75  0.    0.    0.25]\n",
            " [ 0.    0.43  0.43  0.    0.   -0.75  0.25  0.  ]\n",
            " [ 0.    0.43 -0.43  0.    0.    0.25  0.75  0.  ]\n",
            " [ 0.43  0.    0.    0.43  0.25  0.    0.   -0.75]]\n"
          ]
        }
      ],
      "source": [
        "@qml.qnode(dev2)\n",
        "def lcu_circuit():  # block_encode\n",
        "    # PREP\n",
        "    qml.StatePrep(alphas, wires=0)\n",
        "\n",
        "    # SEL\n",
        "    qml.Select(unitaries, control=0)\n",
        "\n",
        "    # PREP_dagger\n",
        "    qml.adjoint(qml.StatePrep(alphas, wires=0))\n",
        "    return qml.state()\n",
        "\n",
        "\n",
        "output_matrix = qml.matrix(lcu_circuit)()\n",
        "print(\"A:\\n\", A, \"\\n\")\n",
        "print(\"Block-encoded A:\\n\")\n",
        "print(np.real(np.round(output_matrix,2)))"
      ]
    },
    {
      "cell_type": "code",
      "execution_count": 8,
      "metadata": {
        "colab": {
          "base_uri": "https://localhost:8080/",
          "height": 337
        },
        "id": "tONRxPTBUigS",
        "outputId": "4ce5712e-9f82-43f3-8715-6ba4ac80bd4e"
      },
      "outputs": [
        {
          "data": {
            "image/png": "[encoded data removed]",
            "text/plain": [
              "<Figure size 600x400 with 1 Axes>"
            ]
          },
          "metadata": {},
          "output_type": "display_data"
        }
      ],
      "source": [
        "qml.draw_mpl(lcu_circuit, style='pennylane')()\n",
        "plt.show()"
      ]
    },
    {
      "cell_type": "markdown",
      "metadata": {
        "id": "dyo1udGAT_1E"
      },
      "source": [
        "Application: Projectors\n",
        "=======================\n",
        "\n",
        "Suppose we wanted to project our quantum state $|\\psi\\rangle$ onto the\n",
        "state $|\\phi\\rangle$. We could accomplish this by applying the projector\n",
        "$| \\phi \\rangle\\langle \\phi |$ to $|\\psi\\rangle$. However, we cannot\n",
        "directly apply projectors as gates in our quantum circuits because they\n",
        "are **not** unitary operations. We can instead use a simple LCU\n",
        "decomposition which holds for any projector:\n",
        "\n",
        "$$| \\phi \\rangle\\langle \\phi | = \\frac{1}{2} \\cdot \\mathbb{I} + \\frac{1}{2} \\cdot (2 \\cdot | \\phi \\rangle\\langle \\phi | - \\mathbb{I})$$\n",
        "\n",
        "Both terms in the expression above are unitary (try proving it for\n",
        "yourself). We can now use this LCU decomposition to block-encode the\n",
        "projector! As an example, let\\'s block-encode the projector\n",
        "$| 0 \\rangle\\langle 0 |$ that projects a state to the $|0\\rangle$ state:\n",
        "\n",
        "$$\\begin{aligned}\n",
        "| 0 \\rangle\\langle 0 | =  \\begin{bmatrix}\n",
        "1 & 0 \\\\\n",
        "0 & 0 \\\\\n",
        "\\end{bmatrix}.\n",
        "\\end{aligned}$$\n"
      ]
    },
    {
      "cell_type": "code",
      "execution_count": 9,
      "metadata": {
        "id": "OB1n8maYT_1E"
      },
      "outputs": [],
      "source": [
        "coeffs = np.array([1/2, 1/2])\n",
        "alphas = np.sqrt(coeffs) / np.linalg.norm(np.sqrt(coeffs))\n",
        "\n",
        "proj_unitaries = [qml.Identity(0), qml.PauliZ(0)]"
      ]
    },
    {
      "cell_type": "markdown",
      "metadata": {
        "id": "VBgnjMomT_1E"
      },
      "source": [
        "Note that the second term in our LCU simplifies to a Pauli $Z$\n",
        "operation. We can now construct a full LCU circuit and verify that\n",
        "$| 0 \\rangle\\langle 0 |$ is block-encoded in the top left block of the\n",
        "matrix.\n"
      ]
    },
    {
      "cell_type": "code",
      "execution_count": 10,
      "metadata": {
        "colab": {
          "base_uri": "https://localhost:8080/"
        },
        "id": "dRWFfF1NT_1E",
        "outputId": "24fdd1ab-aa2d-4672-9162-6888c14cd5b2"
      },
      "outputs": [
        {
          "name": "stdout",
          "output_type": "stream",
          "text": [
            "Block-encoded projector:\n",
            "\n",
            "[[ 1.  0. -0.  0.]\n",
            " [ 0. -0.  0. -1.]\n",
            " [-0.  0.  1.  0.]\n",
            " [ 0. -1.  0.  0.]]\n"
          ]
        }
      ],
      "source": [
        "def lcu_circuit():  # block_encode\n",
        "    # PREP\n",
        "    qml.StatePrep(alphas, wires=\"ancilla\")\n",
        "\n",
        "    # SEL\n",
        "    qml.Select(proj_unitaries, control=\"ancilla\")\n",
        "\n",
        "    # PREP_dagger\n",
        "    qml.adjoint(qml.StatePrep(alphas, wires=\"ancilla\"))\n",
        "    return qml.state()\n",
        "\n",
        "\n",
        "output_matrix = qml.matrix(lcu_circuit, wire_order=[\"ancilla\", 0])()\n",
        "print(\"Block-encoded projector:\\n\")\n",
        "print(np.real(np.round(output_matrix,2)))"
      ]
    },
    {
      "cell_type": "markdown",
      "metadata": {
        "id": "MXO2LZQ3T_1E"
      },
      "source": [
        "Final thoughts\n",
        "==============\n",
        "\n",
        "LCUs and block encodings are often associated with advanced algorithms\n",
        "that require the full power of fault-tolerant quantum computers. The\n",
        "truth is that they are basic constructions with broad applicability that\n",
        "can be useful for all kinds of hardware and simulators. If you\\'re\n",
        "working on quantum algorithms and applications in any capacity, these\n",
        "are techniques that you should master, and PennyLane is equipped with\n",
        "the tools to help you get there.\n"
      ]
    },
    {
      "cell_type": "markdown",
      "metadata": {
        "id": "QuiWLNDBT_1E"
      },
      "source": [
        "About the authors\n",
        "=================\n"
      ]
    }
  ],
  "metadata": {
    "colab": {
      "provenance": []
    },
    "kernelspec": {
      "display_name": "Python 3",
      "language": "python",
      "name": "python3"
    },
    "language_info": {
      "codemirror_mode": {
        "name": "ipython",
        "version": 3
      },
      "file_extension": ".py",
      "mimetype": "text/x-python",
      "name": "python",
      "nbconvert_exporter": "python",
      "pygments_lexer": "ipython3",
      "version": "3.9.6"
    }
  },
  "nbformat": 4,
  "nbformat_minor": 0
}
