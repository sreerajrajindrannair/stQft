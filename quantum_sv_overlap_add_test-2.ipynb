{
  "nbformat": 4,
  "nbformat_minor": 0,
  "metadata": {
    "colab": {
      "provenance": []
    },
    "kernelspec": {
      "name": "python3",
      "display_name": "Python 3"
    },
    "language_info": {
      "name": "python"
    }
  },
  "cells": [
    {
      "cell_type": "code",
      "execution_count": null,
      "metadata": {
        "colab": {
          "base_uri": "https://localhost:8080/"
        },
        "id": "e-m201Dp1TOT",
        "outputId": "0f454007-376e-4b72-c5e7-7ac9ce1cc6f2"
      },
      "outputs": [
        {
          "output_type": "stream",
          "name": "stdout",
          "text": [
            "Requirement already satisfied: qiskit in /usr/local/lib/python3.10/dist-packages (1.2.0)\n",
            "Requirement already satisfied: rustworkx>=0.15.0 in /usr/local/lib/python3.10/dist-packages (from qiskit) (0.15.1)\n",
            "Requirement already satisfied: numpy<3,>=1.17 in /usr/local/lib/python3.10/dist-packages (from qiskit) (1.26.4)\n",
            "Requirement already satisfied: scipy>=1.5 in /usr/local/lib/python3.10/dist-packages (from qiskit) (1.13.1)\n",
            "Requirement already satisfied: sympy>=1.3 in /usr/local/lib/python3.10/dist-packages (from qiskit) (1.13.2)\n",
            "Requirement already satisfied: dill>=0.3 in /usr/local/lib/python3.10/dist-packages (from qiskit) (0.3.8)\n",
            "Requirement already satisfied: python-dateutil>=2.8.0 in /usr/local/lib/python3.10/dist-packages (from qiskit) (2.8.2)\n",
            "Requirement already satisfied: stevedore>=3.0.0 in /usr/local/lib/python3.10/dist-packages (from qiskit) (5.2.0)\n",
            "Requirement already satisfied: typing-extensions in /usr/local/lib/python3.10/dist-packages (from qiskit) (4.12.2)\n",
            "Requirement already satisfied: symengine>=0.11 in /usr/local/lib/python3.10/dist-packages (from qiskit) (0.11.0)\n",
            "Requirement already satisfied: six>=1.5 in /usr/local/lib/python3.10/dist-packages (from python-dateutil>=2.8.0->qiskit) (1.16.0)\n",
            "Requirement already satisfied: pbr!=2.1.0,>=2.0.0 in /usr/local/lib/python3.10/dist-packages (from stevedore>=3.0.0->qiskit) (6.0.0)\n",
            "Requirement already satisfied: mpmath<1.4,>=1.1.0 in /usr/local/lib/python3.10/dist-packages (from sympy>=1.3->qiskit) (1.3.0)\n"
          ]
        }
      ],
      "source": [
        "pip install qiskit"
      ]
    },
    {
      "cell_type": "code",
      "execution_count": null,
      "metadata": {
        "colab": {
          "base_uri": "https://localhost:8080/"
        },
        "id": "8zn58gkH1YCs",
        "outputId": "23bf2f79-c172-4ce8-e0e8-b2a695025794"
      },
      "outputs": [
        {
          "output_type": "stream",
          "name": "stdout",
          "text": [
            "Requirement already satisfied: qiskit-aer in /usr/local/lib/python3.10/dist-packages (0.14.2)\n",
            "Requirement already satisfied: qiskit>=0.45.2 in /usr/local/lib/python3.10/dist-packages (from qiskit-aer) (1.2.0)\n",
            "Requirement already satisfied: numpy>=1.16.3 in /usr/local/lib/python3.10/dist-packages (from qiskit-aer) (1.26.4)\n",
            "Requirement already satisfied: scipy>=1.0 in /usr/local/lib/python3.10/dist-packages (from qiskit-aer) (1.13.1)\n",
            "Requirement already satisfied: psutil>=5 in /usr/local/lib/python3.10/dist-packages (from qiskit-aer) (5.9.5)\n",
            "Requirement already satisfied: rustworkx>=0.15.0 in /usr/local/lib/python3.10/dist-packages (from qiskit>=0.45.2->qiskit-aer) (0.15.1)\n",
            "Requirement already satisfied: sympy>=1.3 in /usr/local/lib/python3.10/dist-packages (from qiskit>=0.45.2->qiskit-aer) (1.13.2)\n",
            "Requirement already satisfied: dill>=0.3 in /usr/local/lib/python3.10/dist-packages (from qiskit>=0.45.2->qiskit-aer) (0.3.8)\n",
            "Requirement already satisfied: python-dateutil>=2.8.0 in /usr/local/lib/python3.10/dist-packages (from qiskit>=0.45.2->qiskit-aer) (2.8.2)\n",
            "Requirement already satisfied: stevedore>=3.0.0 in /usr/local/lib/python3.10/dist-packages (from qiskit>=0.45.2->qiskit-aer) (5.2.0)\n",
            "Requirement already satisfied: typing-extensions in /usr/local/lib/python3.10/dist-packages (from qiskit>=0.45.2->qiskit-aer) (4.12.2)\n",
            "Requirement already satisfied: symengine>=0.11 in /usr/local/lib/python3.10/dist-packages (from qiskit>=0.45.2->qiskit-aer) (0.11.0)\n",
            "Requirement already satisfied: six>=1.5 in /usr/local/lib/python3.10/dist-packages (from python-dateutil>=2.8.0->qiskit>=0.45.2->qiskit-aer) (1.16.0)\n",
            "Requirement already satisfied: pbr!=2.1.0,>=2.0.0 in /usr/local/lib/python3.10/dist-packages (from stevedore>=3.0.0->qiskit>=0.45.2->qiskit-aer) (6.0.0)\n",
            "Requirement already satisfied: mpmath<1.4,>=1.1.0 in /usr/local/lib/python3.10/dist-packages (from sympy>=1.3->qiskit>=0.45.2->qiskit-aer) (1.3.0)\n"
          ]
        }
      ],
      "source": [
        "pip install qiskit-aer"
      ]
    },
    {
      "cell_type": "code",
      "execution_count": null,
      "metadata": {
        "colab": {
          "base_uri": "https://localhost:8080/"
        },
        "id": "nHNtEusB1Z_i",
        "outputId": "e898be16-7f6f-4f65-a2b5-37837777ae50"
      },
      "outputs": [
        {
          "output_type": "stream",
          "name": "stdout",
          "text": [
            "Requirement already satisfied: pylatexenc in /usr/local/lib/python3.10/dist-packages (2.10)\n"
          ]
        }
      ],
      "source": [
        "!pip install pylatexenc"
      ]
    },
    {
      "cell_type": "code",
      "execution_count": null,
      "metadata": {
        "id": "KJQfixTf1b06"
      },
      "outputs": [],
      "source": [
        "from qiskit_aer import Aer\n",
        "from qiskit import QuantumCircuit, transpile, assemble\n",
        "from qiskit.quantum_info import Statevector\n",
        "from qiskit.visualization import plot_histogram, plot_bloch_multivector\n",
        "from qiskit.circuit.library import QFT , CCXGate, UnitaryGate\n",
        "import numpy as np\n",
        "import matplotlib.pyplot as plt"
      ]
    },
    {
      "cell_type": "code",
      "source": [
        "# Initialize parameters\n",
        "# window_scaling = 2.0062463823972267\n",
        "padded_result_coeffs = [2.84459484e-01, -1.60769035e-01, -6.52830735e-01, -1.40302564e-01,\n",
        "    4.04440838e-01, -5.49152208e-02, -5.29882315e-01,  7.34968555e-16]\n",
        "\n",
        "num_qubits = int(np.log2(len(padded_result_coeffs)))\n",
        "qc_test = QuantumCircuit(num_qubits + 1, 1)  # Increased from num_qubits*2 to num_qubits*3 for ancilla\n",
        "\n",
        "# Inverted initialization\n",
        "# qc_test.initialize(padded_result_coeffs, range(1,num_qubits+1))\n",
        "qc_test.initialize(padded_result_coeffs, range(0,num_qubits))\n",
        "\n",
        "\n",
        "# qc_test.append(QFT(num_qubits), range(num_qubits))\n",
        "# qc_test.append(QFT(num_qubits), range(num_qubits, 2 * num_qubits))\n",
        "\n",
        "# New code with CCX gates\n",
        "qc_test.barrier()\n",
        "\n",
        "qc_test.cx(2, 3)"
      ],
      "metadata": {
        "colab": {
          "base_uri": "https://localhost:8080/"
        },
        "id": "wtwJ6_6JUn2z",
        "outputId": "c81d3007-901f-4fde-dcd5-a3b0745b5e0c"
      },
      "execution_count": null,
      "outputs": [
        {
          "output_type": "execute_result",
          "data": {
            "text/plain": [
              "<qiskit.circuit.instructionset.InstructionSet at 0x7a76a1424fa0>"
            ]
          },
          "metadata": {},
          "execution_count": 19
        }
      ]
    },
    {
      "cell_type": "code",
      "source": [
        "qc_test.draw('mpl')"
      ],
      "metadata": {
        "colab": {
          "base_uri": "https://localhost:8080/",
          "height": 384
        },
        "id": "FgS_Am-VU3-H",
        "outputId": "4be751b4-ee3d-483a-cf31-190d741183e5"
      },
      "execution_count": null,
      "outputs": [
        {
          "output_type": "execute_result",
          "data": {
            "text/plain": [
              "<Figure size 789.163x451.5 with 1 Axes>"
            ],
            "image/png": "[encoded data removed]"
          },
          "metadata": {},
          "execution_count": 20
        }
      ]
    },
    {
      "cell_type": "code",
      "source": [
        "# Use the Aer's Statevector simulator\n",
        "simulator = Aer.get_backend('statevector_simulator')\n",
        "\n",
        "# Transpile the quantum circuit for the simulator\n",
        "compiled_circuit = transpile(qc_test, simulator)\n",
        "\n",
        "# Run the simulation\n",
        "result = simulator.run(compiled_circuit).result()\n",
        "\n",
        "# Get the final statevector\n",
        "statevector = result.get_statevector()\n",
        "\n",
        "# Print the statevector\n",
        "print(\"Final Statevector:\", statevector)\n",
        "\n",
        "[2.84459484e-01, -1.60769035e-01, -6.52830735e-01, -1.40302564e-01,\n",
        "    4.04440838e-01, -5.49152208e-02, -5.29882315e-01,  7.34968555e-16]"
      ],
      "metadata": {
        "colab": {
          "base_uri": "https://localhost:8080/"
        },
        "id": "Y3OR9ePcac_q",
        "outputId": "edef023f-f73e-47df-8bd4-1ab9d4bfb509"
      },
      "execution_count": null,
      "outputs": [
        {
          "output_type": "stream",
          "name": "stdout",
          "text": [
            "Final Statevector: Statevector([ 2.84459484e-01+0.j, -1.60769035e-01+0.j, -6.52830735e-01+0.j,\n",
            "             -1.40302564e-01+0.j,  0.00000000e+00+0.j, -0.00000000e+00+0.j,\n",
            "             -0.00000000e+00+0.j,  0.00000000e+00+0.j,  0.00000000e+00+0.j,\n",
            "             -0.00000000e+00+0.j, -0.00000000e+00+0.j, -0.00000000e+00+0.j,\n",
            "              4.04440838e-01+0.j, -5.49152208e-02+0.j, -5.29882315e-01+0.j,\n",
            "              7.34968555e-16+0.j],\n",
            "            dims=(2, 2, 2, 2))\n"
          ]
        },
        {
          "output_type": "execute_result",
          "data": {
            "text/plain": [
              "[0.284459484,\n",
              " -0.160769035,\n",
              " -0.652830735,\n",
              " -0.140302564,\n",
              " 0.404440838,\n",
              " -0.0549152208,\n",
              " -0.529882315,\n",
              " 7.34968555e-16]"
            ]
          },
          "metadata": {},
          "execution_count": 21
        }
      ]
    },
    {
      "cell_type": "code",
      "source": [
        "# [[1, 0, 0, 0, 0, 0, 0, 0,]\n",
        "#  [0, 1, 0, 0, 0, 0, 0, 0,]\n",
        "#  [0, 0, 0, 0, 1, 0, 0, 0,]\n",
        "#  [0, 0, 0, 0, 0, 1, 0, 0,]\n",
        "#  [0, 0, 1, 0, 0, 0, 0, 0,]\n",
        "#  [0, 0, 0, 1, 0, 0, 0, 0,]\n",
        "#  [0, 0, 0, 0, 0, 0, 1, 0,]\n",
        "#  [0, 0, 0, 0, 0, 0, 0, 1]]\n",
        "from qiskit import QuantumCircuit\n",
        "from qiskit.circuit.library import UnitaryGate\n",
        "import numpy as np\n",
        "\n",
        "# Define the permutation matrix\n",
        "perm_matrix = np.array([\n",
        "    [1, 0, 0, 0, 0, 0, 0, 0],\n",
        "    [0, 1, 0, 0, 0, 0, 0, 0],\n",
        "    [0, 0, 0, 0, 1, 0, 0, 0],\n",
        "    [0, 0, 0, 0, 0, 1, 0, 0],\n",
        "    [0, 0, 1, 0, 0, 0, 0, 0],\n",
        "    [0, 0, 0, 1, 0, 0, 0, 0],\n",
        "    [0, 0, 0, 0, 0, 0, 1, 0],\n",
        "    [0, 0, 0, 0, 0, 0, 0, 1]\n",
        "])\n",
        "\n",
        "# Create the unitary gate from the permutation matrix\n",
        "unitary_gate = UnitaryGate(perm_matrix)\n",
        "\n",
        "# Create a controlled version of the unitary gate\n",
        "# controlled_gate = unitary_gate.control()\n",
        "\n",
        "# Initialize a quantum circuit with enough qubits\n",
        "qc = QuantumCircuit(3)  # Adjust the number of qubits as needed, 4 for controlled version\n",
        "\n",
        "# Apply the controlled gate (Assume control qubit is 0 and target qubits are 1, 2, 3)\n",
        "# qc.append(controlled_gate, [0, 1, 2, 3])\n",
        "qc.append(unitary_gate)\n",
        "\n",
        "# Print the quantum circuit\n",
        "print(qc)"
      ],
      "metadata": {
        "colab": {
          "base_uri": "https://localhost:8080/",
          "height": 356
        },
        "id": "3oe0nzQ_U7nY",
        "outputId": "8b169268-b024-460c-dd40-9fe1d32e4c3e"
      },
      "execution_count": null,
      "outputs": [
        {
          "output_type": "error",
          "ename": "CircuitError",
          "evalue": "'The amount of qubit(0)/clbit(0) arguments does not match the gate expectation (3).'",
          "traceback": [
            "\u001b[0;31m---------------------------------------------------------------------------\u001b[0m",
            "\u001b[0;31mCircuitError\u001b[0m                              Traceback (most recent call last)",
            "\u001b[0;32m<ipython-input-29-f2ed8c03c146>\u001b[0m in \u001b[0;36m<cell line: 36>\u001b[0;34m()\u001b[0m\n\u001b[1;32m     34\u001b[0m \u001b[0;31m# Apply the controlled gate (Assume control qubit is 0 and target qubits are 1, 2, 3)\u001b[0m\u001b[0;34m\u001b[0m\u001b[0;34m\u001b[0m\u001b[0m\n\u001b[1;32m     35\u001b[0m \u001b[0;31m# qc.append(controlled_gate, [0, 1, 2, 3])\u001b[0m\u001b[0;34m\u001b[0m\u001b[0;34m\u001b[0m\u001b[0m\n\u001b[0;32m---> 36\u001b[0;31m \u001b[0mqc\u001b[0m\u001b[0;34m.\u001b[0m\u001b[0mappend\u001b[0m\u001b[0;34m(\u001b[0m\u001b[0munitary_gate\u001b[0m\u001b[0;34m)\u001b[0m\u001b[0;34m\u001b[0m\u001b[0;34m\u001b[0m\u001b[0m\n\u001b[0m\u001b[1;32m     37\u001b[0m \u001b[0;34m\u001b[0m\u001b[0m\n\u001b[1;32m     38\u001b[0m \u001b[0;31m# Print the quantum circuit\u001b[0m\u001b[0;34m\u001b[0m\u001b[0;34m\u001b[0m\u001b[0m\n",
            "\u001b[0;32m/usr/local/lib/python3.10/dist-packages/qiskit/circuit/quantumcircuit.py\u001b[0m in \u001b[0;36mappend\u001b[0;34m(self, instruction, qargs, cargs, copy)\u001b[0m\n\u001b[1;32m   2497\u001b[0m         \u001b[0;31m# For Operations that are non-Instructions, we use the Instruction's default method\u001b[0m\u001b[0;34m\u001b[0m\u001b[0;34m\u001b[0m\u001b[0m\n\u001b[1;32m   2498\u001b[0m         broadcast_iter = (\n\u001b[0;32m-> 2499\u001b[0;31m             \u001b[0moperation\u001b[0m\u001b[0;34m.\u001b[0m\u001b[0mbroadcast_arguments\u001b[0m\u001b[0;34m(\u001b[0m\u001b[0mexpanded_qargs\u001b[0m\u001b[0;34m,\u001b[0m \u001b[0mexpanded_cargs\u001b[0m\u001b[0;34m)\u001b[0m\u001b[0;34m\u001b[0m\u001b[0;34m\u001b[0m\u001b[0m\n\u001b[0m\u001b[1;32m   2500\u001b[0m             \u001b[0;32mif\u001b[0m \u001b[0misinstance\u001b[0m\u001b[0;34m(\u001b[0m\u001b[0moperation\u001b[0m\u001b[0;34m,\u001b[0m \u001b[0mInstruction\u001b[0m\u001b[0;34m)\u001b[0m\u001b[0;34m\u001b[0m\u001b[0;34m\u001b[0m\u001b[0m\n\u001b[1;32m   2501\u001b[0m             \u001b[0;32melse\u001b[0m \u001b[0mInstruction\u001b[0m\u001b[0;34m.\u001b[0m\u001b[0mbroadcast_arguments\u001b[0m\u001b[0;34m(\u001b[0m\u001b[0moperation\u001b[0m\u001b[0;34m,\u001b[0m \u001b[0mexpanded_qargs\u001b[0m\u001b[0;34m,\u001b[0m \u001b[0mexpanded_cargs\u001b[0m\u001b[0;34m)\u001b[0m\u001b[0;34m\u001b[0m\u001b[0;34m\u001b[0m\u001b[0m\n",
            "\u001b[0;32m/usr/local/lib/python3.10/dist-packages/qiskit/circuit/gate.py\u001b[0m in \u001b[0;36mbroadcast_arguments\u001b[0;34m(self, qargs, cargs)\u001b[0m\n\u001b[1;32m    221\u001b[0m         \"\"\"\n\u001b[1;32m    222\u001b[0m         \u001b[0;32mif\u001b[0m \u001b[0mlen\u001b[0m\u001b[0;34m(\u001b[0m\u001b[0mqargs\u001b[0m\u001b[0;34m)\u001b[0m \u001b[0;34m!=\u001b[0m \u001b[0mself\u001b[0m\u001b[0;34m.\u001b[0m\u001b[0mnum_qubits\u001b[0m \u001b[0;32mor\u001b[0m \u001b[0mcargs\u001b[0m\u001b[0;34m:\u001b[0m\u001b[0;34m\u001b[0m\u001b[0;34m\u001b[0m\u001b[0m\n\u001b[0;32m--> 223\u001b[0;31m             raise CircuitError(\n\u001b[0m\u001b[1;32m    224\u001b[0m                 \u001b[0;34mf\"The amount of qubit({len(qargs)})/clbit({len(cargs)}) arguments does\"\u001b[0m\u001b[0;34m\u001b[0m\u001b[0;34m\u001b[0m\u001b[0m\n\u001b[1;32m    225\u001b[0m                 \u001b[0;34mf\" not match the gate expectation ({self.num_qubits}).\"\u001b[0m\u001b[0;34m\u001b[0m\u001b[0;34m\u001b[0m\u001b[0m\n",
            "\u001b[0;31mCircuitError\u001b[0m: 'The amount of qubit(0)/clbit(0) arguments does not match the gate expectation (3).'"
          ]
        }
      ]
    },
    {
      "cell_type": "code",
      "source": [
        "# Apply the controlled gate (Assume control qubit is 0 and target qubits are 1, 2, 3)\n",
        "qc_test.append(controlled_gate, [3, 0, 1, 2])"
      ],
      "metadata": {
        "colab": {
          "base_uri": "https://localhost:8080/"
        },
        "id": "goEZ2qHmWzkt",
        "outputId": "0cf0bc1a-0518-494f-fa10-58ee376423dc"
      },
      "execution_count": null,
      "outputs": [
        {
          "output_type": "execute_result",
          "data": {
            "text/plain": [
              "<qiskit.circuit.instructionset.InstructionSet at 0x7a76a14bb190>"
            ]
          },
          "metadata": {},
          "execution_count": 23
        }
      ]
    },
    {
      "cell_type": "code",
      "source": [
        "# Initialize parameters\n",
        "# window_scaling = 2.0062463823972267\n",
        "padded_result_coeffs = [2.84459484e-01, -1.60769035e-01, -6.52830735e-01, -1.40302564e-01,\n",
        "    4.04440838e-01, -5.49152208e-02, -5.29882315e-01,  7.34968555e-16]\n",
        "\n",
        "num_qubits = int(np.log2(len(padded_result_coeffs)))\n",
        "qc_test = QuantumCircuit(num_qubits + 1, 1)  # Increased from num_qubits*2 to num_qubits*3 for ancilla\n",
        "\n",
        "# Inverted initialization\n",
        "# qc_test.initialize(padded_result_coeffs, range(1,num_qubits+1))\n",
        "qc_test.initialize(padded_result_coeffs, range(0,num_qubits))\n",
        "\n",
        "\n",
        "# qc_test.append(QFT(num_qubits), range(num_qubits))\n",
        "# qc_test.append(QFT(num_qubits), range(num_qubits, 2 * num_qubits))\n",
        "\n",
        "# New code with CCX gates\n",
        "qc_test.barrier()\n",
        "\n",
        "qc_test.cx(2, 3)\n",
        "\n",
        "# Define the permutation matrix\n",
        "perm_matrix = np.array([\n",
        "    [1, 0, 0, 0, 0, 0, 0, 0],\n",
        "    [0, 1, 0, 0, 0, 0, 0, 0],\n",
        "    [0, 0, 0, 0, 1, 0, 0, 0],\n",
        "    [0, 0, 0, 0, 0, 1, 0, 0],\n",
        "    [0, 0, 1, 0, 0, 0, 0, 0],\n",
        "    [0, 0, 0, 1, 0, 0, 0, 0],\n",
        "    [0, 0, 0, 0, 0, 0, 1, 0],\n",
        "    [0, 0, 0, 0, 0, 0, 0, 1]\n",
        "])\n",
        "\n",
        "# Create the unitary gate from the permutation matrix\n",
        "unitary_gate = UnitaryGate(perm_matrix)\n",
        "\n",
        "qc_test.append(unitary_gate, [0, 1, 2])"
      ],
      "metadata": {
        "colab": {
          "base_uri": "https://localhost:8080/"
        },
        "id": "eOK36dMDQJBE",
        "outputId": "338d90e4-1434-40de-830c-d35da6e45630"
      },
      "execution_count": null,
      "outputs": [
        {
          "output_type": "execute_result",
          "data": {
            "text/plain": [
              "<qiskit.circuit.instructionset.InstructionSet at 0x7a769bb24040>"
            ]
          },
          "metadata": {},
          "execution_count": 38
        }
      ]
    },
    {
      "cell_type": "code",
      "source": [
        "qc_test.draw('mpl')"
      ],
      "metadata": {
        "colab": {
          "base_uri": "https://localhost:8080/",
          "height": 384
        },
        "id": "xkBwgSM3XQmV",
        "outputId": "89ed4eb5-9025-4958-9efd-c3eab54243b4"
      },
      "execution_count": null,
      "outputs": [
        {
          "output_type": "execute_result",
          "data": {
            "text/plain": [
              "<Figure size 956.385x451.5 with 1 Axes>"
            ],
            "image/png": "[encoded data removed]"
          },
          "metadata": {},
          "execution_count": 39
        }
      ]
    },
    {
      "cell_type": "code",
      "source": [
        "# Use the Aer's Statevector simulator\n",
        "simulator = Aer.get_backend('statevector_simulator')\n",
        "\n",
        "# Transpile the quantum circuit for the simulator\n",
        "compiled_circuit = transpile(qc_test, simulator)\n",
        "\n",
        "# Run the simulation\n",
        "result = simulator.run(compiled_circuit).result()\n",
        "\n",
        "# Get the final statevector\n",
        "statevector = result.get_statevector()\n",
        "\n",
        "# Print the statevector\n",
        "print(\"Final Statevector:\", statevector)\n",
        "\n",
        "[2.84459484e-01, -1.60769035e-01, -6.52830735e-01, -1.40302564e-01,\n",
        "    4.04440838e-01, -5.49152208e-02, -5.29882315e-01,  7.34968555e-16]"
      ],
      "metadata": {
        "colab": {
          "base_uri": "https://localhost:8080/"
        },
        "id": "QE9XRFL7PQMC",
        "outputId": "7aa5f3c9-963d-40f7-dfff-b08056a591cc"
      },
      "execution_count": null,
      "outputs": [
        {
          "output_type": "stream",
          "name": "stdout",
          "text": [
            "Final Statevector: Statevector([ 2.84459484e-01+0.j, -1.60769035e-01+0.j,  0.00000000e+00+0.j,\n",
            "              0.00000000e+00+0.j, -6.52830735e-01+0.j, -1.40302564e-01+0.j,\n",
            "              0.00000000e+00+0.j,  0.00000000e+00+0.j,  0.00000000e+00+0.j,\n",
            "              0.00000000e+00+0.j,  4.04440838e-01+0.j, -5.49152208e-02+0.j,\n",
            "              0.00000000e+00+0.j,  0.00000000e+00+0.j, -5.29882315e-01+0.j,\n",
            "              7.34968555e-16+0.j],\n",
            "            dims=(2, 2, 2, 2))\n"
          ]
        },
        {
          "output_type": "execute_result",
          "data": {
            "text/plain": [
              "[0.284459484,\n",
              " -0.160769035,\n",
              " -0.652830735,\n",
              " -0.140302564,\n",
              " 0.404440838,\n",
              " -0.0549152208,\n",
              " -0.529882315,\n",
              " 7.34968555e-16]"
            ]
          },
          "metadata": {},
          "execution_count": 40
        }
      ]
    },
    {
      "cell_type": "code",
      "source": [
        "# Define the permutation matrix\n",
        "perm_matrix = np.array([\n",
        "    [1, 0, 0, 0, 0, 0, 0, 0],\n",
        "    [0, 1, 0, 0, 0, 0, 0, 0],\n",
        "    [0, 0, 0, 0, 1, 0, 0, 0],\n",
        "    [0, 0, 0, 0, 0, 1, 0, 0],\n",
        "    [0, 0, 1, 0, 0, 0, 0, 0],\n",
        "    [0, 0, 0, 1, 0, 0, 0, 0],\n",
        "    [0, 0, 0, 0, 0, 0, 1, 0],\n",
        "    [0, 0, 0, 0, 0, 0, 0, 1]\n",
        "])\n",
        "\n",
        "# Create the unitary gate from the permutation matrix\n",
        "unitary_gate = UnitaryGate(perm_matrix)\n",
        "\n",
        "# Make it a controlled gate with the third qubit as the control\n",
        "controlled_gate = unitary_gate.control(1)\n",
        "\n",
        "# Create a quantum circuit\n",
        "qc = QuantumCircuit(4)\n",
        "\n",
        "# Append the controlled gate, with qubit 2 as the control and qubits 0 and 1 as the target\n",
        "qc.append(controlled_gate, [3, 0, 1, 2])\n",
        "\n",
        "# Draw the circuit\n",
        "qc.draw('mpl')"
      ],
      "metadata": {
        "colab": {
          "base_uri": "https://localhost:8080/",
          "height": 320
        },
        "id": "BjztAlyxSRZU",
        "outputId": "c1472e33-9874-4b22-9087-992d11f2bf6c"
      },
      "execution_count": null,
      "outputs": [
        {
          "output_type": "execute_result",
          "data": {
            "text/plain": [
              "<Figure size 287.496x367.889 with 1 Axes>"
            ],
            "image/png": "[encoded data removed]"
          },
          "metadata": {},
          "execution_count": 44
        }
      ]
    },
    {
      "cell_type": "code",
      "source": [
        "# Initialize parameters\n",
        "# window_scaling = 2.0062463823972267\n",
        "padded_result_coeffs = [2.84459484e-01, -1.60769035e-01, -6.52830735e-01, -1.40302564e-01,\n",
        "    4.04440838e-01, -5.49152208e-02, -5.29882315e-01,  7.34968555e-16]\n",
        "\n",
        "num_qubits = int(np.log2(len(padded_result_coeffs)))\n",
        "qc_test = QuantumCircuit(num_qubits + 1, 1)  # Increased from num_qubits*2 to num_qubits*3 for ancilla\n",
        "\n",
        "# Inverted initialization\n",
        "# qc_test.initialize(padded_result_coeffs, range(1,num_qubits+1))\n",
        "qc_test.initialize(padded_result_coeffs, range(0,num_qubits))\n",
        "\n",
        "\n",
        "# qc_test.append(QFT(num_qubits), range(num_qubits))\n",
        "# qc_test.append(QFT(num_qubits), range(num_qubits, 2 * num_qubits))\n",
        "\n",
        "# New code with CCX gates\n",
        "qc_test.barrier()\n",
        "\n",
        "qc_test.cx(2, 3)\n",
        "\n",
        "# Define the permutation matrix\n",
        "perm_matrix = np.array([\n",
        "    [1, 0, 0, 0, 0, 0, 0, 0],\n",
        "    [0, 1, 0, 0, 0, 0, 0, 0],\n",
        "    [0, 0, 0, 0, 1, 0, 0, 0],\n",
        "    [0, 0, 0, 0, 0, 1, 0, 0],\n",
        "    [0, 0, 1, 0, 0, 0, 0, 0],\n",
        "    [0, 0, 0, 1, 0, 0, 0, 0],\n",
        "    [0, 0, 0, 0, 0, 0, 1, 0],\n",
        "    [0, 0, 0, 0, 0, 0, 0, 1]\n",
        "])\n",
        "\n",
        "# Create the unitary gate from the permutation matrix\n",
        "unitary_gate = UnitaryGate(perm_matrix)\n",
        "\n",
        "# Make it a controlled gate with the third qubit as the control\n",
        "controlled_gate = unitary_gate.control(1)\n",
        "\n",
        "# Create a quantum circuit\n",
        "# qc_test = QuantumCircuit(4)\n",
        "\n",
        "# Append the controlled gate, with qubit 2 as the control and qubits 0 and 1 as the target\n",
        "qc_test.append(controlled_gate, [3, 0 ,1 ,2])\n",
        "\n",
        "# Draw the circuit\n",
        "qc_test.draw('mpl')\n",
        "\n",
        "# qc_test.append(unitary_gate, [0, 1, 2])"
      ],
      "metadata": {
        "colab": {
          "base_uri": "https://localhost:8080/",
          "height": 384
        },
        "id": "a_zdc5p0Sghb",
        "outputId": "dd144053-f2b2-4330-9ca8-5f5ce63c6393"
      },
      "execution_count": null,
      "outputs": [
        {
          "output_type": "execute_result",
          "data": {
            "text/plain": [
              "<Figure size 956.385x451.5 with 1 Axes>"
            ],
            "image/png": "[encoded data removed]"
          },
          "metadata": {},
          "execution_count": 52
        }
      ]
    },
    {
      "cell_type": "code",
      "source": [
        "# Use the Aer's Statevector simulator\n",
        "simulator = Aer.get_backend('statevector_simulator')\n",
        "\n",
        "# Transpile the quantum circuit for the simulator\n",
        "compiled_circuit = transpile(qc_test, simulator)\n",
        "\n",
        "# Run the simulation\n",
        "result = simulator.run(compiled_circuit).result()\n",
        "\n",
        "# Get the final statevector\n",
        "statevector = result.get_statevector()\n",
        "\n",
        "# Print the statevector\n",
        "print(\"Final Statevector:\", np.abs(statevector))\n",
        "\n",
        "[2.84459484e-01, -1.60769035e-01, -6.52830735e-01, -1.40302564e-01,\n",
        "    4.04440838e-01, -5.49152208e-02, -5.29882315e-01,  7.34968555e-16]"
      ],
      "metadata": {
        "colab": {
          "base_uri": "https://localhost:8080/"
        },
        "id": "DFpQ1mIeS3oF",
        "outputId": "d11662d5-7bf7-43b2-b4ac-200e6149df08"
      },
      "execution_count": null,
      "outputs": [
        {
          "output_type": "stream",
          "name": "stdout",
          "text": [
            "Final Statevector: [2.84459484e-01 1.60769035e-01 6.52830735e-01 1.40302564e-01\n",
            " 4.79236002e-16 5.11899600e-17 2.63312510e-16 3.18349526e-17\n",
            " 1.40144402e-16 0.00000000e+00 4.04440838e-01 5.49152208e-02\n",
            " 1.47522908e-16 4.72891156e-17 5.29882315e-01 7.98276553e-16]\n"
          ]
        },
        {
          "output_type": "execute_result",
          "data": {
            "text/plain": [
              "[0.284459484,\n",
              " -0.160769035,\n",
              " -0.652830735,\n",
              " -0.140302564,\n",
              " 0.404440838,\n",
              " -0.0549152208,\n",
              " -0.529882315,\n",
              " 7.34968555e-16]"
            ]
          },
          "metadata": {},
          "execution_count": 53
        }
      ]
    },
    {
      "cell_type": "code",
      "source": [
        "qc_test.h(3)"
      ],
      "metadata": {
        "colab": {
          "base_uri": "https://localhost:8080/"
        },
        "id": "rpY8CH6kXTRz",
        "outputId": "ed25bc45-1d43-41d1-fe2e-d9a5d06598f6"
      },
      "execution_count": null,
      "outputs": [
        {
          "output_type": "execute_result",
          "data": {
            "text/plain": [
              "<qiskit.circuit.instructionset.InstructionSet at 0x7a76a109d8d0>"
            ]
          },
          "metadata": {},
          "execution_count": 54
        }
      ]
    },
    {
      "cell_type": "code",
      "source": [
        "qc_test.draw('mpl')"
      ],
      "metadata": {
        "colab": {
          "base_uri": "https://localhost:8080/",
          "height": 384
        },
        "id": "OPPw8BkdXbDk",
        "outputId": "d39a276e-cb8f-48fa-9fad-4f095d1f5e3a"
      },
      "execution_count": null,
      "outputs": [
        {
          "output_type": "execute_result",
          "data": {
            "text/plain": [
              "<Figure size 1040x451.5 with 1 Axes>"
            ],
            "image/png": "[encoded data removed]"
          },
          "metadata": {},
          "execution_count": 55
        }
      ]
    },
    {
      "cell_type": "code",
      "source": [
        "# Use the Aer's Statevector simulator\n",
        "simulator = Aer.get_backend('statevector_simulator')\n",
        "\n",
        "# Transpile the quantum circuit for the simulator\n",
        "compiled_circuit = transpile(qc_test, simulator)\n",
        "\n",
        "# Run the simulation\n",
        "result = simulator.run(compiled_circuit).result()\n",
        "\n",
        "# Get the final statevector\n",
        "statevector = result.get_statevector()\n",
        "\n",
        "# Print the statevector\n",
        "print(\"Final Statevector:\", statevector)\n",
        "print()\n",
        "print(\"adjusted Final Statevector:\", np.sqrt(2)*np.abs(statevector))\n",
        "\n",
        "[2.84459484e-01, -1.60769035e-01, -6.52830735e-01, -1.40302564e-01,\n",
        "    4.04440838e-01, -5.49152208e-02, -5.29882315e-01,  7.34968555e-16]"
      ],
      "metadata": {
        "colab": {
          "base_uri": "https://localhost:8080/"
        },
        "id": "FliGkWHxJgAV",
        "outputId": "da2b212d-b622-47e2-8f9f-355924421451"
      },
      "execution_count": null,
      "outputs": [
        {
          "output_type": "stream",
          "name": "stdout",
          "text": [
            "Final Statevector: Statevector([-1.66683434e-01-1.12584333e-01j,\n",
            "              9.42051023e-02+6.36297101e-02j,\n",
            "              1.45547901e-01+9.83085900e-02j,\n",
            "              1.14390880e-01+7.72639524e-02j,\n",
            "              1.95941620e-17-1.23171621e-17j,\n",
            "             -9.97247635e-18-4.04923154e-17j,\n",
            "              3.10492737e-01+2.09718607e-01j,\n",
            "             -3.78915309e-16-2.82853913e-16j,\n",
            "             -1.66683434e-01-1.12584333e-01j,\n",
            "              9.42051023e-02+6.36297101e-02j,\n",
            "              6.19524628e-01+4.18450504e-01j,\n",
            "              5.00340342e-02+3.37948903e-02j,\n",
            "              7.31983846e-17+2.57169463e-16j,\n",
            "              2.76207625e-17+1.21825961e-16j,\n",
            "             -3.10492737e-01-2.09718607e-01j,\n",
            "              4.80863778e-16+2.96057890e-16j],\n",
            "            dims=(2, 2, 2, 2))\n",
            "\n",
            "adjusted Final Statevector: [2.84459484e-01 1.60769035e-01 2.48389897e-01 1.95217785e-01\n",
            " 3.27305260e-17 5.89758915e-17 5.29882315e-01 6.68704939e-16\n",
            " 2.84459484e-01 1.60769035e-01 1.05727157e+00 8.53873432e-02\n",
            " 3.78137901e-16 1.76660530e-16 5.29882315e-01 7.98599082e-16]\n"
          ]
        },
        {
          "output_type": "execute_result",
          "data": {
            "text/plain": [
              "[0.284459484,\n",
              " -0.160769035,\n",
              " -0.652830735,\n",
              " -0.140302564,\n",
              " 0.404440838,\n",
              " -0.0549152208,\n",
              " -0.529882315,\n",
              " 7.34968555e-16]"
            ]
          },
          "metadata": {},
          "execution_count": 58
        }
      ]
    },
    {
      "cell_type": "code",
      "source": [
        "\n",
        "# Define the original permutation matrix (acts on 3 qubits)\n",
        "perm_matrix = np.array([\n",
        "    [1, 0, 0, 0, 0, 0, 0, 0],\n",
        "    [0, 1, 0, 0, 0, 0, 0, 0],\n",
        "    [0, 0, 0, 0, 1, 0, 0, 0],\n",
        "    [0, 0, 0, 0, 0, 1, 0, 0],\n",
        "    [0, 0, 1, 0, 0, 0, 0, 0],\n",
        "    [0, 0, 0, 1, 0, 0, 0, 0],\n",
        "    [0, 0, 0, 0, 0, 0, 1, 0],\n",
        "    [0, 0, 0, 0, 0, 0, 0, 1]\n",
        "])\n",
        "\n",
        "# Identity matrix for the other qubits\n",
        "identity_matrix = np.eye(8)\n",
        "\n",
        "# Construct the controlled matrix:\n",
        "# Block matrix with identity on top-left and the permutation matrix on bottom-right\n",
        "controlled_perm_matrix = np.block([\n",
        "    [identity_matrix, np.zeros((8, 8))],\n",
        "    [np.zeros((8, 8)), perm_matrix]\n",
        "])\n",
        "\n",
        "# print(\"Controlled Permutation Matrix:\")\n",
        "# print(controlled_perm_matrix)\n",
        "\n",
        "# Create the unitary gate from the permutation matrix\n",
        "unitary_gate = UnitaryGate(controlled_perm_matrix)"
      ],
      "metadata": {
        "colab": {
          "base_uri": "https://localhost:8080/"
        },
        "id": "oSc_xcbTZ0p-",
        "outputId": "5041865d-0609-4a13-c0e7-4f80a4fdea67"
      },
      "execution_count": null,
      "outputs": [
        {
          "output_type": "stream",
          "name": "stdout",
          "text": [
            "Controlled Permutation Matrix:\n",
            "[[1. 0. 0. 0. 0. 0. 0. 0. 0. 0. 0. 0. 0. 0. 0. 0.]\n",
            " [0. 1. 0. 0. 0. 0. 0. 0. 0. 0. 0. 0. 0. 0. 0. 0.]\n",
            " [0. 0. 1. 0. 0. 0. 0. 0. 0. 0. 0. 0. 0. 0. 0. 0.]\n",
            " [0. 0. 0. 1. 0. 0. 0. 0. 0. 0. 0. 0. 0. 0. 0. 0.]\n",
            " [0. 0. 0. 0. 1. 0. 0. 0. 0. 0. 0. 0. 0. 0. 0. 0.]\n",
            " [0. 0. 0. 0. 0. 1. 0. 0. 0. 0. 0. 0. 0. 0. 0. 0.]\n",
            " [0. 0. 0. 0. 0. 0. 1. 0. 0. 0. 0. 0. 0. 0. 0. 0.]\n",
            " [0. 0. 0. 0. 0. 0. 0. 1. 0. 0. 0. 0. 0. 0. 0. 0.]\n",
            " [0. 0. 0. 0. 0. 0. 0. 0. 1. 0. 0. 0. 0. 0. 0. 0.]\n",
            " [0. 0. 0. 0. 0. 0. 0. 0. 0. 1. 0. 0. 0. 0. 0. 0.]\n",
            " [0. 0. 0. 0. 0. 0. 0. 0. 0. 0. 0. 0. 1. 0. 0. 0.]\n",
            " [0. 0. 0. 0. 0. 0. 0. 0. 0. 0. 0. 0. 0. 1. 0. 0.]\n",
            " [0. 0. 0. 0. 0. 0. 0. 0. 0. 0. 1. 0. 0. 0. 0. 0.]\n",
            " [0. 0. 0. 0. 0. 0. 0. 0. 0. 0. 0. 1. 0. 0. 0. 0.]\n",
            " [0. 0. 0. 0. 0. 0. 0. 0. 0. 0. 0. 0. 0. 0. 1. 0.]\n",
            " [0. 0. 0. 0. 0. 0. 0. 0. 0. 0. 0. 0. 0. 0. 0. 1.]]\n"
          ]
        }
      ]
    },
    {
      "cell_type": "code",
      "source": [
        "# Initialize parameters\n",
        "# window_scaling = 2.0062463823972267\n",
        "padded_result_coeffs = [2.84459484e-01, -1.60769035e-01, -6.52830735e-01, -1.40302564e-01,\n",
        "    4.04440838e-01, -5.49152208e-02, -5.29882315e-01,  7.34968555e-16]\n",
        "\n",
        "num_qubits = int(np.log2(len(padded_result_coeffs)))\n",
        "qc_test = QuantumCircuit(num_qubits + 1, 1)  # Increased from num_qubits*2 to num_qubits*3 for ancilla\n",
        "\n",
        "# Inverted initialization\n",
        "# qc_test.initialize(padded_result_coeffs, range(1,num_qubits+1))\n",
        "qc_test.initialize(padded_result_coeffs, range(0,num_qubits))\n",
        "\n",
        "\n",
        "# qc_test.append(QFT(num_qubits), range(num_qubits))\n",
        "# qc_test.append(QFT(num_qubits), range(num_qubits, 2 * num_qubits))\n",
        "\n",
        "# New code with CCX gates\n",
        "qc_test.barrier()\n",
        "\n",
        "qc_test.cx(2, 3)\n",
        "\n",
        "# Define the original permutation matrix (acts on 3 qubits)\n",
        "perm_matrix = np.array([\n",
        "    [1, 0, 0, 0, 0, 0, 0, 0],\n",
        "    [0, 1, 0, 0, 0, 0, 0, 0],\n",
        "    [0, 0, 0, 0, 1, 0, 0, 0],\n",
        "    [0, 0, 0, 0, 0, 1, 0, 0],\n",
        "    [0, 0, 1, 0, 0, 0, 0, 0],\n",
        "    [0, 0, 0, 1, 0, 0, 0, 0],\n",
        "    [0, 0, 0, 0, 0, 0, 1, 0],\n",
        "    [0, 0, 0, 0, 0, 0, 0, 1]\n",
        "])\n",
        "\n",
        "# Identity matrix for the other qubits\n",
        "identity_matrix = np.eye(8)\n",
        "\n",
        "# Construct the controlled matrix:\n",
        "# Block matrix with identity on top-left and the permutation matrix on bottom-right\n",
        "controlled_perm_matrix = np.block([\n",
        "    [identity_matrix, np.zeros((8, 8))],\n",
        "    [np.zeros((8, 8)), perm_matrix]\n",
        "])\n",
        "\n",
        "# print(\"Controlled Permutation Matrix:\")\n",
        "# print(controlled_perm_matrix)\n",
        "\n",
        "# Create the unitary gate from the permutation matrix\n",
        "unitary_gate = UnitaryGate(controlled_perm_matrix)\n",
        "\n",
        "# Append the controlled gate, with qubit 2 as the control and qubits 0 and 1 as the target\n",
        "qc_test.append(unitary_gate, [0 ,1 ,2, 3])\n",
        "\n",
        "# Draw the circuit\n",
        "qc_test.draw('mpl')\n",
        "\n",
        "# qc_test.append(unitary_gate, [0, 1, 2])"
      ],
      "metadata": {
        "colab": {
          "base_uri": "https://localhost:8080/",
          "height": 384
        },
        "id": "-KVwyIkHZwsI",
        "outputId": "9a7172fe-f8f9-4627-e9e5-ac7a8ba033f7"
      },
      "execution_count": null,
      "outputs": [
        {
          "output_type": "execute_result",
          "data": {
            "text/plain": [
              "<Figure size 956.385x451.5 with 1 Axes>"
            ],
            "image/png": "[encoded data removed]"
          },
          "metadata": {},
          "execution_count": 64
        }
      ]
    },
    {
      "cell_type": "code",
      "source": [
        "# Use the Aer's Statevector simulator\n",
        "simulator = Aer.get_backend('statevector_simulator')\n",
        "\n",
        "# Transpile the quantum circuit for the simulator\n",
        "compiled_circuit = transpile(qc_test, simulator)\n",
        "\n",
        "# Run the simulation\n",
        "result = simulator.run(compiled_circuit).result()\n",
        "\n",
        "# Get the final statevector\n",
        "statevector = result.get_statevector()\n",
        "\n",
        "# Print the statevector\n",
        "print(\"Final Statevector:\", statevector)\n",
        "print()\n",
        "print(\"adjusted Final Statevector:\", np.sqrt(2)*np.abs(statevector))\n",
        "\n",
        "[2.84459484e-01, -1.60769035e-01, -6.52830735e-01, -1.40302564e-01,\n",
        "    4.04440838e-01, -5.49152208e-02, -5.29882315e-01,  7.34968555e-16]"
      ],
      "metadata": {
        "colab": {
          "base_uri": "https://localhost:8080/"
        },
        "id": "skpnhdf1aTKi",
        "outputId": "139e2a48-a1c3-405f-db4a-09a2e12ec5ca"
      },
      "execution_count": null,
      "outputs": [
        {
          "output_type": "stream",
          "name": "stdout",
          "text": [
            "Final Statevector: Statevector([ 2.84459484e-01+0.j, -1.60769035e-01+0.j, -6.52830735e-01+0.j,\n",
            "             -1.40302564e-01+0.j,  0.00000000e+00+0.j,  0.00000000e+00+0.j,\n",
            "              0.00000000e+00+0.j,  0.00000000e+00+0.j,  0.00000000e+00+0.j,\n",
            "              0.00000000e+00+0.j,  4.04440838e-01+0.j, -5.49152208e-02+0.j,\n",
            "              0.00000000e+00+0.j,  0.00000000e+00+0.j, -5.29882315e-01+0.j,\n",
            "              7.34968555e-16+0.j],\n",
            "            dims=(2, 2, 2, 2))\n",
            "\n",
            "adjusted Final Statevector: [4.02286460e-01 2.27361750e-01 9.23242079e-01 1.98417789e-01\n",
            " 0.00000000e+00 0.00000000e+00 0.00000000e+00 0.00000000e+00\n",
            " 0.00000000e+00 0.00000000e+00 5.71965718e-01 7.76618500e-02\n",
            " 0.00000000e+00 0.00000000e+00 7.49366756e-01 1.03940250e-15]\n"
          ]
        },
        {
          "output_type": "execute_result",
          "data": {
            "text/plain": [
              "[0.284459484,\n",
              " -0.160769035,\n",
              " -0.652830735,\n",
              " -0.140302564,\n",
              " 0.404440838,\n",
              " -0.0549152208,\n",
              " -0.529882315,\n",
              " 7.34968555e-16]"
            ]
          },
          "metadata": {},
          "execution_count": 65
        }
      ]
    },
    {
      "cell_type": "code",
      "source": [
        "qc_test.h(3)\n",
        "qc_test.draw('mpl')"
      ],
      "metadata": {
        "colab": {
          "base_uri": "https://localhost:8080/",
          "height": 384
        },
        "id": "ryk2cg5tavqo",
        "outputId": "47e9e298-10f5-4b05-f06f-0723b866246a"
      },
      "execution_count": null,
      "outputs": [
        {
          "output_type": "execute_result",
          "data": {
            "text/plain": [
              "<Figure size 1040x451.5 with 1 Axes>"
            ],
            "image/png": "[encoded data removed]"
          },
          "metadata": {},
          "execution_count": 66
        }
      ]
    },
    {
      "cell_type": "code",
      "source": [
        "# Use the Aer's Statevector simulator\n",
        "simulator = Aer.get_backend('statevector_simulator')\n",
        "\n",
        "# Transpile the quantum circuit for the simulator\n",
        "compiled_circuit = transpile(qc_test, simulator)\n",
        "\n",
        "# Run the simulation\n",
        "result = simulator.run(compiled_circuit).result()\n",
        "\n",
        "# Get the final statevector\n",
        "statevector = result.get_statevector()\n",
        "\n",
        "# Print the statevector\n",
        "print(\"Final Statevector:\", statevector)\n",
        "print()\n",
        "print(\"adjusted Final Statevector with abs:\", np.sqrt(2)*np.abs(statevector))\n",
        "print(\"adjusted Final Statevector:\", np.sqrt(2)*statevector)\n",
        "\n",
        "\n",
        "[2.84459484e-01, -1.60769035e-01, -6.52830735e-01, -1.40302564e-01,\n",
        "    4.04440838e-01, -5.49152208e-02, -5.29882315e-01,  7.34968555e-16]"
      ],
      "metadata": {
        "colab": {
          "base_uri": "https://localhost:8080/"
        },
        "id": "hAbPylAAa0jc",
        "outputId": "5bfb9538-b656-4db5-d46e-7b07e2e8f68a"
      },
      "execution_count": null,
      "outputs": [
        {
          "output_type": "stream",
          "name": "stdout",
          "text": [
            "Final Statevector: Statevector([ 2.01143230e-01+0.00000000e+00j,\n",
            "             -1.13680875e-01+0.00000000e+00j,\n",
            "             -1.75638181e-01-3.50227993e-17j,\n",
            "             -1.38039819e-01+4.75541680e-18j,\n",
            "              0.00000000e+00+0.00000000e+00j,\n",
            "              0.00000000e+00+0.00000000e+00j,\n",
            "             -3.74683378e-01+4.58854800e-17j,\n",
            "              5.19701249e-16-6.36450471e-32j,\n",
            "              2.01143230e-01+0.00000000e+00j,\n",
            "             -1.13680875e-01+0.00000000e+00j,\n",
            "             -7.47603899e-01+3.50227993e-17j,\n",
            "             -6.03779694e-02-4.75541680e-18j,\n",
            "              0.00000000e+00+0.00000000e+00j,\n",
            "              0.00000000e+00+0.00000000e+00j,\n",
            "              3.74683378e-01-4.58854800e-17j,\n",
            "             -5.19701249e-16+6.36450471e-32j],\n",
            "            dims=(2, 2, 2, 2))\n",
            "\n",
            "adjusted Final Statevector with abs: [2.84459484e-01 1.60769035e-01 2.48389897e-01 1.95217785e-01\n",
            " 0.00000000e+00 0.00000000e+00 5.29882315e-01 7.34968555e-16\n",
            " 2.84459484e-01 1.60769035e-01 1.05727157e+00 8.53873432e-02\n",
            " 0.00000000e+00 0.00000000e+00 5.29882315e-01 7.34968555e-16]\n",
            "adjusted Final Statevector: Statevector([ 2.84459484e-01+0.00000000e+00j,\n",
            "             -1.60769035e-01+0.00000000e+00j,\n",
            "             -2.48389897e-01-4.95297178e-17j,\n",
            "             -1.95217785e-01+6.72517494e-18j,\n",
            "              0.00000000e+00+0.00000000e+00j,\n",
            "              0.00000000e+00+0.00000000e+00j,\n",
            "             -5.29882315e-01+6.48918681e-17j,\n",
            "              7.34968555e-16-9.00076888e-32j,\n",
            "              2.84459484e-01+0.00000000e+00j,\n",
            "             -1.60769035e-01+0.00000000e+00j,\n",
            "             -1.05727157e+00+4.95297178e-17j,\n",
            "             -8.53873432e-02-6.72517494e-18j,\n",
            "              0.00000000e+00+0.00000000e+00j,\n",
            "              0.00000000e+00+0.00000000e+00j,\n",
            "              5.29882315e-01-6.48918681e-17j,\n",
            "             -7.34968555e-16+9.00076888e-32j],\n",
            "            dims=(2, 2, 2, 2))\n"
          ]
        },
        {
          "output_type": "execute_result",
          "data": {
            "text/plain": [
              "[0.284459484,\n",
              " -0.160769035,\n",
              " -0.652830735,\n",
              " -0.140302564,\n",
              " 0.404440838,\n",
              " -0.0549152208,\n",
              " -0.529882315,\n",
              " 7.34968555e-16]"
            ]
          },
          "metadata": {},
          "execution_count": 69
        }
      ]
    },
    {
      "cell_type": "markdown",
      "source": [
        "# New section"
      ],
      "metadata": {
        "id": "qISIJ-HCbajY"
      }
    },
    {
      "cell_type": "code",
      "source": [
        "qc_test.measure(0,0)\n",
        "# If the reult is 0, there in other qubits we will have the sum [1, 2, (3+5), (4+6), 0, 0, 7, 8]\n",
        "# we need another permutaion gate to rearrange last coefficients."
      ],
      "metadata": {
        "colab": {
          "base_uri": "https://localhost:8080/"
        },
        "id": "cONl59tmXcz4",
        "outputId": "0a7e9206-34aa-4bbd-95db-117d30979409"
      },
      "execution_count": null,
      "outputs": [
        {
          "output_type": "execute_result",
          "data": {
            "text/plain": [
              "<qiskit.circuit.instructionset.InstructionSet at 0x7a769ae71ba0>"
            ]
          },
          "metadata": {},
          "execution_count": 59
        }
      ]
    },
    {
      "cell_type": "code",
      "source": [
        "qc_test.draw('mpl')"
      ],
      "metadata": {
        "colab": {
          "base_uri": "https://localhost:8080/",
          "height": 384
        },
        "id": "hmUvWa-iXiz2",
        "outputId": "30a63c06-582d-4c9f-c5d0-d30a976f10ce"
      },
      "execution_count": null,
      "outputs": [
        {
          "output_type": "execute_result",
          "data": {
            "text/plain": [
              "<Figure size 1123.61x451.5 with 1 Axes>"
            ],
            "image/png": "[encoded data removed]"
          },
          "metadata": {},
          "execution_count": 60
        }
      ]
    },
    {
      "cell_type": "code",
      "source": [
        "# Execute the circuit on a simulator\n",
        "simulator = Aer.get_backend('qasm_simulator')\n",
        "state_simulator = Aer.get_backend('statevector_simulator')\n",
        "\n",
        "compiled_circuit = transpile(qc_test, simulator)\n",
        "\n",
        "# Run the circuit in a loop until the desired state is obtained\n",
        "desired_state = '0' # Only 0 in the measured register\n",
        "result_counts = None\n",
        "\n",
        "while True:\n",
        "    # qc_test.save_statevector(label = 'test', pershot = True)\n",
        "    result = simulator.run(qc_test, backend=simulator, shots=1).result()\n",
        "    result_counts = result.get_counts(qc_test)\n",
        "\n",
        "    # Debug print to understand intermediate results\n",
        "    print(f\"Intermediate result counts: {result_counts}\")\n",
        "    # print(result.data(0)['test'])\n",
        "\n",
        "    # Check if the desired state is obtained\n",
        "    if desired_state in [state[-num_qubits:] for state in result_counts.keys()]:\n",
        "        break\n"
      ],
      "metadata": {
        "colab": {
          "base_uri": "https://localhost:8080/",
          "height": 356
        },
        "id": "FGOe5gD9Xl2N",
        "outputId": "d3c9c37f-d04d-42da-9fbc-6deb940ade86"
      },
      "execution_count": null,
      "outputs": [
        {
          "output_type": "error",
          "ename": "AerError",
          "evalue": "'unknown instruction: c-unitary'",
          "traceback": [
            "\u001b[0;31m---------------------------------------------------------------------------\u001b[0m",
            "\u001b[0;31mAerError\u001b[0m                                  Traceback (most recent call last)",
            "\u001b[0;32m<ipython-input-61-e382104823d5>\u001b[0m in \u001b[0;36m<cell line: 11>\u001b[0;34m()\u001b[0m\n\u001b[1;32m     11\u001b[0m \u001b[0;32mwhile\u001b[0m \u001b[0;32mTrue\u001b[0m\u001b[0;34m:\u001b[0m\u001b[0;34m\u001b[0m\u001b[0;34m\u001b[0m\u001b[0m\n\u001b[1;32m     12\u001b[0m     \u001b[0;31m# qc_test.save_statevector(label = 'test', pershot = True)\u001b[0m\u001b[0;34m\u001b[0m\u001b[0;34m\u001b[0m\u001b[0m\n\u001b[0;32m---> 13\u001b[0;31m     \u001b[0mresult\u001b[0m \u001b[0;34m=\u001b[0m \u001b[0msimulator\u001b[0m\u001b[0;34m.\u001b[0m\u001b[0mrun\u001b[0m\u001b[0;34m(\u001b[0m\u001b[0mqc_test\u001b[0m\u001b[0;34m,\u001b[0m \u001b[0mbackend\u001b[0m\u001b[0;34m=\u001b[0m\u001b[0msimulator\u001b[0m\u001b[0;34m,\u001b[0m \u001b[0mshots\u001b[0m\u001b[0;34m=\u001b[0m\u001b[0;36m1\u001b[0m\u001b[0;34m)\u001b[0m\u001b[0;34m.\u001b[0m\u001b[0mresult\u001b[0m\u001b[0;34m(\u001b[0m\u001b[0;34m)\u001b[0m\u001b[0;34m\u001b[0m\u001b[0;34m\u001b[0m\u001b[0m\n\u001b[0m\u001b[1;32m     14\u001b[0m     \u001b[0mresult_counts\u001b[0m \u001b[0;34m=\u001b[0m \u001b[0mresult\u001b[0m\u001b[0;34m.\u001b[0m\u001b[0mget_counts\u001b[0m\u001b[0;34m(\u001b[0m\u001b[0mqc_test\u001b[0m\u001b[0;34m)\u001b[0m\u001b[0;34m\u001b[0m\u001b[0;34m\u001b[0m\u001b[0m\n\u001b[1;32m     15\u001b[0m \u001b[0;34m\u001b[0m\u001b[0m\n",
            "\u001b[0;32m/usr/local/lib/python3.10/dist-packages/qiskit_aer/jobs/utils.py\u001b[0m in \u001b[0;36m_wrapper\u001b[0;34m(self, *args, **kwargs)\u001b[0m\n\u001b[1;32m     40\u001b[0m         \u001b[0;32mif\u001b[0m \u001b[0mself\u001b[0m\u001b[0;34m.\u001b[0m\u001b[0m_future\u001b[0m \u001b[0;32mis\u001b[0m \u001b[0;32mNone\u001b[0m\u001b[0;34m:\u001b[0m\u001b[0;34m\u001b[0m\u001b[0;34m\u001b[0m\u001b[0m\n\u001b[1;32m     41\u001b[0m             \u001b[0;32mraise\u001b[0m \u001b[0mJobError\u001b[0m\u001b[0;34m(\u001b[0m\u001b[0;34m\"Job not submitted yet!. You have to .submit() first!\"\u001b[0m\u001b[0;34m)\u001b[0m\u001b[0;34m\u001b[0m\u001b[0;34m\u001b[0m\u001b[0m\n\u001b[0;32m---> 42\u001b[0;31m         \u001b[0;32mreturn\u001b[0m \u001b[0mfunc\u001b[0m\u001b[0;34m(\u001b[0m\u001b[0mself\u001b[0m\u001b[0;34m,\u001b[0m \u001b[0;34m*\u001b[0m\u001b[0margs\u001b[0m\u001b[0;34m,\u001b[0m \u001b[0;34m**\u001b[0m\u001b[0mkwargs\u001b[0m\u001b[0;34m)\u001b[0m\u001b[0;34m\u001b[0m\u001b[0;34m\u001b[0m\u001b[0m\n\u001b[0m\u001b[1;32m     43\u001b[0m \u001b[0;34m\u001b[0m\u001b[0m\n\u001b[1;32m     44\u001b[0m     \u001b[0;32mreturn\u001b[0m \u001b[0m_wrapper\u001b[0m\u001b[0;34m\u001b[0m\u001b[0;34m\u001b[0m\u001b[0m\n",
            "\u001b[0;32m/usr/local/lib/python3.10/dist-packages/qiskit_aer/jobs/aerjob.py\u001b[0m in \u001b[0;36mresult\u001b[0;34m(self, timeout)\u001b[0m\n\u001b[1;32m    112\u001b[0m             \u001b[0mconcurrent\u001b[0m\u001b[0;34m.\u001b[0m\u001b[0mfutures\u001b[0m\u001b[0;34m.\u001b[0m\u001b[0mCancelledError\u001b[0m\u001b[0;34m:\u001b[0m \u001b[0;32mif\u001b[0m \u001b[0mjob\u001b[0m \u001b[0mcancelled\u001b[0m \u001b[0mbefore\u001b[0m \u001b[0mcompleted\u001b[0m\u001b[0;34m.\u001b[0m\u001b[0;34m\u001b[0m\u001b[0;34m\u001b[0m\u001b[0m\n\u001b[1;32m    113\u001b[0m         \"\"\"\n\u001b[0;32m--> 114\u001b[0;31m         \u001b[0;32mreturn\u001b[0m \u001b[0mself\u001b[0m\u001b[0;34m.\u001b[0m\u001b[0m_future\u001b[0m\u001b[0;34m.\u001b[0m\u001b[0mresult\u001b[0m\u001b[0;34m(\u001b[0m\u001b[0mtimeout\u001b[0m\u001b[0;34m=\u001b[0m\u001b[0mtimeout\u001b[0m\u001b[0;34m)\u001b[0m\u001b[0;34m\u001b[0m\u001b[0;34m\u001b[0m\u001b[0m\n\u001b[0m\u001b[1;32m    115\u001b[0m \u001b[0;34m\u001b[0m\u001b[0m\n\u001b[1;32m    116\u001b[0m     \u001b[0;34m@\u001b[0m\u001b[0mrequires_submit\u001b[0m\u001b[0;34m\u001b[0m\u001b[0;34m\u001b[0m\u001b[0m\n",
            "\u001b[0;32m/usr/lib/python3.10/concurrent/futures/_base.py\u001b[0m in \u001b[0;36mresult\u001b[0;34m(self, timeout)\u001b[0m\n\u001b[1;32m    456\u001b[0m                     \u001b[0;32mraise\u001b[0m \u001b[0mCancelledError\u001b[0m\u001b[0;34m(\u001b[0m\u001b[0;34m)\u001b[0m\u001b[0;34m\u001b[0m\u001b[0;34m\u001b[0m\u001b[0m\n\u001b[1;32m    457\u001b[0m                 \u001b[0;32melif\u001b[0m \u001b[0mself\u001b[0m\u001b[0;34m.\u001b[0m\u001b[0m_state\u001b[0m \u001b[0;34m==\u001b[0m \u001b[0mFINISHED\u001b[0m\u001b[0;34m:\u001b[0m\u001b[0;34m\u001b[0m\u001b[0;34m\u001b[0m\u001b[0m\n\u001b[0;32m--> 458\u001b[0;31m                     \u001b[0;32mreturn\u001b[0m \u001b[0mself\u001b[0m\u001b[0;34m.\u001b[0m\u001b[0m__get_result\u001b[0m\u001b[0;34m(\u001b[0m\u001b[0;34m)\u001b[0m\u001b[0;34m\u001b[0m\u001b[0;34m\u001b[0m\u001b[0m\n\u001b[0m\u001b[1;32m    459\u001b[0m                 \u001b[0;32melse\u001b[0m\u001b[0;34m:\u001b[0m\u001b[0;34m\u001b[0m\u001b[0;34m\u001b[0m\u001b[0m\n\u001b[1;32m    460\u001b[0m                     \u001b[0;32mraise\u001b[0m \u001b[0mTimeoutError\u001b[0m\u001b[0;34m(\u001b[0m\u001b[0;34m)\u001b[0m\u001b[0;34m\u001b[0m\u001b[0;34m\u001b[0m\u001b[0m\n",
            "\u001b[0;32m/usr/lib/python3.10/concurrent/futures/_base.py\u001b[0m in \u001b[0;36m__get_result\u001b[0;34m(self)\u001b[0m\n\u001b[1;32m    401\u001b[0m         \u001b[0;32mif\u001b[0m \u001b[0mself\u001b[0m\u001b[0;34m.\u001b[0m\u001b[0m_exception\u001b[0m\u001b[0;34m:\u001b[0m\u001b[0;34m\u001b[0m\u001b[0;34m\u001b[0m\u001b[0m\n\u001b[1;32m    402\u001b[0m             \u001b[0;32mtry\u001b[0m\u001b[0;34m:\u001b[0m\u001b[0;34m\u001b[0m\u001b[0;34m\u001b[0m\u001b[0m\n\u001b[0;32m--> 403\u001b[0;31m                 \u001b[0;32mraise\u001b[0m \u001b[0mself\u001b[0m\u001b[0;34m.\u001b[0m\u001b[0m_exception\u001b[0m\u001b[0;34m\u001b[0m\u001b[0;34m\u001b[0m\u001b[0m\n\u001b[0m\u001b[1;32m    404\u001b[0m             \u001b[0;32mfinally\u001b[0m\u001b[0;34m:\u001b[0m\u001b[0;34m\u001b[0m\u001b[0;34m\u001b[0m\u001b[0m\n\u001b[1;32m    405\u001b[0m                 \u001b[0;31m# Break a reference cycle with the exception in self._exception\u001b[0m\u001b[0;34m\u001b[0m\u001b[0;34m\u001b[0m\u001b[0m\n",
            "\u001b[0;32m/usr/lib/python3.10/concurrent/futures/thread.py\u001b[0m in \u001b[0;36mrun\u001b[0;34m(self)\u001b[0m\n\u001b[1;32m     56\u001b[0m \u001b[0;34m\u001b[0m\u001b[0m\n\u001b[1;32m     57\u001b[0m         \u001b[0;32mtry\u001b[0m\u001b[0;34m:\u001b[0m\u001b[0;34m\u001b[0m\u001b[0;34m\u001b[0m\u001b[0m\n\u001b[0;32m---> 58\u001b[0;31m             \u001b[0mresult\u001b[0m \u001b[0;34m=\u001b[0m \u001b[0mself\u001b[0m\u001b[0;34m.\u001b[0m\u001b[0mfn\u001b[0m\u001b[0;34m(\u001b[0m\u001b[0;34m*\u001b[0m\u001b[0mself\u001b[0m\u001b[0;34m.\u001b[0m\u001b[0margs\u001b[0m\u001b[0;34m,\u001b[0m \u001b[0;34m**\u001b[0m\u001b[0mself\u001b[0m\u001b[0;34m.\u001b[0m\u001b[0mkwargs\u001b[0m\u001b[0;34m)\u001b[0m\u001b[0;34m\u001b[0m\u001b[0;34m\u001b[0m\u001b[0m\n\u001b[0m\u001b[1;32m     59\u001b[0m         \u001b[0;32mexcept\u001b[0m \u001b[0mBaseException\u001b[0m \u001b[0;32mas\u001b[0m \u001b[0mexc\u001b[0m\u001b[0;34m:\u001b[0m\u001b[0;34m\u001b[0m\u001b[0;34m\u001b[0m\u001b[0m\n\u001b[1;32m     60\u001b[0m             \u001b[0mself\u001b[0m\u001b[0;34m.\u001b[0m\u001b[0mfuture\u001b[0m\u001b[0;34m.\u001b[0m\u001b[0mset_exception\u001b[0m\u001b[0;34m(\u001b[0m\u001b[0mexc\u001b[0m\u001b[0;34m)\u001b[0m\u001b[0;34m\u001b[0m\u001b[0;34m\u001b[0m\u001b[0m\n",
            "\u001b[0;32m/usr/local/lib/python3.10/dist-packages/qiskit_aer/backends/aerbackend.py\u001b[0m in \u001b[0;36m_execute_circuits_job\u001b[0;34m(self, circuits, parameter_binds, run_options, job_id, format_result)\u001b[0m\n\u001b[1;32m    454\u001b[0m             \u001b[0maer_circuits\u001b[0m\u001b[0;34m,\u001b[0m \u001b[0midx_maps\u001b[0m \u001b[0;34m=\u001b[0m \u001b[0massemble_circuits\u001b[0m\u001b[0;34m(\u001b[0m\u001b[0mcircuits\u001b[0m\u001b[0;34m,\u001b[0m \u001b[0mself\u001b[0m\u001b[0;34m.\u001b[0m\u001b[0mconfiguration\u001b[0m\u001b[0;34m(\u001b[0m\u001b[0;34m)\u001b[0m\u001b[0;34m.\u001b[0m\u001b[0mbasis_gates\u001b[0m\u001b[0;34m)\u001b[0m\u001b[0;34m\u001b[0m\u001b[0;34m\u001b[0m\u001b[0m\n\u001b[1;32m    455\u001b[0m         \u001b[0;32melse\u001b[0m\u001b[0;34m:\u001b[0m\u001b[0;34m\u001b[0m\u001b[0;34m\u001b[0m\u001b[0m\n\u001b[0;32m--> 456\u001b[0;31m             \u001b[0maer_circuits\u001b[0m\u001b[0;34m,\u001b[0m \u001b[0midx_maps\u001b[0m \u001b[0;34m=\u001b[0m \u001b[0massemble_circuits\u001b[0m\u001b[0;34m(\u001b[0m\u001b[0mcircuits\u001b[0m\u001b[0;34m)\u001b[0m\u001b[0;34m\u001b[0m\u001b[0;34m\u001b[0m\u001b[0m\n\u001b[0m\u001b[1;32m    457\u001b[0m         \u001b[0;32mif\u001b[0m \u001b[0mparameter_binds\u001b[0m\u001b[0;34m:\u001b[0m\u001b[0;34m\u001b[0m\u001b[0;34m\u001b[0m\u001b[0m\n\u001b[1;32m    458\u001b[0m             run_options[\"parameterizations\"] = self._convert_binds(\n",
            "\u001b[0;32m/usr/local/lib/python3.10/dist-packages/qiskit_aer/backends/aer_compiler.py\u001b[0m in \u001b[0;36massemble_circuits\u001b[0;34m(circuits, basis_gates)\u001b[0m\n\u001b[1;32m    983\u001b[0m         )\n\u001b[1;32m    984\u001b[0m     \u001b[0;32melse\u001b[0m\u001b[0;34m:\u001b[0m\u001b[0;34m\u001b[0m\u001b[0;34m\u001b[0m\u001b[0m\n\u001b[0;32m--> 985\u001b[0;31m         \u001b[0maer_circuits\u001b[0m\u001b[0;34m,\u001b[0m \u001b[0midx_maps\u001b[0m \u001b[0;34m=\u001b[0m \u001b[0mzip\u001b[0m\u001b[0;34m(\u001b[0m\u001b[0;34m*\u001b[0m\u001b[0;34m[\u001b[0m\u001b[0massemble_circuit\u001b[0m\u001b[0;34m(\u001b[0m\u001b[0mcircuit\u001b[0m\u001b[0;34m)\u001b[0m \u001b[0;32mfor\u001b[0m \u001b[0mcircuit\u001b[0m \u001b[0;32min\u001b[0m \u001b[0mcircuits\u001b[0m\u001b[0;34m]\u001b[0m\u001b[0;34m)\u001b[0m\u001b[0;34m\u001b[0m\u001b[0;34m\u001b[0m\u001b[0m\n\u001b[0m\u001b[1;32m    986\u001b[0m     \u001b[0;32mreturn\u001b[0m \u001b[0mlist\u001b[0m\u001b[0;34m(\u001b[0m\u001b[0maer_circuits\u001b[0m\u001b[0;34m)\u001b[0m\u001b[0;34m,\u001b[0m \u001b[0mlist\u001b[0m\u001b[0;34m(\u001b[0m\u001b[0midx_maps\u001b[0m\u001b[0;34m)\u001b[0m\u001b[0;34m\u001b[0m\u001b[0;34m\u001b[0m\u001b[0m\n",
            "\u001b[0;32m/usr/local/lib/python3.10/dist-packages/qiskit_aer/backends/aer_compiler.py\u001b[0m in \u001b[0;36m<listcomp>\u001b[0;34m(.0)\u001b[0m\n\u001b[1;32m    983\u001b[0m         )\n\u001b[1;32m    984\u001b[0m     \u001b[0;32melse\u001b[0m\u001b[0;34m:\u001b[0m\u001b[0;34m\u001b[0m\u001b[0;34m\u001b[0m\u001b[0m\n\u001b[0;32m--> 985\u001b[0;31m         \u001b[0maer_circuits\u001b[0m\u001b[0;34m,\u001b[0m \u001b[0midx_maps\u001b[0m \u001b[0;34m=\u001b[0m \u001b[0mzip\u001b[0m\u001b[0;34m(\u001b[0m\u001b[0;34m*\u001b[0m\u001b[0;34m[\u001b[0m\u001b[0massemble_circuit\u001b[0m\u001b[0;34m(\u001b[0m\u001b[0mcircuit\u001b[0m\u001b[0;34m)\u001b[0m \u001b[0;32mfor\u001b[0m \u001b[0mcircuit\u001b[0m \u001b[0;32min\u001b[0m \u001b[0mcircuits\u001b[0m\u001b[0;34m]\u001b[0m\u001b[0;34m)\u001b[0m\u001b[0;34m\u001b[0m\u001b[0;34m\u001b[0m\u001b[0m\n\u001b[0m\u001b[1;32m    986\u001b[0m     \u001b[0;32mreturn\u001b[0m \u001b[0mlist\u001b[0m\u001b[0;34m(\u001b[0m\u001b[0maer_circuits\u001b[0m\u001b[0;34m)\u001b[0m\u001b[0;34m,\u001b[0m \u001b[0mlist\u001b[0m\u001b[0;34m(\u001b[0m\u001b[0midx_maps\u001b[0m\u001b[0;34m)\u001b[0m\u001b[0;34m\u001b[0m\u001b[0;34m\u001b[0m\u001b[0m\n",
            "\u001b[0;32m/usr/local/lib/python3.10/dist-packages/qiskit_aer/backends/aer_compiler.py\u001b[0m in \u001b[0;36massemble_circuit\u001b[0;34m(circuit, basis_gates)\u001b[0m\n\u001b[1;32m    679\u001b[0m             \u001b[0mconditional_expr\u001b[0m \u001b[0;34m=\u001b[0m \u001b[0minst\u001b[0m\u001b[0;34m.\u001b[0m\u001b[0moperation\u001b[0m\u001b[0;34m.\u001b[0m\u001b[0mcondition_expr\u001b[0m\u001b[0;34m\u001b[0m\u001b[0;34m\u001b[0m\u001b[0m\n\u001b[1;32m    680\u001b[0m \u001b[0;34m\u001b[0m\u001b[0m\n\u001b[0;32m--> 681\u001b[0;31m         num_of_aer_ops += _assemble_op(\n\u001b[0m\u001b[1;32m    682\u001b[0m             \u001b[0mcircuit\u001b[0m\u001b[0;34m,\u001b[0m\u001b[0;34m\u001b[0m\u001b[0;34m\u001b[0m\u001b[0m\n\u001b[1;32m    683\u001b[0m             \u001b[0maer_circ\u001b[0m\u001b[0;34m,\u001b[0m\u001b[0;34m\u001b[0m\u001b[0;34m\u001b[0m\u001b[0m\n",
            "\u001b[0;32m/usr/local/lib/python3.10/dist-packages/qiskit_aer/backends/aer_compiler.py\u001b[0m in \u001b[0;36m_assemble_op\u001b[0;34m(circ, aer_circ, inst, qubit_indices, clbit_indices, is_conditional, conditional_reg, conditional_expr, basis_gates)\u001b[0m\n\u001b[1;32m    947\u001b[0m \u001b[0;34m\u001b[0m\u001b[0m\n\u001b[1;32m    948\u001b[0m     \u001b[0;32melse\u001b[0m\u001b[0;34m:\u001b[0m\u001b[0;34m\u001b[0m\u001b[0;34m\u001b[0m\u001b[0m\n\u001b[0;32m--> 949\u001b[0;31m         \u001b[0;32mraise\u001b[0m \u001b[0mAerError\u001b[0m\u001b[0;34m(\u001b[0m\u001b[0;34mf\"unknown instruction: {name}\"\u001b[0m\u001b[0;34m)\u001b[0m\u001b[0;34m\u001b[0m\u001b[0;34m\u001b[0m\u001b[0m\n\u001b[0m\u001b[1;32m    950\u001b[0m \u001b[0;34m\u001b[0m\u001b[0m\n\u001b[1;32m    951\u001b[0m     \u001b[0;32mreturn\u001b[0m \u001b[0mnum_of_aer_ops\u001b[0m\u001b[0;34m\u001b[0m\u001b[0;34m\u001b[0m\u001b[0m\n",
            "\u001b[0;31mAerError\u001b[0m: 'unknown instruction: c-unitary'"
          ]
        }
      ]
    },
    {
      "cell_type": "code",
      "source": [
        "# Use the Aer's Statevector simulator\n",
        "simulator = Aer.get_backend('statevector_simulator')\n",
        "\n",
        "# Transpile the quantum circuit for the simulator\n",
        "compiled_circuit = transpile(qc_test, simulator)\n",
        "\n",
        "# Run the simulation\n",
        "result = simulator.run(compiled_circuit).result()\n",
        "\n",
        "# Get the final statevector\n",
        "statevector = result.get_statevector()\n",
        "\n",
        "# Print the statevector\n",
        "print(\"Final Statevector:\", statevector)"
      ],
      "metadata": {
        "colab": {
          "base_uri": "https://localhost:8080/"
        },
        "id": "SE_vCv6vZ3pL",
        "outputId": "7435ae78-3fb3-4467-a16c-43ec2233e92d"
      },
      "execution_count": null,
      "outputs": [
        {
          "output_type": "stream",
          "name": "stdout",
          "text": [
            "Final Statevector: Statevector([-1.70882980e-01-1.15420866e-01j,\n",
            "              0.00000000e+00+0.00000000e+00j,\n",
            "              1.49214943e-01+1.00785450e-01j,\n",
            "              0.00000000e+00+0.00000000e+00j,\n",
            "              2.00878318e-17-1.26274898e-17j,\n",
            "              0.00000000e+00-0.00000000e+00j,\n",
            "              3.18315521e-01+2.15002413e-01j,\n",
            "              0.00000000e+00-0.00000000e+00j,\n",
            "             -1.70882980e-01-1.15420866e-01j,\n",
            "              0.00000000e+00+0.00000000e+00j,\n",
            "              6.35133391e-01+4.28993256e-01j,\n",
            "              0.00000000e+00+0.00000000e+00j,\n",
            "              7.50425990e-17+2.63648781e-16j,\n",
            "              0.00000000e+00+0.00000000e+00j,\n",
            "             -3.18315521e-01-2.15002413e-01j,\n",
            "              0.00000000e+00+0.00000000e+00j],\n",
            "            dims=(2, 2, 2, 2))\n"
          ]
        }
      ]
    },
    {
      "cell_type": "code",
      "source": [
        "# Use the Aer's Statevector simulator\n",
        "simulator = Aer.get_backend('statevector_simulator')\n",
        "\n",
        "# Transpile the quantum circuit for the simulator\n",
        "compiled_circuit = transpile(qc_test, simulator)\n",
        "\n",
        "# Run the simulation\n",
        "result = simulator.run(compiled_circuit).result()\n",
        "\n",
        "# Get the final statevector\n",
        "statevector = result.get_statevector()\n",
        "\n",
        "# Print the statevector\n",
        "print(\"Final Statevector:\", statevector)"
      ],
      "metadata": {
        "colab": {
          "base_uri": "https://localhost:8080/"
        },
        "id": "HnhC2Y0Zbrf2",
        "outputId": "6411bf30-78fc-47d3-c984-f05f95700c0c"
      },
      "execution_count": null,
      "outputs": [
        {
          "output_type": "stream",
          "name": "stdout",
          "text": [
            "Final Statevector: Statevector([ 0.00000000e+00-0.00000000e+00j,\n",
            "             -2.35725973e-01-1.59218290e-01j,\n",
            "              0.00000000e+00+0.00000000e+00j,\n",
            "             -1.33226133e-01-8.99859991e-02j,\n",
            "              0.00000000e+00+0.00000000e+00j,\n",
            "              5.40987974e-01+3.65403860e-01j,\n",
            "              0.00000000e+00+0.00000000e+00j,\n",
            "             -4.55071620e-02-3.07372686e-02j,\n",
            "              0.00000000e+00-0.00000000e+00j,\n",
            "             -3.35152158e-01-2.26374518e-01j,\n",
            "              0.00000000e+00+0.00000000e+00j,\n",
            "             -1.16265972e-01-7.85304608e-02j,\n",
            "              0.00000000e+00+0.00000000e+00j,\n",
            "              4.39103040e-01+2.96586899e-01j,\n",
            "              0.00000000e+00-0.00000000e+00j,\n",
            "              6.69311953e-16+4.08686888e-16j],\n",
            "            dims=(2, 2, 2, 2))\n"
          ]
        }
      ]
    },
    {
      "cell_type": "markdown",
      "source": [
        "Final Statevector: Statevector ([ 2.84459484e-01+0.j,  0.00000000e+00+0.j, -0.00000000e+00+0.j,\n",
        "             -1.60769035e-01+0.j, -6.52830735e-01+0.j, -0.00000000e+00+0.j,\n",
        "             -0.00000000e+00+0.j, -1.40302564e-01+0.j,  4.04440838e-01+0.j,\n",
        "              0.00000000e+00+0.j, -0.00000000e+00+0.j, -5.49152208e-02+0.j,\n",
        "             -5.29882315e-01+0.j, -0.00000000e+00+0.j,  0.00000000e+00+0.j,\n",
        "              7.34968555e-16+0.j],\n",
        "            dims=(2, 2, 2, 2))"
      ],
      "metadata": {
        "id": "gaUduknfb7K5"
      }
    },
    {
      "cell_type": "markdown",
      "source": [
        "\n",
        "\n",
        "---\n",
        "\n",
        "\n",
        "---\n",
        "\n",
        "\n",
        "\n",
        "---\n",
        "\n",
        "\n"
      ],
      "metadata": {
        "id": "0hkD7ovjZFLG"
      }
    },
    {
      "cell_type": "code",
      "source": [],
      "metadata": {
        "id": "ZuM-7DsGZMTa"
      },
      "execution_count": null,
      "outputs": []
    }
  ]
}